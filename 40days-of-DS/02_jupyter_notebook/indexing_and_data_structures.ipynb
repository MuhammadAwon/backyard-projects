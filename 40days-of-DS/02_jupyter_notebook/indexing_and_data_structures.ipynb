{
 "cells": [
  {
   "cell_type": "markdown",
   "id": "6dc5fe95",
   "metadata": {},
   "source": [
    "# Indexing"
   ]
  },
  {
   "cell_type": "code",
   "execution_count": 1,
   "id": "85429738",
   "metadata": {},
   "outputs": [
    {
     "data": {
      "text/plain": [
       "'Samosa Pakora'"
      ]
     },
     "execution_count": 1,
     "metadata": {},
     "output_type": "execute_result"
    }
   ],
   "source": [
    "# Make a string\n",
    "a = \"Samosa Pakora\"\n",
    "a"
   ]
  },
  {
   "cell_type": "code",
   "execution_count": 2,
   "id": "2cfc9973",
   "metadata": {},
   "outputs": [
    {
     "data": {
      "text/plain": [
       "13"
      ]
     },
     "execution_count": 2,
     "metadata": {},
     "output_type": "execute_result"
    }
   ],
   "source": [
    "# Length of indices\n",
    "len(a)"
   ]
  },
  {
   "cell_type": "code",
   "execution_count": 3,
   "id": "8362bfb7",
   "metadata": {},
   "outputs": [
    {
     "data": {
      "text/plain": [
       "'S'"
      ]
     },
     "execution_count": 3,
     "metadata": {},
     "output_type": "execute_result"
    }
   ],
   "source": [
    "a[0]"
   ]
  },
  {
   "cell_type": "code",
   "execution_count": 4,
   "id": "15e152f1",
   "metadata": {},
   "outputs": [
    {
     "data": {
      "text/plain": [
       "'a'"
      ]
     },
     "execution_count": 4,
     "metadata": {},
     "output_type": "execute_result"
    }
   ],
   "source": [
    "a[1]"
   ]
  },
  {
   "cell_type": "code",
   "execution_count": 5,
   "id": "d907cf24",
   "metadata": {},
   "outputs": [
    {
     "data": {
      "text/plain": [
       "'o'"
      ]
     },
     "execution_count": 5,
     "metadata": {},
     "output_type": "execute_result"
    }
   ],
   "source": [
    "a[3]"
   ]
  },
  {
   "cell_type": "code",
   "execution_count": 6,
   "id": "f463bec0",
   "metadata": {},
   "outputs": [
    {
     "data": {
      "text/plain": [
       "'a'"
      ]
     },
     "execution_count": 6,
     "metadata": {},
     "output_type": "execute_result"
    }
   ],
   "source": [
    "a[12]"
   ]
  },
  {
   "cell_type": "code",
   "execution_count": 7,
   "id": "6818d9af",
   "metadata": {},
   "outputs": [
    {
     "data": {
      "text/plain": [
       "'Samos'"
      ]
     },
     "execution_count": 7,
     "metadata": {},
     "output_type": "execute_result"
    }
   ],
   "source": [
    "a[0:5]"
   ]
  },
  {
   "cell_type": "code",
   "execution_count": 8,
   "id": "bd3d72c3",
   "metadata": {},
   "outputs": [
    {
     "data": {
      "text/plain": [
       "'Samosa'"
      ]
     },
     "execution_count": 8,
     "metadata": {},
     "output_type": "execute_result"
    }
   ],
   "source": [
    "a[0:6]"
   ]
  },
  {
   "cell_type": "code",
   "execution_count": 9,
   "id": "bd38f55a",
   "metadata": {},
   "outputs": [
    {
     "data": {
      "text/plain": [
       "'Samosa Pakora'"
      ]
     },
     "execution_count": 9,
     "metadata": {},
     "output_type": "execute_result"
    }
   ],
   "source": [
    "# Last index is exclusive\n",
    "a[0:13]"
   ]
  },
  {
   "cell_type": "code",
   "execution_count": 10,
   "id": "f3aa1999",
   "metadata": {},
   "outputs": [
    {
     "data": {
      "text/plain": [
       "'Pakora'"
      ]
     },
     "execution_count": 10,
     "metadata": {},
     "output_type": "execute_result"
    }
   ],
   "source": [
    "a[-6:13]"
   ]
  },
  {
   "cell_type": "code",
   "execution_count": 11,
   "id": "d764d5f6",
   "metadata": {},
   "outputs": [
    {
     "data": {
      "text/plain": [
       "'biryani'"
      ]
     },
     "execution_count": 11,
     "metadata": {},
     "output_type": "execute_result"
    }
   ],
   "source": [
    "food = \"biryani\"\n",
    "food"
   ]
  },
  {
   "cell_type": "markdown",
   "id": "1790b749",
   "metadata": {},
   "source": [
    "## String methods"
   ]
  },
  {
   "cell_type": "code",
   "execution_count": 12,
   "id": "7e2304d9",
   "metadata": {},
   "outputs": [
    {
     "data": {
      "text/plain": [
       "'biryani'"
      ]
     },
     "execution_count": 12,
     "metadata": {},
     "output_type": "execute_result"
    }
   ],
   "source": [
    "food"
   ]
  },
  {
   "cell_type": "code",
   "execution_count": 13,
   "id": "76e8cf40",
   "metadata": {},
   "outputs": [
    {
     "data": {
      "text/plain": [
       "7"
      ]
     },
     "execution_count": 13,
     "metadata": {},
     "output_type": "execute_result"
    }
   ],
   "source": [
    "len(food)"
   ]
  },
  {
   "cell_type": "code",
   "execution_count": 14,
   "id": "a0195c8e",
   "metadata": {},
   "outputs": [
    {
     "data": {
      "text/plain": [
       "'Biryani'"
      ]
     },
     "execution_count": 14,
     "metadata": {},
     "output_type": "execute_result"
    }
   ],
   "source": [
    "# Captialize first element\n",
    "food.capitalize()"
   ]
  },
  {
   "cell_type": "code",
   "execution_count": 15,
   "id": "dd2a9c58",
   "metadata": {},
   "outputs": [
    {
     "data": {
      "text/plain": [
       "'BIRYANI'"
      ]
     },
     "execution_count": 15,
     "metadata": {},
     "output_type": "execute_result"
    }
   ],
   "source": [
    "# Uppercase letters\n",
    "food.upper()"
   ]
  },
  {
   "cell_type": "code",
   "execution_count": 16,
   "id": "f26db041",
   "metadata": {},
   "outputs": [
    {
     "data": {
      "text/plain": [
       "'biryani'"
      ]
     },
     "execution_count": 16,
     "metadata": {},
     "output_type": "execute_result"
    }
   ],
   "source": [
    "# Lowercase letters\n",
    "food.lower()"
   ]
  },
  {
   "cell_type": "code",
   "execution_count": 17,
   "id": "8fc85786",
   "metadata": {},
   "outputs": [
    {
     "data": {
      "text/plain": [
       "'Shiryani'"
      ]
     },
     "execution_count": 17,
     "metadata": {},
     "output_type": "execute_result"
    }
   ],
   "source": [
    "# Replace letters\n",
    "food.replace(\"b\", \"Sh\")"
   ]
  },
  {
   "cell_type": "code",
   "execution_count": 18,
   "id": "5108eaf8",
   "metadata": {},
   "outputs": [
    {
     "data": {
      "text/plain": [
       "'40_days of Python with Dr Aammar Tufail'"
      ]
     },
     "execution_count": 18,
     "metadata": {},
     "output_type": "execute_result"
    }
   ],
   "source": [
    "# Counting a specific alphabet in a string\n",
    "name = \"40_days of Python with Dr Aammar Tufail\"\n",
    "name"
   ]
  },
  {
   "cell_type": "code",
   "execution_count": 19,
   "id": "bb333696",
   "metadata": {},
   "outputs": [
    {
     "data": {
      "text/plain": [
       "2"
      ]
     },
     "execution_count": 19,
     "metadata": {},
     "output_type": "execute_result"
    }
   ],
   "source": [
    "name.count(\"t\")"
   ]
  },
  {
   "cell_type": "markdown",
   "id": "ae9970b5",
   "metadata": {},
   "source": [
    "### Finding an index number in string"
   ]
  },
  {
   "cell_type": "code",
   "execution_count": 20,
   "id": "91a577e6",
   "metadata": {},
   "outputs": [
    {
     "data": {
      "text/plain": [
       "'40_days of Python with Dr Aammar Tufail'"
      ]
     },
     "execution_count": 20,
     "metadata": {},
     "output_type": "execute_result"
    }
   ],
   "source": [
    "name = \"40_days of Python with Dr Aammar Tufail\"\n",
    "name"
   ]
  },
  {
   "cell_type": "code",
   "execution_count": 21,
   "id": "b53a01f7",
   "metadata": {},
   "outputs": [
    {
     "data": {
      "text/plain": [
       "23"
      ]
     },
     "execution_count": 21,
     "metadata": {},
     "output_type": "execute_result"
    }
   ],
   "source": [
    "name.find(\"Dr\")"
   ]
  },
  {
   "cell_type": "markdown",
   "id": "1ffbf32f",
   "metadata": {},
   "source": [
    "### How to split a string"
   ]
  },
  {
   "cell_type": "code",
   "execution_count": 22,
   "id": "a3597645",
   "metadata": {},
   "outputs": [
    {
     "data": {
      "text/plain": [
       "'I love samosa, pakora, raita biryani and karahi'"
      ]
     },
     "execution_count": 22,
     "metadata": {},
     "output_type": "execute_result"
    }
   ],
   "source": [
    "food = \"I love samosa, pakora, raita biryani and karahi\"\n",
    "food"
   ]
  },
  {
   "cell_type": "code",
   "execution_count": 23,
   "id": "e97237bf",
   "metadata": {},
   "outputs": [
    {
     "data": {
      "text/plain": [
       "['I love samosa', ' pakora', ' raita biryani and karahi']"
      ]
     },
     "execution_count": 23,
     "metadata": {},
     "output_type": "execute_result"
    }
   ],
   "source": [
    "food.split(\",\")"
   ]
  },
  {
   "cell_type": "markdown",
   "id": "dc035ff5",
   "metadata": {},
   "source": [
    "# Basic data structure in Python\n",
    "1. Tuple\n",
    "2. List\n",
    "3. Dictionaries\n",
    "4. Set"
   ]
  },
  {
   "cell_type": "markdown",
   "id": "0fa08833",
   "metadata": {},
   "source": [
    "## 1. Tuple\n",
    "* Ordered collection of elements\n",
    "* Enclosed in () round braces/parentheses\n",
    "* Different kind of elements can be stored\n",
    "* Once elements are stored you can not change them (immutable)"
   ]
  },
  {
   "cell_type": "code",
   "execution_count": 24,
   "id": "d9e7f19d",
   "metadata": {},
   "outputs": [
    {
     "data": {
      "text/plain": [
       "(1, 'python', True, 2.5)"
      ]
     },
     "execution_count": 24,
     "metadata": {},
     "output_type": "execute_result"
    }
   ],
   "source": [
    "tup1 = (1, \"python\", True, 2.5)\n",
    "tup1"
   ]
  },
  {
   "cell_type": "code",
   "execution_count": 25,
   "id": "f0b3e511",
   "metadata": {},
   "outputs": [
    {
     "data": {
      "text/plain": [
       "tuple"
      ]
     },
     "execution_count": 25,
     "metadata": {},
     "output_type": "execute_result"
    }
   ],
   "source": [
    "# Type of a tuple\n",
    "type(tup1)"
   ]
  },
  {
   "cell_type": "markdown",
   "id": "6987444d",
   "metadata": {},
   "source": [
    "### Indexing in tuple"
   ]
  },
  {
   "cell_type": "code",
   "execution_count": 26,
   "id": "edf392d9",
   "metadata": {},
   "outputs": [
    {
     "data": {
      "text/plain": [
       "'python'"
      ]
     },
     "execution_count": 26,
     "metadata": {},
     "output_type": "execute_result"
    }
   ],
   "source": [
    "tup1[1]"
   ]
  },
  {
   "cell_type": "code",
   "execution_count": 27,
   "id": "b70fc9b8",
   "metadata": {},
   "outputs": [
    {
     "data": {
      "text/plain": [
       "True"
      ]
     },
     "execution_count": 27,
     "metadata": {},
     "output_type": "execute_result"
    }
   ],
   "source": [
    "tup1[2]"
   ]
  },
  {
   "cell_type": "code",
   "execution_count": 28,
   "id": "3fb526e3",
   "metadata": {},
   "outputs": [
    {
     "data": {
      "text/plain": [
       "(1, 'python', True)"
      ]
     },
     "execution_count": 28,
     "metadata": {},
     "output_type": "execute_result"
    }
   ],
   "source": [
    "# Last element is exclusive\n",
    "tup1[:3]"
   ]
  },
  {
   "cell_type": "code",
   "execution_count": 29,
   "id": "4fae7692",
   "metadata": {},
   "outputs": [
    {
     "data": {
      "text/plain": [
       "4"
      ]
     },
     "execution_count": 29,
     "metadata": {},
     "output_type": "execute_result"
    }
   ],
   "source": [
    "# Count of elements in tuple\n",
    "len(tup1)"
   ]
  },
  {
   "cell_type": "code",
   "execution_count": 30,
   "id": "f8b88953",
   "metadata": {},
   "outputs": [
    {
     "data": {
      "text/plain": [
       "(2, 'pythonLearner', 3.5, False)"
      ]
     },
     "execution_count": 30,
     "metadata": {},
     "output_type": "execute_result"
    }
   ],
   "source": [
    "tup2 = (2, \"pythonLearner\", 3.5, False)\n",
    "tup2"
   ]
  },
  {
   "cell_type": "code",
   "execution_count": 31,
   "id": "c9daf58e",
   "metadata": {},
   "outputs": [
    {
     "data": {
      "text/plain": [
       "(1, 'python', True, 2.5, 2, 'pythonLearner', 3.5, False)"
      ]
     },
     "execution_count": 31,
     "metadata": {},
     "output_type": "execute_result"
    }
   ],
   "source": [
    "# Concatenate (to add two or more tuples)\n",
    "tup1 + tup2"
   ]
  },
  {
   "cell_type": "code",
   "execution_count": 32,
   "id": "9d5360bd",
   "metadata": {},
   "outputs": [
    {
     "data": {
      "text/plain": [
       "(1,\n",
       " 'python',\n",
       " True,\n",
       " 2.5,\n",
       " 1,\n",
       " 'python',\n",
       " True,\n",
       " 2.5,\n",
       " 2,\n",
       " 'pythonLearner',\n",
       " 3.5,\n",
       " False)"
      ]
     },
     "execution_count": 32,
     "metadata": {},
     "output_type": "execute_result"
    }
   ],
   "source": [
    "# Concatenate and repeat\n",
    "tup1*2 + tup2"
   ]
  },
  {
   "cell_type": "code",
   "execution_count": 33,
   "id": "d492852a",
   "metadata": {},
   "outputs": [
    {
     "data": {
      "text/plain": [
       "(40, 57, 98, 45, 36, 55)"
      ]
     },
     "execution_count": 33,
     "metadata": {},
     "output_type": "execute_result"
    }
   ],
   "source": [
    "tup3 = (40, 57, 98, 45, 36, 55)\n",
    "tup3"
   ]
  },
  {
   "cell_type": "code",
   "execution_count": 34,
   "id": "e2f0fd52",
   "metadata": {},
   "outputs": [
    {
     "data": {
      "text/plain": [
       "36"
      ]
     },
     "execution_count": 34,
     "metadata": {},
     "output_type": "execute_result"
    }
   ],
   "source": [
    "# Minimum\n",
    "min(tup3)"
   ]
  },
  {
   "cell_type": "code",
   "execution_count": 35,
   "id": "3f0477d6",
   "metadata": {},
   "outputs": [
    {
     "data": {
      "text/plain": [
       "98"
      ]
     },
     "execution_count": 35,
     "metadata": {},
     "output_type": "execute_result"
    }
   ],
   "source": [
    "max(tup3)"
   ]
  },
  {
   "cell_type": "code",
   "execution_count": 36,
   "id": "7e3a7b22",
   "metadata": {},
   "outputs": [
    {
     "data": {
      "text/plain": [
       "(40, 57, 98, 45, 36, 55, 40, 57, 98, 45, 36, 55)"
      ]
     },
     "execution_count": 36,
     "metadata": {},
     "output_type": "execute_result"
    }
   ],
   "source": [
    "tup4 = tup3*2\n",
    "tup4"
   ]
  },
  {
   "cell_type": "code",
   "execution_count": 37,
   "id": "cdb414b1",
   "metadata": {},
   "outputs": [
    {
     "data": {
      "text/plain": [
       "2"
      ]
     },
     "execution_count": 37,
     "metadata": {},
     "output_type": "execute_result"
    }
   ],
   "source": [
    "tup4.count(57)"
   ]
  },
  {
   "cell_type": "code",
   "execution_count": 38,
   "id": "179f390b",
   "metadata": {},
   "outputs": [
    {
     "data": {
      "text/plain": [
       "(40, 57, 98, 45, 36, 55)"
      ]
     },
     "execution_count": 38,
     "metadata": {},
     "output_type": "execute_result"
    }
   ],
   "source": [
    "tup3"
   ]
  },
  {
   "cell_type": "code",
   "execution_count": 39,
   "id": "a4e8e04d",
   "metadata": {},
   "outputs": [
    {
     "data": {
      "text/plain": [
       "3"
      ]
     },
     "execution_count": 39,
     "metadata": {},
     "output_type": "execute_result"
    }
   ],
   "source": [
    "tup3.index(45)"
   ]
  },
  {
   "cell_type": "markdown",
   "id": "1ba96441",
   "metadata": {},
   "source": [
    "## 2. List\n",
    "* Ordered collection of elements\n",
    "* Enclosed in [] Square-braces/brackets\n",
    "* Mutable, you can change the values"
   ]
  },
  {
   "cell_type": "code",
   "execution_count": 40,
   "id": "aad1c867",
   "metadata": {},
   "outputs": [
    {
     "data": {
      "text/plain": [
       "[2, 'pythonLearner', False]"
      ]
     },
     "execution_count": 40,
     "metadata": {},
     "output_type": "execute_result"
    }
   ],
   "source": [
    "list1 = [2, \"pythonLearner\", False]\n",
    "list1"
   ]
  },
  {
   "cell_type": "code",
   "execution_count": 41,
   "id": "f6e88ca9",
   "metadata": {
    "scrolled": true
   },
   "outputs": [
    {
     "data": {
      "text/plain": [
       "list"
      ]
     },
     "execution_count": 41,
     "metadata": {},
     "output_type": "execute_result"
    }
   ],
   "source": [
    "type(list1)"
   ]
  },
  {
   "cell_type": "code",
   "execution_count": 42,
   "id": "0eb44f30",
   "metadata": {},
   "outputs": [
    {
     "data": {
      "text/plain": [
       "3"
      ]
     },
     "execution_count": 42,
     "metadata": {},
     "output_type": "execute_result"
    }
   ],
   "source": [
    "len(list1)"
   ]
  },
  {
   "cell_type": "code",
   "execution_count": 43,
   "id": "00861b85",
   "metadata": {},
   "outputs": [
    {
     "data": {
      "text/plain": [
       "False"
      ]
     },
     "execution_count": 43,
     "metadata": {},
     "output_type": "execute_result"
    }
   ],
   "source": [
    "list1[2]"
   ]
  },
  {
   "cell_type": "code",
   "execution_count": 44,
   "id": "6f5c892f",
   "metadata": {},
   "outputs": [
    {
     "data": {
      "text/plain": [
       "[5, 7, 'Aammar', 'Codanics', 785, 4.23, False]"
      ]
     },
     "execution_count": 44,
     "metadata": {},
     "output_type": "execute_result"
    }
   ],
   "source": [
    "list2 = [5, 7, \"Aammar\", \"Codanics\", 785, 4.23, False]\n",
    "list2"
   ]
  },
  {
   "cell_type": "code",
   "execution_count": 45,
   "id": "650522d4",
   "metadata": {},
   "outputs": [
    {
     "data": {
      "text/plain": [
       "[2, 'pythonLearner', False, 5, 7, 'Aammar', 'Codanics', 785, 4.23, False]"
      ]
     },
     "execution_count": 45,
     "metadata": {},
     "output_type": "execute_result"
    }
   ],
   "source": [
    "list1 + list2"
   ]
  },
  {
   "cell_type": "code",
   "execution_count": 46,
   "id": "9de547c9",
   "metadata": {},
   "outputs": [
    {
     "data": {
      "text/plain": [
       "[2, 'pythonLearner', False, 2, 'pythonLearner', False]"
      ]
     },
     "execution_count": 46,
     "metadata": {},
     "output_type": "execute_result"
    }
   ],
   "source": [
    "list1*2"
   ]
  },
  {
   "cell_type": "code",
   "execution_count": 47,
   "id": "616af319",
   "metadata": {},
   "outputs": [
    {
     "data": {
      "text/plain": [
       "[2, 'pythonLearner', False]"
      ]
     },
     "execution_count": 47,
     "metadata": {},
     "output_type": "execute_result"
    }
   ],
   "source": [
    "list1"
   ]
  },
  {
   "cell_type": "code",
   "execution_count": 48,
   "id": "58ad5c29",
   "metadata": {},
   "outputs": [
    {
     "data": {
      "text/plain": [
       "[False, 'pythonLearner', 2]"
      ]
     },
     "execution_count": 48,
     "metadata": {},
     "output_type": "execute_result"
    }
   ],
   "source": [
    "list1.reverse()\n",
    "list1"
   ]
  },
  {
   "cell_type": "code",
   "execution_count": 49,
   "id": "c7948f97",
   "metadata": {},
   "outputs": [
    {
     "data": {
      "text/plain": [
       "[False, 'pythonLearner', 2, 'Codanics YouTube Channel']"
      ]
     },
     "execution_count": 49,
     "metadata": {},
     "output_type": "execute_result"
    }
   ],
   "source": [
    "list1.append(\"Codanics YouTube Channel\")\n",
    "list1"
   ]
  },
  {
   "cell_type": "code",
   "execution_count": 50,
   "id": "c7f062c2",
   "metadata": {},
   "outputs": [
    {
     "data": {
      "text/plain": [
       "1"
      ]
     },
     "execution_count": 50,
     "metadata": {},
     "output_type": "execute_result"
    }
   ],
   "source": [
    "list1.count(\"pythonLearner\") # how many times specified element is appeared"
   ]
  },
  {
   "cell_type": "code",
   "execution_count": 51,
   "id": "7665e96d",
   "metadata": {},
   "outputs": [
    {
     "data": {
      "text/plain": [
       "[47, 58, 32, 47, 85, 69, 84, 65, 98, 47, 25, 32]"
      ]
     },
     "execution_count": 51,
     "metadata": {},
     "output_type": "execute_result"
    }
   ],
   "source": [
    "list3 = [47, 58, 32, 47, 85, 69, 84, 65, 98, 47, 25, 32]\n",
    "list3"
   ]
  },
  {
   "cell_type": "code",
   "execution_count": 52,
   "id": "de439c74",
   "metadata": {},
   "outputs": [
    {
     "data": {
      "text/plain": [
       "12"
      ]
     },
     "execution_count": 52,
     "metadata": {},
     "output_type": "execute_result"
    }
   ],
   "source": [
    "len(list3)"
   ]
  },
  {
   "cell_type": "code",
   "execution_count": 53,
   "id": "342ee702",
   "metadata": {},
   "outputs": [
    {
     "data": {
      "text/plain": [
       "[25, 32, 32, 47, 47, 47, 58, 65, 69, 84, 85, 98]"
      ]
     },
     "execution_count": 53,
     "metadata": {},
     "output_type": "execute_result"
    }
   ],
   "source": [
    "# Sorting a list\n",
    "list3.sort()\n",
    "list3"
   ]
  },
  {
   "cell_type": "code",
   "execution_count": 54,
   "id": "543cc022",
   "metadata": {},
   "outputs": [
    {
     "data": {
      "text/plain": [
       "[25,\n",
       " 32,\n",
       " 32,\n",
       " 47,\n",
       " 47,\n",
       " 47,\n",
       " 58,\n",
       " 65,\n",
       " 69,\n",
       " 84,\n",
       " 85,\n",
       " 98,\n",
       " 25,\n",
       " 32,\n",
       " 32,\n",
       " 47,\n",
       " 47,\n",
       " 47,\n",
       " 58,\n",
       " 65,\n",
       " 69,\n",
       " 84,\n",
       " 85,\n",
       " 98]"
      ]
     },
     "execution_count": 54,
     "metadata": {},
     "output_type": "execute_result"
    }
   ],
   "source": [
    "list3*2"
   ]
  },
  {
   "cell_type": "code",
   "execution_count": 55,
   "id": "43ee1745",
   "metadata": {},
   "outputs": [
    {
     "data": {
      "text/plain": [
       "[False,\n",
       " 'pythonLearner',\n",
       " 2,\n",
       " 'Codanics YouTube Channel',\n",
       " 5,\n",
       " 7,\n",
       " 'Aammar',\n",
       " 'Codanics',\n",
       " 785,\n",
       " 4.23,\n",
       " False]"
      ]
     },
     "execution_count": 55,
     "metadata": {},
     "output_type": "execute_result"
    }
   ],
   "source": [
    "lists = list1 + list2\n",
    "lists"
   ]
  },
  {
   "cell_type": "code",
   "execution_count": 56,
   "id": "1b373c06",
   "metadata": {},
   "outputs": [
    {
     "data": {
      "text/plain": [
       "['snooker', 'cricket', 'basketball', 'football']"
      ]
     },
     "execution_count": 56,
     "metadata": {},
     "output_type": "execute_result"
    }
   ],
   "source": [
    "sports = ['snooker', 'cricket', 'basketball', 'football']\n",
    "sports"
   ]
  },
  {
   "cell_type": "code",
   "execution_count": 57,
   "id": "587d0cf1",
   "metadata": {},
   "outputs": [
    {
     "data": {
      "text/plain": [
       "['snooker', 'cricket', 'basketball', 'football']"
      ]
     },
     "execution_count": 57,
     "metadata": {},
     "output_type": "execute_result"
    }
   ],
   "source": [
    "# Copy list\n",
    "copy_sports = sports.copy()\n",
    "copy_sports"
   ]
  },
  {
   "cell_type": "code",
   "execution_count": 58,
   "id": "548c263d",
   "metadata": {},
   "outputs": [
    {
     "data": {
      "text/plain": [
       "['snooker', 'cricket', 'basketball', 'football', 'volleyball']"
      ]
     },
     "execution_count": 58,
     "metadata": {},
     "output_type": "execute_result"
    }
   ],
   "source": [
    "# Extend list\n",
    "copy_sports.extend(['volleyball']) # takes list of element(s)\n",
    "copy_sports"
   ]
  },
  {
   "cell_type": "code",
   "execution_count": 59,
   "id": "5f47edfa",
   "metadata": {},
   "outputs": [
    {
     "data": {
      "text/plain": [
       "[]"
      ]
     },
     "execution_count": 59,
     "metadata": {},
     "output_type": "execute_result"
    }
   ],
   "source": [
    "# Remove all elements from the list\n",
    "copy_sports.clear()\n",
    "copy_sports"
   ]
  },
  {
   "cell_type": "code",
   "execution_count": 60,
   "id": "c7b64077",
   "metadata": {},
   "outputs": [
    {
     "data": {
      "text/plain": [
       "2"
      ]
     },
     "execution_count": 60,
     "metadata": {},
     "output_type": "execute_result"
    }
   ],
   "source": [
    "# Find position of the element\n",
    "sports.index(\"basketball\")"
   ]
  },
  {
   "cell_type": "code",
   "execution_count": 61,
   "id": "0532cf6e",
   "metadata": {},
   "outputs": [
    {
     "data": {
      "text/plain": [
       "['snooker', 'baseball', 'cricket', 'basketball', 'football']"
      ]
     },
     "execution_count": 61,
     "metadata": {},
     "output_type": "execute_result"
    }
   ],
   "source": [
    "# Insert new element\n",
    "sports.insert(1, \"baseball\")\n",
    "sports"
   ]
  },
  {
   "cell_type": "code",
   "execution_count": 62,
   "id": "a494c3a1",
   "metadata": {},
   "outputs": [
    {
     "data": {
      "text/plain": [
       "'cricket'"
      ]
     },
     "execution_count": 62,
     "metadata": {},
     "output_type": "execute_result"
    }
   ],
   "source": [
    "# Remove an element at the specified position\n",
    "sports.pop(2)"
   ]
  },
  {
   "cell_type": "code",
   "execution_count": 63,
   "id": "caca4b64",
   "metadata": {},
   "outputs": [
    {
     "data": {
      "text/plain": [
       "['snooker', 'basketball', 'football']"
      ]
     },
     "execution_count": 63,
     "metadata": {},
     "output_type": "execute_result"
    }
   ],
   "source": [
    "# Remove an element at the specified value\n",
    "sports.remove(\"baseball\")\n",
    "sports"
   ]
  },
  {
   "cell_type": "markdown",
   "id": "7c4a0aa0",
   "metadata": {},
   "source": [
    "## 3. Dictionaries\n",
    "* An unordered collection of elements\n",
    "* Key and Value\n",
    "* Curly braces or brackets {}\n",
    "* Mutable/Change the values"
   ]
  },
  {
   "cell_type": "code",
   "execution_count": 64,
   "id": "ce21bb9d",
   "metadata": {},
   "outputs": [
    {
     "data": {
      "text/plain": [
       "{'Samosa': 30, 'Raita': 20, 'Pakora': 100, 'Salad': 50, 'Chicken Rolls': 30}"
      ]
     },
     "execution_count": 64,
     "metadata": {},
     "output_type": "execute_result"
    }
   ],
   "source": [
    "# Food and their prices\n",
    "food1 = {\"Samosa\": 30, \"Raita\": 20, \"Pakora\": 100, \"Salad\": 50, \"Chicken Rolls\": 30}\n",
    "food1"
   ]
  },
  {
   "cell_type": "code",
   "execution_count": 65,
   "id": "aa691877",
   "metadata": {},
   "outputs": [
    {
     "data": {
      "text/plain": [
       "dict"
      ]
     },
     "execution_count": 65,
     "metadata": {},
     "output_type": "execute_result"
    }
   ],
   "source": [
    "type(food1)"
   ]
  },
  {
   "cell_type": "code",
   "execution_count": 66,
   "id": "15c27bea",
   "metadata": {},
   "outputs": [
    {
     "data": {
      "text/plain": [
       "dict_keys(['Samosa', 'Raita', 'Pakora', 'Salad', 'Chicken Rolls'])"
      ]
     },
     "execution_count": 66,
     "metadata": {},
     "output_type": "execute_result"
    }
   ],
   "source": [
    "# Extract data\n",
    "keys1 = food1.keys()\n",
    "keys1"
   ]
  },
  {
   "cell_type": "code",
   "execution_count": 67,
   "id": "a555eb01",
   "metadata": {},
   "outputs": [
    {
     "data": {
      "text/plain": [
       "dict_values([30, 20, 100, 50, 30])"
      ]
     },
     "execution_count": 67,
     "metadata": {},
     "output_type": "execute_result"
    }
   ],
   "source": [
    "values = food1.values()\n",
    "values"
   ]
  },
  {
   "cell_type": "code",
   "execution_count": 68,
   "id": "b87678b8",
   "metadata": {},
   "outputs": [
    {
     "data": {
      "text/plain": [
       "{'Samosa': 30,\n",
       " 'Raita': 20,\n",
       " 'Pakora': 100,\n",
       " 'Salad': 50,\n",
       " 'Chicken Rolls': 30,\n",
       " 'Tikki': 10}"
      ]
     },
     "execution_count": 68,
     "metadata": {},
     "output_type": "execute_result"
    }
   ],
   "source": [
    "# Adding new elemnt\n",
    "food1[\"Tikki\"] = 10\n",
    "food1"
   ]
  },
  {
   "cell_type": "code",
   "execution_count": 69,
   "id": "46fc57e0",
   "metadata": {},
   "outputs": [
    {
     "data": {
      "text/plain": [
       "{'Samosa': 30,\n",
       " 'Raita': 20,\n",
       " 'Pakora': 100,\n",
       " 'Salad': 50,\n",
       " 'Chicken Rolls': 30,\n",
       " 'Tikki': 15}"
      ]
     },
     "execution_count": 69,
     "metadata": {},
     "output_type": "execute_result"
    }
   ],
   "source": [
    "# Update the values\n",
    "food1[\"Tikki\"] = 15\n",
    "food1"
   ]
  },
  {
   "cell_type": "code",
   "execution_count": 70,
   "id": "3bd3e587",
   "metadata": {},
   "outputs": [
    {
     "data": {
      "text/plain": [
       "{'Dates': 50, 'Chocolates': 200, 'Swayyan': 1000}"
      ]
     },
     "execution_count": 70,
     "metadata": {},
     "output_type": "execute_result"
    }
   ],
   "source": [
    "food2 = {\"Dates\": 50, \"Chocolates\": 200, \"Swayyan\": 1000}\n",
    "food2"
   ]
  },
  {
   "cell_type": "code",
   "execution_count": 71,
   "id": "bf70a1e7",
   "metadata": {},
   "outputs": [],
   "source": [
    "# Concatenate\n",
    "food1.update(food2)"
   ]
  },
  {
   "cell_type": "code",
   "execution_count": 72,
   "id": "9157f34a",
   "metadata": {},
   "outputs": [
    {
     "data": {
      "text/plain": [
       "{'Samosa': 30,\n",
       " 'Raita': 20,\n",
       " 'Pakora': 100,\n",
       " 'Salad': 50,\n",
       " 'Chicken Rolls': 30,\n",
       " 'Tikki': 15,\n",
       " 'Dates': 50,\n",
       " 'Chocolates': 200,\n",
       " 'Swayyan': 1000}"
      ]
     },
     "execution_count": 72,
     "metadata": {},
     "output_type": "execute_result"
    }
   ],
   "source": [
    "food1"
   ]
  },
  {
   "cell_type": "code",
   "execution_count": 73,
   "id": "61f44423",
   "metadata": {},
   "outputs": [
    {
     "data": {
      "text/plain": [
       "{'Samosa': 30,\n",
       " 'Raita': 20,\n",
       " 'Pakora': 100,\n",
       " 'Salad': 50,\n",
       " 'Chicken Rolls': 30,\n",
       " 'Tikki': 15,\n",
       " 'Dates': 50,\n",
       " 'Chocolates': 200,\n",
       " 'Swayyan': 1000}"
      ]
     },
     "execution_count": 73,
     "metadata": {},
     "output_type": "execute_result"
    }
   ],
   "source": [
    "# Copy dictionary\n",
    "copy_food1 = food1.copy()\n",
    "copy_food1"
   ]
  },
  {
   "cell_type": "code",
   "execution_count": 74,
   "id": "5e5638ac",
   "metadata": {},
   "outputs": [
    {
     "data": {
      "text/plain": [
       "{}"
      ]
     },
     "execution_count": 74,
     "metadata": {},
     "output_type": "execute_result"
    }
   ],
   "source": [
    "# Remove all elements\n",
    "copy_food1.clear()\n",
    "copy_food1"
   ]
  },
  {
   "cell_type": "code",
   "execution_count": 75,
   "id": "e73e54b5",
   "metadata": {},
   "outputs": [
    {
     "data": {
      "text/plain": [
       "{'Ice cream': 75, 'Milk shake': 75, 'Cold drinks': 75}"
      ]
     },
     "execution_count": 75,
     "metadata": {},
     "output_type": "execute_result"
    }
   ],
   "source": [
    "# Create different keys with same values\n",
    "food = (\"Ice cream\", \"Milk shake\", \"Cold drinks\")\n",
    "price = 75\n",
    "\n",
    "rates = dict.fromkeys(food, price)\n",
    "rates"
   ]
  },
  {
   "cell_type": "code",
   "execution_count": 76,
   "id": "de80579b",
   "metadata": {},
   "outputs": [
    {
     "data": {
      "text/plain": [
       "30"
      ]
     },
     "execution_count": 76,
     "metadata": {},
     "output_type": "execute_result"
    }
   ],
   "source": [
    "# Get value from dict\n",
    "food1.get(\"Samosa\")"
   ]
  },
  {
   "cell_type": "code",
   "execution_count": 77,
   "id": "6c305dc8",
   "metadata": {},
   "outputs": [
    {
     "data": {
      "text/plain": [
       "dict_items([('Samosa', 30), ('Raita', 20), ('Pakora', 100), ('Salad', 50), ('Chicken Rolls', 30), ('Tikki', 15), ('Dates', 50), ('Chocolates', 200), ('Swayyan', 1000)])"
      ]
     },
     "execution_count": 77,
     "metadata": {},
     "output_type": "execute_result"
    }
   ],
   "source": [
    "# Get key-value pairs\n",
    "food1.items()"
   ]
  },
  {
   "cell_type": "code",
   "execution_count": 78,
   "id": "607771f5",
   "metadata": {},
   "outputs": [
    {
     "data": {
      "text/plain": [
       "{'Samosa': 30,\n",
       " 'Raita': 20,\n",
       " 'Pakora': 100,\n",
       " 'Salad': 50,\n",
       " 'Chicken Rolls': 30,\n",
       " 'Tikki': 15,\n",
       " 'Dates': 50,\n",
       " 'Chocolates': 200}"
      ]
     },
     "execution_count": 78,
     "metadata": {},
     "output_type": "execute_result"
    }
   ],
   "source": [
    "# Remove an item from the dict\n",
    "food1.pop(\"Swayyan\")\n",
    "food1"
   ]
  },
  {
   "cell_type": "code",
   "execution_count": 79,
   "id": "d9179ce6",
   "metadata": {},
   "outputs": [
    {
     "data": {
      "text/plain": [
       "{'Samosa': 30,\n",
       " 'Raita': 20,\n",
       " 'Pakora': 100,\n",
       " 'Salad': 50,\n",
       " 'Chicken Rolls': 30,\n",
       " 'Tikki': 15,\n",
       " 'Dates': 50}"
      ]
     },
     "execution_count": 79,
     "metadata": {},
     "output_type": "execute_result"
    }
   ],
   "source": [
    "# Remove last item from the dict\n",
    "food1.popitem()\n",
    "food1"
   ]
  },
  {
   "cell_type": "code",
   "execution_count": 80,
   "id": "42d2be5f",
   "metadata": {},
   "outputs": [
    {
     "data": {
      "text/plain": [
       "30"
      ]
     },
     "execution_count": 80,
     "metadata": {},
     "output_type": "execute_result"
    }
   ],
   "source": [
    "# Set the default value of a key\n",
    "food1.setdefault(\"Chicken Rolls\", 3000)"
   ]
  },
  {
   "cell_type": "markdown",
   "id": "e7807d99",
   "metadata": {},
   "source": [
    "## 4. Set\n",
    "* Unordered and unindexed\n",
    "* Curly braces are used {}\n",
    "* No duplicates allowed"
   ]
  },
  {
   "cell_type": "code",
   "execution_count": 81,
   "id": "20750f8a",
   "metadata": {},
   "outputs": [
    {
     "data": {
      "text/plain": [
       "{2, 2.5, 78.25, 'Aammar', 'Codanics', 'Faisalabad', True}"
      ]
     },
     "execution_count": 81,
     "metadata": {},
     "output_type": "execute_result"
    }
   ],
   "source": [
    "s1 = {2, 2.5, 78.25, \"Aammar\", \"Codanics\", \"Faisalabad\", True}\n",
    "s1"
   ]
  },
  {
   "cell_type": "code",
   "execution_count": 82,
   "id": "b19eaf76",
   "metadata": {},
   "outputs": [],
   "source": [
    "s1.add(\"Aammar1\")"
   ]
  },
  {
   "cell_type": "code",
   "execution_count": 83,
   "id": "a9cde98a",
   "metadata": {},
   "outputs": [
    {
     "data": {
      "text/plain": [
       "{2, 2.5, 78.25, 'Aammar', 'Aammar1', 'Codanics', 'Faisalabad', True}"
      ]
     },
     "execution_count": 83,
     "metadata": {},
     "output_type": "execute_result"
    }
   ],
   "source": [
    "s1"
   ]
  },
  {
   "cell_type": "code",
   "execution_count": 84,
   "id": "1b8660f2",
   "metadata": {},
   "outputs": [
    {
     "data": {
      "text/plain": [
       "{2, 2.5, 78.25, 'Aammar', 'Codanics', 'Faisalabad', True}"
      ]
     },
     "execution_count": 84,
     "metadata": {},
     "output_type": "execute_result"
    }
   ],
   "source": [
    "s1.remove(\"Aammar1\")\n",
    "s1"
   ]
  },
  {
   "cell_type": "code",
   "execution_count": 85,
   "id": "b840d453",
   "metadata": {},
   "outputs": [
    {
     "data": {
      "text/plain": [
       "{2, 2.5, 78.25, 'Aammar', 'Codanics', 'Faisalabad', True}"
      ]
     },
     "execution_count": 85,
     "metadata": {},
     "output_type": "execute_result"
    }
   ],
   "source": [
    "# Copy set\n",
    "copy_s1 = s1.copy()\n",
    "copy_s1"
   ]
  },
  {
   "cell_type": "code",
   "execution_count": 86,
   "id": "ebf34c5e",
   "metadata": {},
   "outputs": [
    {
     "data": {
      "text/plain": [
       "set()"
      ]
     },
     "execution_count": 86,
     "metadata": {},
     "output_type": "execute_result"
    }
   ],
   "source": [
    "# Remove set\n",
    "copy_s1.clear()\n",
    "copy_s1"
   ]
  },
  {
   "cell_type": "code",
   "execution_count": 87,
   "id": "a1626353",
   "metadata": {},
   "outputs": [
    {
     "data": {
      "text/plain": [
       "{'Samosa': 30,\n",
       " 'Raita': 20,\n",
       " 'Pakora': 100,\n",
       " 'Salad': 50,\n",
       " 'Chicken Rolls': 30,\n",
       " 'Tikki': 15,\n",
       " 'Dates': 50}"
      ]
     },
     "execution_count": 87,
     "metadata": {},
     "output_type": "execute_result"
    }
   ],
   "source": [
    "food1"
   ]
  },
  {
   "cell_type": "code",
   "execution_count": 88,
   "id": "9530e302",
   "metadata": {},
   "outputs": [
    {
     "data": {
      "text/plain": [
       "{'Pakora', 'Raita'}"
      ]
     },
     "execution_count": 88,
     "metadata": {},
     "output_type": "execute_result"
    }
   ],
   "source": [
    "# Find the difference between two sets\n",
    "items1 = {\"Samosa\", \"Raita\", \"Pakora\"}\n",
    "items2 = {\"Salad\", \"Samosa\", \"Dates\"}\n",
    "\n",
    "items3 = items1.difference(items2)\n",
    "items3"
   ]
  },
  {
   "cell_type": "code",
   "execution_count": 89,
   "id": "5989fad0",
   "metadata": {},
   "outputs": [
    {
     "data": {
      "text/plain": [
       "{'Pakora', 'Raita'}"
      ]
     },
     "execution_count": 89,
     "metadata": {},
     "output_type": "execute_result"
    }
   ],
   "source": [
    "# Remove items that exist in both sets (Samosa)\n",
    "items1.difference_update(items2)\n",
    "items1"
   ]
  },
  {
   "cell_type": "code",
   "execution_count": 90,
   "id": "8e2c3552",
   "metadata": {},
   "outputs": [
    {
     "data": {
      "text/plain": [
       "{'Dates', 'Salad', 'Samosa'}"
      ]
     },
     "execution_count": 90,
     "metadata": {},
     "output_type": "execute_result"
    }
   ],
   "source": [
    "items2"
   ]
  },
  {
   "cell_type": "code",
   "execution_count": 91,
   "id": "d65b7879",
   "metadata": {},
   "outputs": [
    {
     "data": {
      "text/plain": [
       "{'Dates', 'Samosa'}"
      ]
     },
     "execution_count": 91,
     "metadata": {},
     "output_type": "execute_result"
    }
   ],
   "source": [
    "# Remove an element from the set\n",
    "items2.discard(\"Salad\")\n",
    "items2"
   ]
  },
  {
   "cell_type": "code",
   "execution_count": 92,
   "id": "9b5d6d0b",
   "metadata": {},
   "outputs": [
    {
     "data": {
      "text/plain": [
       "{'Samosa': 30,\n",
       " 'Raita': 20,\n",
       " 'Pakora': 100,\n",
       " 'Salad': 50,\n",
       " 'Chicken Rolls': 30,\n",
       " 'Tikki': 15,\n",
       " 'Dates': 50}"
      ]
     },
     "execution_count": 92,
     "metadata": {},
     "output_type": "execute_result"
    }
   ],
   "source": [
    "food1"
   ]
  },
  {
   "cell_type": "code",
   "execution_count": 93,
   "id": "6123a96c",
   "metadata": {},
   "outputs": [
    {
     "data": {
      "text/plain": [
       "{'Biryani', 'Chicken Rolls', 'Salad', 'Tikki'}"
      ]
     },
     "execution_count": 93,
     "metadata": {},
     "output_type": "execute_result"
    }
   ],
   "source": [
    "# Find the same elements in both sets\n",
    "old_items = {\"Samosa\", \"Raita\", \"Pakora\", \"Salad\", \"Chicken Rolls\", \"Tikki\", \"Dates\", \"Biryani\", \"Mutton\"}\n",
    "new_items = {\"Salad\", \"Chicken Rolls\", \"Tikki\", \"Biryani\"}\n",
    "\n",
    "combo_items = old_items.intersection(new_items)\n",
    "combo_items"
   ]
  },
  {
   "cell_type": "code",
   "execution_count": 94,
   "id": "63aea9a5",
   "metadata": {},
   "outputs": [
    {
     "data": {
      "text/plain": [
       "False"
      ]
     },
     "execution_count": 94,
     "metadata": {},
     "output_type": "execute_result"
    }
   ],
   "source": [
    "# Find if no item in old_items is present in new_items\n",
    "old_items.isdisjoint(new_items)"
   ]
  },
  {
   "cell_type": "code",
   "execution_count": 95,
   "id": "063ebade",
   "metadata": {},
   "outputs": [
    {
     "data": {
      "text/plain": [
       "False"
      ]
     },
     "execution_count": 95,
     "metadata": {},
     "output_type": "execute_result"
    }
   ],
   "source": [
    "# Find if all items of old_items are present in new_items\n",
    "old_items.issubset(new_items)"
   ]
  },
  {
   "cell_type": "code",
   "execution_count": 96,
   "id": "620d372f",
   "metadata": {},
   "outputs": [
    {
     "data": {
      "text/plain": [
       "True"
      ]
     },
     "execution_count": 96,
     "metadata": {},
     "output_type": "execute_result"
    }
   ],
   "source": [
    "# Find if all items of new_items are present in old_items\n",
    "old_items.issuperset(new_items)"
   ]
  },
  {
   "cell_type": "code",
   "execution_count": 97,
   "id": "28c7a8c0",
   "metadata": {},
   "outputs": [
    {
     "data": {
      "text/plain": [
       "{'Dates', 'Mutton', 'Pakora', 'Raita', 'Samosa'}"
      ]
     },
     "execution_count": 97,
     "metadata": {},
     "output_type": "execute_result"
    }
   ],
   "source": [
    "# Find items from both sets except the common ones\n",
    "old_items.symmetric_difference(new_items)"
   ]
  },
  {
   "cell_type": "code",
   "execution_count": 98,
   "id": "8a535ab1",
   "metadata": {},
   "outputs": [
    {
     "data": {
      "text/plain": [
       "{'Biryani', 'Chicken Rolls', 'Kabab', 'Salad', 'Sweets', 'Tikki'}"
      ]
     },
     "execution_count": 98,
     "metadata": {},
     "output_type": "execute_result"
    }
   ],
   "source": [
    "# Add few items into new_items\n",
    "new_items.add(\"Sweets\")\n",
    "new_items.add(\"Kabab\")\n",
    "new_items"
   ]
  },
  {
   "cell_type": "code",
   "execution_count": 99,
   "id": "f8b8ca36",
   "metadata": {},
   "outputs": [
    {
     "data": {
      "text/plain": [
       "{'Dates', 'Kabab', 'Mutton', 'Pakora', 'Raita', 'Samosa', 'Sweets'}"
      ]
     },
     "execution_count": 99,
     "metadata": {},
     "output_type": "execute_result"
    }
   ],
   "source": [
    "# Remove items present in both sets\n",
    "# and insert items that is not present in both sets\n",
    "old_items.symmetric_difference_update(new_items)\n",
    "old_items"
   ]
  },
  {
   "cell_type": "code",
   "execution_count": 100,
   "id": "ee664ce8",
   "metadata": {},
   "outputs": [
    {
     "data": {
      "text/plain": [
       "{'Kabab', 'Sweets'}"
      ]
     },
     "execution_count": 100,
     "metadata": {},
     "output_type": "execute_result"
    }
   ],
   "source": [
    "# Remove items that is not present in both sets\n",
    "old_items.intersection_update(new_items)\n",
    "old_items"
   ]
  },
  {
   "cell_type": "code",
   "execution_count": 101,
   "id": "16f15066",
   "metadata": {},
   "outputs": [
    {
     "data": {
      "text/plain": [
       "{'Biryani', 'Chicken Rolls', 'Kabab', 'Salad', 'Sweets', 'Tikki'}"
      ]
     },
     "execution_count": 101,
     "metadata": {},
     "output_type": "execute_result"
    }
   ],
   "source": [
    "# Return a set that contains all items from both sets\n",
    "fresh_items = old_items.union(new_items)\n",
    "fresh_items"
   ]
  },
  {
   "cell_type": "code",
   "execution_count": 102,
   "id": "e8797700",
   "metadata": {},
   "outputs": [
    {
     "data": {
      "text/plain": [
       "{'Kabab', 'Sweets'}"
      ]
     },
     "execution_count": 102,
     "metadata": {},
     "output_type": "execute_result"
    }
   ],
   "source": [
    "# Insert items from new_items into old_items\n",
    "old_items"
   ]
  },
  {
   "cell_type": "code",
   "execution_count": 103,
   "id": "722f4ebc",
   "metadata": {},
   "outputs": [
    {
     "data": {
      "text/plain": [
       "{'Biryani', 'Chicken Rolls', 'Kabab', 'Salad', 'Sweets', 'Tikki'}"
      ]
     },
     "execution_count": 103,
     "metadata": {},
     "output_type": "execute_result"
    }
   ],
   "source": [
    "new_items"
   ]
  },
  {
   "cell_type": "code",
   "execution_count": 104,
   "id": "8e3a2891",
   "metadata": {},
   "outputs": [
    {
     "data": {
      "text/plain": [
       "{'Biryani', 'Chicken Rolls', 'Kabab', 'Salad', 'Sweets', 'Tikki'}"
      ]
     },
     "execution_count": 104,
     "metadata": {},
     "output_type": "execute_result"
    }
   ],
   "source": [
    "old_items.update(new_items)\n",
    "old_items"
   ]
  },
  {
   "cell_type": "code",
   "execution_count": 105,
   "id": "cc30a9e9",
   "metadata": {},
   "outputs": [
    {
     "data": {
      "text/plain": [
       "'Biryani'"
      ]
     },
     "execution_count": 105,
     "metadata": {},
     "output_type": "execute_result"
    }
   ],
   "source": [
    "# Remove a random item\n",
    "old_items.pop()"
   ]
  },
  {
   "cell_type": "code",
   "execution_count": 106,
   "id": "91c36fef",
   "metadata": {},
   "outputs": [
    {
     "data": {
      "text/plain": [
       "{'Chicken Rolls', 'Kabab', 'Salad', 'Sweets', 'Tikki'}"
      ]
     },
     "execution_count": 106,
     "metadata": {},
     "output_type": "execute_result"
    }
   ],
   "source": [
    "old_items"
   ]
  }
 ],
 "metadata": {
  "kernelspec": {
   "display_name": "Python 3 (ipykernel)",
   "language": "python",
   "name": "python3"
  },
  "language_info": {
   "codemirror_mode": {
    "name": "ipython",
    "version": 3
   },
   "file_extension": ".py",
   "mimetype": "text/x-python",
   "name": "python",
   "nbconvert_exporter": "python",
   "pygments_lexer": "ipython3",
   "version": "3.9.5"
  }
 },
 "nbformat": 4,
 "nbformat_minor": 5
}
