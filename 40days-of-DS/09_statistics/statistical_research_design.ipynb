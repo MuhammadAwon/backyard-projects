{
 "cells": [
  {
   "cell_type": "markdown",
   "id": "0fc9757f",
   "metadata": {},
   "source": [
    "# Factorial Research Design\n",
    "\n",
    "It is an experiment design that is used to study two or more factors (independent variables), each with multiple discrete possible values or levels. For example, a research about how effective a new drug is on **migraine attacks** amongst **gender**. In order to test the efficiency of the drug we could create three conditions for difference in the dosage of drug **low, medium, and high**. This would be consider as 3x2 factorial design, where **migranie attacks and gender** are dependent variables and **variations in drug dosage** are independent variables respectively. We could then investigate our hypothesis about the effect of drug in gender."
   ]
  }
 ],
 "metadata": {
  "kernelspec": {
   "display_name": "Python 3 (ipykernel)",
   "language": "python",
   "name": "python3"
  },
  "language_info": {
   "codemirror_mode": {
    "name": "ipython",
    "version": 3
   },
   "file_extension": ".py",
   "mimetype": "text/x-python",
   "name": "python",
   "nbconvert_exporter": "python",
   "pygments_lexer": "ipython3",
   "version": "3.9.5"
  }
 },
 "nbformat": 4,
 "nbformat_minor": 5
}
