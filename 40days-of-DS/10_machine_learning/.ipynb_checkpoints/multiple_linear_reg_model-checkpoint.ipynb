{
 "cells": [
  {
   "cell_type": "markdown",
   "id": "5503e11e",
   "metadata": {},
   "source": [
    "# Multiple Linear Regression\n",
    "\n",
    "* More than **two variables**\n",
    "* **Multiple independent variables** and **one dependent variable**"
   ]
  },
  {
   "cell_type": "code",
   "execution_count": 73,
   "id": "ee6ddb9a",
   "metadata": {},
   "outputs": [],
   "source": [
    "# Import libraries\n",
    "import numpy as np\n",
    "import pandas as pd\n",
    "import seaborn as sns\n",
    "import matplotlib.pyplot as plt\n",
    "from sklearn.linear_model import LinearRegression\n",
    "from sklearn.model_selection import train_test_split\n",
    "from sklearn.metrics import mean_squared_error"
   ]
  },
  {
   "cell_type": "markdown",
   "id": "816adbba",
   "metadata": {},
   "source": [
    "# Import Dataset"
   ]
  },
  {
   "cell_type": "code",
   "execution_count": 74,
   "id": "9cccaeee",
   "metadata": {},
   "outputs": [
    {
     "data": {
      "text/html": [
       "<div>\n",
       "<style scoped>\n",
       "    .dataframe tbody tr th:only-of-type {\n",
       "        vertical-align: middle;\n",
       "    }\n",
       "\n",
       "    .dataframe tbody tr th {\n",
       "        vertical-align: top;\n",
       "    }\n",
       "\n",
       "    .dataframe thead th {\n",
       "        text-align: right;\n",
       "    }\n",
       "</style>\n",
       "<table border=\"1\" class=\"dataframe\">\n",
       "  <thead>\n",
       "    <tr style=\"text-align: right;\">\n",
       "      <th></th>\n",
       "      <th>age</th>\n",
       "      <th>distance</th>\n",
       "      <th>YearsExperience</th>\n",
       "      <th>Salary</th>\n",
       "    </tr>\n",
       "  </thead>\n",
       "  <tbody>\n",
       "    <tr>\n",
       "      <th>0</th>\n",
       "      <td>31.1</td>\n",
       "      <td>77.75</td>\n",
       "      <td>1.1</td>\n",
       "      <td>39343</td>\n",
       "    </tr>\n",
       "    <tr>\n",
       "      <th>1</th>\n",
       "      <td>31.3</td>\n",
       "      <td>78.25</td>\n",
       "      <td>1.3</td>\n",
       "      <td>46205</td>\n",
       "    </tr>\n",
       "    <tr>\n",
       "      <th>2</th>\n",
       "      <td>31.5</td>\n",
       "      <td>78.75</td>\n",
       "      <td>1.5</td>\n",
       "      <td>37731</td>\n",
       "    </tr>\n",
       "    <tr>\n",
       "      <th>3</th>\n",
       "      <td>32.0</td>\n",
       "      <td>80.00</td>\n",
       "      <td>2.0</td>\n",
       "      <td>43525</td>\n",
       "    </tr>\n",
       "    <tr>\n",
       "      <th>4</th>\n",
       "      <td>32.2</td>\n",
       "      <td>80.50</td>\n",
       "      <td>2.2</td>\n",
       "      <td>39891</td>\n",
       "    </tr>\n",
       "  </tbody>\n",
       "</table>\n",
       "</div>"
      ],
      "text/plain": [
       "    age  distance  YearsExperience  Salary\n",
       "0  31.1     77.75              1.1   39343\n",
       "1  31.3     78.25              1.3   46205\n",
       "2  31.5     78.75              1.5   37731\n",
       "3  32.0     80.00              2.0   43525\n",
       "4  32.2     80.50              2.2   39891"
      ]
     },
     "execution_count": 74,
     "metadata": {},
     "output_type": "execute_result"
    }
   ],
   "source": [
    "# Load data\n",
    "df = pd.read_csv('../datasets/ml_data_salary.csv')\n",
    "df.head()"
   ]
  },
  {
   "cell_type": "markdown",
   "id": "85cd6d71",
   "metadata": {},
   "source": [
    "## Split Data into Train and Test"
   ]
  },
  {
   "cell_type": "code",
   "execution_count": 75,
   "id": "ea3fa4ef",
   "metadata": {},
   "outputs": [],
   "source": [
    "# Split data into input (X) and output (y)\n",
    "X = df[['age', 'distance', 'YearsExperience']]\n",
    "y = df['Salary']"
   ]
  },
  {
   "cell_type": "code",
   "execution_count": 76,
   "id": "7675fa88",
   "metadata": {},
   "outputs": [
    {
     "data": {
      "text/html": [
       "<div>\n",
       "<style scoped>\n",
       "    .dataframe tbody tr th:only-of-type {\n",
       "        vertical-align: middle;\n",
       "    }\n",
       "\n",
       "    .dataframe tbody tr th {\n",
       "        vertical-align: top;\n",
       "    }\n",
       "\n",
       "    .dataframe thead th {\n",
       "        text-align: right;\n",
       "    }\n",
       "</style>\n",
       "<table border=\"1\" class=\"dataframe\">\n",
       "  <thead>\n",
       "    <tr style=\"text-align: right;\">\n",
       "      <th></th>\n",
       "      <th>age</th>\n",
       "      <th>distance</th>\n",
       "      <th>YearsExperience</th>\n",
       "    </tr>\n",
       "  </thead>\n",
       "  <tbody>\n",
       "    <tr>\n",
       "      <th>0</th>\n",
       "      <td>31.1</td>\n",
       "      <td>77.75</td>\n",
       "      <td>1.1</td>\n",
       "    </tr>\n",
       "    <tr>\n",
       "      <th>1</th>\n",
       "      <td>31.3</td>\n",
       "      <td>78.25</td>\n",
       "      <td>1.3</td>\n",
       "    </tr>\n",
       "    <tr>\n",
       "      <th>2</th>\n",
       "      <td>31.5</td>\n",
       "      <td>78.75</td>\n",
       "      <td>1.5</td>\n",
       "    </tr>\n",
       "    <tr>\n",
       "      <th>3</th>\n",
       "      <td>32.0</td>\n",
       "      <td>80.00</td>\n",
       "      <td>2.0</td>\n",
       "    </tr>\n",
       "    <tr>\n",
       "      <th>4</th>\n",
       "      <td>32.2</td>\n",
       "      <td>80.50</td>\n",
       "      <td>2.2</td>\n",
       "    </tr>\n",
       "  </tbody>\n",
       "</table>\n",
       "</div>"
      ],
      "text/plain": [
       "    age  distance  YearsExperience\n",
       "0  31.1     77.75              1.1\n",
       "1  31.3     78.25              1.3\n",
       "2  31.5     78.75              1.5\n",
       "3  32.0     80.00              2.0\n",
       "4  32.2     80.50              2.2"
      ]
     },
     "execution_count": 76,
     "metadata": {},
     "output_type": "execute_result"
    }
   ],
   "source": [
    "X.head()"
   ]
  },
  {
   "cell_type": "code",
   "execution_count": 77,
   "id": "64969063",
   "metadata": {},
   "outputs": [
    {
     "data": {
      "text/plain": [
       "0    39343\n",
       "1    46205\n",
       "2    37731\n",
       "3    43525\n",
       "4    39891\n",
       "Name: Salary, dtype: int64"
      ]
     },
     "execution_count": 77,
     "metadata": {},
     "output_type": "execute_result"
    }
   ],
   "source": [
    "y.head()"
   ]
  },
  {
   "cell_type": "code",
   "execution_count": 78,
   "id": "14fa269c",
   "metadata": {},
   "outputs": [],
   "source": [
    "# Split data into train and test\n",
    "X_train, X_test, y_train, y_test = train_test_split(X, y, test_size=0.2, random_state=0)"
   ]
  },
  {
   "cell_type": "code",
   "execution_count": 79,
   "id": "aa1fda22",
   "metadata": {},
   "outputs": [
    {
     "name": "stdout",
     "output_type": "stream",
     "text": [
      "Training inputs:\n",
      "     age  distance  YearsExperience\n",
      "27  39.6     99.00              9.6\n",
      "11  34.0     85.00              4.0\n",
      "17  35.3     88.25              5.3\n",
      "22  37.9     94.75              7.9\n",
      "5   32.9     82.25              2.9\n",
      "Training outputs:\n",
      "27    112635\n",
      "11     55794\n",
      "17     83088\n",
      "22    101302\n",
      "5      56642\n",
      "Name: Salary, dtype: int64\n",
      "Training input shape: (24, 3)\n",
      "Training input shape: (24,)\n"
     ]
    }
   ],
   "source": [
    "# View training dataset\n",
    "print(f'Training inputs:\\n{X_train.head()}')\n",
    "print(f'Training outputs:\\n{y_train.head()}')\n",
    "print(f'Training input shape: {X_train.shape}')\n",
    "print(f'Training input shape: {y_train.shape}')"
   ]
  },
  {
   "cell_type": "markdown",
   "id": "9f659683",
   "metadata": {},
   "source": [
    "## Fit Linear Regression Model"
   ]
  },
  {
   "cell_type": "code",
   "execution_count": 80,
   "id": "a612d9ae",
   "metadata": {},
   "outputs": [
    {
     "name": "stdout",
     "output_type": "stream",
     "text": [
      "Training completed!!\n"
     ]
    }
   ],
   "source": [
    "# Create model\n",
    "model = LinearRegression()\n",
    "# Fit model\n",
    "model = model.fit(X_train, y_train)\n",
    "print('Training completed!!')"
   ]
  },
  {
   "cell_type": "code",
   "execution_count": 81,
   "id": "3a2b763c",
   "metadata": {},
   "outputs": [
    {
     "name": "stdout",
     "output_type": "stream",
     "text": [
      "First coefficient: -7234721743167015.0\n",
      "Second coefficient: -216813894069688.5\n",
      "Third coefficient: 7776756478350546.0\n"
     ]
    }
   ],
   "source": [
    "# Find coefficient\n",
    "m1, m2, m3 = model.coef_\n",
    "\n",
    "print(f'First coefficient: {m1}')\n",
    "print(f'Second coefficient: {m2}')\n",
    "print(f'Third coefficient: {m3}')"
   ]
  },
  {
   "cell_type": "code",
   "execution_count": 82,
   "id": "391604e8",
   "metadata": {},
   "outputs": [
    {
     "name": "stdout",
     "output_type": "stream",
     "text": [
      "Interception: 2.3330269435026387e+17\n"
     ]
    }
   ],
   "source": [
    "# Find interception\n",
    "interception = model.intercept_\n",
    "print(f'Interception: {interception}')"
   ]
  },
  {
   "cell_type": "markdown",
   "id": "718917ec",
   "metadata": {},
   "source": [
    "## Make Predictions"
   ]
  },
  {
   "cell_type": "code",
   "execution_count": 83,
   "id": "96fa3cb2",
   "metadata": {},
   "outputs": [
    {
     "data": {
      "text/plain": [
       "array([ 40768., 122752.,  64960.,  63104., 115200., 107776.])"
      ]
     },
     "execution_count": 83,
     "metadata": {},
     "output_type": "execute_result"
    }
   ],
   "source": [
    "y_preds = model.predict(X_test)\n",
    "y_preds[:10] # first 10 predictions"
   ]
  },
  {
   "cell_type": "markdown",
   "id": "abb37cb8",
   "metadata": {},
   "source": [
    "## Plotting"
   ]
  },
  {
   "cell_type": "code",
   "execution_count": 84,
   "id": "f192cdbd",
   "metadata": {},
   "outputs": [
    {
     "data": {
      "image/png": "[encoded data removed]",
      "text/plain": [
       "<Figure size 640x480 with 1 Axes>"
      ]
     },
     "metadata": {},
     "output_type": "display_data"
    }
   ],
   "source": [
    "# Draw multi linear regression on test labels\n",
    "sns.regplot(x=y_test, y=y_preds, ci=None, color='b')\n",
    "plt.xlabel('age, distance, YearsExperience')\n",
    "plt.ylabel('Salary')\n",
    "plt.title('Salary based on Age, Distance and Experience')\n",
    "plt.show();"
   ]
  },
  {
   "cell_type": "markdown",
   "id": "51d567cd",
   "metadata": {},
   "source": [
    "# Evaluate Model"
   ]
  },
  {
   "cell_type": "code",
   "execution_count": 85,
   "id": "5cdde942",
   "metadata": {},
   "outputs": [
    {
     "name": "stdout",
     "output_type": "stream",
     "text": [
      "Train score: 0.94\n",
      "Test score: 0.99\n",
      "Model RMSE: 3589.65\n"
     ]
    }
   ],
   "source": [
    "print(f'Train score: {model.score(X_train, y_train):.2f}')\n",
    "print(f'Test score: {model.score(X_test, y_test):.2f}')\n",
    "print(f'Model RMSE: {np.sqrt(mean_squared_error(y_test, y_preds)):.2f}')"
   ]
  }
 ],
 "metadata": {
  "kernelspec": {
   "display_name": "Python 3 (ipykernel)",
   "language": "python",
   "name": "python3"
  },
  "language_info": {
   "codemirror_mode": {
    "name": "ipython",
    "version": 3
   },
   "file_extension": ".py",
   "mimetype": "text/x-python",
   "name": "python",
   "nbconvert_exporter": "python",
   "pygments_lexer": "ipython3",
   "version": "3.9.5"
  }
 },
 "nbformat": 4,
 "nbformat_minor": 5
}
