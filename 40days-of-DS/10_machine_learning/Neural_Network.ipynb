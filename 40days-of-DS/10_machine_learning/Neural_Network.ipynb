{
  "cells": [
    {
      "cell_type": "markdown",
      "metadata": {
        "id": "ZExURLWOuOEl"
      },
      "source": [
        "# Neural Networks"
      ]
    },
    {
      "cell_type": "markdown",
      "metadata": {
        "id": "KUrDsxWfuOEr"
      },
      "source": [
        "## Data set for digit number recognition \n",
        "\n",
        "The data set is made of 8x8 images of digits. We start with loading the dataset."
      ]
    },
    {
      "cell_type": "code",
      "execution_count": 1,
      "metadata": {
        "id": "ezwyzP7guOEs"
      },
      "outputs": [],
      "source": [
        "import matplotlib.pyplot as plt\n",
        "\n",
        "# Import datasets, classifiers and performance metrics\n",
        "from sklearn import datasets, metrics\n",
        "from sklearn.neural_network import MLPClassifier\n",
        "from sklearn import tree\n",
        "\n",
        "# The digits dataset\n",
        "digits = datasets.load_digits()"
      ]
    },
    {
      "cell_type": "markdown",
      "metadata": {
        "id": "YkDN4AE1uOEv"
      },
      "source": [
        "Now, let's have a look at some of the first images, stored in the images attribute of the dataset.\n",
        "-  If we were working from image files, we could load them using matplotlib.pyplot.imread. Note that each image must have the same size. \n",
        "-  For these images, we know which digit they represent: it is given in the 'target' of the dataset.\n"
      ]
    },
    {
      "cell_type": "code",
      "execution_count": 2,
      "metadata": {
        "colab": {
          "base_uri": "https://localhost:8080/",
          "height": 404
        },
        "id": "TYsB78mLuOEw",
        "outputId": "702eeea5-f1a1-4ba9-fc9a-20e088f2b4ca"
      },
      "outputs": [
        {
          "output_type": "display_data",
          "data": {
            "image/png": "[encoded data removed]",
            "text/plain": [
              "<Figure size 720x504 with 32 Axes>"
            ]
          },
          "metadata": {
            "needs_background": "light"
          }
        }
      ],
      "source": [
        "images_and_labels = list(zip(digits.images, digits.target))\n",
        "plt.figure(figsize=(10,7))\n",
        "for index, (image, label) in enumerate(images_and_labels[:32]):\n",
        "    plt.subplot(4, 8, index + 1)\n",
        "    plt.axis('off')\n",
        "    plt.imshow(image,cmap=plt.cm.gray_r)\n",
        "    plt.title('Training: %i' % label)\n",
        "plt.show()"
      ]
    },
    {
      "cell_type": "code",
      "execution_count": 3,
      "metadata": {
        "colab": {
          "base_uri": "https://localhost:8080/"
        },
        "id": "7QFr7Yc5uOEy",
        "outputId": "e54c8539-e778-4288-a3b5-63ceae358584"
      },
      "outputs": [
        {
          "output_type": "execute_result",
          "data": {
            "text/plain": [
              "1797"
            ]
          },
          "metadata": {},
          "execution_count": 3
        }
      ],
      "source": [
        "len(images_and_labels)"
      ]
    },
    {
      "cell_type": "markdown",
      "metadata": {
        "id": "NGqCgAHCuOEz"
      },
      "source": [
        "We need to do some preprocessing!"
      ]
    },
    {
      "cell_type": "code",
      "execution_count": 4,
      "metadata": {
        "id": "7hSvXdq3uOE0"
      },
      "outputs": [],
      "source": [
        "# To apply a classifier on this data, we need to flatten the image, to\n",
        "# turn the data in a (samples, feature) matrix:\n",
        "n_samples = len(digits.images)\n",
        "data = digits.images.reshape((n_samples, -1))\n",
        "\n"
      ]
    },
    {
      "cell_type": "markdown",
      "metadata": {
        "id": "cuiAFCzPuOE1"
      },
      "source": [
        "Next, let's see what our classification algorithms does:"
      ]
    },
    {
      "cell_type": "code",
      "execution_count": 5,
      "metadata": {
        "id": "Of7fHAdLuOE2"
      },
      "outputs": [],
      "source": [
        "# Create a classifier: \n",
        "\n",
        "classifier = MLPClassifier(hidden_layer_sizes=(100,))\n",
        "\n",
        "# We learn the digits on the first half of the digits\n",
        "classifier.fit(data, digits.target)\n",
        "\n",
        "# Now predict the value of the digit on the second half:\n",
        "expected = digits.target\n",
        "predicted = classifier.predict(data)\n",
        "\n"
      ]
    },
    {
      "cell_type": "markdown",
      "metadata": {
        "id": "i5eOhQg2uOE3"
      },
      "source": [
        "Lets show the predictions:"
      ]
    },
    {
      "cell_type": "code",
      "execution_count": 6,
      "metadata": {
        "colab": {
          "base_uri": "https://localhost:8080/"
        },
        "id": "Fd-9L8sGuOE4",
        "outputId": "479867be-9fe1-44af-f564-21d45c46b417"
      },
      "outputs": [
        {
          "output_type": "execute_result",
          "data": {
            "text/plain": [
              "MLPClassifier()"
            ]
          },
          "metadata": {},
          "execution_count": 6
        }
      ],
      "source": [
        "classifier"
      ]
    },
    {
      "cell_type": "code",
      "execution_count": 7,
      "metadata": {
        "colab": {
          "base_uri": "https://localhost:8080/"
        },
        "id": "3oW4xskvuOE5",
        "outputId": "6d46c8b5-3221-42f1-a160-cf9f9ddee455"
      },
      "outputs": [
        {
          "output_type": "execute_result",
          "data": {
            "text/plain": [
              "(1797, 1797)"
            ]
          },
          "metadata": {},
          "execution_count": 7
        }
      ],
      "source": [
        "n_samples,predicted.size"
      ]
    },
    {
      "cell_type": "code",
      "execution_count": 8,
      "metadata": {
        "colab": {
          "base_uri": "https://localhost:8080/"
        },
        "id": "9-bStEFYuOE5",
        "outputId": "f2a4bc38-c7b2-45fe-b73d-02574f737d1a"
      },
      "outputs": [
        {
          "output_type": "stream",
          "name": "stdout",
          "text": [
            "indicies of missclssified data []\n",
            "number of missclassified pictures : 0\n"
          ]
        }
      ],
      "source": [
        "import numpy as np \n",
        "import matplotlib.pyplot as plt\n",
        "index = 0\n",
        "misclassified_indicies = []\n",
        "for label, predict in zip(expected, predicted):\n",
        " if label != predict: \n",
        "  misclassified_indicies.append(index)\n",
        "  index +=1\n",
        "number_of_missclassified_data =len(misclassified_indicies)\n",
        "print('indicies of missclssified data', misclassified_indicies)\n",
        "print('number of missclassified pictures :',number_of_missclassified_data )"
      ]
    },
    {
      "cell_type": "code",
      "execution_count": 9,
      "metadata": {
        "colab": {
          "base_uri": "https://localhost:8080/",
          "height": 264
        },
        "id": "HLjicqNKuOE6",
        "outputId": "4cd507f2-7263-473b-ed0c-5c7c1c3f0f80"
      },
      "outputs": [
        {
          "output_type": "display_data",
          "data": {
            "image/png": "[encoded data removed]",
            "text/plain": [
              "<Figure size 432x288 with 10 Axes>"
            ]
          },
          "metadata": {
            "needs_background": "light"
          }
        }
      ],
      "source": [
        "images_and_predictions = list(zip(digits.images[9*(n_samples) // 10:], predicted))\n",
        "for index, (image, prediction) in enumerate(images_and_predictions[:10]):\n",
        "    plt.subplot(3, 4, index+1)\n",
        "    plt.axis('off')\n",
        "    plt.imshow(image, cmap=plt.cm.gray_r)\n",
        "    plt.title('Prediction: %i' % prediction)\n",
        "\n",
        "plt.show()"
      ]
    },
    {
      "cell_type": "markdown",
      "metadata": {
        "id": "MuWpyUQauOE7"
      },
      "source": [
        "Evaluation metrics can be used to compare your classifications:"
      ]
    },
    {
      "cell_type": "code",
      "execution_count": 10,
      "metadata": {
        "colab": {
          "base_uri": "https://localhost:8080/"
        },
        "id": "8daDB7LjuOE7",
        "outputId": "62783e51-775a-4945-8742-42619971f119"
      },
      "outputs": [
        {
          "output_type": "stream",
          "name": "stdout",
          "text": [
            "Classification report for classifier MLPClassifier():\n",
            "              precision    recall  f1-score   support\n",
            "\n",
            "           0       1.00      1.00      1.00       178\n",
            "           1       1.00      1.00      1.00       182\n",
            "           2       1.00      1.00      1.00       177\n",
            "           3       1.00      1.00      1.00       183\n",
            "           4       1.00      1.00      1.00       181\n",
            "           5       1.00      1.00      1.00       182\n",
            "           6       1.00      1.00      1.00       181\n",
            "           7       1.00      1.00      1.00       179\n",
            "           8       1.00      1.00      1.00       174\n",
            "           9       1.00      1.00      1.00       180\n",
            "\n",
            "    accuracy                           1.00      1797\n",
            "   macro avg       1.00      1.00      1.00      1797\n",
            "weighted avg       1.00      1.00      1.00      1797\n",
            "\n",
            "\n",
            "Confusion matrix:\n",
            "[[178   0   0   0   0   0   0   0   0   0]\n",
            " [  0 182   0   0   0   0   0   0   0   0]\n",
            " [  0   0 177   0   0   0   0   0   0   0]\n",
            " [  0   0   0 183   0   0   0   0   0   0]\n",
            " [  0   0   0   0 181   0   0   0   0   0]\n",
            " [  0   0   0   0   0 182   0   0   0   0]\n",
            " [  0   0   0   0   0   0 181   0   0   0]\n",
            " [  0   0   0   0   0   0   0 179   0   0]\n",
            " [  0   0   0   0   0   0   0   0 174   0]\n",
            " [  0   0   0   0   0   0   0   0   0 180]]\n"
          ]
        }
      ],
      "source": [
        "print(\"Classification report for classifier %s:\\n%s\\n\"\n",
        "      % (classifier, metrics.classification_report(expected, predicted)))\n",
        "print(\"Confusion matrix:\\n%s\" % metrics.confusion_matrix(expected, predicted))\n"
      ]
    },
    {
      "cell_type": "markdown",
      "metadata": {
        "id": "neP3xTlXuOE8"
      },
      "source": [
        "## Splitting into Training and Testing Data"
      ]
    },
    {
      "cell_type": "markdown",
      "metadata": {
        "id": "R_8yMtl3uOE8"
      },
      "source": [
        "## Importing Digits data set from SKLearn"
      ]
    },
    {
      "cell_type": "code",
      "execution_count": 11,
      "metadata": {
        "colab": {
          "base_uri": "https://localhost:8080/"
        },
        "id": "k8J-Zzh_uOE9",
        "outputId": "e12ac240-c71a-4c1d-d5c7-2aac3e74871d"
      },
      "outputs": [
        {
          "output_type": "execute_result",
          "data": {
            "text/plain": [
              "sklearn.utils.Bunch"
            ]
          },
          "metadata": {},
          "execution_count": 11
        }
      ],
      "source": [
        "from sklearn.datasets import load_digits\n",
        "\n",
        "new_digit = load_digits()\n",
        "type(new_digit)\n"
      ]
    },
    {
      "cell_type": "code",
      "execution_count": 12,
      "metadata": {
        "colab": {
          "base_uri": "https://localhost:8080/"
        },
        "id": "mknncoFruOE-",
        "outputId": "d2b3faaa-c206-4fa2-c828-4d51aebe099a"
      },
      "outputs": [
        {
          "output_type": "execute_result",
          "data": {
            "text/plain": [
              "(1797, 64)"
            ]
          },
          "metadata": {},
          "execution_count": 12
        }
      ],
      "source": [
        "# View Digits data\n",
        "new_digit.data.shape"
      ]
    },
    {
      "cell_type": "markdown",
      "metadata": {
        "id": "Rk_LqEvDuOE-"
      },
      "source": [
        "**Data Contains 1797 pictures of size 8x8 i.e 64**"
      ]
    },
    {
      "cell_type": "markdown",
      "metadata": {
        "id": "ArPFkCFHuOE_"
      },
      "source": [
        "## Setting Descriptive and Target features ( data = descriptive , target = target in this data set)"
      ]
    },
    {
      "cell_type": "code",
      "execution_count": 13,
      "metadata": {
        "colab": {
          "base_uri": "https://localhost:8080/"
        },
        "id": "_nEXtDsmuOE_",
        "outputId": "484d758e-cd83-4c73-83ab-00c6064c341d"
      },
      "outputs": [
        {
          "output_type": "execute_result",
          "data": {
            "text/plain": [
              "((1797, 64), (1797,))"
            ]
          },
          "metadata": {},
          "execution_count": 13
        }
      ],
      "source": [
        "descriptive_features = new_digit.data\n",
        "target_feature = new_digit.target\n",
        "\n",
        "descriptive_features.shape, target_feature.shape"
      ]
    },
    {
      "cell_type": "markdown",
      "metadata": {
        "id": "XG64cuc-uOFA"
      },
      "source": [
        "## Splitting data"
      ]
    },
    {
      "cell_type": "code",
      "execution_count": 14,
      "metadata": {
        "id": "M4EdH8FnuOFA"
      },
      "outputs": [],
      "source": [
        "from sklearn.model_selection import train_test_split\n",
        "x_train, x_test, y_train, y_test = train_test_split(descriptive_features, target_feature, test_size=1/5, random_state=0)"
      ]
    },
    {
      "cell_type": "code",
      "execution_count": 15,
      "metadata": {
        "colab": {
          "base_uri": "https://localhost:8080/"
        },
        "id": "m0B8XpdiuOFA",
        "outputId": "5b305b67-ad53-4020-ecfb-4e9d605ed3c9"
      },
      "outputs": [
        {
          "output_type": "execute_result",
          "data": {
            "text/plain": [
              "((1437, 64), (360, 64), (1437,), (360,))"
            ]
          },
          "metadata": {},
          "execution_count": 15
        }
      ],
      "source": [
        "x_train.shape, x_test.shape, y_train.shape, y_test.shape "
      ]
    },
    {
      "cell_type": "markdown",
      "metadata": {
        "id": "nSj1KrA0uOFB"
      },
      "source": [
        "## Training Model -  Neural Network"
      ]
    },
    {
      "cell_type": "markdown",
      "metadata": {
        "id": "3Fuy2xYzuOFB"
      },
      "source": [
        "### 10 Hidden Layers"
      ]
    },
    {
      "cell_type": "code",
      "execution_count": 16,
      "metadata": {
        "colab": {
          "base_uri": "https://localhost:8080/"
        },
        "id": "7Zrn7O7kuOFB",
        "outputId": "c45fbf0f-a670-4d93-dd88-4e0965e4d9ab"
      },
      "outputs": [
        {
          "output_type": "stream",
          "name": "stderr",
          "text": [
            "/usr/local/lib/python3.7/dist-packages/sklearn/neural_network/_multilayer_perceptron.py:696: ConvergenceWarning: Stochastic Optimizer: Maximum iterations (200) reached and the optimization hasn't converged yet.\n",
            "  ConvergenceWarning,\n"
          ]
        },
        {
          "output_type": "execute_result",
          "data": {
            "text/plain": [
              "MLPClassifier(hidden_layer_sizes=(10,))"
            ]
          },
          "metadata": {},
          "execution_count": 16
        }
      ],
      "source": [
        "# Create a classifier: \n",
        "\n",
        "classifier_10 = MLPClassifier(hidden_layer_sizes=(10,))\n",
        "\n",
        "# We learn the digits on the first half of the digits\n",
        "classifier_10.fit(x_train, y_train)\n",
        "\n",
        "\n"
      ]
    },
    {
      "cell_type": "markdown",
      "metadata": {
        "id": "E0J-OmccuOFC"
      },
      "source": [
        "## Predicting test data"
      ]
    },
    {
      "cell_type": "code",
      "execution_count": 17,
      "metadata": {
        "id": "BencjtxsuOFC"
      },
      "outputs": [],
      "source": [
        "# Predicting the Test set results\n",
        "y_pred = classifier_10.predict(x_test)\n"
      ]
    },
    {
      "cell_type": "markdown",
      "metadata": {
        "id": "xyORSBJ7uOFD"
      },
      "source": [
        "## Accuracy test"
      ]
    },
    {
      "cell_type": "code",
      "execution_count": 18,
      "metadata": {
        "colab": {
          "base_uri": "https://localhost:8080/"
        },
        "id": "jP3Van6duOFD",
        "outputId": "120399fc-f17f-4f4e-e8aa-1af6ab7a8425"
      },
      "outputs": [
        {
          "output_type": "stream",
          "name": "stdout",
          "text": [
            "acuracy of model is : 0.9111111111111111\n"
          ]
        }
      ],
      "source": [
        "score_10 = classifier_10.score(x_test,y_test)\n",
        "print('acuracy of model is :' , score_10)"
      ]
    },
    {
      "cell_type": "markdown",
      "metadata": {
        "id": "onhW5JGUuOFD"
      },
      "source": [
        "## Training Model -  Neural Network - Hiidden Layers = 100"
      ]
    },
    {
      "cell_type": "code",
      "execution_count": 19,
      "metadata": {
        "colab": {
          "base_uri": "https://localhost:8080/"
        },
        "id": "xFwokNoFuOFE",
        "outputId": "aa4ad6be-e23c-4a66-b726-28b21097f272"
      },
      "outputs": [
        {
          "output_type": "execute_result",
          "data": {
            "text/plain": [
              "MLPClassifier()"
            ]
          },
          "metadata": {},
          "execution_count": 19
        }
      ],
      "source": [
        "# Create a classifier: \n",
        "\n",
        "classifier_100 = MLPClassifier(hidden_layer_sizes=(100,))\n",
        "\n",
        "# We learn the digits on the first half of the digits\n",
        "classifier_100.fit(x_train, y_train)\n",
        "\n",
        "\n"
      ]
    },
    {
      "cell_type": "markdown",
      "metadata": {
        "id": "ATECULw8uOFE"
      },
      "source": [
        "## Predicting test data"
      ]
    },
    {
      "cell_type": "code",
      "execution_count": 20,
      "metadata": {
        "id": "7aaRKXu1uOFF"
      },
      "outputs": [],
      "source": [
        "# Predicting the Test set results\n",
        "y_pred = classifier_100.predict(x_test)\n"
      ]
    },
    {
      "cell_type": "markdown",
      "metadata": {
        "id": "tFfDwqx0uOFF"
      },
      "source": [
        "## Accuracy test"
      ]
    },
    {
      "cell_type": "code",
      "execution_count": 21,
      "metadata": {
        "colab": {
          "base_uri": "https://localhost:8080/"
        },
        "id": "hcH4kKC_uOFF",
        "outputId": "bda84e81-b147-422c-cbcb-551672b78197"
      },
      "outputs": [
        {
          "output_type": "stream",
          "name": "stdout",
          "text": [
            "acuracy of model is : 1.0\n"
          ]
        }
      ],
      "source": [
        "score_100 = classifier.score(x_test,y_test)\n",
        "print('acuracy of model is :' , score_100)"
      ]
    },
    {
      "cell_type": "markdown",
      "metadata": {
        "id": "h6yMBuC0uOFG"
      },
      "source": [
        "## Training Model -  Neural Network - Hiidden Layers = 1000"
      ]
    },
    {
      "cell_type": "code",
      "execution_count": 22,
      "metadata": {
        "colab": {
          "base_uri": "https://localhost:8080/"
        },
        "id": "yfuGKWu9uOFG",
        "outputId": "323763d1-3eb5-459a-e552-d341919dd248"
      },
      "outputs": [
        {
          "output_type": "execute_result",
          "data": {
            "text/plain": [
              "MLPClassifier(hidden_layer_sizes=(1000,))"
            ]
          },
          "metadata": {},
          "execution_count": 22
        }
      ],
      "source": [
        "# Create a classifier: \n",
        "\n",
        "classifier_1000 = MLPClassifier(hidden_layer_sizes=(1000,))\n",
        "\n",
        "# We learn the digits on the first half of the digits\n",
        "classifier_1000.fit(x_train, y_train)\n",
        "\n",
        "\n"
      ]
    },
    {
      "cell_type": "markdown",
      "metadata": {
        "id": "RQjMpVASuOFG"
      },
      "source": [
        "## Predicting test data"
      ]
    },
    {
      "cell_type": "code",
      "execution_count": 23,
      "metadata": {
        "id": "eE1t_P48uOFG"
      },
      "outputs": [],
      "source": [
        "# Predicting the Test set results\n",
        "y_pred = classifier_1000.predict(x_test)\n"
      ]
    },
    {
      "cell_type": "markdown",
      "metadata": {
        "id": "28pFUil5uOFH"
      },
      "source": [
        "## Accuracy test"
      ]
    },
    {
      "cell_type": "code",
      "execution_count": 24,
      "metadata": {
        "colab": {
          "base_uri": "https://localhost:8080/"
        },
        "id": "aO3emGXkuOFH",
        "outputId": "8aa5320d-0dbb-40bc-e07f-34df270404ad"
      },
      "outputs": [
        {
          "output_type": "stream",
          "name": "stdout",
          "text": [
            "acuracy of model is : 0.9805555555555555\n"
          ]
        }
      ],
      "source": [
        "score_1000 = classifier_1000.score(x_test,y_test)\n",
        "print('acuracy of model is :' , score_1000)"
      ]
    },
    {
      "cell_type": "markdown",
      "metadata": {
        "id": "1rUtjB18uOFH"
      },
      "source": [
        "## Training Model -  Neural Network - Hiidden Layers = 10000"
      ]
    },
    {
      "cell_type": "code",
      "execution_count": 25,
      "metadata": {
        "colab": {
          "base_uri": "https://localhost:8080/"
        },
        "id": "5k6TeRubuOFI",
        "outputId": "c6987d5a-7fdb-46b6-a0f2-da9f76b164d1"
      },
      "outputs": [
        {
          "output_type": "execute_result",
          "data": {
            "text/plain": [
              "MLPClassifier(hidden_layer_sizes=(10000,))"
            ]
          },
          "metadata": {},
          "execution_count": 25
        }
      ],
      "source": [
        "# Create a classifier: \n",
        "\n",
        "classifier_10000 = MLPClassifier(hidden_layer_sizes=(10000,))\n",
        "\n",
        "# We learn the digits on the first half of the digits\n",
        "classifier_10000.fit(x_train, y_train)\n",
        "\n",
        "\n"
      ]
    },
    {
      "cell_type": "markdown",
      "metadata": {
        "id": "l7tYa2utuOFI"
      },
      "source": [
        "## Predicting test data"
      ]
    },
    {
      "cell_type": "code",
      "execution_count": 26,
      "metadata": {
        "id": "Jg7uVZOwuOFI"
      },
      "outputs": [],
      "source": [
        "# Predicting the Test set results\n",
        "y_pred = classifier_10000.predict(x_test)\n"
      ]
    },
    {
      "cell_type": "markdown",
      "metadata": {
        "id": "ync4NNVruOFJ"
      },
      "source": [
        "## Accuracy test"
      ]
    },
    {
      "cell_type": "code",
      "execution_count": 27,
      "metadata": {
        "colab": {
          "base_uri": "https://localhost:8080/"
        },
        "id": "9jHhzEPHuOFJ",
        "outputId": "1fe9d103-cc0b-4627-d818-4e26bbd0e01c"
      },
      "outputs": [
        {
          "output_type": "stream",
          "name": "stdout",
          "text": [
            "acuracy of model is : 0.9861111111111112\n"
          ]
        }
      ],
      "source": [
        "score_10000 = classifier_10000.score(x_test,y_test)\n",
        "print('acuracy of model is :' , score_10000)"
      ]
    },
    {
      "cell_type": "markdown",
      "metadata": {
        "id": "SHgOQt_tuOFJ"
      },
      "source": [
        "## Training Model -  Neural Network - Hiidden Layers = 100000"
      ]
    },
    {
      "cell_type": "code",
      "execution_count": 28,
      "metadata": {
        "colab": {
          "base_uri": "https://localhost:8080/"
        },
        "id": "a4xvdsiTuOFK",
        "outputId": "83e7217b-e621-4c88-8bf0-0931b172fd39"
      },
      "outputs": [
        {
          "output_type": "execute_result",
          "data": {
            "text/plain": [
              "MLPClassifier(hidden_layer_sizes=(100000,))"
            ]
          },
          "metadata": {},
          "execution_count": 28
        }
      ],
      "source": [
        "# Create a classifier: \n",
        "\n",
        "classifier_100000 = MLPClassifier(hidden_layer_sizes=(100000,))\n",
        "\n",
        "# We learn the digits on the first half of the digits\n",
        "classifier_100000.fit(x_train, y_train)\n",
        "\n",
        "\n"
      ]
    },
    {
      "cell_type": "markdown",
      "metadata": {
        "id": "EPCBno8OuOFK"
      },
      "source": [
        "## Predicting test data"
      ]
    },
    {
      "cell_type": "code",
      "execution_count": 29,
      "metadata": {
        "id": "h_eo9lHruOFK"
      },
      "outputs": [],
      "source": [
        "# Predicting the Test set results\n",
        "y_pred = classifier_100000.predict(x_test)\n"
      ]
    },
    {
      "cell_type": "markdown",
      "metadata": {
        "id": "ukcLVKJ4uOFK"
      },
      "source": [
        "## Accuracy test"
      ]
    },
    {
      "cell_type": "code",
      "execution_count": 30,
      "metadata": {
        "colab": {
          "base_uri": "https://localhost:8080/"
        },
        "id": "ErnFlQbruOFL",
        "outputId": "0e0115cd-0538-4ccb-d566-13bea68ebec5"
      },
      "outputs": [
        {
          "output_type": "stream",
          "name": "stdout",
          "text": [
            "acuracy of model is : 0.9805555555555555\n"
          ]
        }
      ],
      "source": [
        "score_100000 = classifier_100000.score(x_test,y_test)\n",
        "print('acuracy of model is :' , score_100000)"
      ]
    },
    {
      "cell_type": "code",
      "execution_count": 31,
      "metadata": {
        "id": "pyvmo38kuOFL"
      },
      "outputs": [],
      "source": [
        "x =[10,100,1000,10000,100000]\n",
        "y =[score_10,score_100,score_1000,score_10000,score_100000]"
      ]
    },
    {
      "cell_type": "code",
      "execution_count": 32,
      "metadata": {
        "colab": {
          "base_uri": "https://localhost:8080/",
          "height": 388
        },
        "id": "RB4dweUFuOFM",
        "outputId": "406b7058-fb48-4325-e8f2-457917179230"
      },
      "outputs": [
        {
          "output_type": "display_data",
          "data": {
            "image/png": "[encoded data removed]",
            "text/plain": [
              "<Figure size 1008x432 with 1 Axes>"
            ]
          },
          "metadata": {
            "needs_background": "light"
          }
        }
      ],
      "source": [
        "import seaborn as sns\n",
        "plt.figure(figsize=(14,6))\n",
        "a =sns.lineplot(x=x, y=y, ci=None)\n",
        "a.set(xlabel='Number of Hidden Layers', ylabel='Accuracy')\n",
        "plt.show()"
      ]
    },
    {
      "cell_type": "markdown",
      "metadata": {
        "id": "pgltsPoguOFM"
      },
      "source": [
        "## Confusion Matrix\n"
      ]
    },
    {
      "cell_type": "code",
      "execution_count": 33,
      "metadata": {
        "colab": {
          "base_uri": "https://localhost:8080/"
        },
        "id": "VOIOvP7-uOFM",
        "outputId": "bd4ca444-2cba-4c3f-96f2-c0d0e4e24d0d"
      },
      "outputs": [
        {
          "output_type": "execute_result",
          "data": {
            "text/plain": [
              "array([[27,  0,  0,  0,  0,  0,  0,  0,  0,  0],\n",
              "       [ 0, 34,  0,  0,  0,  0,  0,  0,  1,  0],\n",
              "       [ 0,  0, 36,  0,  0,  0,  0,  0,  0,  0],\n",
              "       [ 0,  0,  0, 29,  0,  0,  0,  0,  0,  0],\n",
              "       [ 0,  0,  0,  0, 29,  0,  0,  1,  0,  0],\n",
              "       [ 0,  0,  0,  0,  0, 39,  0,  0,  0,  1],\n",
              "       [ 0,  1,  0,  0,  0,  0, 43,  0,  0,  0],\n",
              "       [ 0,  0,  0,  0,  0,  0,  0, 39,  0,  0],\n",
              "       [ 0,  1,  0,  0,  0,  0,  0,  0, 38,  0],\n",
              "       [ 0,  0,  0,  0,  0,  1,  0,  1,  0, 39]])"
            ]
          },
          "metadata": {},
          "execution_count": 33
        }
      ],
      "source": [
        "from sklearn.metrics import confusion_matrix\n",
        "cm = confusion_matrix(y_test,y_pred)\n",
        "cm"
      ]
    },
    {
      "cell_type": "markdown",
      "metadata": {
        "id": "LigatpS4uOFN"
      },
      "source": [
        "## Creating HEATMAP to understand Confusion matrix"
      ]
    },
    {
      "cell_type": "code",
      "execution_count": 34,
      "metadata": {
        "colab": {
          "base_uri": "https://localhost:8080/",
          "height": 624
        },
        "id": "IFvDyPksuOFN",
        "outputId": "b0624b79-c733-48a5-ca72-1d2cd3a8380d"
      },
      "outputs": [
        {
          "output_type": "execute_result",
          "data": {
            "text/plain": [
              "Text(0.5, 1.0, 'Accuracy score : 0.9805555555555555')"
            ]
          },
          "metadata": {},
          "execution_count": 34
        },
        {
          "output_type": "display_data",
          "data": {
            "image/png": "[encoded data removed]",
            "text/plain": [
              "<Figure size 864x720 with 2 Axes>"
            ]
          },
          "metadata": {}
        }
      ],
      "source": [
        "sns.set_style(style='whitegrid')\n",
        "plt.figure(figsize=(12,10))\n",
        "sns.heatmap(cm, annot = True,)\n",
        "plt.ylabel = 'Actual Output'\n",
        "plt.xlabel = 'Predicted Output'\n",
        "cm_title = 'Accuracy score : {0}'.format(score_1000)\n",
        "plt.title(cm_title)"
      ]
    },
    {
      "cell_type": "markdown",
      "metadata": {
        "id": "tN0gMexnuOFN"
      },
      "source": [
        "## Getting Misclassified Labels"
      ]
    },
    {
      "cell_type": "code",
      "execution_count": 35,
      "metadata": {
        "id": "RMyIUFV0uOFN"
      },
      "outputs": [],
      "source": [
        "import numpy as np \n",
        "import matplotlib.pyplot as plt\n",
        "index = 0\n",
        "misclassifiedIndexes = []\n",
        "for label, predict in zip(y_test, y_pred):\n",
        " if label != predict: \n",
        "  misclassifiedIndexes.append(index)\n",
        "  index +=1"
      ]
    },
    {
      "cell_type": "code",
      "execution_count": 36,
      "metadata": {
        "colab": {
          "base_uri": "https://localhost:8080/"
        },
        "id": "gImU7-f8uOFO",
        "outputId": "b49a9434-d799-46df-b495-f09cbd61b132"
      },
      "outputs": [
        {
          "output_type": "stream",
          "name": "stdout",
          "text": [
            "indicies of missclssified data [118, 124, 130, 143, 181, 315, 331]\n",
            "number of missclassified pictures : 7\n"
          ]
        }
      ],
      "source": [
        "index = 0\n",
        "misclassified_indicies = []\n",
        "for label, predict in zip(y_test,y_pred):\n",
        "    if label != predict:\n",
        "        #print(index,label,predict) #Debugging\n",
        "        misclassified_indicies.append(index)\n",
        "    index = index +1\n",
        "number_of_missclassified_data =len(misclassified_indicies)\n",
        "print('indicies of missclssified data', misclassified_indicies)\n",
        "print('number of missclassified pictures :',number_of_missclassified_data )"
      ]
    },
    {
      "cell_type": "markdown",
      "metadata": {
        "id": "tBXHHznyuOFO"
      },
      "source": [
        "## Plotting Missclassified Lables with Real Lables"
      ]
    },
    {
      "cell_type": "code",
      "execution_count": 37,
      "metadata": {
        "colab": {
          "base_uri": "https://localhost:8080/",
          "height": 177
        },
        "id": "lLLmQnb9uOFO",
        "outputId": "2494eb28-1007-4cad-f066-5083eec45334"
      },
      "outputs": [
        {
          "output_type": "display_data",
          "data": {
            "image/png": "[encoded data removed]",
            "text/plain": [
              "<Figure size 1440x288 with 7 Axes>"
            ]
          },
          "metadata": {}
        }
      ],
      "source": [
        "sns.set_style(style='whitegrid')\n",
        "plt.figure(figsize=(20,4))\n",
        "for plotindex, badindex in enumerate(misclassified_indicies):\n",
        "    plt.subplot(1,number_of_missclassified_data, plotindex+1)\n",
        "    plt.imshow(np.reshape(x_test[badindex],(8,8)), cmap=plt.cm.gray)\n",
        "    plt.title('x:{}, y:{}'.format(y_test[badindex],y_pred[badindex]), fontsize =20)# predicted =y ; actual =x\n",
        "\n",
        "    "
      ]
    }
  ],
  "metadata": {
    "interpreter": {
      "hash": "1966dafd80ff2ad7b71103e2924f5fe8b232f86773653e465ec1741b67332d79"
    },
    "kernelspec": {
      "display_name": "Python 3.9.7 64-bit ('base': conda)",
      "language": "python",
      "name": "python3"
    },
    "language_info": {
      "codemirror_mode": {
        "name": "ipython",
        "version": 3
      },
      "file_extension": ".py",
      "mimetype": "text/x-python",
      "name": "python",
      "nbconvert_exporter": "python",
      "pygments_lexer": "ipython3",
      "version": "3.9.7"
    },
    "orig_nbformat": 4,
    "colab": {
      "name": "Neural_Network.ipynb",
      "provenance": []
    },
    "accelerator": "GPU"
  },
  "nbformat": 4,
  "nbformat_minor": 0
}