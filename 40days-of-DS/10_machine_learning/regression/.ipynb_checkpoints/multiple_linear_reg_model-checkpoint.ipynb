{
 "cells": [
  {
   "cell_type": "markdown",
   "id": "5503e11e",
   "metadata": {},
   "source": [
    "# Multiple Linear Regression\n",
    "\n",
    "* More than **two variables**\n",
    "* **Multiple independent variables** and **one dependent variable**"
   ]
  },
  {
   "cell_type": "code",
   "execution_count": null,
   "id": "ee6ddb9a",
   "metadata": {},
   "outputs": [],
   "source": [
    "# Import libraries\n",
    "import numpy as np\n",
    "import pandas as pd\n",
    "import seaborn as sns\n",
    "import matplotlib.pyplot as plt\n",
    "from sklearn.linear_model import LinearRegression\n",
    "from sklearn.model_selection import train_test_split\n",
    "from sklearn.metrics import mean_squared_error"
   ]
  },
  {
   "cell_type": "markdown",
   "id": "816adbba",
   "metadata": {},
   "source": [
    "# Import Dataset"
   ]
  },
  {
   "cell_type": "code",
   "execution_count": null,
   "id": "9cccaeee",
   "metadata": {},
   "outputs": [],
   "source": [
    "# Load data\n",
    "df = pd.read_csv('../../datasets/ml_data_salary.csv')\n",
    "df.head()"
   ]
  },
  {
   "cell_type": "markdown",
   "id": "85cd6d71",
   "metadata": {},
   "source": [
    "## Split Data into Train and Test"
   ]
  },
  {
   "cell_type": "code",
   "execution_count": null,
   "id": "ea3fa4ef",
   "metadata": {},
   "outputs": [],
   "source": [
    "# Split data into input (X) and output (y)\n",
    "X = df[['age', 'distance', 'YearsExperience']]\n",
    "y = df['Salary']"
   ]
  },
  {
   "cell_type": "code",
   "execution_count": null,
   "id": "7675fa88",
   "metadata": {},
   "outputs": [],
   "source": [
    "X.head()"
   ]
  },
  {
   "cell_type": "code",
   "execution_count": null,
   "id": "64969063",
   "metadata": {},
   "outputs": [],
   "source": [
    "y.head()"
   ]
  },
  {
   "cell_type": "code",
   "execution_count": null,
   "id": "14fa269c",
   "metadata": {},
   "outputs": [],
   "source": [
    "# Split data into train and test\n",
    "X_train, X_test, y_train, y_test = train_test_split(X, y, test_size=0.2, random_state=0)"
   ]
  },
  {
   "cell_type": "code",
   "execution_count": null,
   "id": "aa1fda22",
   "metadata": {},
   "outputs": [],
   "source": [
    "# View training dataset\n",
    "print(f'Training inputs:\\n{X_train.head()}')\n",
    "print(f'Training outputs:\\n{y_train.head()}')\n",
    "print(f'Training input shape: {X_train.shape}')\n",
    "print(f'Training input shape: {y_train.shape}')"
   ]
  },
  {
   "cell_type": "markdown",
   "id": "9f659683",
   "metadata": {},
   "source": [
    "## Fit Linear Regression Model"
   ]
  },
  {
   "cell_type": "code",
   "execution_count": null,
   "id": "a612d9ae",
   "metadata": {},
   "outputs": [],
   "source": [
    "# Create model\n",
    "model = LinearRegression()\n",
    "# Fit model\n",
    "model = model.fit(X_train, y_train)\n",
    "print('Training completed!!')"
   ]
  },
  {
   "cell_type": "code",
   "execution_count": null,
   "id": "3a2b763c",
   "metadata": {},
   "outputs": [],
   "source": [
    "# Find coefficient\n",
    "m1, m2, m3 = model.coef_\n",
    "\n",
    "print(f'First coefficient: {m1}')\n",
    "print(f'Second coefficient: {m2}')\n",
    "print(f'Third coefficient: {m3}')"
   ]
  },
  {
   "cell_type": "code",
   "execution_count": null,
   "id": "391604e8",
   "metadata": {},
   "outputs": [],
   "source": [
    "# Find interception\n",
    "interception = model.intercept_\n",
    "print(f'Interception: {interception}')"
   ]
  },
  {
   "cell_type": "markdown",
   "id": "718917ec",
   "metadata": {},
   "source": [
    "## Make Predictions"
   ]
  },
  {
   "cell_type": "code",
   "execution_count": null,
   "id": "96fa3cb2",
   "metadata": {},
   "outputs": [],
   "source": [
    "y_preds = model.predict(X_test)\n",
    "y_preds[:10] # first 10 predictions"
   ]
  },
  {
   "cell_type": "markdown",
   "id": "abb37cb8",
   "metadata": {},
   "source": [
    "## Plotting"
   ]
  },
  {
   "cell_type": "code",
   "execution_count": null,
   "id": "f192cdbd",
   "metadata": {},
   "outputs": [],
   "source": [
    "# Draw multi linear regression on test labels\n",
    "sns.regplot(x=y_test, y=y_preds, ci=None, color='b')\n",
    "plt.xlabel('age, distance, YearsExperience')\n",
    "plt.ylabel('Salary')\n",
    "plt.title('Salary based on Age, Distance and Experience')\n",
    "plt.show();"
   ]
  },
  {
   "cell_type": "markdown",
   "id": "51d567cd",
   "metadata": {},
   "source": [
    "# Evaluate Model"
   ]
  },
  {
   "cell_type": "code",
   "execution_count": null,
   "id": "5cdde942",
   "metadata": {},
   "outputs": [],
   "source": [
    "print(f'Train score: {model.score(X_train, y_train):.2f}')\n",
    "print(f'Test score: {model.score(X_test, y_test):.2f}')\n",
    "print(f'Model RMSE: {np.sqrt(mean_squared_error(y_test, y_preds)):.2f}')"
   ]
  }
 ],
 "metadata": {
  "kernelspec": {
   "display_name": "Python 3 (ipykernel)",
   "language": "python",
   "name": "python3"
  },
  "language_info": {
   "codemirror_mode": {
    "name": "ipython",
    "version": 3
   },
   "file_extension": ".py",
   "mimetype": "text/x-python",
   "name": "python",
   "nbconvert_exporter": "python",
   "pygments_lexer": "ipython3",
   "version": "3.9.5"
  }
 },
 "nbformat": 4,
 "nbformat_minor": 5
}
