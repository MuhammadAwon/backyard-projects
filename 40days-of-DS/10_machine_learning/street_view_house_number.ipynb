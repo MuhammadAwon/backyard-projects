{
 "cells": [
  {
   "cell_type": "markdown",
   "id": "f552a5e8",
   "metadata": {
    "papermill": {
     "duration": 0.018669,
     "end_time": "2022-01-29T03:14:34.452255",
     "exception": false,
     "start_time": "2022-01-29T03:14:34.433586",
     "status": "completed"
    },
    "tags": []
   },
   "source": [
    "## Introduction to image classification\n",
    "\n",
    "This tutorial is an introduction of machine learning with scikit learn in which we will build image recognition classifier to determines the house number displayed in images from Google Street View."
   ]
  },
  {
   "cell_type": "markdown",
   "id": "48aa559d",
   "metadata": {
    "papermill": {
     "duration": 0.014299,
     "end_time": "2022-01-29T03:14:34.483146",
     "exception": false,
     "start_time": "2022-01-29T03:14:34.468847",
     "status": "completed"
    },
    "tags": []
   },
   "source": [
    "## Feature processing\n",
    "First thing is to understand and become one with the data, and for this purpose we can start by loading and viewing the image files. We begin with importing required libraries."
   ]
  },
  {
   "cell_type": "code",
   "execution_count": 1,
   "id": "e44f3a79",
   "metadata": {
    "execution": {
     "iopub.execute_input": "2022-01-29T03:14:34.528348Z",
     "iopub.status.busy": "2022-01-29T03:14:34.527112Z",
     "iopub.status.idle": "2022-01-29T03:14:34.652949Z",
     "shell.execute_reply": "2022-01-29T03:14:34.651829Z",
     "shell.execute_reply.started": "2022-01-29T01:31:14.369405Z"
    },
    "papermill": {
     "duration": 0.155148,
     "end_time": "2022-01-29T03:14:34.653116",
     "exception": false,
     "start_time": "2022-01-29T03:14:34.497968",
     "status": "completed"
    },
    "tags": []
   },
   "outputs": [],
   "source": [
    "import scipy.io\n",
    "import numpy as np\n",
    "import matplotlib.pyplot as plt\n",
    "%matplotlib inline"
   ]
  },
  {
   "cell_type": "markdown",
   "id": "4e5eb69d",
   "metadata": {
    "papermill": {
     "duration": 0.014134,
     "end_time": "2022-01-29T03:14:34.681941",
     "exception": false,
     "start_time": "2022-01-29T03:14:34.667807",
     "status": "completed"
    },
    "tags": []
   },
   "source": [
    "Next, loading the training dataset.\n",
    "\n",
    "**The dataset can be downloaded from [here](https://www.kaggle.com/khanhvudo72/svhncropped)"
   ]
  },
  {
   "cell_type": "code",
   "execution_count": 2,
   "id": "75cfb3d1",
   "metadata": {
    "execution": {
     "iopub.execute_input": "2022-01-29T03:14:34.716097Z",
     "iopub.status.busy": "2022-01-29T03:14:34.715348Z",
     "iopub.status.idle": "2022-01-29T03:14:58.765661Z",
     "shell.execute_reply": "2022-01-29T03:14:58.765025Z",
     "shell.execute_reply.started": "2022-01-29T01:31:42.473208Z"
    },
    "papermill": {
     "duration": 24.069548,
     "end_time": "2022-01-29T03:14:58.765945",
     "exception": false,
     "start_time": "2022-01-29T03:14:34.696397",
     "status": "completed"
    },
    "tags": []
   },
   "outputs": [],
   "source": [
    "# load dataset\n",
    "train_data = scipy.io.loadmat('../input/svhncropped/extra_32x32.mat')"
   ]
  },
  {
   "cell_type": "code",
   "execution_count": 3,
   "id": "995a0246",
   "metadata": {
    "execution": {
     "iopub.execute_input": "2022-01-29T03:14:58.800086Z",
     "iopub.status.busy": "2022-01-29T03:14:58.799349Z",
     "iopub.status.idle": "2022-01-29T03:14:58.803675Z",
     "shell.execute_reply": "2022-01-29T03:14:58.803118Z",
     "shell.execute_reply.started": "2022-01-29T02:37:26.748742Z"
    },
    "papermill": {
     "duration": 0.023333,
     "end_time": "2022-01-29T03:14:58.803902",
     "exception": false,
     "start_time": "2022-01-29T03:14:58.780569",
     "status": "completed"
    },
    "tags": []
   },
   "outputs": [],
   "source": [
    "# extract the images and labels from the dictionary object\n",
    "X = train_data['X']\n",
    "y = train_data['y']"
   ]
  },
  {
   "cell_type": "code",
   "execution_count": 4,
   "id": "3e78d3c0",
   "metadata": {
    "execution": {
     "iopub.execute_input": "2022-01-29T03:14:58.840863Z",
     "iopub.status.busy": "2022-01-29T03:14:58.839827Z",
     "iopub.status.idle": "2022-01-29T03:14:58.847866Z",
     "shell.execute_reply": "2022-01-29T03:14:58.848367Z",
     "shell.execute_reply.started": "2022-01-29T02:37:27.991521Z"
    },
    "papermill": {
     "duration": 0.030311,
     "end_time": "2022-01-29T03:14:58.848573",
     "exception": false,
     "start_time": "2022-01-29T03:14:58.818262",
     "status": "completed"
    },
    "tags": []
   },
   "outputs": [
    {
     "data": {
      "text/plain": [
       "((32, 32, 3, 531131),\n",
       " 4,\n",
       " array([[[ 80,  76,  75, ..., 191, 188, 189],\n",
       "         [ 32,  33,  32, ..., 192, 192, 191],\n",
       "         [ 26,  25,  22, ..., 194, 195, 196]],\n",
       " \n",
       "        [[ 80,  78,  75, ..., 191, 188, 189],\n",
       "         [ 33,  35,  33, ..., 192, 192, 192],\n",
       "         [ 26,  26,  22, ..., 194, 195, 197]],\n",
       " \n",
       "        [[ 79,  79,  77, ..., 191, 188, 188],\n",
       "         [ 33,  36,  34, ..., 192, 192, 191],\n",
       "         [ 26,  27,  25, ..., 194, 195, 196]],\n",
       " \n",
       "        ...,\n",
       " \n",
       "        [[ 98,  66,  72, ..., 196, 199, 190],\n",
       "         [ 67,  30,  33, ..., 198, 203, 195],\n",
       "         [ 59,  30,  26, ..., 199, 204, 198]],\n",
       " \n",
       "        [[ 67,  65,  72, ..., 195, 208, 191],\n",
       "         [ 34,  30,  33, ..., 195, 210, 195],\n",
       "         [ 26,  32,  28, ..., 193, 210, 198]],\n",
       " \n",
       "        [[ 68,  64,  75, ..., 190, 216, 191],\n",
       "         [ 28,  33,  34, ..., 191, 217, 195],\n",
       "         [ 22,  32,  31, ..., 187, 216, 198]]], dtype=uint8))"
      ]
     },
     "execution_count": 4,
     "metadata": {},
     "output_type": "execute_result"
    }
   ],
   "source": [
    "# View X (first image)\n",
    "X.shape, X.ndim, X[0]"
   ]
  },
  {
   "cell_type": "code",
   "execution_count": 5,
   "id": "37c2acca",
   "metadata": {
    "execution": {
     "iopub.execute_input": "2022-01-29T03:14:58.885743Z",
     "iopub.status.busy": "2022-01-29T03:14:58.884872Z",
     "iopub.status.idle": "2022-01-29T03:14:58.888398Z",
     "shell.execute_reply": "2022-01-29T03:14:58.888960Z",
     "shell.execute_reply.started": "2022-01-29T02:37:31.176833Z"
    },
    "papermill": {
     "duration": 0.025155,
     "end_time": "2022-01-29T03:14:58.889119",
     "exception": false,
     "start_time": "2022-01-29T03:14:58.863964",
     "status": "completed"
    },
    "tags": []
   },
   "outputs": [
    {
     "data": {
      "text/plain": [
       "((531131, 1), 2, array([4], dtype=uint8))"
      ]
     },
     "execution_count": 5,
     "metadata": {},
     "output_type": "execute_result"
    }
   ],
   "source": [
    "# View y (first label)\n",
    "y.shape, y.ndim, y[0]"
   ]
  },
  {
   "cell_type": "markdown",
   "id": "f7bb3460",
   "metadata": {
    "papermill": {
     "duration": 0.014338,
     "end_time": "2022-01-29T03:14:58.918369",
     "exception": false,
     "start_time": "2022-01-29T03:14:58.904031",
     "status": "completed"
    },
    "tags": []
   },
   "source": [
    "Images are 4D and their labels are 1D matrix respectively, so to access the i-th image in our dataset we would be looking for X[:,:,:,i], and its label would be y[i].\n",
    "\n",
    "How about plotting an image at 25 index?"
   ]
  },
  {
   "cell_type": "code",
   "execution_count": 6,
   "id": "6e471f64",
   "metadata": {
    "execution": {
     "iopub.execute_input": "2022-01-29T03:14:58.973358Z",
     "iopub.status.busy": "2022-01-29T03:14:58.972600Z",
     "iopub.status.idle": "2022-01-29T03:14:59.118964Z",
     "shell.execute_reply": "2022-01-29T03:14:59.118312Z",
     "shell.execute_reply.started": "2022-01-29T02:38:01.341124Z"
    },
    "papermill": {
     "duration": 0.185342,
     "end_time": "2022-01-29T03:14:59.119129",
     "exception": false,
     "start_time": "2022-01-29T03:14:58.933787",
     "status": "completed"
    },
    "tags": []
   },
   "outputs": [
    {
     "data": {
      "image/png": "[encoded data removed]",
      "text/plain": [
       "<Figure size 432x288 with 1 Axes>"
      ]
     },
     "metadata": {
      "needs_background": "light"
     },
     "output_type": "display_data"
    }
   ],
   "source": [
    "# view an image (e.g. 25) and print its corresponding label\n",
    "img_index = 25\n",
    "plt.imshow(X[:,:,:,img_index])\n",
    "plt.title(f'Image Number: {y[img_index]}')\n",
    "plt.axis(False)\n",
    "plt.show()"
   ]
  },
  {
   "cell_type": "markdown",
   "id": "c1b1ee59",
   "metadata": {
    "papermill": {
     "duration": 0.016036,
     "end_time": "2022-01-29T03:14:59.151281",
     "exception": false,
     "start_time": "2022-01-29T03:14:59.135245",
     "status": "completed"
    },
    "tags": []
   },
   "source": [
    "As we can see, we load up an image showing house number 6 and the label also printed 6. We can change image simply by replacing index of the image (to any number between 0 and 531130).\n",
    "\n",
    "However, to use these images with a machine learning algorithm, we first need to vectorise them and reshape each image into 3D (heigth x width x color channels)."
   ]
  },
  {
   "cell_type": "code",
   "execution_count": 7,
   "id": "389434dd",
   "metadata": {
    "execution": {
     "iopub.execute_input": "2022-01-29T03:14:59.190909Z",
     "iopub.status.busy": "2022-01-29T03:14:59.189958Z",
     "iopub.status.idle": "2022-01-29T03:15:42.726861Z",
     "shell.execute_reply": "2022-01-29T03:15:42.727364Z",
     "shell.execute_reply.started": "2022-01-29T01:33:22.104916Z"
    },
    "papermill": {
     "duration": 43.560031,
     "end_time": "2022-01-29T03:15:42.727590",
     "exception": false,
     "start_time": "2022-01-29T03:14:59.167559",
     "status": "completed"
    },
    "tags": []
   },
   "outputs": [],
   "source": [
    "# Reshape data and shuffle it\n",
    "from sklearn.utils import shuffle\n",
    "\n",
    "X = X.reshape(X.shape[0]*X.shape[1]*X.shape[2], X.shape[3]).T\n",
    "y = y.reshape(y.shape[0],)\n",
    "X, y = shuffle(X, y, random_state=42)"
   ]
  },
  {
   "cell_type": "markdown",
   "id": "9afd5766",
   "metadata": {
    "papermill": {
     "duration": 0.015337,
     "end_time": "2022-01-29T03:15:42.758958",
     "exception": false,
     "start_time": "2022-01-29T03:15:42.743621",
     "status": "completed"
    },
    "tags": []
   },
   "source": [
    "We also shuffle the dataset just to be sure there no underlying distributions. For reproducibility, we set `random_state` as well."
   ]
  },
  {
   "cell_type": "markdown",
   "id": "7a9b52ae",
   "metadata": {
    "papermill": {
     "duration": 0.015679,
     "end_time": "2022-01-29T03:15:42.790185",
     "exception": false,
     "start_time": "2022-01-29T03:15:42.774506",
     "status": "completed"
    },
    "tags": []
   },
   "source": [
    "## Training the model\n",
    "\n",
    "Now that we have our images ready for training but we need to decide which machine learning algorithm to use. We don't explicitly program an algorithm ourselves -- thanks to the machine learning frameworks like Scikit-learn that does all the heavy lifting for us.\n",
    "\n",
    "We will use Random Forest approach with default hyperparameter for our image classification purpose. Random Forest are a collection of multiple decision trees with an output that averages the results of individual trees to prevent overfitting, and this make Random Forest robust. Of course, there are pros and cons of every scikit-learn algorithms but we won't get into that detail.\n",
    "\n",
    "We then split our data into 80% training and 20% test sets and train our classifier."
   ]
  },
  {
   "cell_type": "code",
   "execution_count": 8,
   "id": "fc9e08f2",
   "metadata": {
    "execution": {
     "iopub.execute_input": "2022-01-29T03:15:42.828492Z",
     "iopub.status.busy": "2022-01-29T03:15:42.827606Z",
     "iopub.status.idle": "2022-01-29T03:15:43.592008Z",
     "shell.execute_reply": "2022-01-29T03:15:43.591056Z",
     "shell.execute_reply.started": "2022-01-29T01:34:16.383982Z"
    },
    "papermill": {
     "duration": 0.785744,
     "end_time": "2022-01-29T03:15:43.592166",
     "exception": false,
     "start_time": "2022-01-29T03:15:42.806422",
     "status": "completed"
    },
    "tags": []
   },
   "outputs": [],
   "source": [
    "# Spilt the data\n",
    "from sklearn.model_selection import train_test_split\n",
    "\n",
    "X_train, X_test, y_train, y_test = train_test_split(X, y,\n",
    "                                                    test_size=0.2,\n",
    "                                                    random_state=42)"
   ]
  },
  {
   "cell_type": "code",
   "execution_count": 9,
   "id": "7d189303",
   "metadata": {
    "execution": {
     "iopub.execute_input": "2022-01-29T03:15:43.629103Z",
     "iopub.status.busy": "2022-01-29T03:15:43.628261Z",
     "iopub.status.idle": "2022-01-29T04:03:08.847528Z",
     "shell.execute_reply": "2022-01-29T04:03:08.848096Z",
     "shell.execute_reply.started": "2022-01-29T01:35:19.376354Z"
    },
    "papermill": {
     "duration": 2845.240051,
     "end_time": "2022-01-29T04:03:08.848279",
     "exception": false,
     "start_time": "2022-01-29T03:15:43.608228",
     "status": "completed"
    },
    "tags": []
   },
   "outputs": [
    {
     "data": {
      "text/plain": [
       "RandomForestClassifier()"
      ]
     },
     "execution_count": 9,
     "metadata": {},
     "output_type": "execute_result"
    }
   ],
   "source": [
    "# Instantiate Random Forest Classifier and train it\n",
    "from sklearn.ensemble import RandomForestClassifier\n",
    "\n",
    "clf = RandomForestClassifier()\n",
    "clf.fit(X_train, y_train)"
   ]
  },
  {
   "cell_type": "markdown",
   "id": "b39f10b0",
   "metadata": {
    "papermill": {
     "duration": 0.016162,
     "end_time": "2022-01-29T04:03:08.880295",
     "exception": false,
     "start_time": "2022-01-29T04:03:08.864133",
     "status": "completed"
    },
    "tags": []
   },
   "source": [
    "## Test results\n",
    "\n",
    "Lets make our model predictions and find out the performance on accuracy score."
   ]
  },
  {
   "cell_type": "code",
   "execution_count": 10,
   "id": "07dfab94",
   "metadata": {
    "execution": {
     "iopub.execute_input": "2022-01-29T04:03:08.918682Z",
     "iopub.status.busy": "2022-01-29T04:03:08.917490Z",
     "iopub.status.idle": "2022-01-29T04:03:21.848581Z",
     "shell.execute_reply": "2022-01-29T04:03:21.849399Z",
     "shell.execute_reply.started": "2022-01-29T02:18:25.287087Z"
    },
    "papermill": {
     "duration": 12.953204,
     "end_time": "2022-01-29T04:03:21.849625",
     "exception": false,
     "start_time": "2022-01-29T04:03:08.896421",
     "status": "completed"
    },
    "tags": []
   },
   "outputs": [
    {
     "name": "stdout",
     "output_type": "stream",
     "text": [
      "Accuracy: 0.8605251019044122\n"
     ]
    }
   ],
   "source": [
    "# Check accuracy score\n",
    "from sklearn.metrics import accuracy_score\n",
    "preds = clf.predict(X_test)\n",
    "print(f'Accuracy: {accuracy_score(y_test,preds)}')"
   ]
  },
  {
   "cell_type": "markdown",
   "id": "9668f371",
   "metadata": {
    "papermill": {
     "duration": 0.018533,
     "end_time": "2022-01-29T04:03:21.885048",
     "exception": false,
     "start_time": "2022-01-29T04:03:21.866515",
     "status": "completed"
    },
    "tags": []
   },
   "source": [
    "So our model has learnt how to classify house numbers from Google Stree View with ~86% accuracy just after training on few hundred thousand examples. Still the classifier can be improved further, but it's a great result for using the algorithm with default hyperparameters!!"
   ]
  }
 ],
 "metadata": {
  "kernelspec": {
   "display_name": "Python 3 (ipykernel)",
   "language": "python",
   "name": "python3"
  },
  "language_info": {
   "codemirror_mode": {
    "name": "ipython",
    "version": 3
   },
   "file_extension": ".py",
   "mimetype": "text/x-python",
   "name": "python",
   "nbconvert_exporter": "python",
   "pygments_lexer": "ipython3",
   "version": "3.9.5"
  },
  "papermill": {
   "default_parameters": {},
   "duration": 2937.754411,
   "end_time": "2022-01-29T04:03:22.826581",
   "environment_variables": {},
   "exception": null,
   "input_path": "__notebook__.ipynb",
   "output_path": "__notebook__.ipynb",
   "parameters": {},
   "start_time": "2022-01-29T03:14:25.072170",
   "version": "2.3.3"
  }
 },
 "nbformat": 4,
 "nbformat_minor": 5
}
