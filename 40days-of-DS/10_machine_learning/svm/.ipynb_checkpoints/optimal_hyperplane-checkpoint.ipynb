{
 "cells": [
  {
   "cell_type": "markdown",
   "id": "5e52bd7c",
   "metadata": {},
   "source": [
    "# How to find the optimal hyperplane?\n",
    "\n",
    "A hyperplane is a decision boundary that differentiates the two classes in SVM, and the hyperplane for which the margin is maximum is the optimial hyperplane.\n",
    "\n",
    "To define an optimal hyperplane we need to maximize the width of the margin (w).\n",
    "\n",
    "<img src=\"https://www.saedsayad.com/images/SVM_optimize.png\" width=\"450\" height=\"450\" />\n",
    "<img src=\"https://www.saedsayad.com/images/SVM_optimize_1.png\" width=\"450\" height=\"450\" />\n",
    "\n",
    "We find $w$ and $b$ by solving the following objective function using Quadratic Programming.\n",
    "\n",
    "<img src=\"https://www.saedsayad.com/images/SVM_optimize_2.png\" width=\"450\" height=\"450\" />\n",
    "\n",
    "In SVM if the data is linearly separable, there is a unique global minimum value. An ideal SVM analysis should produce a hyperplane that completely separates two classes. However, perfect separation may not be possible, or it may result in a model with so many cases that the model does not classify correctly. In this situation SVM finds the hyperplane that maximizes the margin and minimizes the misclassifications.\n",
    "\n",
    "<img src=\"https://www.saedsayad.com/images/SVM_3.png\" width=\"450\" height=\"450\" />\n",
    "\n",
    "SVM tries to maintain the **slack variable** to zero while maximizing margin. However, it does not minimize the number of misclassifications (NP-complete problem) but the sum of distances from the margin hyperplanes.\n",
    "\n",
    "<img src=\"https://www.saedsayad.com/images/SVM_optimize_3.png\" width=\"450\" height=\"450\" />\n",
    "\n",
    "There are situations when it is required to separate two classes in nonlinear region. SVM handles this by using a kernel function (for nonlinearity) to map the data into a different space where a linear functionality can not be used to do the separation. Kernel function is used to separate the data into a higher dimensional feature space to make it possible to perform the linear separation.\n",
    "\n",
    "<img src=\"https://www.saedsayad.com/images/SVM_4.png\" width=\"450\" height=\"450\" />\n",
    "<img src=\"https://www.saedsayad.com/images/SVM_kernel.png\" width=\"450\" height=\"450\" />\n",
    "\n",
    "Kernel functions map data into new space, then take the inner product of the new vectors. The image of the inner product of the data is the inner product of the images of the data. Two kernel functions are shown below:\n",
    "\n",
    "<img src=\"https://www.saedsayad.com/images/SVM_kernel_1.png\" width=\"450\" height=\"450\" />"
   ]
  }
 ],
 "metadata": {
  "kernelspec": {
   "display_name": "Python 3 (ipykernel)",
   "language": "python",
   "name": "python3"
  },
  "language_info": {
   "codemirror_mode": {
    "name": "ipython",
    "version": 3
   },
   "file_extension": ".py",
   "mimetype": "text/x-python",
   "name": "python",
   "nbconvert_exporter": "python",
   "pygments_lexer": "ipython3",
   "version": "3.9.5"
  }
 },
 "nbformat": 4,
 "nbformat_minor": 5
}
