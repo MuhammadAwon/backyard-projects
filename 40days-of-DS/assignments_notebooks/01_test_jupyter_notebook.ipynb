{
 "cells": [
  {
   "cell_type": "markdown",
   "id": "055aab3b",
   "metadata": {},
   "source": [
    "# Python ka Chilla with #baba_aammar\n",
    "## How to use Jupyter Note Book\n",
    "## Basics of Python\n",
    "### **01 - My first program**"
   ]
  },
  {
   "cell_type": "code",
   "execution_count": 1,
   "id": "4b1345d7",
   "metadata": {},
   "outputs": [
    {
     "name": "stdout",
     "output_type": "stream",
     "text": [
      "5\n",
      "Hello world\n",
      "We are learning Python with Ammar\n"
     ]
    }
   ],
   "source": [
    "print(2+3)\n",
    "print(\"Hello world\")\n",
    "print(\"We are learning Python with Ammar\")"
   ]
  },
  {
   "cell_type": "markdown",
   "id": "9518ba97",
   "metadata": {},
   "source": [
    "### **02 - opterators**"
   ]
  },
  {
   "cell_type": "code",
   "execution_count": 2,
   "id": "4cfae14e",
   "metadata": {},
   "outputs": [
    {
     "name": "stdout",
     "output_type": "stream",
     "text": [
      "5\n",
      "-4\n",
      "50.0\n",
      "75\n",
      "1\n",
      "50\n",
      "15625\n",
      "3.2155172413793096\n"
     ]
    }
   ],
   "source": [
    "print(3+2)\n",
    "print(8-12)\n",
    "print(600/12)\n",
    "print(25*3)\n",
    "print(131%2)\n",
    "print(600//12)\n",
    "print(25**3)\n",
    "print(5**2/58*2/4+10-7)\n"
   ]
  },
  {
   "cell_type": "markdown",
   "id": "6fb06ce7",
   "metadata": {},
   "source": [
    "**PEMDAS: Parenthesis Exponents Multiplication Division Addition Subtraction**"
   ]
  },
  {
   "cell_type": "markdown",
   "id": "52b70172",
   "metadata": {},
   "source": [
    "### **03 - strings**"
   ]
  },
  {
   "cell_type": "code",
   "execution_count": 3,
   "id": "70951045",
   "metadata": {},
   "outputs": [
    {
     "name": "stdout",
     "output_type": "stream",
     "text": [
      "Hello world\n",
      "We are learning 40days of Data Science!!\n",
      "Test for single quotes\n",
      "test for double quotes\n",
      "test for tripple quotes\n",
      "How's that?\n"
     ]
    }
   ],
   "source": [
    "print(\"Hello world\")\n",
    "print(\"We are learning 40days of Data Science!!\")\n",
    "print('Test for single quotes')\n",
    "print(\"test for double quotes\")\n",
    "print('''test for tripple quotes''')\n",
    "print(\"How's that?\")\n"
   ]
  },
  {
   "cell_type": "markdown",
   "id": "0959b1bc",
   "metadata": {},
   "source": [
    "### **04 - comments**"
   ]
  },
  {
   "cell_type": "code",
   "execution_count": 4,
   "id": "93052d0d",
   "metadata": {},
   "outputs": [
    {
     "name": "stdout",
     "output_type": "stream",
     "text": [
      "How is the weather for today?\n",
      "We are learning python with Ammar\n",
      "35\n"
     ]
    }
   ],
   "source": [
    "print(\"How is the weather for today?\") # press these to comment out (Ctrl+/)\n",
    "print(\"We are learning python with Ammar\") # print a string\n",
    "print(27+8) # print operators function with numbers"
   ]
  },
  {
   "cell_type": "markdown",
   "id": "4ae6ffd9",
   "metadata": {},
   "source": [
    "### **05 - variables**"
   ]
  },
  {
   "cell_type": "code",
   "execution_count": 5,
   "id": "ddd70a5a",
   "metadata": {},
   "outputs": [
    {
     "name": "stdout",
     "output_type": "stream",
     "text": [
      "5\n",
      "40days of learning!!\n",
      "30\n",
      "<class 'int'>\n",
      "<class 'str'>\n",
      "<class 'str'>\n",
      "Apple\n"
     ]
    }
   ],
   "source": [
    "# Variables: objects containing specific values\n",
    "x = 5 # numeric or integer variable\n",
    "print(x)\n",
    "\n",
    "y = \"40days of learning!!\" # string variable\n",
    "print(y)\n",
    "\n",
    "x = x+25 # or x=30\n",
    "print(x)\n",
    "\n",
    "# types/class of variables\n",
    "type(x)\n",
    "print(type(x))\n",
    "print(type(y))\n",
    "\n",
    "# Rules to assign a variable:\n",
    "# 1- The variable should contain letters, numbers or underscores\n",
    "# 2- Do not start with numbers\n",
    "# 3- Spaces are not allowed\n",
    "# 4- Do not use keywords used in functions (break, mean, media, test etc.)\n",
    "# 5- Short and descriptive\n",
    "# 6- Case sensitivity (lowercase and uppercase letters, should use lowercase always)\n",
    "\n",
    "fruit_basket = 5\n",
    "fruit_basket = \"Apple\"\n",
    "print(type(fruit_basket))\n",
    "print(fruit_basket)\n"
   ]
  },
  {
   "cell_type": "markdown",
   "id": "51d638bd",
   "metadata": {},
   "source": [
    "### **06 - input_variables**"
   ]
  },
  {
   "cell_type": "code",
   "execution_count": 6,
   "id": "0a446416",
   "metadata": {},
   "outputs": [
    {
     "name": "stdout",
     "output_type": "stream",
     "text": [
      "Apple\n",
      "What is your favourite fruit? Orange\n",
      "Orange\n",
      "What is your name? Awon\n",
      "Hello! Awon\n",
      "What is your name? Awon\n",
      "Hello! Awon\n",
      "What is your name? Awon\n",
      "How old are you? 35\n",
      "Hello! Awon, You are still young\n"
     ]
    }
   ],
   "source": [
    "fruit_basket = \"Apple\"\n",
    "print(fruit_basket)\n",
    "\n",
    "# Input function simple\n",
    "fruit_basket = input(\"What is your favourite fruit? \")\n",
    "print(fruit_basket)\n",
    "\n",
    "# Input function of 2nd stage\n",
    "name = input(\"What is your name? \")\n",
    "greetings = \"Hello!\"\n",
    "print(greetings, name)\n",
    "\n",
    "# Another way of stage 2 function\n",
    "name = input(\"What is your name? \")\n",
    "print(\"Hello!\", name)\n",
    "\n",
    "# 3rd stage input function\n",
    "name = input(\"What is your name? \")\n",
    "age = input(\"How old are you? \")\n",
    "greetings = \"Hello!\"\n",
    "print(greetings, name + \",\", \"You are still young\")\n"
   ]
  },
  {
   "cell_type": "markdown",
   "id": "886a69b5",
   "metadata": {},
   "source": [
    "### **07 - conditional_logics**"
   ]
  },
  {
   "cell_type": "code",
   "execution_count": 7,
   "id": "8f4273d1",
   "metadata": {},
   "outputs": [
    {
     "name": "stdout",
     "output_type": "stream",
     "text": [
      "True\n",
      "False\n",
      "True\n",
      "False\n",
      "True\n",
      "True\n",
      "False\n",
      "How old is ahsan? 2\n",
      "<class 'int'>\n",
      "False\n"
     ]
    }
   ],
   "source": [
    "# Logical operators are either \"true or false\" or \"yes or no\" or \"0 or 1\"\n",
    "# equal to                       ==\n",
    "# not equal to                   !=\n",
    "# less than                      <\n",
    "# greater than                   >\n",
    "# less than and equal to         <=\n",
    "# greater than and equal to      >=\n",
    "\n",
    "# Is 4 equal to 4?\n",
    "print(4==4)\n",
    "print(4!=4)\n",
    "print(4>3)\n",
    "print(3>6)\n",
    "print(3<=5)\n",
    "print(5>=4)\n",
    "\n",
    "# Application of logical operators\n",
    "ahsan_age = 4\n",
    "age_at_School = 5\n",
    "print(ahsan_age==age_at_School)\n",
    "\n",
    "# Input function and logical operator\n",
    "age_at_School = 5\n",
    "ahsan_age = input(\"How old is ahsan? \") # input function\n",
    "ahsan_age = int(ahsan_age)\n",
    "print(type(ahsan_age))\n",
    "print(ahsan_age==age_at_School) # logical operator"
   ]
  },
  {
   "cell_type": "markdown",
   "id": "48b5896a",
   "metadata": {},
   "source": [
    "### **08 - type_conversion**"
   ]
  },
  {
   "cell_type": "code",
   "execution_count": 8,
   "id": "796dabcb",
   "metadata": {},
   "outputs": [
    {
     "name": "stdout",
     "output_type": "stream",
     "text": [
      "46.25 Type of x is: <class 'float'>\n",
      "What is your age? 35\n",
      "35 <class 'int'>\n",
      "What is your name? Awon\n",
      "Awon <class 'str'>\n"
     ]
    }
   ],
   "source": [
    "x = 25 # integer\n",
    "y = 1.85 # float\n",
    "z = \"Hello\" # string\n",
    "\n",
    "# Implicit type conversion\n",
    "x = x*y\n",
    "print(x, \"Type of x is:\", type(x))\n",
    "\n",
    "# Explicit type conversion\n",
    "age = input(\"What is your age? \")\n",
    "# age = int(age)\n",
    "print(age, type(int(age)))\n",
    "\n",
    "# Name\n",
    "name = input(\"What is your name? \")\n",
    "print(name, type(str(name)))"
   ]
  },
  {
   "cell_type": "markdown",
   "id": "71718892",
   "metadata": {},
   "source": [
    "### **09 - if_else_elif**"
   ]
  },
  {
   "cell_type": "code",
   "execution_count": 9,
   "id": "d25a8286",
   "metadata": {},
   "outputs": [
    {
     "name": "stdout",
     "output_type": "stream",
     "text": [
      "You should take care of Ahsan, he is still a baby!\n"
     ]
    }
   ],
   "source": [
    "ahsan_age = 1\n",
    "required_age_at_school = 5\n",
    "\n",
    "# Question: can ahsan go to school?\n",
    "if ahsan_age == required_age_at_school:\n",
    "    print(\"Congratulations! Ahsan can join the school.\")\n",
    "elif ahsan_age > required_age_at_school:\n",
    "    print(\"Ahsan should join higher secondary school.\")\n",
    "elif ahsan_age <= 2:\n",
    "    print(\"You should take care of Ahsan, he is still a baby!\")\n",
    "else:\n",
    "    print(\"Ahsan can not go to school.\")"
   ]
  },
  {
   "cell_type": "markdown",
   "id": "b0e23d2e",
   "metadata": {},
   "source": [
    "### **10 - functions**"
   ]
  },
  {
   "cell_type": "code",
   "execution_count": 10,
   "id": "9abe2efd",
   "metadata": {},
   "outputs": [
    {
     "name": "stdout",
     "output_type": "stream",
     "text": [
      "We are learning with Aammar\n",
      "We are learning with Aammar\n",
      "We are learning with Aammar\n",
      "We are learning with Aammar\n",
      "We are learning with Aammar\n",
      "We are learning with Aammar\n",
      "We are learning with Aammar\n",
      "We are learning with Aammar\n",
      "We are learning with Aammar\n",
      "We are learning with Aammar in Codanic youtube channel\n",
      "We are learning with Aammar in Codanic youtube channel\n",
      "We are learning with Aammar in Codanic youtube channel\n",
      "We are learning with Aammar in Codanic youtube channel\n",
      "We are learning with Aammar in Codanic youtube channel\n",
      "We are learning with Aammar in Codanic youtube channel\n",
      "Ahsan is still a baby\n",
      "25\n"
     ]
    }
   ],
   "source": [
    "print(\"We are learning with Aammar\")\n",
    "print(\"We are learning with Aammar\")\n",
    "print(\"We are learning with Aammar\")\n",
    "print(\"We are learning with Aammar\")\n",
    "print(\"We are learning with Aammar\")\n",
    "print(\"We are learning with Aammar\")\n",
    "\n",
    "\n",
    "# Defining a function\n",
    "# 1\n",
    "def print_codanics():\n",
    "    print(\"We are learning with Aammar\")\n",
    "    print(\"We are learning with Aammar\")\n",
    "    print(\"We are learning with Aammar\")\n",
    "\n",
    "print_codanics()\n",
    "\n",
    "\n",
    "# 2\n",
    "def print_codanics():\n",
    "    text = \"We are learning with Aammar in Codanic youtube channel\"\n",
    "    print(text)\n",
    "    print(text)\n",
    "    print(text)\n",
    "\n",
    "print_codanics()\n",
    "\n",
    "\n",
    "# 3\n",
    "def print_codanics(text):\n",
    "    print(text)\n",
    "    print(text)\n",
    "    print(text)\n",
    "\n",
    "print_codanics(\"We are learning with Aammar in Codanic youtube channel\")\n",
    "\n",
    "\n",
    "# Defining a function with if, elif and else statments\n",
    "def school_calculator(age):\n",
    "    if age==5:\n",
    "        print(\"Ahsan can join the school\")\n",
    "    elif age>5:\n",
    "        print(\"Ahsan should go to higher school\")\n",
    "    else:\n",
    "        print(\"Ahsan is still a baby\")\n",
    "\n",
    "school_calculator(2)\n",
    "\n",
    "\n",
    "# Defining a function of future\n",
    "def future_age(age):\n",
    "    new_age = age + 20\n",
    "    return new_age\n",
    "\n",
    "future_predicted_age = future_age(5)\n",
    "print(future_predicted_age)"
   ]
  },
  {
   "cell_type": "markdown",
   "id": "83e98e08",
   "metadata": {},
   "source": [
    "### **11 - loops**"
   ]
  },
  {
   "cell_type": "code",
   "execution_count": 11,
   "id": "32097f58",
   "metadata": {},
   "outputs": [
    {
     "name": "stdout",
     "output_type": "stream",
     "text": [
      "0\n",
      "1\n",
      "2\n",
      "3\n",
      "4\n",
      "5\n",
      "4\n",
      "5\n",
      "6\n",
      "7\n",
      "8\n",
      "9\n",
      "10\n",
      "11\n",
      "12\n",
      "13\n",
      "Mon\n",
      "Tue\n",
      "Wed\n",
      "Thu\n",
      "Sat\n",
      "Sun\n"
     ]
    }
   ],
   "source": [
    "# while and for loops\n",
    "\n",
    "# while loop\n",
    "x = 0\n",
    "while (x<=5):\n",
    "    print(x)\n",
    "    x = x+1\n",
    "\n",
    "# for loop\n",
    "for x in range(4, 14):\n",
    "    print(x)\n",
    "\n",
    "# Array\n",
    "days = [\"Mon\", \"Tue\", \"Wed\", \"Thu\", \"Fri\", \"Sat\", \"Sun\"]\n",
    "for d in days:\n",
    "    # if (d==\"Fri\"): break # loop stops\n",
    "    if (d==\"Fri\"): continue # skips d\n",
    "    print(d)"
   ]
  },
  {
   "cell_type": "markdown",
   "id": "2f1afd6a",
   "metadata": {},
   "source": [
    "### **12 - import_libraries**"
   ]
  },
  {
   "cell_type": "code",
   "execution_count": 12,
   "id": "229f9de6",
   "metadata": {},
   "outputs": [
    {
     "name": "stdout",
     "output_type": "stream",
     "text": [
      "The value of pi is  3.141592653589793\n",
      "439\n"
     ]
    }
   ],
   "source": [
    "# If you want to print the value of pi\n",
    "import math\n",
    "print(\"The value of pi is \", math.pi)\n",
    "\n",
    "import statistics\n",
    "x = [982, 258, 159, 357]\n",
    "print(statistics.mean(x))"
   ]
  },
  {
   "cell_type": "markdown",
   "id": "b77c1fda",
   "metadata": {},
   "source": [
    "**Few important libraries: NumPy, Pandas**"
   ]
  },
  {
   "cell_type": "markdown",
   "id": "49ae6cf9",
   "metadata": {},
   "source": [
    "### **13 - trouble_shooting**"
   ]
  },
  {
   "cell_type": "code",
   "execution_count": 13,
   "id": "2fea2710",
   "metadata": {},
   "outputs": [
    {
     "ename": "SyntaxError",
     "evalue": "invalid syntax (Temp/ipykernel_4836/1369700461.py, line 2)",
     "output_type": "error",
     "traceback": [
      "\u001b[1;36m  File \u001b[1;32m\"C:\\Users\\awon\\AppData\\Local\\Temp/ipykernel_4836/1369700461.py\"\u001b[1;36m, line \u001b[1;32m2\u001b[0m\n\u001b[1;33m    print(We are learning python with Aammar)\u001b[0m\n\u001b[1;37m             ^\u001b[0m\n\u001b[1;31mSyntaxError\u001b[0m\u001b[1;31m:\u001b[0m invalid syntax\n"
     ]
    }
   ],
   "source": [
    "# Syntax error\n",
    "print(We are learning python with Aammar)"
   ]
  },
  {
   "cell_type": "code",
   "execution_count": 14,
   "id": "5b32ee6a",
   "metadata": {},
   "outputs": [
    {
     "ename": "ZeroDivisionError",
     "evalue": "division by zero",
     "output_type": "error",
     "traceback": [
      "\u001b[1;31m---------------------------------------------------------------------------\u001b[0m",
      "\u001b[1;31mZeroDivisionError\u001b[0m                         Traceback (most recent call last)",
      "\u001b[1;32m~\\AppData\\Local\\Temp/ipykernel_4836/882998340.py\u001b[0m in \u001b[0;36m<module>\u001b[1;34m\u001b[0m\n\u001b[0;32m      1\u001b[0m \u001b[1;31m# Runtime error\u001b[0m\u001b[1;33m\u001b[0m\u001b[1;33m\u001b[0m\u001b[1;33m\u001b[0m\u001b[0m\n\u001b[1;32m----> 2\u001b[1;33m \u001b[0mprint\u001b[0m\u001b[1;33m(\u001b[0m\u001b[1;36m25\u001b[0m\u001b[1;33m/\u001b[0m\u001b[1;36m0\u001b[0m\u001b[1;33m)\u001b[0m\u001b[1;33m\u001b[0m\u001b[1;33m\u001b[0m\u001b[0m\n\u001b[0m",
      "\u001b[1;31mZeroDivisionError\u001b[0m: division by zero"
     ]
    }
   ],
   "source": [
    "# Runtime error\n",
    "print(25/0)"
   ]
  },
  {
   "cell_type": "code",
   "execution_count": 15,
   "id": "1f28ec01",
   "metadata": {},
   "outputs": [
    {
     "name": "stdout",
     "output_type": "stream",
     "text": [
      "Hello Awon\n"
     ]
    }
   ],
   "source": [
    "# Semantic error\n",
    "name = \"Awon\"\n",
    "print(\"Hello Awon\")"
   ]
  },
  {
   "cell_type": "markdown",
   "id": "7711e6d7",
   "metadata": {},
   "source": [
    "***We have completed this jupyter notebook tutorial saved as html***"
   ]
  }
 ],
 "metadata": {
  "kernelspec": {
   "display_name": "Python 3 (ipykernel)",
   "language": "python",
   "name": "python3"
  },
  "language_info": {
   "codemirror_mode": {
    "name": "ipython",
    "version": 3
   },
   "file_extension": ".py",
   "mimetype": "text/x-python",
   "name": "python",
   "nbconvert_exporter": "python",
   "pygments_lexer": "ipython3",
   "version": "3.9.5"
  }
 },
 "nbformat": 4,
 "nbformat_minor": 5
}
