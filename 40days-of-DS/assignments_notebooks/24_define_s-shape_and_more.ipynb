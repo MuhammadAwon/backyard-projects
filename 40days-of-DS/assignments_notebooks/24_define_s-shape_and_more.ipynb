{
 "cells": [
  {
   "cell_type": "markdown",
   "id": "fd8e8d57",
   "metadata": {},
   "source": [
    "# Define the following:\n",
    "\n",
    "## 1. Least Squared Method\n",
    "\n",
    "The least-squares method is a form of mathematical regression analysis used to determine the line of best fit for a set of data, providing a visual demonstration of the relationship between the data points. Each point of data represents the relationship between a known independent variable and an unknown dependent variable.\n",
    "\n",
    "## 2. Max Likelihood\n",
    "\n",
    "Maximum Likelihood Estimation is a probabilistic framework for solving the problem of density estimation. It involves maximizing a likelihood function in order to find the probability distribution and parameters that best explain the observed data.\n",
    "\n",
    "## 3. S-shape Function\n",
    "\n",
    "This function is also called a squashing function as its domain is the set of all real numbers, and its range is (0,1). Hence, if the input to the function is either a very large negative number or a very large positive number, the output is always between 0 and 1."
   ]
  }
 ],
 "metadata": {
  "kernelspec": {
   "display_name": "Python 3 (ipykernel)",
   "language": "python",
   "name": "python3"
  },
  "language_info": {
   "codemirror_mode": {
    "name": "ipython",
    "version": 3
   },
   "file_extension": ".py",
   "mimetype": "text/x-python",
   "name": "python",
   "nbconvert_exporter": "python",
   "pygments_lexer": "ipython3",
   "version": "3.9.5"
  }
 },
 "nbformat": 4,
 "nbformat_minor": 5
}
