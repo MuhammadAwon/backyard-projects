{
 "cells": [
  {
   "cell_type": "code",
   "execution_count": 1,
   "metadata": {},
   "outputs": [],
   "source": [
    "import nbformat\n",
    "\n",
    "# Reading the notebooks\n",
    "notebook1 = nbformat.read('notebook1_name.ipynb', 4) # 4 is the version of the notebook format to return\n",
    "notebook2 = nbformat.read('notebook2_name.ipynb', 4)\n",
    "notebook3 = nbformat.read('notebook3_name.ipynb', 4)\n",
    "notebook4 = nbformat.read('notebook4_name.ipynb', 4)\n",
    "\n",
    "\n",
    "# Creating a new notebook\n",
    "final_notebook = nbformat.v4.new_notebook(metadata=notebook1.metadata)\n",
    "\n",
    "# Concatenating the notebooks\n",
    "final_notebook.cells = notebook1.cells + notebook2.cells + notebook3.cells + notebook4.cells\n",
    "# Saving the new notebook \n",
    "nbformat.write(final_notebook, 'final_notebook.ipynb')"
   ]
  },
  {
   "cell_type": "code",
   "execution_count": null,
   "metadata": {},
   "outputs": [],
   "source": []
  }
 ],
 "metadata": {
  "interpreter": {
   "hash": "aee06e46d793c32b5364488d456ae408a8b0e20983fba1d64adf012d351c0dc2"
  },
  "kernelspec": {
   "display_name": "Python 3 (ipykernel)",
   "language": "python",
   "name": "python3"
  },
  "language_info": {
   "codemirror_mode": {
    "name": "ipython",
    "version": 3
   },
   "file_extension": ".py",
   "mimetype": "text/x-python",
   "name": "python",
   "nbconvert_exporter": "python",
   "pygments_lexer": "ipython3",
   "version": "3.9.5"
  }
 },
 "nbformat": 4,
 "nbformat_minor": 2
}
