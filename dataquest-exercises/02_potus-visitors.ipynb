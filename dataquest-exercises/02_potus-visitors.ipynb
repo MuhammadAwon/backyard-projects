{
 "cells": [
  {
   "cell_type": "markdown",
   "id": "a64385bb",
   "metadata": {},
   "source": [
    "In this lesson, we learned how to use the datetime module to work with date and time data. If you'd like some more practice, you can extend the work we did with this data set by doing the following:\n",
    "\n",
    "* Think about the maximum and minimum appointment time values, and explore the data to explain why these values are larger than you might expect.\n",
    "* Find the visitor who spent the most amount of time at the White House.\n",
    "* Determine who visited the White House the most each month."
   ]
  },
  {
   "cell_type": "code",
   "execution_count": null,
   "id": "4a7c49d4",
   "metadata": {},
   "outputs": [],
   "source": []
  }
 ],
 "metadata": {
  "kernelspec": {
   "display_name": "dataquest",
   "language": "python",
   "name": "dataquest"
  },
  "language_info": {
   "codemirror_mode": {
    "name": "ipython",
    "version": 3
   },
   "file_extension": ".py",
   "mimetype": "text/x-python",
   "name": "python",
   "nbconvert_exporter": "python",
   "pygments_lexer": "ipython3",
   "version": "3.9.7"
  }
 },
 "nbformat": 4,
 "nbformat_minor": 5
}
