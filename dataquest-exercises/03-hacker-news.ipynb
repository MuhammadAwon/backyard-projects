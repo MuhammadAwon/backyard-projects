{
 "cells": [
  {
   "cell_type": "markdown",
   "id": "4ec9447f",
   "metadata": {},
   "source": [
    "That's it for the guided steps! Here's a quick summary of what we accomplished in this guided project:\n",
    "\n",
    "* We set a goal for the project.\n",
    "* We collected and sorted the data.\n",
    "* We reformatted and cleaned the data to prepare it for analysis.\n",
    "* We analyzed the data.\n",
    "\n",
    "Here are some next steps for you to consider:\n",
    "\n",
    "* Determine if show or ask posts receive more points on average.\n",
    "* Determine if posts created at a certain time are more likely to receive more points.\n",
    "* Compare your results to the average number of comments and points other posts receive.\n",
    "* Use Dataquest's [data science project style guide](https://www.dataquest.io/blog/data-science-project-style-guide/) to format your project."
   ]
  },
  {
   "cell_type": "code",
   "execution_count": null,
   "id": "01fc3022",
   "metadata": {},
   "outputs": [],
   "source": []
  }
 ],
 "metadata": {
  "kernelspec": {
   "display_name": "dataquest",
   "language": "python",
   "name": "dataquest"
  },
  "language_info": {
   "codemirror_mode": {
    "name": "ipython",
    "version": 3
   },
   "file_extension": ".py",
   "mimetype": "text/x-python",
   "name": "python",
   "nbconvert_exporter": "python",
   "pygments_lexer": "ipython3",
   "version": "3.9.7"
  }
 },
 "nbformat": 4,
 "nbformat_minor": 5
}
