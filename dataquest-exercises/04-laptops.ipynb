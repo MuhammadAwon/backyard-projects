{
 "cells": [
  {
   "cell_type": "markdown",
   "id": "bf242718",
   "metadata": {},
   "source": [
    "Our dataset is ready for some analysis, but there are still some data cleaning tasks left! Here are your next steps:\n",
    "\n",
    "* Convert the `price_euros` column to a numeric dtype.\n",
    "* Extract the screen resolution from the `screen` column.\n",
    "* Extract the processor speed from the `cpu` column.\n",
    "\n",
    "Here are some questions you might like to answer in your own time by analyzing the cleaned data:\n",
    "\n",
    "* Are laptops made by Apple more expensive than those made by other manufacturers?\n",
    "* What is the best value laptop with a screen size of 15\" or more?\n",
    "* Which laptop has the most storage space?"
   ]
  },
  {
   "cell_type": "code",
   "execution_count": null,
   "id": "a85dff93",
   "metadata": {},
   "outputs": [],
   "source": []
  }
 ],
 "metadata": {
  "kernelspec": {
   "display_name": "dataquest",
   "language": "python",
   "name": "dataquest"
  },
  "language_info": {
   "codemirror_mode": {
    "name": "ipython",
    "version": 3
   },
   "file_extension": ".py",
   "mimetype": "text/x-python",
   "name": "python",
   "nbconvert_exporter": "python",
   "pygments_lexer": "ipython3",
   "version": "3.9.7"
  }
 },
 "nbformat": 4,
 "nbformat_minor": 5
}
