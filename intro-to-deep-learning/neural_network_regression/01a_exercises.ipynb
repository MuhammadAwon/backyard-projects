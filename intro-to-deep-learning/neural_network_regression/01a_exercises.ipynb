{
  "nbformat": 4,
  "nbformat_minor": 0,
  "metadata": {
    "colab": {
      "name": "01a_exercises.ipynb",
      "provenance": [],
      "collapsed_sections": [],
      "authorship_tag": "ABX9TyNwTuxx3LS3yrc+ohHwXYIT",
      "include_colab_link": true
    },
    "kernelspec": {
      "name": "python3",
      "display_name": "Python 3"
    },
    "language_info": {
      "name": "python"
    }
  },
  "cells": [
    {
      "cell_type": "markdown",
      "metadata": {
        "id": "view-in-github",
        "colab_type": "text"
      },
      "source": [
        "<a href=\"https://colab.research.google.com/github/MuhammadAwon/backyard-projects/blob/main/intro-to-deep-learning/neural_network_regression/01a_exercises.ipynb\" target=\"_parent\"><img src=\"https://colab.research.google.com/assets/colab-badge.svg\" alt=\"Open In Colab\"/></a>"
      ]
    },
    {
      "cell_type": "code",
      "metadata": {
        "id": "7B39OKgzqYEb"
      },
      "source": [
        "import tensorflow as tf\n",
        "import pandas as pd\n",
        "import numpy as np\n",
        "import matplotlib.pyplot as plt"
      ],
      "execution_count": null,
      "outputs": []
    },
    {
      "cell_type": "markdown",
      "metadata": {
        "id": "iVunh8fGp5LS"
      },
      "source": [
        "## 🛠 Exercises\n",
        "\n",
        "We've a covered a whole lot pretty quickly.\n",
        "\n",
        "So now it's time to have a **play around** with a few things and start to build up your initution.\n",
        "\n",
        "I emphasise the words play around because that's very important. Try a few things out, run the code and see what happens."
      ]
    },
    {
      "cell_type": "markdown",
      "metadata": {
        "id": "hBacRSsPqTTx"
      },
      "source": [
        "1. Create your own regression dataset (or make the one we created in \"Create data to view and fit\" bigger) and build fit a model to it."
      ]
    },
    {
      "cell_type": "code",
      "metadata": {
        "id": "AiRb6o2gscr4",
        "colab": {
          "base_uri": "https://localhost:8080/"
        },
        "outputId": "2d134b11-f961-466f-901e-117f12553ae2"
      },
      "source": [
        "# Create custom dataset\n",
        "X = np.arange(1, 1000, 5, dtype=np.float32)\n",
        "y = np.arange(51, 1050, 5, dtype=np.float32)\n",
        "X, y"
      ],
      "execution_count": null,
      "outputs": [
        {
          "output_type": "execute_result",
          "data": {
            "text/plain": [
              "(array([  1.,   6.,  11.,  16.,  21.,  26.,  31.,  36.,  41.,  46.,  51.,\n",
              "         56.,  61.,  66.,  71.,  76.,  81.,  86.,  91.,  96., 101., 106.,\n",
              "        111., 116., 121., 126., 131., 136., 141., 146., 151., 156., 161.,\n",
              "        166., 171., 176., 181., 186., 191., 196., 201., 206., 211., 216.,\n",
              "        221., 226., 231., 236., 241., 246., 251., 256., 261., 266., 271.,\n",
              "        276., 281., 286., 291., 296., 301., 306., 311., 316., 321., 326.,\n",
              "        331., 336., 341., 346., 351., 356., 361., 366., 371., 376., 381.,\n",
              "        386., 391., 396., 401., 406., 411., 416., 421., 426., 431., 436.,\n",
              "        441., 446., 451., 456., 461., 466., 471., 476., 481., 486., 491.,\n",
              "        496., 501., 506., 511., 516., 521., 526., 531., 536., 541., 546.,\n",
              "        551., 556., 561., 566., 571., 576., 581., 586., 591., 596., 601.,\n",
              "        606., 611., 616., 621., 626., 631., 636., 641., 646., 651., 656.,\n",
              "        661., 666., 671., 676., 681., 686., 691., 696., 701., 706., 711.,\n",
              "        716., 721., 726., 731., 736., 741., 746., 751., 756., 761., 766.,\n",
              "        771., 776., 781., 786., 791., 796., 801., 806., 811., 816., 821.,\n",
              "        826., 831., 836., 841., 846., 851., 856., 861., 866., 871., 876.,\n",
              "        881., 886., 891., 896., 901., 906., 911., 916., 921., 926., 931.,\n",
              "        936., 941., 946., 951., 956., 961., 966., 971., 976., 981., 986.,\n",
              "        991., 996.], dtype=float32),\n",
              " array([  51.,   56.,   61.,   66.,   71.,   76.,   81.,   86.,   91.,\n",
              "          96.,  101.,  106.,  111.,  116.,  121.,  126.,  131.,  136.,\n",
              "         141.,  146.,  151.,  156.,  161.,  166.,  171.,  176.,  181.,\n",
              "         186.,  191.,  196.,  201.,  206.,  211.,  216.,  221.,  226.,\n",
              "         231.,  236.,  241.,  246.,  251.,  256.,  261.,  266.,  271.,\n",
              "         276.,  281.,  286.,  291.,  296.,  301.,  306.,  311.,  316.,\n",
              "         321.,  326.,  331.,  336.,  341.,  346.,  351.,  356.,  361.,\n",
              "         366.,  371.,  376.,  381.,  386.,  391.,  396.,  401.,  406.,\n",
              "         411.,  416.,  421.,  426.,  431.,  436.,  441.,  446.,  451.,\n",
              "         456.,  461.,  466.,  471.,  476.,  481.,  486.,  491.,  496.,\n",
              "         501.,  506.,  511.,  516.,  521.,  526.,  531.,  536.,  541.,\n",
              "         546.,  551.,  556.,  561.,  566.,  571.,  576.,  581.,  586.,\n",
              "         591.,  596.,  601.,  606.,  611.,  616.,  621.,  626.,  631.,\n",
              "         636.,  641.,  646.,  651.,  656.,  661.,  666.,  671.,  676.,\n",
              "         681.,  686.,  691.,  696.,  701.,  706.,  711.,  716.,  721.,\n",
              "         726.,  731.,  736.,  741.,  746.,  751.,  756.,  761.,  766.,\n",
              "         771.,  776.,  781.,  786.,  791.,  796.,  801.,  806.,  811.,\n",
              "         816.,  821.,  826.,  831.,  836.,  841.,  846.,  851.,  856.,\n",
              "         861.,  866.,  871.,  876.,  881.,  886.,  891.,  896.,  901.,\n",
              "         906.,  911.,  916.,  921.,  926.,  931.,  936.,  941.,  946.,\n",
              "         951.,  956.,  961.,  966.,  971.,  976.,  981.,  986.,  991.,\n",
              "         996., 1001., 1006., 1011., 1016., 1021., 1026., 1031., 1036.,\n",
              "        1041., 1046.], dtype=float32))"
            ]
          },
          "metadata": {},
          "execution_count": 2
        }
      ]
    },
    {
      "cell_type": "code",
      "metadata": {
        "colab": {
          "base_uri": "https://localhost:8080/",
          "height": 265
        },
        "id": "jj_zJESQrK2D",
        "outputId": "753e1391-98f7-4f8c-8213-146cba258ca3"
      },
      "source": [
        "# Plot the linear relationship between X and y\n",
        "plt.scatter(X, y);"
      ],
      "execution_count": null,
      "outputs": [
        {
          "output_type": "display_data",
          "data": {
            "image/png": "[encoded data removed]",
            "text/plain": [
              "<Figure size 432x288 with 1 Axes>"
            ]
          },
          "metadata": {
            "needs_background": "light"
          }
        }
      ]
    },
    {
      "cell_type": "markdown",
      "metadata": {
        "id": "E6rFXNRSstkF"
      },
      "source": [
        "---\n",
        "2. Try building a neural network with 4 Dense layers and fitting it to your own regression dataset, how does it perform?"
      ]
    },
    {
      "cell_type": "code",
      "metadata": {
        "id": "2luEpNUs_iiD"
      },
      "source": [
        "# Shuffle the data\n",
        "from sklearn.utils import shuffle\n",
        "X, y = shuffle(X, y)"
      ],
      "execution_count": null,
      "outputs": []
    },
    {
      "cell_type": "code",
      "metadata": {
        "colab": {
          "base_uri": "https://localhost:8080/"
        },
        "id": "lAK2FPkFAy8h",
        "outputId": "d7555281-4b66-483d-ffdf-16fce6cf1890"
      },
      "source": [
        "X, y"
      ],
      "execution_count": null,
      "outputs": [
        {
          "output_type": "execute_result",
          "data": {
            "text/plain": [
              "(array([426., 856., 216., 276., 151.,  71.,  81., 321., 451., 696.,  46.,\n",
              "        966., 776., 316., 791.,  36., 626., 131.,  76., 831., 591.,  51.,\n",
              "        801., 421., 921., 401., 566., 721., 876., 581., 971.,  56., 541.,\n",
              "        671., 226., 241., 406., 766., 551., 376., 396., 506., 661., 436.,\n",
              "        171., 281., 141., 691., 636., 461., 526., 716., 976., 686.,  91.,\n",
              "        731.,  86.,   6., 741., 411., 391., 521., 871., 911., 256., 351.,\n",
              "        501., 941., 826.,  16., 206., 781., 486., 516., 246., 156., 286.,\n",
              "        176., 236., 666.,  26., 796., 846., 446., 651., 761., 481., 621.,\n",
              "        946., 956., 951., 116., 496., 601., 201., 431.,   1., 926., 916.,\n",
              "        266., 861., 961., 986., 306., 656., 331., 146., 511., 341., 261.,\n",
              "        466., 891., 631., 646., 606., 996., 381., 536., 336., 101., 471.,\n",
              "        221., 771., 786., 886., 561., 531., 726., 366.,  21., 231., 456.,\n",
              "        881., 326., 556., 806., 571., 931., 476., 346., 866., 361., 121.,\n",
              "        296., 251., 271., 181.,  96., 711., 836., 576., 681., 291., 676.,\n",
              "        356., 136., 596., 936., 191., 196.,  41., 906.,  61., 821., 106.,\n",
              "        616., 736., 641., 991., 896., 546., 811., 701., 851., 301., 491.,\n",
              "        186., 441., 611.,  66., 161., 751., 111., 211., 416.,  31., 371.,\n",
              "        816., 586., 981., 166., 901., 756., 706., 746., 311., 126., 386.,\n",
              "        841.,  11.], dtype=float32),\n",
              " array([ 476.,  906.,  266.,  326.,  201.,  121.,  131.,  371.,  501.,\n",
              "         746.,   96., 1016.,  826.,  366.,  841.,   86.,  676.,  181.,\n",
              "         126.,  881.,  641.,  101.,  851.,  471.,  971.,  451.,  616.,\n",
              "         771.,  926.,  631., 1021.,  106.,  591.,  721.,  276.,  291.,\n",
              "         456.,  816.,  601.,  426.,  446.,  556.,  711.,  486.,  221.,\n",
              "         331.,  191.,  741.,  686.,  511.,  576.,  766., 1026.,  736.,\n",
              "         141.,  781.,  136.,   56.,  791.,  461.,  441.,  571.,  921.,\n",
              "         961.,  306.,  401.,  551.,  991.,  876.,   66.,  256.,  831.,\n",
              "         536.,  566.,  296.,  206.,  336.,  226.,  286.,  716.,   76.,\n",
              "         846.,  896.,  496.,  701.,  811.,  531.,  671.,  996., 1006.,\n",
              "        1001.,  166.,  546.,  651.,  251.,  481.,   51.,  976.,  966.,\n",
              "         316.,  911., 1011., 1036.,  356.,  706.,  381.,  196.,  561.,\n",
              "         391.,  311.,  516.,  941.,  681.,  696.,  656., 1046.,  431.,\n",
              "         586.,  386.,  151.,  521.,  271.,  821.,  836.,  936.,  611.,\n",
              "         581.,  776.,  416.,   71.,  281.,  506.,  931.,  376.,  606.,\n",
              "         856.,  621.,  981.,  526.,  396.,  916.,  411.,  171.,  346.,\n",
              "         301.,  321.,  231.,  146.,  761.,  886.,  626.,  731.,  341.,\n",
              "         726.,  406.,  186.,  646.,  986.,  241.,  246.,   91.,  956.,\n",
              "         111.,  871.,  156.,  666.,  786.,  691., 1041.,  946.,  596.,\n",
              "         861.,  751.,  901.,  351.,  541.,  236.,  491.,  661.,  116.,\n",
              "         211.,  801.,  161.,  261.,  466.,   81.,  421.,  866.,  636.,\n",
              "        1031.,  216.,  951.,  806.,  756.,  796.,  361.,  176.,  436.,\n",
              "         891.,   61.], dtype=float32))"
            ]
          },
          "metadata": {},
          "execution_count": 5
        }
      ]
    },
    {
      "cell_type": "markdown",
      "metadata": {
        "id": "rv3g8ZCw2gXH"
      },
      "source": [
        "Split into train/test set"
      ]
    },
    {
      "cell_type": "code",
      "metadata": {
        "id": "wshFqWuXwLZM"
      },
      "source": [
        "# Split the data into 80% train and 20% test set\n",
        "X_train = X[:160]\n",
        "X_test = X[160:]\n",
        "\n",
        "y_train = y[:160]\n",
        "y_test = y[160:]"
      ],
      "execution_count": null,
      "outputs": []
    },
    {
      "cell_type": "code",
      "metadata": {
        "colab": {
          "base_uri": "https://localhost:8080/"
        },
        "id": "nF97H32S1aCx",
        "outputId": "ec2abd3a-43bc-4599-85aa-8bc3f0c11c57"
      },
      "source": [
        "len(X_train), len(X_test), len(y_train), len(y_test)"
      ],
      "execution_count": null,
      "outputs": [
        {
          "output_type": "execute_result",
          "data": {
            "text/plain": [
              "(160, 40, 160, 40)"
            ]
          },
          "metadata": {},
          "execution_count": 7
        }
      ]
    },
    {
      "cell_type": "markdown",
      "metadata": {
        "id": "i2RnDUAw2SVd"
      },
      "source": [
        "Visualize the train and test set"
      ]
    },
    {
      "cell_type": "code",
      "metadata": {
        "colab": {
          "base_uri": "https://localhost:8080/",
          "height": 428
        },
        "id": "fxfZYUWS2rOg",
        "outputId": "5cd95f91-b2a2-4663-bfa8-f1ab60ceed60"
      },
      "source": [
        "# Configure the figure size\n",
        "plt.figure(figsize=(10,7))\n",
        "# Plot training data in blue\n",
        "plt.scatter(X_train, y_train, c='b', label='Training data')\n",
        "# Plot test data in green\n",
        "plt.scatter(X_test, y_test, c='g', label='Test data')\n",
        "# Show legend\n",
        "plt.legend();"
      ],
      "execution_count": null,
      "outputs": [
        {
          "output_type": "display_data",
          "data": {
            "image/png": "[encoded data removed]",
            "text/plain": [
              "<Figure size 720x504 with 1 Axes>"
            ]
          },
          "metadata": {
            "needs_background": "light"
          }
        }
      ]
    },
    {
      "cell_type": "code",
      "metadata": {
        "colab": {
          "base_uri": "https://localhost:8080/"
        },
        "id": "M7NTi31Trl6F",
        "outputId": "79facd9f-8dac-4058-e8fb-652bc81c19ba"
      },
      "source": [
        "# Set random seed\n",
        "tf.random.set_seed(42)\n",
        "\n",
        "# Create the model (4 layers)\n",
        "model = tf.keras.Sequential([\n",
        "                             tf.keras.layers.Dense(100),\n",
        "                             tf.keras.layers.Dense(50),\n",
        "                             tf.keras.layers.Dense(10),\n",
        "                             tf.keras.layers.Dense(1)\n",
        "])\n",
        "\n",
        "# Compile the model\n",
        "model.compile(loss=tf.keras.losses.mae,\n",
        "              optimizer=tf.keras.optimizers.Adam(),\n",
        "              metrics=['mae'])\n",
        "\n",
        "# Fit the model\n",
        "model.fit(X, y, epochs=100, verbose=0)"
      ],
      "execution_count": null,
      "outputs": [
        {
          "output_type": "execute_result",
          "data": {
            "text/plain": [
              "<keras.callbacks.History at 0x7f5014554910>"
            ]
          },
          "metadata": {},
          "execution_count": 9
        }
      ]
    },
    {
      "cell_type": "code",
      "metadata": {
        "colab": {
          "base_uri": "https://localhost:8080/"
        },
        "id": "HmEjNWrh1zW6",
        "outputId": "65c76383-dd77-4140-d553-96a55548762c"
      },
      "source": [
        "# Check the test data\n",
        "X_test"
      ],
      "execution_count": null,
      "outputs": [
        {
          "output_type": "execute_result",
          "data": {
            "text/plain": [
              "array([ 41., 906.,  61., 821., 106., 616., 736., 641., 991., 896., 546.,\n",
              "       811., 701., 851., 301., 491., 186., 441., 611.,  66., 161., 751.,\n",
              "       111., 211., 416.,  31., 371., 816., 586., 981., 166., 901., 756.,\n",
              "       706., 746., 311., 126., 386., 841.,  11.], dtype=float32)"
            ]
          },
          "metadata": {},
          "execution_count": 10
        }
      ]
    },
    {
      "cell_type": "code",
      "metadata": {
        "colab": {
          "base_uri": "https://localhost:8080/"
        },
        "id": "Wj7ktPvgtyMF",
        "outputId": "eb1eac0d-2a0e-47b9-cba5-8fea893848b9"
      },
      "source": [
        "# Make prediction on test data, since the relationshipe is y = X + 50\n",
        "y_pred = model.predict(X_test).squeeze()\n",
        "y_pred"
      ],
      "execution_count": null,
      "outputs": [
        {
          "output_type": "execute_result",
          "data": {
            "text/plain": [
              "array([  54.30372 ,  959.3095  ,   75.2287  ,  870.37836 ,  122.309906,\n",
              "        655.8972  ,  781.447   ,  682.05334 , 1048.2405  ,  948.847   ,\n",
              "        582.65967 ,  859.9157  ,  744.8283  ,  901.76575 ,  326.32858 ,\n",
              "        525.116   ,  206.00984 ,  472.80347 ,  650.6659  ,   80.459946,\n",
              "        179.85365 ,  797.1408  ,  127.54117 ,  232.16609 ,  446.64728 ,\n",
              "         43.84122 ,  399.566   ,  865.14703 ,  624.50964 , 1037.7781  ,\n",
              "        185.08485 ,  954.0783  ,  802.372   ,  750.0596  ,  791.9096  ,\n",
              "        336.79105 ,  143.23491 ,  415.25977 ,  891.3032  ,   22.916235],\n",
              "      dtype=float32)"
            ]
          },
          "metadata": {},
          "execution_count": 11
        }
      ]
    },
    {
      "cell_type": "code",
      "metadata": {
        "colab": {
          "base_uri": "https://localhost:8080/"
        },
        "id": "au3tgmWMuJYa",
        "outputId": "43beca1e-9edf-40f6-920e-bd82903f15d4"
      },
      "source": [
        "# Evaluate on test data\n",
        "model.evaluate(X_test, y_test)"
      ],
      "execution_count": null,
      "outputs": [
        {
          "output_type": "stream",
          "name": "stdout",
          "text": [
            "2/2 [==============================] - 0s 13ms/step - loss: 16.4469 - mae: 16.4469\n"
          ]
        },
        {
          "output_type": "execute_result",
          "data": {
            "text/plain": [
              "[16.446903228759766, 16.446903228759766]"
            ]
          },
          "metadata": {},
          "execution_count": 12
        }
      ]
    },
    {
      "cell_type": "markdown",
      "metadata": {
        "id": "VgNG_J2868sN"
      },
      "source": [
        "Find MAE using tensorflow bulit-in function for finding the error"
      ]
    },
    {
      "cell_type": "code",
      "metadata": {
        "colab": {
          "base_uri": "https://localhost:8080/"
        },
        "id": "0kunA-0m7b-h",
        "outputId": "87caf997-021c-4842-ac60-9eebcf530dc6"
      },
      "source": [
        "tf.metrics.mean_absolute_error(y_test, y_pred)"
      ],
      "execution_count": null,
      "outputs": [
        {
          "output_type": "execute_result",
          "data": {
            "text/plain": [
              "<tf.Tensor: shape=(), dtype=float32, numpy=16.446894>"
            ]
          },
          "metadata": {},
          "execution_count": 13
        }
      ]
    },
    {
      "cell_type": "markdown",
      "metadata": {
        "id": "KXiTtCcK5LZ3"
      },
      "source": [
        "Visualize data and model predictions"
      ]
    },
    {
      "cell_type": "code",
      "metadata": {
        "colab": {
          "base_uri": "https://localhost:8080/",
          "height": 428
        },
        "id": "gWNpLSHQ4ysp",
        "outputId": "8eae39a0-09f6-4ed2-b432-ce655c3e2c73"
      },
      "source": [
        "# Configure the plot size\n",
        "plt.figure(figsize=(10,7))\n",
        "# Plot the training set in blue\n",
        "plt.scatter(X_train, y_train, c='b', label='Training data')\n",
        "# plot the test set in green\n",
        "plt.scatter(X_test, y_test, c='g', label='Test data')\n",
        "# Plot the model predictions in red\n",
        "plt.scatter(X_test, y_pred, c='r', label='Predictions')\n",
        "# Show legend\n",
        "plt.legend();"
      ],
      "execution_count": null,
      "outputs": [
        {
          "output_type": "display_data",
          "data": {
            "image/png": "[encoded data removed]",
            "text/plain": [
              "<Figure size 720x504 with 1 Axes>"
            ]
          },
          "metadata": {
            "needs_background": "light"
          }
        }
      ]
    },
    {
      "cell_type": "markdown",
      "metadata": {
        "id": "4Kr4xxE5Bi92"
      },
      "source": [
        "---\n",
        "3. Try and improve the results we got on the insurance dataset, some things you might want to try include:"
      ]
    },
    {
      "cell_type": "code",
      "metadata": {
        "colab": {
          "base_uri": "https://localhost:8080/",
          "height": 206
        },
        "id": "BC9y1sJm6qZo",
        "outputId": "68c120bf-ea8e-4730-f87b-fb30b227ad7e"
      },
      "source": [
        "# Import data and read into csv\n",
        "insurance = pd.read_csv('https://raw.githubusercontent.com/stedy/Machine-Learning-with-R-datasets/master/insurance.csv')\n",
        "insurance.head()"
      ],
      "execution_count": null,
      "outputs": [
        {
          "output_type": "execute_result",
          "data": {
            "text/html": [
              "<div>\n",
              "<style scoped>\n",
              "    .dataframe tbody tr th:only-of-type {\n",
              "        vertical-align: middle;\n",
              "    }\n",
              "\n",
              "    .dataframe tbody tr th {\n",
              "        vertical-align: top;\n",
              "    }\n",
              "\n",
              "    .dataframe thead th {\n",
              "        text-align: right;\n",
              "    }\n",
              "</style>\n",
              "<table border=\"1\" class=\"dataframe\">\n",
              "  <thead>\n",
              "    <tr style=\"text-align: right;\">\n",
              "      <th></th>\n",
              "      <th>age</th>\n",
              "      <th>sex</th>\n",
              "      <th>bmi</th>\n",
              "      <th>children</th>\n",
              "      <th>smoker</th>\n",
              "      <th>region</th>\n",
              "      <th>charges</th>\n",
              "    </tr>\n",
              "  </thead>\n",
              "  <tbody>\n",
              "    <tr>\n",
              "      <th>0</th>\n",
              "      <td>19</td>\n",
              "      <td>female</td>\n",
              "      <td>27.900</td>\n",
              "      <td>0</td>\n",
              "      <td>yes</td>\n",
              "      <td>southwest</td>\n",
              "      <td>16884.92400</td>\n",
              "    </tr>\n",
              "    <tr>\n",
              "      <th>1</th>\n",
              "      <td>18</td>\n",
              "      <td>male</td>\n",
              "      <td>33.770</td>\n",
              "      <td>1</td>\n",
              "      <td>no</td>\n",
              "      <td>southeast</td>\n",
              "      <td>1725.55230</td>\n",
              "    </tr>\n",
              "    <tr>\n",
              "      <th>2</th>\n",
              "      <td>28</td>\n",
              "      <td>male</td>\n",
              "      <td>33.000</td>\n",
              "      <td>3</td>\n",
              "      <td>no</td>\n",
              "      <td>southeast</td>\n",
              "      <td>4449.46200</td>\n",
              "    </tr>\n",
              "    <tr>\n",
              "      <th>3</th>\n",
              "      <td>33</td>\n",
              "      <td>male</td>\n",
              "      <td>22.705</td>\n",
              "      <td>0</td>\n",
              "      <td>no</td>\n",
              "      <td>northwest</td>\n",
              "      <td>21984.47061</td>\n",
              "    </tr>\n",
              "    <tr>\n",
              "      <th>4</th>\n",
              "      <td>32</td>\n",
              "      <td>male</td>\n",
              "      <td>28.880</td>\n",
              "      <td>0</td>\n",
              "      <td>no</td>\n",
              "      <td>northwest</td>\n",
              "      <td>3866.85520</td>\n",
              "    </tr>\n",
              "  </tbody>\n",
              "</table>\n",
              "</div>"
            ],
            "text/plain": [
              "   age     sex     bmi  children smoker     region      charges\n",
              "0   19  female  27.900         0    yes  southwest  16884.92400\n",
              "1   18    male  33.770         1     no  southeast   1725.55230\n",
              "2   28    male  33.000         3     no  southeast   4449.46200\n",
              "3   33    male  22.705         0     no  northwest  21984.47061\n",
              "4   32    male  28.880         0     no  northwest   3866.85520"
            ]
          },
          "metadata": {},
          "execution_count": 15
        }
      ]
    },
    {
      "cell_type": "code",
      "metadata": {
        "colab": {
          "base_uri": "https://localhost:8080/"
        },
        "id": "reL8jEhbCkiM",
        "outputId": "d63375cf-db54-4702-ccb5-4533cc892de5"
      },
      "source": [
        "# Number of rows & columns\n",
        "insurance.shape"
      ],
      "execution_count": null,
      "outputs": [
        {
          "output_type": "execute_result",
          "data": {
            "text/plain": [
              "(1338, 7)"
            ]
          },
          "metadata": {},
          "execution_count": 16
        }
      ]
    },
    {
      "cell_type": "code",
      "metadata": {
        "colab": {
          "base_uri": "https://localhost:8080/"
        },
        "id": "MIkoj6eYCD09",
        "outputId": "843f3030-a41e-479c-e0b7-170b8e43dbef"
      },
      "source": [
        "# Get information about the data\n",
        "insurance.info()"
      ],
      "execution_count": null,
      "outputs": [
        {
          "output_type": "stream",
          "name": "stdout",
          "text": [
            "<class 'pandas.core.frame.DataFrame'>\n",
            "RangeIndex: 1338 entries, 0 to 1337\n",
            "Data columns (total 7 columns):\n",
            " #   Column    Non-Null Count  Dtype  \n",
            "---  ------    --------------  -----  \n",
            " 0   age       1338 non-null   int64  \n",
            " 1   sex       1338 non-null   object \n",
            " 2   bmi       1338 non-null   float64\n",
            " 3   children  1338 non-null   int64  \n",
            " 4   smoker    1338 non-null   object \n",
            " 5   region    1338 non-null   object \n",
            " 6   charges   1338 non-null   float64\n",
            "dtypes: float64(2), int64(2), object(3)\n",
            "memory usage: 73.3+ KB\n"
          ]
        }
      ]
    },
    {
      "cell_type": "code",
      "metadata": {
        "colab": {
          "base_uri": "https://localhost:8080/",
          "height": 300
        },
        "id": "S2nQGlV7CK5H",
        "outputId": "a25a6a64-b5c6-450b-978c-e0f3d3c9163c"
      },
      "source": [
        "# Get short summary of the data\n",
        "insurance.describe()"
      ],
      "execution_count": null,
      "outputs": [
        {
          "output_type": "execute_result",
          "data": {
            "text/html": [
              "<div>\n",
              "<style scoped>\n",
              "    .dataframe tbody tr th:only-of-type {\n",
              "        vertical-align: middle;\n",
              "    }\n",
              "\n",
              "    .dataframe tbody tr th {\n",
              "        vertical-align: top;\n",
              "    }\n",
              "\n",
              "    .dataframe thead th {\n",
              "        text-align: right;\n",
              "    }\n",
              "</style>\n",
              "<table border=\"1\" class=\"dataframe\">\n",
              "  <thead>\n",
              "    <tr style=\"text-align: right;\">\n",
              "      <th></th>\n",
              "      <th>age</th>\n",
              "      <th>bmi</th>\n",
              "      <th>children</th>\n",
              "      <th>charges</th>\n",
              "    </tr>\n",
              "  </thead>\n",
              "  <tbody>\n",
              "    <tr>\n",
              "      <th>count</th>\n",
              "      <td>1338.000000</td>\n",
              "      <td>1338.000000</td>\n",
              "      <td>1338.000000</td>\n",
              "      <td>1338.000000</td>\n",
              "    </tr>\n",
              "    <tr>\n",
              "      <th>mean</th>\n",
              "      <td>39.207025</td>\n",
              "      <td>30.663397</td>\n",
              "      <td>1.094918</td>\n",
              "      <td>13270.422265</td>\n",
              "    </tr>\n",
              "    <tr>\n",
              "      <th>std</th>\n",
              "      <td>14.049960</td>\n",
              "      <td>6.098187</td>\n",
              "      <td>1.205493</td>\n",
              "      <td>12110.011237</td>\n",
              "    </tr>\n",
              "    <tr>\n",
              "      <th>min</th>\n",
              "      <td>18.000000</td>\n",
              "      <td>15.960000</td>\n",
              "      <td>0.000000</td>\n",
              "      <td>1121.873900</td>\n",
              "    </tr>\n",
              "    <tr>\n",
              "      <th>25%</th>\n",
              "      <td>27.000000</td>\n",
              "      <td>26.296250</td>\n",
              "      <td>0.000000</td>\n",
              "      <td>4740.287150</td>\n",
              "    </tr>\n",
              "    <tr>\n",
              "      <th>50%</th>\n",
              "      <td>39.000000</td>\n",
              "      <td>30.400000</td>\n",
              "      <td>1.000000</td>\n",
              "      <td>9382.033000</td>\n",
              "    </tr>\n",
              "    <tr>\n",
              "      <th>75%</th>\n",
              "      <td>51.000000</td>\n",
              "      <td>34.693750</td>\n",
              "      <td>2.000000</td>\n",
              "      <td>16639.912515</td>\n",
              "    </tr>\n",
              "    <tr>\n",
              "      <th>max</th>\n",
              "      <td>64.000000</td>\n",
              "      <td>53.130000</td>\n",
              "      <td>5.000000</td>\n",
              "      <td>63770.428010</td>\n",
              "    </tr>\n",
              "  </tbody>\n",
              "</table>\n",
              "</div>"
            ],
            "text/plain": [
              "               age          bmi     children       charges\n",
              "count  1338.000000  1338.000000  1338.000000   1338.000000\n",
              "mean     39.207025    30.663397     1.094918  13270.422265\n",
              "std      14.049960     6.098187     1.205493  12110.011237\n",
              "min      18.000000    15.960000     0.000000   1121.873900\n",
              "25%      27.000000    26.296250     0.000000   4740.287150\n",
              "50%      39.000000    30.400000     1.000000   9382.033000\n",
              "75%      51.000000    34.693750     2.000000  16639.912515\n",
              "max      64.000000    53.130000     5.000000  63770.428010"
            ]
          },
          "metadata": {},
          "execution_count": 18
        }
      ]
    },
    {
      "cell_type": "code",
      "metadata": {
        "colab": {
          "base_uri": "https://localhost:8080/"
        },
        "id": "W9SlN4KPCTwm",
        "outputId": "46f37ed9-802f-4962-d947-da878a36ddbc"
      },
      "source": [
        "# Find null values if there is any\n",
        "insurance.isnull().any().sum()"
      ],
      "execution_count": null,
      "outputs": [
        {
          "output_type": "execute_result",
          "data": {
            "text/plain": [
              "0"
            ]
          },
          "metadata": {},
          "execution_count": 19
        }
      ]
    },
    {
      "cell_type": "code",
      "metadata": {
        "id": "OK-EBq-cCzCo"
      },
      "source": [
        "# Separate the features and target variable\n",
        "X = insurance.drop('charges', axis=1)\n",
        "y = insurance['charges']"
      ],
      "execution_count": null,
      "outputs": []
    },
    {
      "cell_type": "code",
      "metadata": {
        "colab": {
          "base_uri": "https://localhost:8080/",
          "height": 424
        },
        "id": "-L6mwGosDUoD",
        "outputId": "a34e07df-3783-4b69-cb8e-104a30969d99"
      },
      "source": [
        "X"
      ],
      "execution_count": null,
      "outputs": [
        {
          "output_type": "execute_result",
          "data": {
            "text/html": [
              "<div>\n",
              "<style scoped>\n",
              "    .dataframe tbody tr th:only-of-type {\n",
              "        vertical-align: middle;\n",
              "    }\n",
              "\n",
              "    .dataframe tbody tr th {\n",
              "        vertical-align: top;\n",
              "    }\n",
              "\n",
              "    .dataframe thead th {\n",
              "        text-align: right;\n",
              "    }\n",
              "</style>\n",
              "<table border=\"1\" class=\"dataframe\">\n",
              "  <thead>\n",
              "    <tr style=\"text-align: right;\">\n",
              "      <th></th>\n",
              "      <th>age</th>\n",
              "      <th>sex</th>\n",
              "      <th>bmi</th>\n",
              "      <th>children</th>\n",
              "      <th>smoker</th>\n",
              "      <th>region</th>\n",
              "    </tr>\n",
              "  </thead>\n",
              "  <tbody>\n",
              "    <tr>\n",
              "      <th>0</th>\n",
              "      <td>19</td>\n",
              "      <td>female</td>\n",
              "      <td>27.900</td>\n",
              "      <td>0</td>\n",
              "      <td>yes</td>\n",
              "      <td>southwest</td>\n",
              "    </tr>\n",
              "    <tr>\n",
              "      <th>1</th>\n",
              "      <td>18</td>\n",
              "      <td>male</td>\n",
              "      <td>33.770</td>\n",
              "      <td>1</td>\n",
              "      <td>no</td>\n",
              "      <td>southeast</td>\n",
              "    </tr>\n",
              "    <tr>\n",
              "      <th>2</th>\n",
              "      <td>28</td>\n",
              "      <td>male</td>\n",
              "      <td>33.000</td>\n",
              "      <td>3</td>\n",
              "      <td>no</td>\n",
              "      <td>southeast</td>\n",
              "    </tr>\n",
              "    <tr>\n",
              "      <th>3</th>\n",
              "      <td>33</td>\n",
              "      <td>male</td>\n",
              "      <td>22.705</td>\n",
              "      <td>0</td>\n",
              "      <td>no</td>\n",
              "      <td>northwest</td>\n",
              "    </tr>\n",
              "    <tr>\n",
              "      <th>4</th>\n",
              "      <td>32</td>\n",
              "      <td>male</td>\n",
              "      <td>28.880</td>\n",
              "      <td>0</td>\n",
              "      <td>no</td>\n",
              "      <td>northwest</td>\n",
              "    </tr>\n",
              "    <tr>\n",
              "      <th>...</th>\n",
              "      <td>...</td>\n",
              "      <td>...</td>\n",
              "      <td>...</td>\n",
              "      <td>...</td>\n",
              "      <td>...</td>\n",
              "      <td>...</td>\n",
              "    </tr>\n",
              "    <tr>\n",
              "      <th>1333</th>\n",
              "      <td>50</td>\n",
              "      <td>male</td>\n",
              "      <td>30.970</td>\n",
              "      <td>3</td>\n",
              "      <td>no</td>\n",
              "      <td>northwest</td>\n",
              "    </tr>\n",
              "    <tr>\n",
              "      <th>1334</th>\n",
              "      <td>18</td>\n",
              "      <td>female</td>\n",
              "      <td>31.920</td>\n",
              "      <td>0</td>\n",
              "      <td>no</td>\n",
              "      <td>northeast</td>\n",
              "    </tr>\n",
              "    <tr>\n",
              "      <th>1335</th>\n",
              "      <td>18</td>\n",
              "      <td>female</td>\n",
              "      <td>36.850</td>\n",
              "      <td>0</td>\n",
              "      <td>no</td>\n",
              "      <td>southeast</td>\n",
              "    </tr>\n",
              "    <tr>\n",
              "      <th>1336</th>\n",
              "      <td>21</td>\n",
              "      <td>female</td>\n",
              "      <td>25.800</td>\n",
              "      <td>0</td>\n",
              "      <td>no</td>\n",
              "      <td>southwest</td>\n",
              "    </tr>\n",
              "    <tr>\n",
              "      <th>1337</th>\n",
              "      <td>61</td>\n",
              "      <td>female</td>\n",
              "      <td>29.070</td>\n",
              "      <td>0</td>\n",
              "      <td>yes</td>\n",
              "      <td>northwest</td>\n",
              "    </tr>\n",
              "  </tbody>\n",
              "</table>\n",
              "<p>1338 rows × 6 columns</p>\n",
              "</div>"
            ],
            "text/plain": [
              "      age     sex     bmi  children smoker     region\n",
              "0      19  female  27.900         0    yes  southwest\n",
              "1      18    male  33.770         1     no  southeast\n",
              "2      28    male  33.000         3     no  southeast\n",
              "3      33    male  22.705         0     no  northwest\n",
              "4      32    male  28.880         0     no  northwest\n",
              "...   ...     ...     ...       ...    ...        ...\n",
              "1333   50    male  30.970         3     no  northwest\n",
              "1334   18  female  31.920         0     no  northeast\n",
              "1335   18  female  36.850         0     no  southeast\n",
              "1336   21  female  25.800         0     no  southwest\n",
              "1337   61  female  29.070         0    yes  northwest\n",
              "\n",
              "[1338 rows x 6 columns]"
            ]
          },
          "metadata": {},
          "execution_count": 21
        }
      ]
    },
    {
      "cell_type": "code",
      "metadata": {
        "colab": {
          "base_uri": "https://localhost:8080/"
        },
        "id": "InvbInqDE5mg",
        "outputId": "138787ab-be75-4bd3-d7fa-b01f9d0e2b02"
      },
      "source": [
        "y"
      ],
      "execution_count": null,
      "outputs": [
        {
          "output_type": "execute_result",
          "data": {
            "text/plain": [
              "0       16884.92400\n",
              "1        1725.55230\n",
              "2        4449.46200\n",
              "3       21984.47061\n",
              "4        3866.85520\n",
              "           ...     \n",
              "1333    10600.54830\n",
              "1334     2205.98080\n",
              "1335     1629.83350\n",
              "1336     2007.94500\n",
              "1337    29141.36030\n",
              "Name: charges, Length: 1338, dtype: float64"
            ]
          },
          "metadata": {},
          "execution_count": 22
        }
      ]
    },
    {
      "cell_type": "code",
      "metadata": {
        "id": "aRf1I4pRJzsn"
      },
      "source": [
        "# Split the data into training set (80%) and test set (20%)\n",
        "from sklearn.model_selection import train_test_split\n",
        "\n",
        "X_train, X_test, y_train, y_test = train_test_split(X, y, test_size=0.2,\n",
        "                                                    random_state=42)"
      ],
      "execution_count": null,
      "outputs": []
    },
    {
      "cell_type": "code",
      "metadata": {
        "colab": {
          "base_uri": "https://localhost:8080/"
        },
        "id": "VJJFDZD4Jzpi",
        "outputId": "5b29873b-ebbb-4ec6-dba7-afc8ee6bd49c"
      },
      "source": [
        "X_train.shape, X_test.shape, y_train.shape, y_test.shape"
      ],
      "execution_count": null,
      "outputs": [
        {
          "output_type": "execute_result",
          "data": {
            "text/plain": [
              "((1070, 6), (268, 6), (1070,), (268,))"
            ]
          },
          "metadata": {},
          "execution_count": 24
        }
      ]
    },
    {
      "cell_type": "code",
      "metadata": {
        "id": "36E_hl5nE7Hq"
      },
      "source": [
        "# Normalize the numeric columns and one-hot encode the categorical columns\n",
        "from sklearn.compose import make_column_transformer\n",
        "from sklearn.preprocessing import MinMaxScaler, OneHotEncoder\n",
        "\n",
        "# Create column transformer\n",
        "ct = make_column_transformer(\n",
        "    (MinMaxScaler(), ['age', 'bmi', 'children']),\n",
        "    (OneHotEncoder(), ['sex', 'smoker', 'region'])\n",
        ")\n",
        "\n",
        "# Fit column transformer only on training data to avoid data leakage\n",
        "ct.fit(X_train)\n",
        "\n",
        "# Transform training and test data\n",
        "X_train_norm = ct.transform(X_train)\n",
        "X_test_norm = ct.transform(X_test)"
      ],
      "execution_count": null,
      "outputs": []
    },
    {
      "cell_type": "code",
      "metadata": {
        "colab": {
          "base_uri": "https://localhost:8080/",
          "height": 424
        },
        "id": "aeo4wJ_3Qbe1",
        "outputId": "ed9eea97-21a5-40fa-b6ab-bd574c890f98"
      },
      "source": [
        "X_train"
      ],
      "execution_count": null,
      "outputs": [
        {
          "output_type": "execute_result",
          "data": {
            "text/html": [
              "<div>\n",
              "<style scoped>\n",
              "    .dataframe tbody tr th:only-of-type {\n",
              "        vertical-align: middle;\n",
              "    }\n",
              "\n",
              "    .dataframe tbody tr th {\n",
              "        vertical-align: top;\n",
              "    }\n",
              "\n",
              "    .dataframe thead th {\n",
              "        text-align: right;\n",
              "    }\n",
              "</style>\n",
              "<table border=\"1\" class=\"dataframe\">\n",
              "  <thead>\n",
              "    <tr style=\"text-align: right;\">\n",
              "      <th></th>\n",
              "      <th>age</th>\n",
              "      <th>sex</th>\n",
              "      <th>bmi</th>\n",
              "      <th>children</th>\n",
              "      <th>smoker</th>\n",
              "      <th>region</th>\n",
              "    </tr>\n",
              "  </thead>\n",
              "  <tbody>\n",
              "    <tr>\n",
              "      <th>560</th>\n",
              "      <td>46</td>\n",
              "      <td>female</td>\n",
              "      <td>19.950</td>\n",
              "      <td>2</td>\n",
              "      <td>no</td>\n",
              "      <td>northwest</td>\n",
              "    </tr>\n",
              "    <tr>\n",
              "      <th>1285</th>\n",
              "      <td>47</td>\n",
              "      <td>female</td>\n",
              "      <td>24.320</td>\n",
              "      <td>0</td>\n",
              "      <td>no</td>\n",
              "      <td>northeast</td>\n",
              "    </tr>\n",
              "    <tr>\n",
              "      <th>1142</th>\n",
              "      <td>52</td>\n",
              "      <td>female</td>\n",
              "      <td>24.860</td>\n",
              "      <td>0</td>\n",
              "      <td>no</td>\n",
              "      <td>southeast</td>\n",
              "    </tr>\n",
              "    <tr>\n",
              "      <th>969</th>\n",
              "      <td>39</td>\n",
              "      <td>female</td>\n",
              "      <td>34.320</td>\n",
              "      <td>5</td>\n",
              "      <td>no</td>\n",
              "      <td>southeast</td>\n",
              "    </tr>\n",
              "    <tr>\n",
              "      <th>486</th>\n",
              "      <td>54</td>\n",
              "      <td>female</td>\n",
              "      <td>21.470</td>\n",
              "      <td>3</td>\n",
              "      <td>no</td>\n",
              "      <td>northwest</td>\n",
              "    </tr>\n",
              "    <tr>\n",
              "      <th>...</th>\n",
              "      <td>...</td>\n",
              "      <td>...</td>\n",
              "      <td>...</td>\n",
              "      <td>...</td>\n",
              "      <td>...</td>\n",
              "      <td>...</td>\n",
              "    </tr>\n",
              "    <tr>\n",
              "      <th>1095</th>\n",
              "      <td>18</td>\n",
              "      <td>female</td>\n",
              "      <td>31.350</td>\n",
              "      <td>4</td>\n",
              "      <td>no</td>\n",
              "      <td>northeast</td>\n",
              "    </tr>\n",
              "    <tr>\n",
              "      <th>1130</th>\n",
              "      <td>39</td>\n",
              "      <td>female</td>\n",
              "      <td>23.870</td>\n",
              "      <td>5</td>\n",
              "      <td>no</td>\n",
              "      <td>southeast</td>\n",
              "    </tr>\n",
              "    <tr>\n",
              "      <th>1294</th>\n",
              "      <td>58</td>\n",
              "      <td>male</td>\n",
              "      <td>25.175</td>\n",
              "      <td>0</td>\n",
              "      <td>no</td>\n",
              "      <td>northeast</td>\n",
              "    </tr>\n",
              "    <tr>\n",
              "      <th>860</th>\n",
              "      <td>37</td>\n",
              "      <td>female</td>\n",
              "      <td>47.600</td>\n",
              "      <td>2</td>\n",
              "      <td>yes</td>\n",
              "      <td>southwest</td>\n",
              "    </tr>\n",
              "    <tr>\n",
              "      <th>1126</th>\n",
              "      <td>55</td>\n",
              "      <td>male</td>\n",
              "      <td>29.900</td>\n",
              "      <td>0</td>\n",
              "      <td>no</td>\n",
              "      <td>southwest</td>\n",
              "    </tr>\n",
              "  </tbody>\n",
              "</table>\n",
              "<p>1070 rows × 6 columns</p>\n",
              "</div>"
            ],
            "text/plain": [
              "      age     sex     bmi  children smoker     region\n",
              "560    46  female  19.950         2     no  northwest\n",
              "1285   47  female  24.320         0     no  northeast\n",
              "1142   52  female  24.860         0     no  southeast\n",
              "969    39  female  34.320         5     no  southeast\n",
              "486    54  female  21.470         3     no  northwest\n",
              "...   ...     ...     ...       ...    ...        ...\n",
              "1095   18  female  31.350         4     no  northeast\n",
              "1130   39  female  23.870         5     no  southeast\n",
              "1294   58    male  25.175         0     no  northeast\n",
              "860    37  female  47.600         2    yes  southwest\n",
              "1126   55    male  29.900         0     no  southwest\n",
              "\n",
              "[1070 rows x 6 columns]"
            ]
          },
          "metadata": {},
          "execution_count": 26
        }
      ]
    },
    {
      "cell_type": "code",
      "metadata": {
        "colab": {
          "base_uri": "https://localhost:8080/",
          "height": 424
        },
        "id": "5LaYLWhjQiRf",
        "outputId": "3f284010-519e-4cd8-84bd-c30b6d8c8927"
      },
      "source": [
        "pd.DataFrame(X_train_norm)"
      ],
      "execution_count": null,
      "outputs": [
        {
          "output_type": "execute_result",
          "data": {
            "text/html": [
              "<div>\n",
              "<style scoped>\n",
              "    .dataframe tbody tr th:only-of-type {\n",
              "        vertical-align: middle;\n",
              "    }\n",
              "\n",
              "    .dataframe tbody tr th {\n",
              "        vertical-align: top;\n",
              "    }\n",
              "\n",
              "    .dataframe thead th {\n",
              "        text-align: right;\n",
              "    }\n",
              "</style>\n",
              "<table border=\"1\" class=\"dataframe\">\n",
              "  <thead>\n",
              "    <tr style=\"text-align: right;\">\n",
              "      <th></th>\n",
              "      <th>0</th>\n",
              "      <th>1</th>\n",
              "      <th>2</th>\n",
              "      <th>3</th>\n",
              "      <th>4</th>\n",
              "      <th>5</th>\n",
              "      <th>6</th>\n",
              "      <th>7</th>\n",
              "      <th>8</th>\n",
              "      <th>9</th>\n",
              "      <th>10</th>\n",
              "    </tr>\n",
              "  </thead>\n",
              "  <tbody>\n",
              "    <tr>\n",
              "      <th>0</th>\n",
              "      <td>0.608696</td>\n",
              "      <td>0.107345</td>\n",
              "      <td>0.4</td>\n",
              "      <td>1.0</td>\n",
              "      <td>0.0</td>\n",
              "      <td>1.0</td>\n",
              "      <td>0.0</td>\n",
              "      <td>0.0</td>\n",
              "      <td>1.0</td>\n",
              "      <td>0.0</td>\n",
              "      <td>0.0</td>\n",
              "    </tr>\n",
              "    <tr>\n",
              "      <th>1</th>\n",
              "      <td>0.630435</td>\n",
              "      <td>0.224913</td>\n",
              "      <td>0.0</td>\n",
              "      <td>1.0</td>\n",
              "      <td>0.0</td>\n",
              "      <td>1.0</td>\n",
              "      <td>0.0</td>\n",
              "      <td>1.0</td>\n",
              "      <td>0.0</td>\n",
              "      <td>0.0</td>\n",
              "      <td>0.0</td>\n",
              "    </tr>\n",
              "    <tr>\n",
              "      <th>2</th>\n",
              "      <td>0.739130</td>\n",
              "      <td>0.239440</td>\n",
              "      <td>0.0</td>\n",
              "      <td>1.0</td>\n",
              "      <td>0.0</td>\n",
              "      <td>1.0</td>\n",
              "      <td>0.0</td>\n",
              "      <td>0.0</td>\n",
              "      <td>0.0</td>\n",
              "      <td>1.0</td>\n",
              "      <td>0.0</td>\n",
              "    </tr>\n",
              "    <tr>\n",
              "      <th>3</th>\n",
              "      <td>0.456522</td>\n",
              "      <td>0.493947</td>\n",
              "      <td>1.0</td>\n",
              "      <td>1.0</td>\n",
              "      <td>0.0</td>\n",
              "      <td>1.0</td>\n",
              "      <td>0.0</td>\n",
              "      <td>0.0</td>\n",
              "      <td>0.0</td>\n",
              "      <td>1.0</td>\n",
              "      <td>0.0</td>\n",
              "    </tr>\n",
              "    <tr>\n",
              "      <th>4</th>\n",
              "      <td>0.782609</td>\n",
              "      <td>0.148238</td>\n",
              "      <td>0.6</td>\n",
              "      <td>1.0</td>\n",
              "      <td>0.0</td>\n",
              "      <td>1.0</td>\n",
              "      <td>0.0</td>\n",
              "      <td>0.0</td>\n",
              "      <td>1.0</td>\n",
              "      <td>0.0</td>\n",
              "      <td>0.0</td>\n",
              "    </tr>\n",
              "    <tr>\n",
              "      <th>...</th>\n",
              "      <td>...</td>\n",
              "      <td>...</td>\n",
              "      <td>...</td>\n",
              "      <td>...</td>\n",
              "      <td>...</td>\n",
              "      <td>...</td>\n",
              "      <td>...</td>\n",
              "      <td>...</td>\n",
              "      <td>...</td>\n",
              "      <td>...</td>\n",
              "      <td>...</td>\n",
              "    </tr>\n",
              "    <tr>\n",
              "      <th>1065</th>\n",
              "      <td>0.000000</td>\n",
              "      <td>0.414044</td>\n",
              "      <td>0.8</td>\n",
              "      <td>1.0</td>\n",
              "      <td>0.0</td>\n",
              "      <td>1.0</td>\n",
              "      <td>0.0</td>\n",
              "      <td>1.0</td>\n",
              "      <td>0.0</td>\n",
              "      <td>0.0</td>\n",
              "      <td>0.0</td>\n",
              "    </tr>\n",
              "    <tr>\n",
              "      <th>1066</th>\n",
              "      <td>0.456522</td>\n",
              "      <td>0.212806</td>\n",
              "      <td>1.0</td>\n",
              "      <td>1.0</td>\n",
              "      <td>0.0</td>\n",
              "      <td>1.0</td>\n",
              "      <td>0.0</td>\n",
              "      <td>0.0</td>\n",
              "      <td>0.0</td>\n",
              "      <td>1.0</td>\n",
              "      <td>0.0</td>\n",
              "    </tr>\n",
              "    <tr>\n",
              "      <th>1067</th>\n",
              "      <td>0.869565</td>\n",
              "      <td>0.247915</td>\n",
              "      <td>0.0</td>\n",
              "      <td>0.0</td>\n",
              "      <td>1.0</td>\n",
              "      <td>1.0</td>\n",
              "      <td>0.0</td>\n",
              "      <td>1.0</td>\n",
              "      <td>0.0</td>\n",
              "      <td>0.0</td>\n",
              "      <td>0.0</td>\n",
              "    </tr>\n",
              "    <tr>\n",
              "      <th>1068</th>\n",
              "      <td>0.413043</td>\n",
              "      <td>0.851224</td>\n",
              "      <td>0.4</td>\n",
              "      <td>1.0</td>\n",
              "      <td>0.0</td>\n",
              "      <td>0.0</td>\n",
              "      <td>1.0</td>\n",
              "      <td>0.0</td>\n",
              "      <td>0.0</td>\n",
              "      <td>0.0</td>\n",
              "      <td>1.0</td>\n",
              "    </tr>\n",
              "    <tr>\n",
              "      <th>1069</th>\n",
              "      <td>0.804348</td>\n",
              "      <td>0.375034</td>\n",
              "      <td>0.0</td>\n",
              "      <td>0.0</td>\n",
              "      <td>1.0</td>\n",
              "      <td>1.0</td>\n",
              "      <td>0.0</td>\n",
              "      <td>0.0</td>\n",
              "      <td>0.0</td>\n",
              "      <td>0.0</td>\n",
              "      <td>1.0</td>\n",
              "    </tr>\n",
              "  </tbody>\n",
              "</table>\n",
              "<p>1070 rows × 11 columns</p>\n",
              "</div>"
            ],
            "text/plain": [
              "            0         1    2    3    4    5    6    7    8    9    10\n",
              "0     0.608696  0.107345  0.4  1.0  0.0  1.0  0.0  0.0  1.0  0.0  0.0\n",
              "1     0.630435  0.224913  0.0  1.0  0.0  1.0  0.0  1.0  0.0  0.0  0.0\n",
              "2     0.739130  0.239440  0.0  1.0  0.0  1.0  0.0  0.0  0.0  1.0  0.0\n",
              "3     0.456522  0.493947  1.0  1.0  0.0  1.0  0.0  0.0  0.0  1.0  0.0\n",
              "4     0.782609  0.148238  0.6  1.0  0.0  1.0  0.0  0.0  1.0  0.0  0.0\n",
              "...        ...       ...  ...  ...  ...  ...  ...  ...  ...  ...  ...\n",
              "1065  0.000000  0.414044  0.8  1.0  0.0  1.0  0.0  1.0  0.0  0.0  0.0\n",
              "1066  0.456522  0.212806  1.0  1.0  0.0  1.0  0.0  0.0  0.0  1.0  0.0\n",
              "1067  0.869565  0.247915  0.0  0.0  1.0  1.0  0.0  1.0  0.0  0.0  0.0\n",
              "1068  0.413043  0.851224  0.4  1.0  0.0  0.0  1.0  0.0  0.0  0.0  1.0\n",
              "1069  0.804348  0.375034  0.0  0.0  1.0  1.0  0.0  0.0  0.0  0.0  1.0\n",
              "\n",
              "[1070 rows x 11 columns]"
            ]
          },
          "metadata": {},
          "execution_count": 27
        }
      ]
    },
    {
      "cell_type": "code",
      "metadata": {
        "colab": {
          "base_uri": "https://localhost:8080/",
          "height": 424
        },
        "id": "DBriNYj1RAtU",
        "outputId": "a51a43f2-81ca-4725-fa2a-9155dd120fca"
      },
      "source": [
        "X_test"
      ],
      "execution_count": null,
      "outputs": [
        {
          "output_type": "execute_result",
          "data": {
            "text/html": [
              "<div>\n",
              "<style scoped>\n",
              "    .dataframe tbody tr th:only-of-type {\n",
              "        vertical-align: middle;\n",
              "    }\n",
              "\n",
              "    .dataframe tbody tr th {\n",
              "        vertical-align: top;\n",
              "    }\n",
              "\n",
              "    .dataframe thead th {\n",
              "        text-align: right;\n",
              "    }\n",
              "</style>\n",
              "<table border=\"1\" class=\"dataframe\">\n",
              "  <thead>\n",
              "    <tr style=\"text-align: right;\">\n",
              "      <th></th>\n",
              "      <th>age</th>\n",
              "      <th>sex</th>\n",
              "      <th>bmi</th>\n",
              "      <th>children</th>\n",
              "      <th>smoker</th>\n",
              "      <th>region</th>\n",
              "    </tr>\n",
              "  </thead>\n",
              "  <tbody>\n",
              "    <tr>\n",
              "      <th>764</th>\n",
              "      <td>45</td>\n",
              "      <td>female</td>\n",
              "      <td>25.175</td>\n",
              "      <td>2</td>\n",
              "      <td>no</td>\n",
              "      <td>northeast</td>\n",
              "    </tr>\n",
              "    <tr>\n",
              "      <th>887</th>\n",
              "      <td>36</td>\n",
              "      <td>female</td>\n",
              "      <td>30.020</td>\n",
              "      <td>0</td>\n",
              "      <td>no</td>\n",
              "      <td>northwest</td>\n",
              "    </tr>\n",
              "    <tr>\n",
              "      <th>890</th>\n",
              "      <td>64</td>\n",
              "      <td>female</td>\n",
              "      <td>26.885</td>\n",
              "      <td>0</td>\n",
              "      <td>yes</td>\n",
              "      <td>northwest</td>\n",
              "    </tr>\n",
              "    <tr>\n",
              "      <th>1293</th>\n",
              "      <td>46</td>\n",
              "      <td>male</td>\n",
              "      <td>25.745</td>\n",
              "      <td>3</td>\n",
              "      <td>no</td>\n",
              "      <td>northwest</td>\n",
              "    </tr>\n",
              "    <tr>\n",
              "      <th>259</th>\n",
              "      <td>19</td>\n",
              "      <td>male</td>\n",
              "      <td>31.920</td>\n",
              "      <td>0</td>\n",
              "      <td>yes</td>\n",
              "      <td>northwest</td>\n",
              "    </tr>\n",
              "    <tr>\n",
              "      <th>...</th>\n",
              "      <td>...</td>\n",
              "      <td>...</td>\n",
              "      <td>...</td>\n",
              "      <td>...</td>\n",
              "      <td>...</td>\n",
              "      <td>...</td>\n",
              "    </tr>\n",
              "    <tr>\n",
              "      <th>109</th>\n",
              "      <td>63</td>\n",
              "      <td>male</td>\n",
              "      <td>35.090</td>\n",
              "      <td>0</td>\n",
              "      <td>yes</td>\n",
              "      <td>southeast</td>\n",
              "    </tr>\n",
              "    <tr>\n",
              "      <th>575</th>\n",
              "      <td>58</td>\n",
              "      <td>female</td>\n",
              "      <td>27.170</td>\n",
              "      <td>0</td>\n",
              "      <td>no</td>\n",
              "      <td>northwest</td>\n",
              "    </tr>\n",
              "    <tr>\n",
              "      <th>535</th>\n",
              "      <td>38</td>\n",
              "      <td>male</td>\n",
              "      <td>28.025</td>\n",
              "      <td>1</td>\n",
              "      <td>no</td>\n",
              "      <td>northeast</td>\n",
              "    </tr>\n",
              "    <tr>\n",
              "      <th>543</th>\n",
              "      <td>54</td>\n",
              "      <td>female</td>\n",
              "      <td>47.410</td>\n",
              "      <td>0</td>\n",
              "      <td>yes</td>\n",
              "      <td>southeast</td>\n",
              "    </tr>\n",
              "    <tr>\n",
              "      <th>846</th>\n",
              "      <td>51</td>\n",
              "      <td>female</td>\n",
              "      <td>34.200</td>\n",
              "      <td>1</td>\n",
              "      <td>no</td>\n",
              "      <td>southwest</td>\n",
              "    </tr>\n",
              "  </tbody>\n",
              "</table>\n",
              "<p>268 rows × 6 columns</p>\n",
              "</div>"
            ],
            "text/plain": [
              "      age     sex     bmi  children smoker     region\n",
              "764    45  female  25.175         2     no  northeast\n",
              "887    36  female  30.020         0     no  northwest\n",
              "890    64  female  26.885         0    yes  northwest\n",
              "1293   46    male  25.745         3     no  northwest\n",
              "259    19    male  31.920         0    yes  northwest\n",
              "...   ...     ...     ...       ...    ...        ...\n",
              "109    63    male  35.090         0    yes  southeast\n",
              "575    58  female  27.170         0     no  northwest\n",
              "535    38    male  28.025         1     no  northeast\n",
              "543    54  female  47.410         0    yes  southeast\n",
              "846    51  female  34.200         1     no  southwest\n",
              "\n",
              "[268 rows x 6 columns]"
            ]
          },
          "metadata": {},
          "execution_count": 28
        }
      ]
    },
    {
      "cell_type": "code",
      "metadata": {
        "colab": {
          "base_uri": "https://localhost:8080/",
          "height": 424
        },
        "id": "LYUbYXUAQ2Tp",
        "outputId": "6890fcfa-ae9f-45f1-a8e7-e31390301dbb"
      },
      "source": [
        "pd.DataFrame(X_test_norm)"
      ],
      "execution_count": null,
      "outputs": [
        {
          "output_type": "execute_result",
          "data": {
            "text/html": [
              "<div>\n",
              "<style scoped>\n",
              "    .dataframe tbody tr th:only-of-type {\n",
              "        vertical-align: middle;\n",
              "    }\n",
              "\n",
              "    .dataframe tbody tr th {\n",
              "        vertical-align: top;\n",
              "    }\n",
              "\n",
              "    .dataframe thead th {\n",
              "        text-align: right;\n",
              "    }\n",
              "</style>\n",
              "<table border=\"1\" class=\"dataframe\">\n",
              "  <thead>\n",
              "    <tr style=\"text-align: right;\">\n",
              "      <th></th>\n",
              "      <th>0</th>\n",
              "      <th>1</th>\n",
              "      <th>2</th>\n",
              "      <th>3</th>\n",
              "      <th>4</th>\n",
              "      <th>5</th>\n",
              "      <th>6</th>\n",
              "      <th>7</th>\n",
              "      <th>8</th>\n",
              "      <th>9</th>\n",
              "      <th>10</th>\n",
              "    </tr>\n",
              "  </thead>\n",
              "  <tbody>\n",
              "    <tr>\n",
              "      <th>0</th>\n",
              "      <td>0.586957</td>\n",
              "      <td>0.247915</td>\n",
              "      <td>0.4</td>\n",
              "      <td>1.0</td>\n",
              "      <td>0.0</td>\n",
              "      <td>1.0</td>\n",
              "      <td>0.0</td>\n",
              "      <td>1.0</td>\n",
              "      <td>0.0</td>\n",
              "      <td>0.0</td>\n",
              "      <td>0.0</td>\n",
              "    </tr>\n",
              "    <tr>\n",
              "      <th>1</th>\n",
              "      <td>0.391304</td>\n",
              "      <td>0.378262</td>\n",
              "      <td>0.0</td>\n",
              "      <td>1.0</td>\n",
              "      <td>0.0</td>\n",
              "      <td>1.0</td>\n",
              "      <td>0.0</td>\n",
              "      <td>0.0</td>\n",
              "      <td>1.0</td>\n",
              "      <td>0.0</td>\n",
              "      <td>0.0</td>\n",
              "    </tr>\n",
              "    <tr>\n",
              "      <th>2</th>\n",
              "      <td>1.000000</td>\n",
              "      <td>0.293920</td>\n",
              "      <td>0.0</td>\n",
              "      <td>1.0</td>\n",
              "      <td>0.0</td>\n",
              "      <td>0.0</td>\n",
              "      <td>1.0</td>\n",
              "      <td>0.0</td>\n",
              "      <td>1.0</td>\n",
              "      <td>0.0</td>\n",
              "      <td>0.0</td>\n",
              "    </tr>\n",
              "    <tr>\n",
              "      <th>3</th>\n",
              "      <td>0.608696</td>\n",
              "      <td>0.263250</td>\n",
              "      <td>0.6</td>\n",
              "      <td>0.0</td>\n",
              "      <td>1.0</td>\n",
              "      <td>1.0</td>\n",
              "      <td>0.0</td>\n",
              "      <td>0.0</td>\n",
              "      <td>1.0</td>\n",
              "      <td>0.0</td>\n",
              "      <td>0.0</td>\n",
              "    </tr>\n",
              "    <tr>\n",
              "      <th>4</th>\n",
              "      <td>0.021739</td>\n",
              "      <td>0.429379</td>\n",
              "      <td>0.0</td>\n",
              "      <td>0.0</td>\n",
              "      <td>1.0</td>\n",
              "      <td>0.0</td>\n",
              "      <td>1.0</td>\n",
              "      <td>0.0</td>\n",
              "      <td>1.0</td>\n",
              "      <td>0.0</td>\n",
              "      <td>0.0</td>\n",
              "    </tr>\n",
              "    <tr>\n",
              "      <th>...</th>\n",
              "      <td>...</td>\n",
              "      <td>...</td>\n",
              "      <td>...</td>\n",
              "      <td>...</td>\n",
              "      <td>...</td>\n",
              "      <td>...</td>\n",
              "      <td>...</td>\n",
              "      <td>...</td>\n",
              "      <td>...</td>\n",
              "      <td>...</td>\n",
              "      <td>...</td>\n",
              "    </tr>\n",
              "    <tr>\n",
              "      <th>263</th>\n",
              "      <td>0.978261</td>\n",
              "      <td>0.514662</td>\n",
              "      <td>0.0</td>\n",
              "      <td>0.0</td>\n",
              "      <td>1.0</td>\n",
              "      <td>0.0</td>\n",
              "      <td>1.0</td>\n",
              "      <td>0.0</td>\n",
              "      <td>0.0</td>\n",
              "      <td>1.0</td>\n",
              "      <td>0.0</td>\n",
              "    </tr>\n",
              "    <tr>\n",
              "      <th>264</th>\n",
              "      <td>0.869565</td>\n",
              "      <td>0.301587</td>\n",
              "      <td>0.0</td>\n",
              "      <td>1.0</td>\n",
              "      <td>0.0</td>\n",
              "      <td>1.0</td>\n",
              "      <td>0.0</td>\n",
              "      <td>0.0</td>\n",
              "      <td>1.0</td>\n",
              "      <td>0.0</td>\n",
              "      <td>0.0</td>\n",
              "    </tr>\n",
              "    <tr>\n",
              "      <th>265</th>\n",
              "      <td>0.434783</td>\n",
              "      <td>0.324590</td>\n",
              "      <td>0.2</td>\n",
              "      <td>0.0</td>\n",
              "      <td>1.0</td>\n",
              "      <td>1.0</td>\n",
              "      <td>0.0</td>\n",
              "      <td>1.0</td>\n",
              "      <td>0.0</td>\n",
              "      <td>0.0</td>\n",
              "      <td>0.0</td>\n",
              "    </tr>\n",
              "    <tr>\n",
              "      <th>266</th>\n",
              "      <td>0.782609</td>\n",
              "      <td>0.846112</td>\n",
              "      <td>0.0</td>\n",
              "      <td>1.0</td>\n",
              "      <td>0.0</td>\n",
              "      <td>0.0</td>\n",
              "      <td>1.0</td>\n",
              "      <td>0.0</td>\n",
              "      <td>0.0</td>\n",
              "      <td>1.0</td>\n",
              "      <td>0.0</td>\n",
              "    </tr>\n",
              "    <tr>\n",
              "      <th>267</th>\n",
              "      <td>0.717391</td>\n",
              "      <td>0.490718</td>\n",
              "      <td>0.2</td>\n",
              "      <td>1.0</td>\n",
              "      <td>0.0</td>\n",
              "      <td>1.0</td>\n",
              "      <td>0.0</td>\n",
              "      <td>0.0</td>\n",
              "      <td>0.0</td>\n",
              "      <td>0.0</td>\n",
              "      <td>1.0</td>\n",
              "    </tr>\n",
              "  </tbody>\n",
              "</table>\n",
              "<p>268 rows × 11 columns</p>\n",
              "</div>"
            ],
            "text/plain": [
              "           0         1    2    3    4    5    6    7    8    9    10\n",
              "0    0.586957  0.247915  0.4  1.0  0.0  1.0  0.0  1.0  0.0  0.0  0.0\n",
              "1    0.391304  0.378262  0.0  1.0  0.0  1.0  0.0  0.0  1.0  0.0  0.0\n",
              "2    1.000000  0.293920  0.0  1.0  0.0  0.0  1.0  0.0  1.0  0.0  0.0\n",
              "3    0.608696  0.263250  0.6  0.0  1.0  1.0  0.0  0.0  1.0  0.0  0.0\n",
              "4    0.021739  0.429379  0.0  0.0  1.0  0.0  1.0  0.0  1.0  0.0  0.0\n",
              "..        ...       ...  ...  ...  ...  ...  ...  ...  ...  ...  ...\n",
              "263  0.978261  0.514662  0.0  0.0  1.0  0.0  1.0  0.0  0.0  1.0  0.0\n",
              "264  0.869565  0.301587  0.0  1.0  0.0  1.0  0.0  0.0  1.0  0.0  0.0\n",
              "265  0.434783  0.324590  0.2  0.0  1.0  1.0  0.0  1.0  0.0  0.0  0.0\n",
              "266  0.782609  0.846112  0.0  1.0  0.0  0.0  1.0  0.0  0.0  1.0  0.0\n",
              "267  0.717391  0.490718  0.2  1.0  0.0  1.0  0.0  0.0  0.0  0.0  1.0\n",
              "\n",
              "[268 rows x 11 columns]"
            ]
          },
          "metadata": {},
          "execution_count": 29
        }
      ]
    },
    {
      "cell_type": "code",
      "metadata": {
        "colab": {
          "base_uri": "https://localhost:8080/"
        },
        "id": "qHRXVozUSXDg",
        "outputId": "4f9f43eb-7322-4ee5-b9e6-41d61188b414"
      },
      "source": [
        "X_train_norm.shape, y_train.shape"
      ],
      "execution_count": null,
      "outputs": [
        {
          "output_type": "execute_result",
          "data": {
            "text/plain": [
              "((1070, 11), (1070,))"
            ]
          },
          "metadata": {},
          "execution_count": 30
        }
      ]
    },
    {
      "cell_type": "markdown",
      "metadata": {
        "id": "tvR0maD9RJK2"
      },
      "source": [
        "First experiment:\n",
        "* Building a larger model (how does one with 4 dense layers go?)."
      ]
    },
    {
      "cell_type": "code",
      "metadata": {
        "id": "aQeEUyBnRCgQ"
      },
      "source": [
        "# Set random seed\n",
        "tf.random.set_seed(42)\n",
        "\n",
        "# Create the model (4 layers: 100, 50, 10, and 1 node)\n",
        "model = tf.keras.Sequential([\n",
        "                             tf.keras.layers.Dense(100, input_shape=(X_train_norm.shape[-1],)),\n",
        "                             tf.keras.layers.Dense(50),\n",
        "                             tf.keras.layers.Dense(10),\n",
        "                             tf.keras.layers.Dense(1)\n",
        "])\n",
        "\n",
        "# Compile the model (optimizer Adam)\n",
        "model.compile(loss=tf.keras.losses.mae,\n",
        "              optimizer=tf.keras.optimizers.Adam(),\n",
        "              metrics=['mae'])"
      ],
      "execution_count": null,
      "outputs": []
    },
    {
      "cell_type": "code",
      "metadata": {
        "colab": {
          "base_uri": "https://localhost:8080/"
        },
        "id": "LVNSbYUdx_Bf",
        "outputId": "a2b50ec5-bdbd-4da5-af26-4c1085be5fba"
      },
      "source": [
        "# Model summary\n",
        "model.summary()"
      ],
      "execution_count": null,
      "outputs": [
        {
          "output_type": "stream",
          "name": "stdout",
          "text": [
            "Model: \"sequential_1\"\n",
            "_________________________________________________________________\n",
            "Layer (type)                 Output Shape              Param #   \n",
            "=================================================================\n",
            "dense_4 (Dense)              (None, 100)               1200      \n",
            "_________________________________________________________________\n",
            "dense_5 (Dense)              (None, 50)                5050      \n",
            "_________________________________________________________________\n",
            "dense_6 (Dense)              (None, 10)                510       \n",
            "_________________________________________________________________\n",
            "dense_7 (Dense)              (None, 1)                 11        \n",
            "=================================================================\n",
            "Total params: 6,771\n",
            "Trainable params: 6,771\n",
            "Non-trainable params: 0\n",
            "_________________________________________________________________\n"
          ]
        }
      ]
    },
    {
      "cell_type": "code",
      "metadata": {
        "colab": {
          "base_uri": "https://localhost:8080/",
          "height": 533
        },
        "id": "OKWieluiTUNN",
        "outputId": "e71cb00d-4723-44d8-f07e-5727befe3677"
      },
      "source": [
        "# Plot the model architecture\n",
        "from tensorflow.keras.utils import plot_model\n",
        "plot_model(model, show_shapes=True)"
      ],
      "execution_count": null,
      "outputs": [
        {
          "output_type": "execute_result",
          "data": {
            "image/png": "[encoded data removed]",
            "text/plain": [
              "<IPython.core.display.Image object>"
            ]
          },
          "metadata": {},
          "execution_count": 33
        }
      ]
    },
    {
      "cell_type": "code",
      "metadata": {
        "id": "S-eF8GPYXmbm"
      },
      "source": [
        "# Fit the model for training (200 epochs)\n",
        "history = model.fit(X_train_norm, y_train, epochs=200, verbose=0)"
      ],
      "execution_count": null,
      "outputs": []
    },
    {
      "cell_type": "code",
      "metadata": {
        "colab": {
          "base_uri": "https://localhost:8080/",
          "height": 279
        },
        "id": "mld-igIqqno6",
        "outputId": "a3411b6f-e70c-4cea-82f9-04aa55ca8b5b"
      },
      "source": [
        "# Plot the loss curve\n",
        "pd.DataFrame(history.history).plot()\n",
        "plt.xlabel('epochs')\n",
        "plt.ylabel('loss');"
      ],
      "execution_count": null,
      "outputs": [
        {
          "output_type": "display_data",
          "data": {
            "image/png": "[encoded data removed]",
            "text/plain": [
              "<Figure size 432x288 with 1 Axes>"
            ]
          },
          "metadata": {
            "needs_background": "light"
          }
        }
      ]
    },
    {
      "cell_type": "code",
      "metadata": {
        "colab": {
          "base_uri": "https://localhost:8080/"
        },
        "id": "7-OIVmCEYDYr",
        "outputId": "3711687d-683f-445f-c312-3402f720f27e"
      },
      "source": [
        "# Evaluate the predictions on test set\n",
        "_, mae = model.evaluate(X_test_norm, y_test, verbose=0)\n",
        "mae"
      ],
      "execution_count": null,
      "outputs": [
        {
          "output_type": "execute_result",
          "data": {
            "text/plain": [
              "3179.83740234375"
            ]
          },
          "metadata": {},
          "execution_count": 36
        }
      ]
    },
    {
      "cell_type": "markdown",
      "metadata": {
        "id": "FFiFAB0kqein"
      },
      "source": [
        "Second experiment:\n",
        "\n",
        "* Increasing the number of units in each layer.\n",
        "* Everything else stays the same as in first model."
      ]
    },
    {
      "cell_type": "code",
      "metadata": {
        "id": "oycO659Rl-ls"
      },
      "source": [
        "# Set random seed\n",
        "tf.random.set_seed(42)\n",
        "\n",
        "# Create model_2 (4 layers but increase the number of nodes)\n",
        "model_2 = tf.keras.Sequential([\n",
        "                               tf.keras.layers.Dense(150, input_shape=(X_train_norm.shape[-1],)),\n",
        "                               tf.keras.layers.Dense(100),\n",
        "                               tf.keras.layers.Dense(50),\n",
        "                               tf.keras.layers.Dense(1)\n",
        "])\n",
        "\n",
        "# Compile the model\n",
        "model_2.compile(loss=tf.keras.losses.mae,\n",
        "                optimizer=tf.keras.optimizers.Adam(),\n",
        "                metrics=['mae'])"
      ],
      "execution_count": null,
      "outputs": []
    },
    {
      "cell_type": "code",
      "metadata": {
        "colab": {
          "base_uri": "https://localhost:8080/"
        },
        "id": "dJeJdkBIvOCa",
        "outputId": "ee779bea-5ea5-4d53-dc69-fbcc2e89f55f"
      },
      "source": [
        "# Model summary\n",
        "model_2.summary()"
      ],
      "execution_count": null,
      "outputs": [
        {
          "output_type": "stream",
          "name": "stdout",
          "text": [
            "Model: \"sequential_2\"\n",
            "_________________________________________________________________\n",
            "Layer (type)                 Output Shape              Param #   \n",
            "=================================================================\n",
            "dense_8 (Dense)              (None, 150)               1800      \n",
            "_________________________________________________________________\n",
            "dense_9 (Dense)              (None, 100)               15100     \n",
            "_________________________________________________________________\n",
            "dense_10 (Dense)             (None, 50)                5050      \n",
            "_________________________________________________________________\n",
            "dense_11 (Dense)             (None, 1)                 51        \n",
            "=================================================================\n",
            "Total params: 22,001\n",
            "Trainable params: 22,001\n",
            "Non-trainable params: 0\n",
            "_________________________________________________________________\n"
          ]
        }
      ]
    },
    {
      "cell_type": "code",
      "metadata": {
        "id": "K3YI5NgtvjnM"
      },
      "source": [
        "# Fit the model\n",
        "history_2 = model_2.fit(X_train_norm, y_train, epochs=200, verbose=0)"
      ],
      "execution_count": null,
      "outputs": []
    },
    {
      "cell_type": "code",
      "metadata": {
        "colab": {
          "base_uri": "https://localhost:8080/",
          "height": 279
        },
        "id": "8Kmz9Ng9wWoV",
        "outputId": "c0198f79-3e0a-40fe-b729-91fd2815e060"
      },
      "source": [
        "# Plot model_2 history\n",
        "pd.DataFrame(history_2.history).plot()\n",
        "plt.xlabel('epochs')\n",
        "plt.ylabel('loss');"
      ],
      "execution_count": null,
      "outputs": [
        {
          "output_type": "display_data",
          "data": {
            "image/png": "[encoded data removed]",
            "text/plain": [
              "<Figure size 432x288 with 1 Axes>"
            ]
          },
          "metadata": {
            "needs_background": "light"
          }
        }
      ]
    },
    {
      "cell_type": "code",
      "metadata": {
        "colab": {
          "base_uri": "https://localhost:8080/"
        },
        "id": "JTdVE5BMz6an",
        "outputId": "86e6843b-e515-4080-82ec-c1c1c4f7b4fe"
      },
      "source": [
        "# Evaluation\n",
        "_, mae_2 = model_2.evaluate(X_test_norm, y_test, verbose=0)\n",
        "mae_2"
      ],
      "execution_count": null,
      "outputs": [
        {
          "output_type": "execute_result",
          "data": {
            "text/plain": [
              "3174.941162109375"
            ]
          },
          "metadata": {},
          "execution_count": 41
        }
      ]
    },
    {
      "cell_type": "markdown",
      "metadata": {
        "id": "mKJ7In240hgj"
      },
      "source": [
        "Third experiment:\n",
        "\n",
        "* Lookup the documentation of [Adam](https://www.tensorflow.org/api_docs/python/tf/keras/optimizers/Adam) and find out what the first parameter is, what happens if you increase it by 10x?\n",
        "* Everything else stays as first model."
      ]
    },
    {
      "cell_type": "code",
      "metadata": {
        "id": "gjCsU-J40IFZ"
      },
      "source": [
        "# Set random seed\n",
        "tf.random.set_seed(42)\n",
        "\n",
        "# Create model (same as first model)\n",
        "model_3 = tf.keras.Sequential([\n",
        "                               tf.keras.layers.Dense(100),\n",
        "                               tf.keras.layers.Dense(50),\n",
        "                               tf.keras.layers.Dense(10),\n",
        "                               tf.keras.layers.Dense(1)\n",
        "])\n",
        "\n",
        "# Compile model (optimizer Adam(lr=0.01))\n",
        "model_3.compile(loss=tf.keras.losses.mae,\n",
        "                optimizer=tf.keras.optimizers.Adam(learning_rate=0.01),\n",
        "                metrics=['mae'])"
      ],
      "execution_count": null,
      "outputs": []
    },
    {
      "cell_type": "code",
      "metadata": {
        "colab": {
          "base_uri": "https://localhost:8080/"
        },
        "id": "SwVEibVH2Mci",
        "outputId": "28c596cd-9df3-44e7-e17d-9a0ff29b3461"
      },
      "source": [
        "# Fit the model\n",
        "history_3 = model_3.fit(X_train_norm, y_train, epochs=200)"
      ],
      "execution_count": null,
      "outputs": [
        {
          "output_type": "stream",
          "name": "stdout",
          "text": [
            "Epoch 1/200\n",
            "34/34 [==============================] - 1s 2ms/step - loss: 12122.4551 - mae: 12122.4551\n",
            "Epoch 2/200\n",
            "34/34 [==============================] - 0s 2ms/step - loss: 7648.9434 - mae: 7648.9434\n",
            "Epoch 3/200\n",
            "34/34 [==============================] - 0s 2ms/step - loss: 5989.5879 - mae: 5989.5879\n",
            "Epoch 4/200\n",
            "34/34 [==============================] - 0s 2ms/step - loss: 3933.2312 - mae: 3933.2312\n",
            "Epoch 5/200\n",
            "34/34 [==============================] - 0s 2ms/step - loss: 3631.3118 - mae: 3631.3118\n",
            "Epoch 6/200\n",
            "34/34 [==============================] - 0s 2ms/step - loss: 3640.4832 - mae: 3640.4832\n",
            "Epoch 7/200\n",
            "34/34 [==============================] - 0s 2ms/step - loss: 3561.0747 - mae: 3561.0747\n",
            "Epoch 8/200\n",
            "34/34 [==============================] - 0s 2ms/step - loss: 3656.8723 - mae: 3656.8723\n",
            "Epoch 9/200\n",
            "34/34 [==============================] - 0s 2ms/step - loss: 3599.5771 - mae: 3599.5771\n",
            "Epoch 10/200\n",
            "34/34 [==============================] - 0s 2ms/step - loss: 3555.4492 - mae: 3555.4492\n",
            "Epoch 11/200\n",
            "34/34 [==============================] - 0s 2ms/step - loss: 3536.1841 - mae: 3536.1841\n",
            "Epoch 12/200\n",
            "34/34 [==============================] - 0s 2ms/step - loss: 3560.0681 - mae: 3560.0681\n",
            "Epoch 13/200\n",
            "34/34 [==============================] - 0s 2ms/step - loss: 3508.9863 - mae: 3508.9863\n",
            "Epoch 14/200\n",
            "34/34 [==============================] - 0s 2ms/step - loss: 3522.8704 - mae: 3522.8704\n",
            "Epoch 15/200\n",
            "34/34 [==============================] - 0s 2ms/step - loss: 3560.1787 - mae: 3560.1787\n",
            "Epoch 16/200\n",
            "34/34 [==============================] - 0s 2ms/step - loss: 3535.6128 - mae: 3535.6128\n",
            "Epoch 17/200\n",
            "34/34 [==============================] - 0s 1ms/step - loss: 3557.2908 - mae: 3557.2908\n",
            "Epoch 18/200\n",
            "34/34 [==============================] - 0s 2ms/step - loss: 3537.7595 - mae: 3537.7595\n",
            "Epoch 19/200\n",
            "34/34 [==============================] - 0s 2ms/step - loss: 3567.5859 - mae: 3567.5859\n",
            "Epoch 20/200\n",
            "34/34 [==============================] - 0s 2ms/step - loss: 3523.3635 - mae: 3523.3635\n",
            "Epoch 21/200\n",
            "34/34 [==============================] - 0s 2ms/step - loss: 3539.4080 - mae: 3539.4080\n",
            "Epoch 22/200\n",
            "34/34 [==============================] - 0s 2ms/step - loss: 3518.9668 - mae: 3518.9668\n",
            "Epoch 23/200\n",
            "34/34 [==============================] - 0s 2ms/step - loss: 3511.1702 - mae: 3511.1702\n",
            "Epoch 24/200\n",
            "34/34 [==============================] - 0s 2ms/step - loss: 3568.8545 - mae: 3568.8545\n",
            "Epoch 25/200\n",
            "34/34 [==============================] - 0s 2ms/step - loss: 3601.1094 - mae: 3601.1094\n",
            "Epoch 26/200\n",
            "34/34 [==============================] - 0s 2ms/step - loss: 3561.2317 - mae: 3561.2317\n",
            "Epoch 27/200\n",
            "34/34 [==============================] - 0s 2ms/step - loss: 3606.1050 - mae: 3606.1050\n",
            "Epoch 28/200\n",
            "34/34 [==============================] - 0s 2ms/step - loss: 3603.5979 - mae: 3603.5979\n",
            "Epoch 29/200\n",
            "34/34 [==============================] - 0s 2ms/step - loss: 3543.4460 - mae: 3543.4460\n",
            "Epoch 30/200\n",
            "34/34 [==============================] - 0s 2ms/step - loss: 3522.0012 - mae: 3522.0012\n",
            "Epoch 31/200\n",
            "34/34 [==============================] - 0s 2ms/step - loss: 3520.8315 - mae: 3520.8315\n",
            "Epoch 32/200\n",
            "34/34 [==============================] - 0s 2ms/step - loss: 3546.3616 - mae: 3546.3616\n",
            "Epoch 33/200\n",
            "34/34 [==============================] - 0s 2ms/step - loss: 3571.2463 - mae: 3571.2463\n",
            "Epoch 34/200\n",
            "34/34 [==============================] - 0s 2ms/step - loss: 3617.1057 - mae: 3617.1057\n",
            "Epoch 35/200\n",
            "34/34 [==============================] - 0s 2ms/step - loss: 3540.3201 - mae: 3540.3201\n",
            "Epoch 36/200\n",
            "34/34 [==============================] - 0s 2ms/step - loss: 3517.9309 - mae: 3517.9309\n",
            "Epoch 37/200\n",
            "34/34 [==============================] - 0s 2ms/step - loss: 3510.8079 - mae: 3510.8079\n",
            "Epoch 38/200\n",
            "34/34 [==============================] - 0s 2ms/step - loss: 3548.4507 - mae: 3548.4507\n",
            "Epoch 39/200\n",
            "34/34 [==============================] - 0s 2ms/step - loss: 3582.4097 - mae: 3582.4097\n",
            "Epoch 40/200\n",
            "34/34 [==============================] - 0s 2ms/step - loss: 3575.6716 - mae: 3575.6716\n",
            "Epoch 41/200\n",
            "34/34 [==============================] - 0s 2ms/step - loss: 3570.3555 - mae: 3570.3555\n",
            "Epoch 42/200\n",
            "34/34 [==============================] - 0s 2ms/step - loss: 3558.1143 - mae: 3558.1143\n",
            "Epoch 43/200\n",
            "34/34 [==============================] - 0s 2ms/step - loss: 3541.6182 - mae: 3541.6182\n",
            "Epoch 44/200\n",
            "34/34 [==============================] - 0s 2ms/step - loss: 3562.6548 - mae: 3562.6548\n",
            "Epoch 45/200\n",
            "34/34 [==============================] - 0s 1ms/step - loss: 3503.5007 - mae: 3503.5007\n",
            "Epoch 46/200\n",
            "34/34 [==============================] - 0s 2ms/step - loss: 3565.1416 - mae: 3565.1416\n",
            "Epoch 47/200\n",
            "34/34 [==============================] - 0s 2ms/step - loss: 3555.5479 - mae: 3555.5479\n",
            "Epoch 48/200\n",
            "34/34 [==============================] - 0s 2ms/step - loss: 3525.5830 - mae: 3525.5830\n",
            "Epoch 49/200\n",
            "34/34 [==============================] - 0s 2ms/step - loss: 3541.4895 - mae: 3541.4895\n",
            "Epoch 50/200\n",
            "34/34 [==============================] - 0s 2ms/step - loss: 3515.6311 - mae: 3515.6311\n",
            "Epoch 51/200\n",
            "34/34 [==============================] - 0s 2ms/step - loss: 3510.4182 - mae: 3510.4182\n",
            "Epoch 52/200\n",
            "34/34 [==============================] - 0s 2ms/step - loss: 3512.4702 - mae: 3512.4702\n",
            "Epoch 53/200\n",
            "34/34 [==============================] - 0s 2ms/step - loss: 3549.0894 - mae: 3549.0894\n",
            "Epoch 54/200\n",
            "34/34 [==============================] - 0s 2ms/step - loss: 3550.0996 - mae: 3550.0996\n",
            "Epoch 55/200\n",
            "34/34 [==============================] - 0s 2ms/step - loss: 3578.6218 - mae: 3578.6218\n",
            "Epoch 56/200\n",
            "34/34 [==============================] - 0s 2ms/step - loss: 3553.8433 - mae: 3553.8433\n",
            "Epoch 57/200\n",
            "34/34 [==============================] - 0s 2ms/step - loss: 3538.2749 - mae: 3538.2749\n",
            "Epoch 58/200\n",
            "34/34 [==============================] - 0s 2ms/step - loss: 3520.0642 - mae: 3520.0642\n",
            "Epoch 59/200\n",
            "34/34 [==============================] - 0s 2ms/step - loss: 3496.0237 - mae: 3496.0237\n",
            "Epoch 60/200\n",
            "34/34 [==============================] - 0s 2ms/step - loss: 3559.2166 - mae: 3559.2166\n",
            "Epoch 61/200\n",
            "34/34 [==============================] - 0s 2ms/step - loss: 3534.3701 - mae: 3534.3701\n",
            "Epoch 62/200\n",
            "34/34 [==============================] - 0s 2ms/step - loss: 3545.0842 - mae: 3545.0842\n",
            "Epoch 63/200\n",
            "34/34 [==============================] - 0s 2ms/step - loss: 3558.4082 - mae: 3558.4082\n",
            "Epoch 64/200\n",
            "34/34 [==============================] - 0s 2ms/step - loss: 3511.9680 - mae: 3511.9680\n",
            "Epoch 65/200\n",
            "34/34 [==============================] - 0s 2ms/step - loss: 3519.8625 - mae: 3519.8625\n",
            "Epoch 66/200\n",
            "34/34 [==============================] - 0s 2ms/step - loss: 3534.0876 - mae: 3534.0876\n",
            "Epoch 67/200\n",
            "34/34 [==============================] - 0s 2ms/step - loss: 3537.1912 - mae: 3537.1912\n",
            "Epoch 68/200\n",
            "34/34 [==============================] - 0s 2ms/step - loss: 3531.5815 - mae: 3531.5815\n",
            "Epoch 69/200\n",
            "34/34 [==============================] - 0s 2ms/step - loss: 3521.0420 - mae: 3521.0420\n",
            "Epoch 70/200\n",
            "34/34 [==============================] - 0s 2ms/step - loss: 3528.0823 - mae: 3528.0823\n",
            "Epoch 71/200\n",
            "34/34 [==============================] - 0s 2ms/step - loss: 3511.7073 - mae: 3511.7073\n",
            "Epoch 72/200\n",
            "34/34 [==============================] - 0s 1ms/step - loss: 3531.6826 - mae: 3531.6826\n",
            "Epoch 73/200\n",
            "34/34 [==============================] - 0s 1ms/step - loss: 3590.5039 - mae: 3590.5039\n",
            "Epoch 74/200\n",
            "34/34 [==============================] - 0s 2ms/step - loss: 3576.0317 - mae: 3576.0317\n",
            "Epoch 75/200\n",
            "34/34 [==============================] - 0s 2ms/step - loss: 3525.9663 - mae: 3525.9663\n",
            "Epoch 76/200\n",
            "34/34 [==============================] - 0s 2ms/step - loss: 3536.6084 - mae: 3536.6084\n",
            "Epoch 77/200\n",
            "34/34 [==============================] - 0s 2ms/step - loss: 3519.3997 - mae: 3519.3997\n",
            "Epoch 78/200\n",
            "34/34 [==============================] - 0s 2ms/step - loss: 3512.1726 - mae: 3512.1726\n",
            "Epoch 79/200\n",
            "34/34 [==============================] - 0s 2ms/step - loss: 3566.9668 - mae: 3566.9668\n",
            "Epoch 80/200\n",
            "34/34 [==============================] - 0s 2ms/step - loss: 3611.8789 - mae: 3611.8789\n",
            "Epoch 81/200\n",
            "34/34 [==============================] - 0s 1ms/step - loss: 3624.7810 - mae: 3624.7810\n",
            "Epoch 82/200\n",
            "34/34 [==============================] - 0s 2ms/step - loss: 3574.8713 - mae: 3574.8713\n",
            "Epoch 83/200\n",
            "34/34 [==============================] - 0s 2ms/step - loss: 3536.5925 - mae: 3536.5925\n",
            "Epoch 84/200\n",
            "34/34 [==============================] - 0s 2ms/step - loss: 3590.0557 - mae: 3590.0557\n",
            "Epoch 85/200\n",
            "34/34 [==============================] - 0s 2ms/step - loss: 3525.0789 - mae: 3525.0789\n",
            "Epoch 86/200\n",
            "34/34 [==============================] - 0s 2ms/step - loss: 3538.3726 - mae: 3538.3726\n",
            "Epoch 87/200\n",
            "34/34 [==============================] - 0s 1ms/step - loss: 3549.1309 - mae: 3549.1309\n",
            "Epoch 88/200\n",
            "34/34 [==============================] - 0s 1ms/step - loss: 3532.6836 - mae: 3532.6836\n",
            "Epoch 89/200\n",
            "34/34 [==============================] - 0s 2ms/step - loss: 3508.4041 - mae: 3508.4041\n",
            "Epoch 90/200\n",
            "34/34 [==============================] - 0s 2ms/step - loss: 3527.9458 - mae: 3527.9458\n",
            "Epoch 91/200\n",
            "34/34 [==============================] - 0s 2ms/step - loss: 3535.5444 - mae: 3535.5444\n",
            "Epoch 92/200\n",
            "34/34 [==============================] - 0s 2ms/step - loss: 3614.1458 - mae: 3614.1458\n",
            "Epoch 93/200\n",
            "34/34 [==============================] - 0s 2ms/step - loss: 3604.3779 - mae: 3604.3779\n",
            "Epoch 94/200\n",
            "34/34 [==============================] - 0s 2ms/step - loss: 3531.4375 - mae: 3531.4375\n",
            "Epoch 95/200\n",
            "34/34 [==============================] - 0s 2ms/step - loss: 3525.7170 - mae: 3525.7170\n",
            "Epoch 96/200\n",
            "34/34 [==============================] - 0s 2ms/step - loss: 3521.7444 - mae: 3521.7444\n",
            "Epoch 97/200\n",
            "34/34 [==============================] - 0s 2ms/step - loss: 3584.1057 - mae: 3584.1057\n",
            "Epoch 98/200\n",
            "34/34 [==============================] - 0s 2ms/step - loss: 3527.9507 - mae: 3527.9507\n",
            "Epoch 99/200\n",
            "34/34 [==============================] - 0s 1ms/step - loss: 3548.6633 - mae: 3548.6633\n",
            "Epoch 100/200\n",
            "34/34 [==============================] - 0s 2ms/step - loss: 3508.9241 - mae: 3508.9241\n",
            "Epoch 101/200\n",
            "34/34 [==============================] - 0s 2ms/step - loss: 3513.6787 - mae: 3513.6787\n",
            "Epoch 102/200\n",
            "34/34 [==============================] - 0s 2ms/step - loss: 3604.8267 - mae: 3604.8267\n",
            "Epoch 103/200\n",
            "34/34 [==============================] - 0s 2ms/step - loss: 3538.2485 - mae: 3538.2485\n",
            "Epoch 104/200\n",
            "34/34 [==============================] - 0s 2ms/step - loss: 3518.0930 - mae: 3518.0930\n",
            "Epoch 105/200\n",
            "34/34 [==============================] - 0s 2ms/step - loss: 3554.6084 - mae: 3554.6084\n",
            "Epoch 106/200\n",
            "34/34 [==============================] - 0s 2ms/step - loss: 3524.9041 - mae: 3524.9041\n",
            "Epoch 107/200\n",
            "34/34 [==============================] - 0s 2ms/step - loss: 3531.1042 - mae: 3531.1042\n",
            "Epoch 108/200\n",
            "34/34 [==============================] - 0s 2ms/step - loss: 3514.1023 - mae: 3514.1023\n",
            "Epoch 109/200\n",
            "34/34 [==============================] - 0s 2ms/step - loss: 3548.1133 - mae: 3548.1133\n",
            "Epoch 110/200\n",
            "34/34 [==============================] - 0s 2ms/step - loss: 3516.8315 - mae: 3516.8315\n",
            "Epoch 111/200\n",
            "34/34 [==============================] - 0s 2ms/step - loss: 3545.1851 - mae: 3545.1851\n",
            "Epoch 112/200\n",
            "34/34 [==============================] - 0s 2ms/step - loss: 3549.9192 - mae: 3549.9192\n",
            "Epoch 113/200\n",
            "34/34 [==============================] - 0s 2ms/step - loss: 3632.3586 - mae: 3632.3586\n",
            "Epoch 114/200\n",
            "34/34 [==============================] - 0s 2ms/step - loss: 3541.0098 - mae: 3541.0098\n",
            "Epoch 115/200\n",
            "34/34 [==============================] - 0s 2ms/step - loss: 3528.0144 - mae: 3528.0144\n",
            "Epoch 116/200\n",
            "34/34 [==============================] - 0s 2ms/step - loss: 3577.4253 - mae: 3577.4253\n",
            "Epoch 117/200\n",
            "34/34 [==============================] - 0s 2ms/step - loss: 3509.5908 - mae: 3509.5908\n",
            "Epoch 118/200\n",
            "34/34 [==============================] - 0s 2ms/step - loss: 3503.5942 - mae: 3503.5942\n",
            "Epoch 119/200\n",
            "34/34 [==============================] - 0s 2ms/step - loss: 3491.9075 - mae: 3491.9075\n",
            "Epoch 120/200\n",
            "34/34 [==============================] - 0s 2ms/step - loss: 3491.0835 - mae: 3491.0835\n",
            "Epoch 121/200\n",
            "34/34 [==============================] - 0s 2ms/step - loss: 3525.4731 - mae: 3525.4731\n",
            "Epoch 122/200\n",
            "34/34 [==============================] - 0s 2ms/step - loss: 3540.7302 - mae: 3540.7302\n",
            "Epoch 123/200\n",
            "34/34 [==============================] - 0s 2ms/step - loss: 3547.9287 - mae: 3547.9287\n",
            "Epoch 124/200\n",
            "34/34 [==============================] - 0s 2ms/step - loss: 3522.9272 - mae: 3522.9272\n",
            "Epoch 125/200\n",
            "34/34 [==============================] - 0s 2ms/step - loss: 3524.9792 - mae: 3524.9792\n",
            "Epoch 126/200\n",
            "34/34 [==============================] - 0s 2ms/step - loss: 3560.6960 - mae: 3560.6960\n",
            "Epoch 127/200\n",
            "34/34 [==============================] - 0s 2ms/step - loss: 3514.8257 - mae: 3514.8257\n",
            "Epoch 128/200\n",
            "34/34 [==============================] - 0s 2ms/step - loss: 3565.2637 - mae: 3565.2637\n",
            "Epoch 129/200\n",
            "34/34 [==============================] - 0s 2ms/step - loss: 3559.9126 - mae: 3559.9126\n",
            "Epoch 130/200\n",
            "34/34 [==============================] - 0s 2ms/step - loss: 3576.8667 - mae: 3576.8667\n",
            "Epoch 131/200\n",
            "34/34 [==============================] - 0s 2ms/step - loss: 3488.7732 - mae: 3488.7732\n",
            "Epoch 132/200\n",
            "34/34 [==============================] - 0s 2ms/step - loss: 3559.7947 - mae: 3559.7947\n",
            "Epoch 133/200\n",
            "34/34 [==============================] - 0s 2ms/step - loss: 3528.8545 - mae: 3528.8545\n",
            "Epoch 134/200\n",
            "34/34 [==============================] - 0s 2ms/step - loss: 3523.5872 - mae: 3523.5872\n",
            "Epoch 135/200\n",
            "34/34 [==============================] - 0s 2ms/step - loss: 3527.6099 - mae: 3527.6099\n",
            "Epoch 136/200\n",
            "34/34 [==============================] - 0s 2ms/step - loss: 3508.1470 - mae: 3508.1470\n",
            "Epoch 137/200\n",
            "34/34 [==============================] - 0s 2ms/step - loss: 3508.0112 - mae: 3508.0112\n",
            "Epoch 138/200\n",
            "34/34 [==============================] - 0s 2ms/step - loss: 3539.8276 - mae: 3539.8276\n",
            "Epoch 139/200\n",
            "34/34 [==============================] - 0s 2ms/step - loss: 3538.1914 - mae: 3538.1914\n",
            "Epoch 140/200\n",
            "34/34 [==============================] - 0s 2ms/step - loss: 3536.2678 - mae: 3536.2678\n",
            "Epoch 141/200\n",
            "34/34 [==============================] - 0s 2ms/step - loss: 3565.0916 - mae: 3565.0916\n",
            "Epoch 142/200\n",
            "34/34 [==============================] - 0s 2ms/step - loss: 3570.1445 - mae: 3570.1445\n",
            "Epoch 143/200\n",
            "34/34 [==============================] - 0s 2ms/step - loss: 3524.4763 - mae: 3524.4763\n",
            "Epoch 144/200\n",
            "34/34 [==============================] - 0s 2ms/step - loss: 3516.8853 - mae: 3516.8853\n",
            "Epoch 145/200\n",
            "34/34 [==============================] - 0s 2ms/step - loss: 3517.1396 - mae: 3517.1396\n",
            "Epoch 146/200\n",
            "34/34 [==============================] - 0s 2ms/step - loss: 3545.9407 - mae: 3545.9404\n",
            "Epoch 147/200\n",
            "34/34 [==============================] - 0s 2ms/step - loss: 3549.5066 - mae: 3549.5066\n",
            "Epoch 148/200\n",
            "34/34 [==============================] - 0s 2ms/step - loss: 3544.1746 - mae: 3544.1746\n",
            "Epoch 149/200\n",
            "34/34 [==============================] - 0s 2ms/step - loss: 3500.9834 - mae: 3500.9834\n",
            "Epoch 150/200\n",
            "34/34 [==============================] - 0s 2ms/step - loss: 3505.9246 - mae: 3505.9246\n",
            "Epoch 151/200\n",
            "34/34 [==============================] - 0s 2ms/step - loss: 3538.8398 - mae: 3538.8398\n",
            "Epoch 152/200\n",
            "34/34 [==============================] - 0s 2ms/step - loss: 3637.8301 - mae: 3637.8301\n",
            "Epoch 153/200\n",
            "34/34 [==============================] - 0s 2ms/step - loss: 3517.3308 - mae: 3517.3308\n",
            "Epoch 154/200\n",
            "34/34 [==============================] - 0s 2ms/step - loss: 3538.5051 - mae: 3538.5051\n",
            "Epoch 155/200\n",
            "34/34 [==============================] - 0s 2ms/step - loss: 3539.2571 - mae: 3539.2571\n",
            "Epoch 156/200\n",
            "34/34 [==============================] - 0s 2ms/step - loss: 3540.1934 - mae: 3540.1934\n",
            "Epoch 157/200\n",
            "34/34 [==============================] - 0s 2ms/step - loss: 3518.4592 - mae: 3518.4592\n",
            "Epoch 158/200\n",
            "34/34 [==============================] - 0s 2ms/step - loss: 3520.6707 - mae: 3520.6707\n",
            "Epoch 159/200\n",
            "34/34 [==============================] - 0s 2ms/step - loss: 3498.5364 - mae: 3498.5364\n",
            "Epoch 160/200\n",
            "34/34 [==============================] - 0s 2ms/step - loss: 3603.5793 - mae: 3603.5793\n",
            "Epoch 161/200\n",
            "34/34 [==============================] - 0s 2ms/step - loss: 3523.4932 - mae: 3523.4932\n",
            "Epoch 162/200\n",
            "34/34 [==============================] - 0s 2ms/step - loss: 3507.9243 - mae: 3507.9243\n",
            "Epoch 163/200\n",
            "34/34 [==============================] - 0s 2ms/step - loss: 3526.8669 - mae: 3526.8669\n",
            "Epoch 164/200\n",
            "34/34 [==============================] - 0s 2ms/step - loss: 3599.5464 - mae: 3599.5464\n",
            "Epoch 165/200\n",
            "34/34 [==============================] - 0s 2ms/step - loss: 3525.0129 - mae: 3525.0129\n",
            "Epoch 166/200\n",
            "34/34 [==============================] - 0s 2ms/step - loss: 3507.4509 - mae: 3507.4509\n",
            "Epoch 167/200\n",
            "34/34 [==============================] - 0s 2ms/step - loss: 3515.7161 - mae: 3515.7161\n",
            "Epoch 168/200\n",
            "34/34 [==============================] - 0s 2ms/step - loss: 3523.0728 - mae: 3523.0728\n",
            "Epoch 169/200\n",
            "34/34 [==============================] - 0s 2ms/step - loss: 3526.8965 - mae: 3526.8965\n",
            "Epoch 170/200\n",
            "34/34 [==============================] - 0s 2ms/step - loss: 3517.0476 - mae: 3517.0476\n",
            "Epoch 171/200\n",
            "34/34 [==============================] - 0s 2ms/step - loss: 3520.8062 - mae: 3520.8062\n",
            "Epoch 172/200\n",
            "34/34 [==============================] - 0s 2ms/step - loss: 3563.3008 - mae: 3563.3008\n",
            "Epoch 173/200\n",
            "34/34 [==============================] - 0s 2ms/step - loss: 3521.1665 - mae: 3521.1665\n",
            "Epoch 174/200\n",
            "34/34 [==============================] - 0s 2ms/step - loss: 3499.3540 - mae: 3499.3540\n",
            "Epoch 175/200\n",
            "34/34 [==============================] - 0s 2ms/step - loss: 3554.3296 - mae: 3554.3296\n",
            "Epoch 176/200\n",
            "34/34 [==============================] - 0s 2ms/step - loss: 3534.8479 - mae: 3534.8479\n",
            "Epoch 177/200\n",
            "34/34 [==============================] - 0s 2ms/step - loss: 3526.6748 - mae: 3526.6748\n",
            "Epoch 178/200\n",
            "34/34 [==============================] - 0s 2ms/step - loss: 3525.1045 - mae: 3525.1045\n",
            "Epoch 179/200\n",
            "34/34 [==============================] - 0s 2ms/step - loss: 3613.1123 - mae: 3613.1123\n",
            "Epoch 180/200\n",
            "34/34 [==============================] - 0s 2ms/step - loss: 3540.2002 - mae: 3540.2002\n",
            "Epoch 181/200\n",
            "34/34 [==============================] - 0s 2ms/step - loss: 3546.7004 - mae: 3546.7004\n",
            "Epoch 182/200\n",
            "34/34 [==============================] - 0s 2ms/step - loss: 3524.9160 - mae: 3524.9160\n",
            "Epoch 183/200\n",
            "34/34 [==============================] - 0s 2ms/step - loss: 3515.3467 - mae: 3515.3467\n",
            "Epoch 184/200\n",
            "34/34 [==============================] - 0s 2ms/step - loss: 3549.0664 - mae: 3549.0664\n",
            "Epoch 185/200\n",
            "34/34 [==============================] - 0s 2ms/step - loss: 3535.4170 - mae: 3535.4170\n",
            "Epoch 186/200\n",
            "34/34 [==============================] - 0s 2ms/step - loss: 3609.5723 - mae: 3609.5723\n",
            "Epoch 187/200\n",
            "34/34 [==============================] - 0s 2ms/step - loss: 3536.5720 - mae: 3536.5720\n",
            "Epoch 188/200\n",
            "34/34 [==============================] - 0s 2ms/step - loss: 3520.4702 - mae: 3520.4702\n",
            "Epoch 189/200\n",
            "34/34 [==============================] - 0s 2ms/step - loss: 3545.7400 - mae: 3545.7400\n",
            "Epoch 190/200\n",
            "34/34 [==============================] - 0s 2ms/step - loss: 3537.0251 - mae: 3537.0251\n",
            "Epoch 191/200\n",
            "34/34 [==============================] - 0s 2ms/step - loss: 3552.7617 - mae: 3552.7617\n",
            "Epoch 192/200\n",
            "34/34 [==============================] - 0s 2ms/step - loss: 3559.0896 - mae: 3559.0896\n",
            "Epoch 193/200\n",
            "34/34 [==============================] - 0s 2ms/step - loss: 3558.2307 - mae: 3558.2307\n",
            "Epoch 194/200\n",
            "34/34 [==============================] - 0s 2ms/step - loss: 3509.5505 - mae: 3509.5505\n",
            "Epoch 195/200\n",
            "34/34 [==============================] - 0s 2ms/step - loss: 3529.9670 - mae: 3529.9670\n",
            "Epoch 196/200\n",
            "34/34 [==============================] - 0s 2ms/step - loss: 3528.2437 - mae: 3528.2437\n",
            "Epoch 197/200\n",
            "34/34 [==============================] - 0s 2ms/step - loss: 3608.3560 - mae: 3608.3560\n",
            "Epoch 198/200\n",
            "34/34 [==============================] - 0s 2ms/step - loss: 3522.3396 - mae: 3522.3396\n",
            "Epoch 199/200\n",
            "34/34 [==============================] - 0s 2ms/step - loss: 3536.7922 - mae: 3536.7922\n",
            "Epoch 200/200\n",
            "34/34 [==============================] - 0s 2ms/step - loss: 3502.2996 - mae: 3502.2996\n"
          ]
        }
      ]
    },
    {
      "cell_type": "code",
      "metadata": {
        "colab": {
          "base_uri": "https://localhost:8080/",
          "height": 296
        },
        "id": "qFM35v8Z2qxL",
        "outputId": "b9e3f829-9945-47e2-e84c-93afc3f97562"
      },
      "source": [
        "# Plot history\n",
        "pd.DataFrame(history_3.history).plot()\n",
        "plt.xlabel('epochs')\n",
        "plt.ylabel('loss')"
      ],
      "execution_count": null,
      "outputs": [
        {
          "output_type": "execute_result",
          "data": {
            "text/plain": [
              "Text(0, 0.5, 'loss')"
            ]
          },
          "metadata": {},
          "execution_count": 44
        },
        {
          "output_type": "display_data",
          "data": {
            "image/png": "[encoded data removed]",
            "text/plain": [
              "<Figure size 432x288 with 1 Axes>"
            ]
          },
          "metadata": {
            "needs_background": "light"
          }
        }
      ]
    },
    {
      "cell_type": "code",
      "metadata": {
        "colab": {
          "base_uri": "https://localhost:8080/"
        },
        "id": "1uLOy_6q2e2H",
        "outputId": "5e214e40-1871-4e33-def6-a99330e4e4bd"
      },
      "source": [
        "# Evaluation\n",
        "_, mae_3 = model.evaluate(X_test_norm, y_test)\n",
        "mae_3"
      ],
      "execution_count": null,
      "outputs": [
        {
          "output_type": "stream",
          "name": "stdout",
          "text": [
            "9/9 [==============================] - 0s 2ms/step - loss: 3179.8374 - mae: 3179.8374\n"
          ]
        },
        {
          "output_type": "execute_result",
          "data": {
            "text/plain": [
              "3179.83740234375"
            ]
          },
          "metadata": {},
          "execution_count": 45
        }
      ]
    },
    {
      "cell_type": "markdown",
      "metadata": {
        "id": "6B1yVLnl4Ymy"
      },
      "source": [
        "Fourth experiment:\n",
        "\n",
        "* What happens if you train for longer (say 300 epochs instead of 200)?\n",
        "* Rest is same as first model."
      ]
    },
    {
      "cell_type": "code",
      "metadata": {
        "colab": {
          "base_uri": "https://localhost:8080/"
        },
        "id": "7co6hb2N3C8Y",
        "outputId": "81594182-6926-41f7-9d4b-c2042d9c610b"
      },
      "source": [
        "# Set random seed\n",
        "tf.random.set_seed(42)\n",
        "\n",
        "# Create model_4\n",
        "model_4 = tf.keras.Sequential([\n",
        "                               tf.keras.layers.Dense(100),\n",
        "                               tf.keras.layers.Dense(50),\n",
        "                               tf.keras.layers.Dense(10),\n",
        "                               tf.keras.layers.Dense(1)\n",
        "])\n",
        "\n",
        "# Compile the model\n",
        "model_4.compile(loss=tf.keras.losses.mae,\n",
        "                optimizer=tf.keras.optimizers.Adam(),\n",
        "                metrics=['mae'])\n",
        "\n",
        "# Fit the model\n",
        "history_4 = model_4.fit(X_train_norm, y_train, epochs=300)"
      ],
      "execution_count": null,
      "outputs": [
        {
          "output_type": "stream",
          "name": "stdout",
          "text": [
            "Epoch 1/300\n",
            "34/34 [==============================] - 0s 2ms/step - loss: 13341.6279 - mae: 13341.6279\n",
            "Epoch 2/300\n",
            "34/34 [==============================] - 0s 2ms/step - loss: 13303.0576 - mae: 13303.0576\n",
            "Epoch 3/300\n",
            "34/34 [==============================] - 0s 1ms/step - loss: 13104.0303 - mae: 13104.0303\n",
            "Epoch 4/300\n",
            "34/34 [==============================] - 0s 2ms/step - loss: 12430.9648 - mae: 12430.9648\n",
            "Epoch 5/300\n",
            "34/34 [==============================] - 0s 2ms/step - loss: 10882.1611 - mae: 10882.1611\n",
            "Epoch 6/300\n",
            "34/34 [==============================] - 0s 2ms/step - loss: 8954.0605 - mae: 8954.0605\n",
            "Epoch 7/300\n",
            "34/34 [==============================] - 0s 1ms/step - loss: 7999.6729 - mae: 7999.6729\n",
            "Epoch 8/300\n",
            "34/34 [==============================] - 0s 2ms/step - loss: 7813.6235 - mae: 7813.6235\n",
            "Epoch 9/300\n",
            "34/34 [==============================] - 0s 2ms/step - loss: 7676.8926 - mae: 7676.8926\n",
            "Epoch 10/300\n",
            "34/34 [==============================] - 0s 2ms/step - loss: 7539.6250 - mae: 7539.6250\n",
            "Epoch 11/300\n",
            "34/34 [==============================] - 0s 2ms/step - loss: 7401.5093 - mae: 7401.5093\n",
            "Epoch 12/300\n",
            "34/34 [==============================] - 0s 2ms/step - loss: 7238.5283 - mae: 7238.5283\n",
            "Epoch 13/300\n",
            "34/34 [==============================] - 0s 3ms/step - loss: 7071.1572 - mae: 7071.1572\n",
            "Epoch 14/300\n",
            "34/34 [==============================] - 0s 2ms/step - loss: 6870.1050 - mae: 6870.1050\n",
            "Epoch 15/300\n",
            "34/34 [==============================] - 0s 2ms/step - loss: 6646.5469 - mae: 6646.5469\n",
            "Epoch 16/300\n",
            "34/34 [==============================] - 0s 1ms/step - loss: 6380.6523 - mae: 6380.6523\n",
            "Epoch 17/300\n",
            "34/34 [==============================] - 0s 2ms/step - loss: 6068.1470 - mae: 6068.1470\n",
            "Epoch 18/300\n",
            "34/34 [==============================] - 0s 2ms/step - loss: 5684.7964 - mae: 5684.7964\n",
            "Epoch 19/300\n",
            "34/34 [==============================] - 0s 2ms/step - loss: 5239.7881 - mae: 5239.7881\n",
            "Epoch 20/300\n",
            "34/34 [==============================] - 0s 2ms/step - loss: 4734.5005 - mae: 4734.5005\n",
            "Epoch 21/300\n",
            "34/34 [==============================] - 0s 2ms/step - loss: 4274.5435 - mae: 4274.5435\n",
            "Epoch 22/300\n",
            "34/34 [==============================] - 0s 2ms/step - loss: 3915.6323 - mae: 3915.6323\n",
            "Epoch 23/300\n",
            "34/34 [==============================] - 0s 2ms/step - loss: 3725.9885 - mae: 3725.9885\n",
            "Epoch 24/300\n",
            "34/34 [==============================] - 0s 2ms/step - loss: 3670.8198 - mae: 3670.8198\n",
            "Epoch 25/300\n",
            "34/34 [==============================] - 0s 2ms/step - loss: 3659.6318 - mae: 3659.6318\n",
            "Epoch 26/300\n",
            "34/34 [==============================] - 0s 2ms/step - loss: 3650.2625 - mae: 3650.2625\n",
            "Epoch 27/300\n",
            "34/34 [==============================] - 0s 2ms/step - loss: 3641.2993 - mae: 3641.2993\n",
            "Epoch 28/300\n",
            "34/34 [==============================] - 0s 2ms/step - loss: 3640.2327 - mae: 3640.2327\n",
            "Epoch 29/300\n",
            "34/34 [==============================] - 0s 2ms/step - loss: 3630.7461 - mae: 3630.7461\n",
            "Epoch 30/300\n",
            "34/34 [==============================] - 0s 2ms/step - loss: 3638.0916 - mae: 3638.0916\n",
            "Epoch 31/300\n",
            "34/34 [==============================] - 0s 2ms/step - loss: 3623.7717 - mae: 3623.7717\n",
            "Epoch 32/300\n",
            "34/34 [==============================] - 0s 2ms/step - loss: 3610.8662 - mae: 3610.8662\n",
            "Epoch 33/300\n",
            "34/34 [==============================] - 0s 2ms/step - loss: 3616.7290 - mae: 3616.7290\n",
            "Epoch 34/300\n",
            "34/34 [==============================] - 0s 1ms/step - loss: 3597.0027 - mae: 3597.0027\n",
            "Epoch 35/300\n",
            "34/34 [==============================] - 0s 2ms/step - loss: 3595.2854 - mae: 3595.2854\n",
            "Epoch 36/300\n",
            "34/34 [==============================] - 0s 2ms/step - loss: 3587.7964 - mae: 3587.7964\n",
            "Epoch 37/300\n",
            "34/34 [==============================] - 0s 2ms/step - loss: 3574.7175 - mae: 3574.7175\n",
            "Epoch 38/300\n",
            "34/34 [==============================] - 0s 3ms/step - loss: 3575.6970 - mae: 3575.6970\n",
            "Epoch 39/300\n",
            "34/34 [==============================] - 0s 2ms/step - loss: 3563.0515 - mae: 3563.0515\n",
            "Epoch 40/300\n",
            "34/34 [==============================] - 0s 2ms/step - loss: 3564.0657 - mae: 3564.0657\n",
            "Epoch 41/300\n",
            "34/34 [==============================] - 0s 2ms/step - loss: 3550.7834 - mae: 3550.7834\n",
            "Epoch 42/300\n",
            "34/34 [==============================] - 0s 2ms/step - loss: 3555.8628 - mae: 3555.8628\n",
            "Epoch 43/300\n",
            "34/34 [==============================] - 0s 2ms/step - loss: 3550.5444 - mae: 3550.5444\n",
            "Epoch 44/300\n",
            "34/34 [==============================] - 0s 2ms/step - loss: 3538.7610 - mae: 3538.7610\n",
            "Epoch 45/300\n",
            "34/34 [==============================] - 0s 2ms/step - loss: 3527.1682 - mae: 3527.1682\n",
            "Epoch 46/300\n",
            "34/34 [==============================] - 0s 2ms/step - loss: 3531.0735 - mae: 3531.0735\n",
            "Epoch 47/300\n",
            "34/34 [==============================] - 0s 2ms/step - loss: 3531.1917 - mae: 3531.1917\n",
            "Epoch 48/300\n",
            "34/34 [==============================] - 0s 2ms/step - loss: 3517.3599 - mae: 3517.3599\n",
            "Epoch 49/300\n",
            "34/34 [==============================] - 0s 2ms/step - loss: 3526.4104 - mae: 3526.4104\n",
            "Epoch 50/300\n",
            "34/34 [==============================] - 0s 2ms/step - loss: 3505.0249 - mae: 3505.0249\n",
            "Epoch 51/300\n",
            "34/34 [==============================] - 0s 2ms/step - loss: 3507.6724 - mae: 3507.6724\n",
            "Epoch 52/300\n",
            "34/34 [==============================] - 0s 2ms/step - loss: 3498.8694 - mae: 3498.8694\n",
            "Epoch 53/300\n",
            "34/34 [==============================] - 0s 2ms/step - loss: 3494.3689 - mae: 3494.3689\n",
            "Epoch 54/300\n",
            "34/34 [==============================] - 0s 2ms/step - loss: 3497.3396 - mae: 3497.3396\n",
            "Epoch 55/300\n",
            "34/34 [==============================] - 0s 2ms/step - loss: 3508.8337 - mae: 3508.8337\n",
            "Epoch 56/300\n",
            "34/34 [==============================] - 0s 2ms/step - loss: 3487.6528 - mae: 3487.6528\n",
            "Epoch 57/300\n",
            "34/34 [==============================] - 0s 2ms/step - loss: 3480.6113 - mae: 3480.6113\n",
            "Epoch 58/300\n",
            "34/34 [==============================] - 0s 2ms/step - loss: 3478.2957 - mae: 3478.2957\n",
            "Epoch 59/300\n",
            "34/34 [==============================] - 0s 2ms/step - loss: 3483.1135 - mae: 3483.1135\n",
            "Epoch 60/300\n",
            "34/34 [==============================] - 0s 2ms/step - loss: 3482.0723 - mae: 3482.0723\n",
            "Epoch 61/300\n",
            "34/34 [==============================] - 0s 2ms/step - loss: 3482.1257 - mae: 3482.1257\n",
            "Epoch 62/300\n",
            "34/34 [==============================] - 0s 2ms/step - loss: 3479.7947 - mae: 3479.7947\n",
            "Epoch 63/300\n",
            "34/34 [==============================] - 0s 2ms/step - loss: 3478.3242 - mae: 3478.3242\n",
            "Epoch 64/300\n",
            "34/34 [==============================] - 0s 2ms/step - loss: 3482.3030 - mae: 3482.3030\n",
            "Epoch 65/300\n",
            "34/34 [==============================] - 0s 2ms/step - loss: 3491.3181 - mae: 3491.3181\n",
            "Epoch 66/300\n",
            "34/34 [==============================] - 0s 2ms/step - loss: 3483.0591 - mae: 3483.0591\n",
            "Epoch 67/300\n",
            "34/34 [==============================] - 0s 2ms/step - loss: 3481.0630 - mae: 3481.0630\n",
            "Epoch 68/300\n",
            "34/34 [==============================] - 0s 2ms/step - loss: 3487.0144 - mae: 3487.0144\n",
            "Epoch 69/300\n",
            "34/34 [==============================] - 0s 2ms/step - loss: 3477.1560 - mae: 3477.1560\n",
            "Epoch 70/300\n",
            "34/34 [==============================] - 0s 2ms/step - loss: 3485.1228 - mae: 3485.1228\n",
            "Epoch 71/300\n",
            "34/34 [==============================] - 0s 2ms/step - loss: 3482.7849 - mae: 3482.7849\n",
            "Epoch 72/300\n",
            "34/34 [==============================] - 0s 2ms/step - loss: 3488.7854 - mae: 3488.7854\n",
            "Epoch 73/300\n",
            "34/34 [==============================] - 0s 2ms/step - loss: 3483.7273 - mae: 3483.7273\n",
            "Epoch 74/300\n",
            "34/34 [==============================] - 0s 2ms/step - loss: 3477.1318 - mae: 3477.1318\n",
            "Epoch 75/300\n",
            "34/34 [==============================] - 0s 2ms/step - loss: 3477.0588 - mae: 3477.0588\n",
            "Epoch 76/300\n",
            "34/34 [==============================] - 0s 2ms/step - loss: 3478.4797 - mae: 3478.4797\n",
            "Epoch 77/300\n",
            "34/34 [==============================] - 0s 2ms/step - loss: 3478.9065 - mae: 3478.9065\n",
            "Epoch 78/300\n",
            "34/34 [==============================] - 0s 2ms/step - loss: 3478.4973 - mae: 3478.4973\n",
            "Epoch 79/300\n",
            "34/34 [==============================] - 0s 2ms/step - loss: 3479.5764 - mae: 3479.5764\n",
            "Epoch 80/300\n",
            "34/34 [==============================] - 0s 2ms/step - loss: 3481.6802 - mae: 3481.6802\n",
            "Epoch 81/300\n",
            "34/34 [==============================] - 0s 2ms/step - loss: 3481.0410 - mae: 3481.0410\n",
            "Epoch 82/300\n",
            "34/34 [==============================] - 0s 1ms/step - loss: 3477.8755 - mae: 3477.8755\n",
            "Epoch 83/300\n",
            "34/34 [==============================] - 0s 1ms/step - loss: 3478.6062 - mae: 3478.6062\n",
            "Epoch 84/300\n",
            "34/34 [==============================] - 0s 2ms/step - loss: 3481.9016 - mae: 3481.9016\n",
            "Epoch 85/300\n",
            "34/34 [==============================] - 0s 2ms/step - loss: 3473.7280 - mae: 3473.7280\n",
            "Epoch 86/300\n",
            "34/34 [==============================] - 0s 2ms/step - loss: 3475.6221 - mae: 3475.6221\n",
            "Epoch 87/300\n",
            "34/34 [==============================] - 0s 2ms/step - loss: 3481.3240 - mae: 3481.3240\n",
            "Epoch 88/300\n",
            "34/34 [==============================] - 0s 2ms/step - loss: 3478.7705 - mae: 3478.7705\n",
            "Epoch 89/300\n",
            "34/34 [==============================] - 0s 2ms/step - loss: 3478.1533 - mae: 3478.1533\n",
            "Epoch 90/300\n",
            "34/34 [==============================] - 0s 2ms/step - loss: 3479.4993 - mae: 3479.4993\n",
            "Epoch 91/300\n",
            "34/34 [==============================] - 0s 2ms/step - loss: 3475.3330 - mae: 3475.3330\n",
            "Epoch 92/300\n",
            "34/34 [==============================] - 0s 2ms/step - loss: 3481.3096 - mae: 3481.3096\n",
            "Epoch 93/300\n",
            "34/34 [==============================] - 0s 2ms/step - loss: 3474.9097 - mae: 3474.9097\n",
            "Epoch 94/300\n",
            "34/34 [==============================] - 0s 2ms/step - loss: 3478.0442 - mae: 3478.0442\n",
            "Epoch 95/300\n",
            "34/34 [==============================] - 0s 2ms/step - loss: 3477.8503 - mae: 3477.8503\n",
            "Epoch 96/300\n",
            "34/34 [==============================] - 0s 2ms/step - loss: 3481.8206 - mae: 3481.8206\n",
            "Epoch 97/300\n",
            "34/34 [==============================] - 0s 2ms/step - loss: 3484.2910 - mae: 3484.2910\n",
            "Epoch 98/300\n",
            "34/34 [==============================] - 0s 2ms/step - loss: 3476.8335 - mae: 3476.8335\n",
            "Epoch 99/300\n",
            "34/34 [==============================] - 0s 2ms/step - loss: 3479.8093 - mae: 3479.8093\n",
            "Epoch 100/300\n",
            "34/34 [==============================] - 0s 2ms/step - loss: 3483.7341 - mae: 3483.7341\n",
            "Epoch 101/300\n",
            "34/34 [==============================] - 0s 2ms/step - loss: 3478.0659 - mae: 3478.0659\n",
            "Epoch 102/300\n",
            "34/34 [==============================] - 0s 1ms/step - loss: 3476.7014 - mae: 3476.7014\n",
            "Epoch 103/300\n",
            "34/34 [==============================] - 0s 2ms/step - loss: 3479.1006 - mae: 3479.1006\n",
            "Epoch 104/300\n",
            "34/34 [==============================] - 0s 1ms/step - loss: 3476.0464 - mae: 3476.0464\n",
            "Epoch 105/300\n",
            "34/34 [==============================] - 0s 2ms/step - loss: 3485.1362 - mae: 3485.1362\n",
            "Epoch 106/300\n",
            "34/34 [==============================] - 0s 2ms/step - loss: 3478.1665 - mae: 3478.1665\n",
            "Epoch 107/300\n",
            "34/34 [==============================] - 0s 2ms/step - loss: 3482.0193 - mae: 3482.0193\n",
            "Epoch 108/300\n",
            "34/34 [==============================] - 0s 2ms/step - loss: 3477.4626 - mae: 3477.4626\n",
            "Epoch 109/300\n",
            "34/34 [==============================] - 0s 2ms/step - loss: 3483.3562 - mae: 3483.3562\n",
            "Epoch 110/300\n",
            "34/34 [==============================] - 0s 2ms/step - loss: 3474.4841 - mae: 3474.4841\n",
            "Epoch 111/300\n",
            "34/34 [==============================] - 0s 2ms/step - loss: 3484.3154 - mae: 3484.3154\n",
            "Epoch 112/300\n",
            "34/34 [==============================] - 0s 2ms/step - loss: 3481.3320 - mae: 3481.3320\n",
            "Epoch 113/300\n",
            "34/34 [==============================] - 0s 2ms/step - loss: 3481.8779 - mae: 3481.8779\n",
            "Epoch 114/300\n",
            "34/34 [==============================] - 0s 2ms/step - loss: 3496.6265 - mae: 3496.6265\n",
            "Epoch 115/300\n",
            "34/34 [==============================] - 0s 2ms/step - loss: 3481.3860 - mae: 3481.3860\n",
            "Epoch 116/300\n",
            "34/34 [==============================] - 0s 2ms/step - loss: 3482.2341 - mae: 3482.2341\n",
            "Epoch 117/300\n",
            "34/34 [==============================] - 0s 2ms/step - loss: 3488.6379 - mae: 3488.6379\n",
            "Epoch 118/300\n",
            "34/34 [==============================] - 0s 2ms/step - loss: 3474.6926 - mae: 3474.6926\n",
            "Epoch 119/300\n",
            "34/34 [==============================] - 0s 2ms/step - loss: 3484.9395 - mae: 3484.9395\n",
            "Epoch 120/300\n",
            "34/34 [==============================] - 0s 2ms/step - loss: 3475.7546 - mae: 3475.7546\n",
            "Epoch 121/300\n",
            "34/34 [==============================] - 0s 2ms/step - loss: 3484.1050 - mae: 3484.1050\n",
            "Epoch 122/300\n",
            "34/34 [==============================] - 0s 2ms/step - loss: 3482.2334 - mae: 3482.2334\n",
            "Epoch 123/300\n",
            "34/34 [==============================] - 0s 2ms/step - loss: 3480.7012 - mae: 3480.7012\n",
            "Epoch 124/300\n",
            "34/34 [==============================] - 0s 2ms/step - loss: 3476.3835 - mae: 3476.3835\n",
            "Epoch 125/300\n",
            "34/34 [==============================] - 0s 1ms/step - loss: 3479.9578 - mae: 3479.9578\n",
            "Epoch 126/300\n",
            "34/34 [==============================] - 0s 2ms/step - loss: 3479.5083 - mae: 3479.5083\n",
            "Epoch 127/300\n",
            "34/34 [==============================] - 0s 2ms/step - loss: 3486.1658 - mae: 3486.1658\n",
            "Epoch 128/300\n",
            "34/34 [==============================] - 0s 2ms/step - loss: 3484.7512 - mae: 3484.7512\n",
            "Epoch 129/300\n",
            "34/34 [==============================] - 0s 2ms/step - loss: 3490.7051 - mae: 3490.7051\n",
            "Epoch 130/300\n",
            "34/34 [==============================] - 0s 2ms/step - loss: 3476.6821 - mae: 3476.6821\n",
            "Epoch 131/300\n",
            "34/34 [==============================] - 0s 2ms/step - loss: 3480.0618 - mae: 3480.0618\n",
            "Epoch 132/300\n",
            "34/34 [==============================] - 0s 2ms/step - loss: 3476.5303 - mae: 3476.5303\n",
            "Epoch 133/300\n",
            "34/34 [==============================] - 0s 2ms/step - loss: 3475.6687 - mae: 3475.6687\n",
            "Epoch 134/300\n",
            "34/34 [==============================] - 0s 2ms/step - loss: 3476.7188 - mae: 3476.7188\n",
            "Epoch 135/300\n",
            "34/34 [==============================] - 0s 2ms/step - loss: 3477.2542 - mae: 3477.2542\n",
            "Epoch 136/300\n",
            "34/34 [==============================] - 0s 2ms/step - loss: 3476.1409 - mae: 3476.1409\n",
            "Epoch 137/300\n",
            "34/34 [==============================] - 0s 2ms/step - loss: 3480.7654 - mae: 3480.7654\n",
            "Epoch 138/300\n",
            "34/34 [==============================] - 0s 2ms/step - loss: 3481.7627 - mae: 3481.7627\n",
            "Epoch 139/300\n",
            "34/34 [==============================] - 0s 2ms/step - loss: 3482.5349 - mae: 3482.5349\n",
            "Epoch 140/300\n",
            "34/34 [==============================] - 0s 2ms/step - loss: 3479.6006 - mae: 3479.6006\n",
            "Epoch 141/300\n",
            "34/34 [==============================] - 0s 2ms/step - loss: 3487.9370 - mae: 3487.9370\n",
            "Epoch 142/300\n",
            "34/34 [==============================] - 0s 2ms/step - loss: 3485.1096 - mae: 3485.1096\n",
            "Epoch 143/300\n",
            "34/34 [==============================] - 0s 2ms/step - loss: 3481.5017 - mae: 3481.5017\n",
            "Epoch 144/300\n",
            "34/34 [==============================] - 0s 2ms/step - loss: 3479.8899 - mae: 3479.8899\n",
            "Epoch 145/300\n",
            "34/34 [==============================] - 0s 1ms/step - loss: 3481.3772 - mae: 3481.3772\n",
            "Epoch 146/300\n",
            "34/34 [==============================] - 0s 2ms/step - loss: 3488.6204 - mae: 3488.6204\n",
            "Epoch 147/300\n",
            "34/34 [==============================] - 0s 2ms/step - loss: 3479.0881 - mae: 3479.0881\n",
            "Epoch 148/300\n",
            "34/34 [==============================] - 0s 2ms/step - loss: 3480.8481 - mae: 3480.8481\n",
            "Epoch 149/300\n",
            "34/34 [==============================] - 0s 2ms/step - loss: 3477.1284 - mae: 3477.1284\n",
            "Epoch 150/300\n",
            "34/34 [==============================] - 0s 2ms/step - loss: 3475.2183 - mae: 3475.2183\n",
            "Epoch 151/300\n",
            "34/34 [==============================] - 0s 2ms/step - loss: 3482.4089 - mae: 3482.4089\n",
            "Epoch 152/300\n",
            "34/34 [==============================] - 0s 2ms/step - loss: 3484.0088 - mae: 3484.0088\n",
            "Epoch 153/300\n",
            "34/34 [==============================] - 0s 2ms/step - loss: 3475.8926 - mae: 3475.8926\n",
            "Epoch 154/300\n",
            "34/34 [==============================] - 0s 2ms/step - loss: 3482.0137 - mae: 3482.0137\n",
            "Epoch 155/300\n",
            "34/34 [==============================] - 0s 2ms/step - loss: 3480.0059 - mae: 3480.0059\n",
            "Epoch 156/300\n",
            "34/34 [==============================] - 0s 2ms/step - loss: 3480.8650 - mae: 3480.8650\n",
            "Epoch 157/300\n",
            "34/34 [==============================] - 0s 2ms/step - loss: 3479.8408 - mae: 3479.8408\n",
            "Epoch 158/300\n",
            "34/34 [==============================] - 0s 2ms/step - loss: 3481.7561 - mae: 3481.7561\n",
            "Epoch 159/300\n",
            "34/34 [==============================] - 0s 2ms/step - loss: 3475.7690 - mae: 3475.7690\n",
            "Epoch 160/300\n",
            "34/34 [==============================] - 0s 2ms/step - loss: 3481.6436 - mae: 3481.6436\n",
            "Epoch 161/300\n",
            "34/34 [==============================] - 0s 2ms/step - loss: 3481.7168 - mae: 3481.7168\n",
            "Epoch 162/300\n",
            "34/34 [==============================] - 0s 2ms/step - loss: 3475.8257 - mae: 3475.8257\n",
            "Epoch 163/300\n",
            "34/34 [==============================] - 0s 2ms/step - loss: 3476.6243 - mae: 3476.6243\n",
            "Epoch 164/300\n",
            "34/34 [==============================] - 0s 2ms/step - loss: 3482.9902 - mae: 3482.9902\n",
            "Epoch 165/300\n",
            "34/34 [==============================] - 0s 2ms/step - loss: 3477.9607 - mae: 3477.9607\n",
            "Epoch 166/300\n",
            "34/34 [==============================] - 0s 2ms/step - loss: 3479.9814 - mae: 3479.9814\n",
            "Epoch 167/300\n",
            "34/34 [==============================] - 0s 2ms/step - loss: 3478.0894 - mae: 3478.0894\n",
            "Epoch 168/300\n",
            "34/34 [==============================] - 0s 2ms/step - loss: 3478.1282 - mae: 3478.1279\n",
            "Epoch 169/300\n",
            "34/34 [==============================] - 0s 2ms/step - loss: 3475.3645 - mae: 3475.3645\n",
            "Epoch 170/300\n",
            "34/34 [==============================] - 0s 2ms/step - loss: 3481.8870 - mae: 3481.8870\n",
            "Epoch 171/300\n",
            "34/34 [==============================] - 0s 2ms/step - loss: 3476.0781 - mae: 3476.0781\n",
            "Epoch 172/300\n",
            "34/34 [==============================] - 0s 2ms/step - loss: 3482.3306 - mae: 3482.3306\n",
            "Epoch 173/300\n",
            "34/34 [==============================] - 0s 2ms/step - loss: 3477.1401 - mae: 3477.1401\n",
            "Epoch 174/300\n",
            "34/34 [==============================] - 0s 2ms/step - loss: 3480.8125 - mae: 3480.8125\n",
            "Epoch 175/300\n",
            "34/34 [==============================] - 0s 2ms/step - loss: 3478.1951 - mae: 3478.1951\n",
            "Epoch 176/300\n",
            "34/34 [==============================] - 0s 2ms/step - loss: 3487.8179 - mae: 3487.8179\n",
            "Epoch 177/300\n",
            "34/34 [==============================] - 0s 2ms/step - loss: 3478.9819 - mae: 3478.9819\n",
            "Epoch 178/300\n",
            "34/34 [==============================] - 0s 2ms/step - loss: 3484.3997 - mae: 3484.3997\n",
            "Epoch 179/300\n",
            "34/34 [==============================] - 0s 2ms/step - loss: 3485.3823 - mae: 3485.3823\n",
            "Epoch 180/300\n",
            "34/34 [==============================] - 0s 2ms/step - loss: 3485.6614 - mae: 3485.6614\n",
            "Epoch 181/300\n",
            "34/34 [==============================] - 0s 2ms/step - loss: 3479.4482 - mae: 3479.4482\n",
            "Epoch 182/300\n",
            "34/34 [==============================] - 0s 2ms/step - loss: 3480.2375 - mae: 3480.2375\n",
            "Epoch 183/300\n",
            "34/34 [==============================] - 0s 2ms/step - loss: 3479.2546 - mae: 3479.2546\n",
            "Epoch 184/300\n",
            "34/34 [==============================] - 0s 2ms/step - loss: 3481.3997 - mae: 3481.3997\n",
            "Epoch 185/300\n",
            "34/34 [==============================] - 0s 2ms/step - loss: 3482.0518 - mae: 3482.0518\n",
            "Epoch 186/300\n",
            "34/34 [==============================] - 0s 2ms/step - loss: 3481.2075 - mae: 3481.2075\n",
            "Epoch 187/300\n",
            "34/34 [==============================] - 0s 2ms/step - loss: 3476.8525 - mae: 3476.8525\n",
            "Epoch 188/300\n",
            "34/34 [==============================] - 0s 2ms/step - loss: 3477.9282 - mae: 3477.9282\n",
            "Epoch 189/300\n",
            "34/34 [==============================] - 0s 2ms/step - loss: 3477.3066 - mae: 3477.3066\n",
            "Epoch 190/300\n",
            "34/34 [==============================] - 0s 2ms/step - loss: 3480.8555 - mae: 3480.8555\n",
            "Epoch 191/300\n",
            "34/34 [==============================] - 0s 2ms/step - loss: 3498.7427 - mae: 3498.7427\n",
            "Epoch 192/300\n",
            "34/34 [==============================] - 0s 2ms/step - loss: 3485.9556 - mae: 3485.9556\n",
            "Epoch 193/300\n",
            "34/34 [==============================] - 0s 2ms/step - loss: 3482.3811 - mae: 3482.3811\n",
            "Epoch 194/300\n",
            "34/34 [==============================] - 0s 2ms/step - loss: 3477.9490 - mae: 3477.9490\n",
            "Epoch 195/300\n",
            "34/34 [==============================] - 0s 2ms/step - loss: 3473.8979 - mae: 3473.8979\n",
            "Epoch 196/300\n",
            "34/34 [==============================] - 0s 2ms/step - loss: 3484.2690 - mae: 3484.2690\n",
            "Epoch 197/300\n",
            "34/34 [==============================] - 0s 2ms/step - loss: 3476.2505 - mae: 3476.2505\n",
            "Epoch 198/300\n",
            "34/34 [==============================] - 0s 2ms/step - loss: 3486.5425 - mae: 3486.5425\n",
            "Epoch 199/300\n",
            "34/34 [==============================] - 0s 2ms/step - loss: 3478.0842 - mae: 3478.0842\n",
            "Epoch 200/300\n",
            "34/34 [==============================] - 0s 2ms/step - loss: 3478.6602 - mae: 3478.6602\n",
            "Epoch 201/300\n",
            "34/34 [==============================] - 0s 2ms/step - loss: 3478.1201 - mae: 3478.1201\n",
            "Epoch 202/300\n",
            "34/34 [==============================] - 0s 2ms/step - loss: 3478.2756 - mae: 3478.2756\n",
            "Epoch 203/300\n",
            "34/34 [==============================] - 0s 2ms/step - loss: 3475.9282 - mae: 3475.9282\n",
            "Epoch 204/300\n",
            "34/34 [==============================] - 0s 2ms/step - loss: 3476.7561 - mae: 3476.7561\n",
            "Epoch 205/300\n",
            "34/34 [==============================] - 0s 2ms/step - loss: 3478.8989 - mae: 3478.8989\n",
            "Epoch 206/300\n",
            "34/34 [==============================] - 0s 2ms/step - loss: 3477.2058 - mae: 3477.2058\n",
            "Epoch 207/300\n",
            "34/34 [==============================] - 0s 2ms/step - loss: 3481.4382 - mae: 3481.4382\n",
            "Epoch 208/300\n",
            "34/34 [==============================] - 0s 2ms/step - loss: 3478.6194 - mae: 3478.6194\n",
            "Epoch 209/300\n",
            "34/34 [==============================] - 0s 2ms/step - loss: 3481.5261 - mae: 3481.5261\n",
            "Epoch 210/300\n",
            "34/34 [==============================] - 0s 2ms/step - loss: 3479.9756 - mae: 3479.9756\n",
            "Epoch 211/300\n",
            "34/34 [==============================] - 0s 2ms/step - loss: 3477.4175 - mae: 3477.4175\n",
            "Epoch 212/300\n",
            "34/34 [==============================] - 0s 2ms/step - loss: 3481.7207 - mae: 3481.7207\n",
            "Epoch 213/300\n",
            "34/34 [==============================] - 0s 2ms/step - loss: 3479.0281 - mae: 3479.0281\n",
            "Epoch 214/300\n",
            "34/34 [==============================] - 0s 2ms/step - loss: 3483.6255 - mae: 3483.6255\n",
            "Epoch 215/300\n",
            "34/34 [==============================] - 0s 2ms/step - loss: 3480.8176 - mae: 3480.8176\n",
            "Epoch 216/300\n",
            "34/34 [==============================] - 0s 2ms/step - loss: 3482.9834 - mae: 3482.9834\n",
            "Epoch 217/300\n",
            "34/34 [==============================] - 0s 2ms/step - loss: 3485.3230 - mae: 3485.3230\n",
            "Epoch 218/300\n",
            "34/34 [==============================] - 0s 2ms/step - loss: 3480.6543 - mae: 3480.6543\n",
            "Epoch 219/300\n",
            "34/34 [==============================] - 0s 2ms/step - loss: 3478.7146 - mae: 3478.7146\n",
            "Epoch 220/300\n",
            "34/34 [==============================] - 0s 2ms/step - loss: 3473.9006 - mae: 3473.9006\n",
            "Epoch 221/300\n",
            "34/34 [==============================] - 0s 2ms/step - loss: 3483.8787 - mae: 3483.8787\n",
            "Epoch 222/300\n",
            "34/34 [==============================] - 0s 2ms/step - loss: 3485.1555 - mae: 3485.1555\n",
            "Epoch 223/300\n",
            "34/34 [==============================] - 0s 2ms/step - loss: 3477.3357 - mae: 3477.3357\n",
            "Epoch 224/300\n",
            "34/34 [==============================] - 0s 2ms/step - loss: 3480.0090 - mae: 3480.0090\n",
            "Epoch 225/300\n",
            "34/34 [==============================] - 0s 2ms/step - loss: 3480.7927 - mae: 3480.7927\n",
            "Epoch 226/300\n",
            "34/34 [==============================] - 0s 2ms/step - loss: 3476.7612 - mae: 3476.7612\n",
            "Epoch 227/300\n",
            "34/34 [==============================] - 0s 2ms/step - loss: 3474.2146 - mae: 3474.2146\n",
            "Epoch 228/300\n",
            "34/34 [==============================] - 0s 2ms/step - loss: 3478.2539 - mae: 3478.2539\n",
            "Epoch 229/300\n",
            "34/34 [==============================] - 0s 2ms/step - loss: 3476.2178 - mae: 3476.2178\n",
            "Epoch 230/300\n",
            "34/34 [==============================] - 0s 2ms/step - loss: 3483.7476 - mae: 3483.7476\n",
            "Epoch 231/300\n",
            "34/34 [==============================] - 0s 2ms/step - loss: 3476.6924 - mae: 3476.6924\n",
            "Epoch 232/300\n",
            "34/34 [==============================] - 0s 2ms/step - loss: 3475.7542 - mae: 3475.7542\n",
            "Epoch 233/300\n",
            "34/34 [==============================] - 0s 2ms/step - loss: 3478.3008 - mae: 3478.3008\n",
            "Epoch 234/300\n",
            "34/34 [==============================] - 0s 2ms/step - loss: 3479.4285 - mae: 3479.4285\n",
            "Epoch 235/300\n",
            "34/34 [==============================] - 0s 2ms/step - loss: 3479.2607 - mae: 3479.2607\n",
            "Epoch 236/300\n",
            "34/34 [==============================] - 0s 2ms/step - loss: 3477.5168 - mae: 3477.5168\n",
            "Epoch 237/300\n",
            "34/34 [==============================] - 0s 2ms/step - loss: 3484.0078 - mae: 3484.0078\n",
            "Epoch 238/300\n",
            "34/34 [==============================] - 0s 2ms/step - loss: 3474.2744 - mae: 3474.2744\n",
            "Epoch 239/300\n",
            "34/34 [==============================] - 0s 2ms/step - loss: 3482.6235 - mae: 3482.6235\n",
            "Epoch 240/300\n",
            "34/34 [==============================] - 0s 2ms/step - loss: 3479.3677 - mae: 3479.3677\n",
            "Epoch 241/300\n",
            "34/34 [==============================] - 0s 2ms/step - loss: 3475.3677 - mae: 3475.3677\n",
            "Epoch 242/300\n",
            "34/34 [==============================] - 0s 2ms/step - loss: 3482.4724 - mae: 3482.4724\n",
            "Epoch 243/300\n",
            "34/34 [==============================] - 0s 2ms/step - loss: 3474.6565 - mae: 3474.6565\n",
            "Epoch 244/300\n",
            "34/34 [==============================] - 0s 2ms/step - loss: 3480.9666 - mae: 3480.9666\n",
            "Epoch 245/300\n",
            "34/34 [==============================] - 0s 2ms/step - loss: 3482.6096 - mae: 3482.6096\n",
            "Epoch 246/300\n",
            "34/34 [==============================] - 0s 2ms/step - loss: 3481.7139 - mae: 3481.7139\n",
            "Epoch 247/300\n",
            "34/34 [==============================] - 0s 2ms/step - loss: 3480.9880 - mae: 3480.9880\n",
            "Epoch 248/300\n",
            "34/34 [==============================] - 0s 2ms/step - loss: 3487.0271 - mae: 3487.0271\n",
            "Epoch 249/300\n",
            "34/34 [==============================] - 0s 2ms/step - loss: 3483.4971 - mae: 3483.4971\n",
            "Epoch 250/300\n",
            "34/34 [==============================] - 0s 2ms/step - loss: 3481.7761 - mae: 3481.7761\n",
            "Epoch 251/300\n",
            "34/34 [==============================] - 0s 2ms/step - loss: 3475.2075 - mae: 3475.2075\n",
            "Epoch 252/300\n",
            "34/34 [==============================] - 0s 2ms/step - loss: 3482.4082 - mae: 3482.4082\n",
            "Epoch 253/300\n",
            "34/34 [==============================] - 0s 2ms/step - loss: 3483.6995 - mae: 3483.6995\n",
            "Epoch 254/300\n",
            "34/34 [==============================] - 0s 2ms/step - loss: 3476.0071 - mae: 3476.0071\n",
            "Epoch 255/300\n",
            "34/34 [==============================] - 0s 2ms/step - loss: 3474.2234 - mae: 3474.2234\n",
            "Epoch 256/300\n",
            "34/34 [==============================] - 0s 2ms/step - loss: 3480.6685 - mae: 3480.6685\n",
            "Epoch 257/300\n",
            "34/34 [==============================] - 0s 2ms/step - loss: 3491.4390 - mae: 3491.4390\n",
            "Epoch 258/300\n",
            "34/34 [==============================] - 0s 2ms/step - loss: 3482.9158 - mae: 3482.9158\n",
            "Epoch 259/300\n",
            "34/34 [==============================] - 0s 2ms/step - loss: 3484.4702 - mae: 3484.4702\n",
            "Epoch 260/300\n",
            "34/34 [==============================] - 0s 2ms/step - loss: 3479.4009 - mae: 3479.4009\n",
            "Epoch 261/300\n",
            "34/34 [==============================] - 0s 2ms/step - loss: 3479.5728 - mae: 3479.5728\n",
            "Epoch 262/300\n",
            "34/34 [==============================] - 0s 2ms/step - loss: 3479.1421 - mae: 3479.1421\n",
            "Epoch 263/300\n",
            "34/34 [==============================] - 0s 2ms/step - loss: 3483.1033 - mae: 3483.1033\n",
            "Epoch 264/300\n",
            "34/34 [==============================] - 0s 2ms/step - loss: 3480.0679 - mae: 3480.0679\n",
            "Epoch 265/300\n",
            "34/34 [==============================] - 0s 2ms/step - loss: 3476.4646 - mae: 3476.4646\n",
            "Epoch 266/300\n",
            "34/34 [==============================] - 0s 2ms/step - loss: 3478.6633 - mae: 3478.6633\n",
            "Epoch 267/300\n",
            "34/34 [==============================] - 0s 2ms/step - loss: 3482.7129 - mae: 3482.7129\n",
            "Epoch 268/300\n",
            "34/34 [==============================] - 0s 2ms/step - loss: 3478.1562 - mae: 3478.1562\n",
            "Epoch 269/300\n",
            "34/34 [==============================] - 0s 2ms/step - loss: 3475.5752 - mae: 3475.5752\n",
            "Epoch 270/300\n",
            "34/34 [==============================] - 0s 2ms/step - loss: 3476.3435 - mae: 3476.3435\n",
            "Epoch 271/300\n",
            "34/34 [==============================] - 0s 2ms/step - loss: 3478.4092 - mae: 3478.4092\n",
            "Epoch 272/300\n",
            "34/34 [==============================] - 0s 2ms/step - loss: 3479.4780 - mae: 3479.4780\n",
            "Epoch 273/300\n",
            "34/34 [==============================] - 0s 2ms/step - loss: 3478.2844 - mae: 3478.2844\n",
            "Epoch 274/300\n",
            "34/34 [==============================] - 0s 2ms/step - loss: 3475.5288 - mae: 3475.5288\n",
            "Epoch 275/300\n",
            "34/34 [==============================] - 0s 2ms/step - loss: 3475.0330 - mae: 3475.0330\n",
            "Epoch 276/300\n",
            "34/34 [==============================] - 0s 2ms/step - loss: 3479.0867 - mae: 3479.0867\n",
            "Epoch 277/300\n",
            "34/34 [==============================] - 0s 2ms/step - loss: 3477.8765 - mae: 3477.8765\n",
            "Epoch 278/300\n",
            "34/34 [==============================] - 0s 2ms/step - loss: 3477.6765 - mae: 3477.6765\n",
            "Epoch 279/300\n",
            "34/34 [==============================] - 0s 2ms/step - loss: 3485.1765 - mae: 3485.1765\n",
            "Epoch 280/300\n",
            "34/34 [==============================] - 0s 2ms/step - loss: 3477.9348 - mae: 3477.9348\n",
            "Epoch 281/300\n",
            "34/34 [==============================] - 0s 2ms/step - loss: 3477.5408 - mae: 3477.5408\n",
            "Epoch 282/300\n",
            "34/34 [==============================] - 0s 2ms/step - loss: 3477.1384 - mae: 3477.1384\n",
            "Epoch 283/300\n",
            "34/34 [==============================] - 0s 2ms/step - loss: 3479.0161 - mae: 3479.0161\n",
            "Epoch 284/300\n",
            "34/34 [==============================] - 0s 2ms/step - loss: 3476.6562 - mae: 3476.6562\n",
            "Epoch 285/300\n",
            "34/34 [==============================] - 0s 2ms/step - loss: 3478.7227 - mae: 3478.7227\n",
            "Epoch 286/300\n",
            "34/34 [==============================] - 0s 2ms/step - loss: 3479.1921 - mae: 3479.1921\n",
            "Epoch 287/300\n",
            "34/34 [==============================] - 0s 2ms/step - loss: 3479.5249 - mae: 3479.5249\n",
            "Epoch 288/300\n",
            "34/34 [==============================] - 0s 2ms/step - loss: 3478.5828 - mae: 3478.5828\n",
            "Epoch 289/300\n",
            "34/34 [==============================] - 0s 2ms/step - loss: 3484.4702 - mae: 3484.4702\n",
            "Epoch 290/300\n",
            "34/34 [==============================] - 0s 2ms/step - loss: 3482.5281 - mae: 3482.5281\n",
            "Epoch 291/300\n",
            "34/34 [==============================] - 0s 2ms/step - loss: 3477.2197 - mae: 3477.2197\n",
            "Epoch 292/300\n",
            "34/34 [==============================] - 0s 2ms/step - loss: 3487.4412 - mae: 3487.4412\n",
            "Epoch 293/300\n",
            "34/34 [==============================] - 0s 2ms/step - loss: 3477.5073 - mae: 3477.5073\n",
            "Epoch 294/300\n",
            "34/34 [==============================] - 0s 2ms/step - loss: 3489.8955 - mae: 3489.8955\n",
            "Epoch 295/300\n",
            "34/34 [==============================] - 0s 2ms/step - loss: 3482.7798 - mae: 3482.7798\n",
            "Epoch 296/300\n",
            "34/34 [==============================] - 0s 2ms/step - loss: 3488.4604 - mae: 3488.4604\n",
            "Epoch 297/300\n",
            "34/34 [==============================] - 0s 2ms/step - loss: 3488.6711 - mae: 3488.6711\n",
            "Epoch 298/300\n",
            "34/34 [==============================] - 0s 2ms/step - loss: 3490.2717 - mae: 3490.2717\n",
            "Epoch 299/300\n",
            "34/34 [==============================] - 0s 2ms/step - loss: 3482.0745 - mae: 3482.0745\n",
            "Epoch 300/300\n",
            "34/34 [==============================] - 0s 2ms/step - loss: 3479.1562 - mae: 3479.1562\n"
          ]
        }
      ]
    },
    {
      "cell_type": "code",
      "metadata": {
        "colab": {
          "base_uri": "https://localhost:8080/",
          "height": 279
        },
        "id": "PVcOsU5C3bsP",
        "outputId": "41f38703-62a7-4fa0-e892-a88d87ec1262"
      },
      "source": [
        "# Plot history\n",
        "pd.DataFrame(history_4.history).plot()\n",
        "plt.xlabel('epochs')\n",
        "plt.ylabel('loss');"
      ],
      "execution_count": null,
      "outputs": [
        {
          "output_type": "display_data",
          "data": {
            "image/png": "[encoded data removed]",
            "text/plain": [
              "<Figure size 432x288 with 1 Axes>"
            ]
          },
          "metadata": {
            "needs_background": "light"
          }
        }
      ]
    },
    {
      "cell_type": "code",
      "metadata": {
        "colab": {
          "base_uri": "https://localhost:8080/"
        },
        "id": "Vzw-AiDm54yA",
        "outputId": "e2286a6a-f455-421a-d043-b460f1d35170"
      },
      "source": [
        "# Evaluation\n",
        "_, mae_4 = model_4.evaluate(X_test_norm, y_test)\n",
        "mae_4"
      ],
      "execution_count": null,
      "outputs": [
        {
          "output_type": "stream",
          "name": "stdout",
          "text": [
            "9/9 [==============================] - 0s 2ms/step - loss: 3167.8384 - mae: 3167.8384\n"
          ]
        },
        {
          "output_type": "execute_result",
          "data": {
            "text/plain": [
              "3167.83837890625"
            ]
          },
          "metadata": {},
          "execution_count": 48
        }
      ]
    },
    {
      "cell_type": "code",
      "metadata": {
        "colab": {
          "base_uri": "https://localhost:8080/",
          "height": 175
        },
        "id": "PeFjagJn6KS7",
        "outputId": "6d2d13c2-407f-4b2d-ff5b-8c3139b7bd0e"
      },
      "source": [
        "# Compare the all four models performance\n",
        "model_results = [mae , mae_2, mae_3, mae_4]\n",
        "\n",
        "all_results = pd.DataFrame(model_results, columns=['MAE'], index=['Model 1', 'Model 2', 'Model 3', 'Model 4'])\n",
        "all_results"
      ],
      "execution_count": null,
      "outputs": [
        {
          "output_type": "execute_result",
          "data": {
            "text/html": [
              "<div>\n",
              "<style scoped>\n",
              "    .dataframe tbody tr th:only-of-type {\n",
              "        vertical-align: middle;\n",
              "    }\n",
              "\n",
              "    .dataframe tbody tr th {\n",
              "        vertical-align: top;\n",
              "    }\n",
              "\n",
              "    .dataframe thead th {\n",
              "        text-align: right;\n",
              "    }\n",
              "</style>\n",
              "<table border=\"1\" class=\"dataframe\">\n",
              "  <thead>\n",
              "    <tr style=\"text-align: right;\">\n",
              "      <th></th>\n",
              "      <th>MAE</th>\n",
              "    </tr>\n",
              "  </thead>\n",
              "  <tbody>\n",
              "    <tr>\n",
              "      <th>Model 1</th>\n",
              "      <td>3179.837402</td>\n",
              "    </tr>\n",
              "    <tr>\n",
              "      <th>Model 2</th>\n",
              "      <td>3174.941162</td>\n",
              "    </tr>\n",
              "    <tr>\n",
              "      <th>Model 3</th>\n",
              "      <td>3179.837402</td>\n",
              "    </tr>\n",
              "    <tr>\n",
              "      <th>Model 4</th>\n",
              "      <td>3167.838379</td>\n",
              "    </tr>\n",
              "  </tbody>\n",
              "</table>\n",
              "</div>"
            ],
            "text/plain": [
              "                 MAE\n",
              "Model 1  3179.837402\n",
              "Model 2  3174.941162\n",
              "Model 3  3179.837402\n",
              "Model 4  3167.838379"
            ]
          },
          "metadata": {},
          "execution_count": 49
        }
      ]
    },
    {
      "cell_type": "markdown",
      "metadata": {
        "id": "1WAIZX2A-Osd"
      },
      "source": [
        "---\n",
        "4. Import the [Boston pricing dataset](https://www.tensorflow.org/api_docs/python/tf/keras/datasets/boston_housing/load_data) from TensorFlow [`tf.keras.datasets`](https://www.tensorflow.org/api_docs/python/tf/keras/datasets) and model it."
      ]
    },
    {
      "cell_type": "code",
      "metadata": {
        "id": "gM3VQTni-QQ8"
      },
      "source": [
        "# Import boston pricing data from tensorflow\n",
        "(train_features, train_labels), (test_features, test_labels) = tf.keras.datasets.boston_housing.load_data(\n",
        "    path='boston_housing.npz', test_split=0.2, seed=42\n",
        ")"
      ],
      "execution_count": null,
      "outputs": []
    },
    {
      "cell_type": "code",
      "metadata": {
        "colab": {
          "base_uri": "https://localhost:8080/"
        },
        "id": "Gi-FWZ3pCiFY",
        "outputId": "3203f832-e3d6-4167-a21c-bd2863243b4f"
      },
      "source": [
        "train_features[0], test_features[0]"
      ],
      "execution_count": null,
      "outputs": [
        {
          "output_type": "execute_result",
          "data": {
            "text/plain": [
              "(array([9.1780e-02, 0.0000e+00, 4.0500e+00, 0.0000e+00, 5.1000e-01,\n",
              "        6.4160e+00, 8.4100e+01, 2.6463e+00, 5.0000e+00, 2.9600e+02,\n",
              "        1.6600e+01, 3.9550e+02, 9.0400e+00]),\n",
              " array([2.1719e-01, 0.0000e+00, 1.0590e+01, 1.0000e+00, 4.8900e-01,\n",
              "        5.8070e+00, 5.3800e+01, 3.6526e+00, 4.0000e+00, 2.7700e+02,\n",
              "        1.8600e+01, 3.9094e+02, 1.6030e+01]))"
            ]
          },
          "metadata": {},
          "execution_count": 74
        }
      ]
    },
    {
      "cell_type": "code",
      "metadata": {
        "colab": {
          "base_uri": "https://localhost:8080/"
        },
        "id": "M_YtoR8B_4ud",
        "outputId": "aaf63864-ddd4-4ffb-f6c8-e9c086ca670a"
      },
      "source": [
        "train_features.shape, train_labels.shape, test_features.shape, test_labels.shape"
      ],
      "execution_count": null,
      "outputs": [
        {
          "output_type": "execute_result",
          "data": {
            "text/plain": [
              "((404, 13), (404,), (102, 13), (102,))"
            ]
          },
          "metadata": {},
          "execution_count": 75
        }
      ]
    },
    {
      "cell_type": "markdown",
      "metadata": {
        "id": "NqTncdqfCzyc"
      },
      "source": [
        "Create model as model_4"
      ]
    },
    {
      "cell_type": "code",
      "metadata": {
        "colab": {
          "base_uri": "https://localhost:8080/"
        },
        "id": "pxZ2-l0bCxga",
        "outputId": "150f1a34-379f-45cd-a980-c1ab80561d2b"
      },
      "source": [
        "# Set random seed\n",
        "tf.random.set_seed(42)\n",
        "\n",
        "# Create model\n",
        "boston_model = tf.keras.Sequential([\n",
        "                                    tf.keras.layers.Dense(100),\n",
        "                                    tf.keras.layers.Dense(50),\n",
        "                                    tf.keras.layers.Dense(10),\n",
        "                                    tf.keras.layers.Dense(1)\n",
        "])\n",
        "\n",
        "# Compile model\n",
        "boston_model.compile(loss=tf.keras.losses.mae,\n",
        "                     optimizer=tf.keras.optimizers.Adam(),\n",
        "                     metrics=['mae'])\n",
        "\n",
        "# Fit the model\n",
        "history = boston_model.fit(train_features, train_labels, epochs=300)"
      ],
      "execution_count": null,
      "outputs": [
        {
          "output_type": "stream",
          "name": "stdout",
          "text": [
            "Epoch 1/300\n",
            "13/13 [==============================] - 1s 2ms/step - loss: 18.9942 - mae: 18.9942\n",
            "Epoch 2/300\n",
            "13/13 [==============================] - 0s 2ms/step - loss: 10.1186 - mae: 10.1186\n",
            "Epoch 3/300\n",
            "13/13 [==============================] - 0s 3ms/step - loss: 7.1464 - mae: 7.1464\n",
            "Epoch 4/300\n",
            "13/13 [==============================] - 0s 2ms/step - loss: 7.4828 - mae: 7.4828\n",
            "Epoch 5/300\n",
            "13/13 [==============================] - 0s 2ms/step - loss: 7.1872 - mae: 7.1872\n",
            "Epoch 6/300\n",
            "13/13 [==============================] - 0s 2ms/step - loss: 6.5278 - mae: 6.5278\n",
            "Epoch 7/300\n",
            "13/13 [==============================] - 0s 2ms/step - loss: 6.6576 - mae: 6.6576\n",
            "Epoch 8/300\n",
            "13/13 [==============================] - 0s 2ms/step - loss: 6.2983 - mae: 6.2983\n",
            "Epoch 9/300\n",
            "13/13 [==============================] - 0s 2ms/step - loss: 6.4336 - mae: 6.4336\n",
            "Epoch 10/300\n",
            "13/13 [==============================] - 0s 2ms/step - loss: 7.2734 - mae: 7.2734\n",
            "Epoch 11/300\n",
            "13/13 [==============================] - 0s 2ms/step - loss: 7.0137 - mae: 7.0137\n",
            "Epoch 12/300\n",
            "13/13 [==============================] - 0s 2ms/step - loss: 7.2253 - mae: 7.2253\n",
            "Epoch 13/300\n",
            "13/13 [==============================] - 0s 2ms/step - loss: 7.8685 - mae: 7.8685\n",
            "Epoch 14/300\n",
            "13/13 [==============================] - 0s 2ms/step - loss: 7.1225 - mae: 7.1225\n",
            "Epoch 15/300\n",
            "13/13 [==============================] - 0s 2ms/step - loss: 8.3005 - mae: 8.3005\n",
            "Epoch 16/300\n",
            "13/13 [==============================] - 0s 3ms/step - loss: 8.0335 - mae: 8.0335\n",
            "Epoch 17/300\n",
            "13/13 [==============================] - 0s 2ms/step - loss: 7.6015 - mae: 7.6015\n",
            "Epoch 18/300\n",
            "13/13 [==============================] - 0s 2ms/step - loss: 6.6282 - mae: 6.6282\n",
            "Epoch 19/300\n",
            "13/13 [==============================] - 0s 2ms/step - loss: 6.2124 - mae: 6.2124\n",
            "Epoch 20/300\n",
            "13/13 [==============================] - 0s 2ms/step - loss: 6.4952 - mae: 6.4952\n",
            "Epoch 21/300\n",
            "13/13 [==============================] - 0s 2ms/step - loss: 6.1201 - mae: 6.1201\n",
            "Epoch 22/300\n",
            "13/13 [==============================] - 0s 2ms/step - loss: 6.1856 - mae: 6.1856\n",
            "Epoch 23/300\n",
            "13/13 [==============================] - 0s 2ms/step - loss: 5.9341 - mae: 5.9341\n",
            "Epoch 24/300\n",
            "13/13 [==============================] - 0s 2ms/step - loss: 5.9505 - mae: 5.9505\n",
            "Epoch 25/300\n",
            "13/13 [==============================] - 0s 2ms/step - loss: 6.0558 - mae: 6.0558\n",
            "Epoch 26/300\n",
            "13/13 [==============================] - 0s 2ms/step - loss: 6.2465 - mae: 6.2465\n",
            "Epoch 27/300\n",
            "13/13 [==============================] - 0s 2ms/step - loss: 6.1192 - mae: 6.1192\n",
            "Epoch 28/300\n",
            "13/13 [==============================] - 0s 2ms/step - loss: 5.9203 - mae: 5.9203\n",
            "Epoch 29/300\n",
            "13/13 [==============================] - 0s 2ms/step - loss: 5.4446 - mae: 5.4446\n",
            "Epoch 30/300\n",
            "13/13 [==============================] - 0s 2ms/step - loss: 5.2771 - mae: 5.2771\n",
            "Epoch 31/300\n",
            "13/13 [==============================] - 0s 2ms/step - loss: 5.6066 - mae: 5.6066\n",
            "Epoch 32/300\n",
            "13/13 [==============================] - 0s 2ms/step - loss: 5.4865 - mae: 5.4865\n",
            "Epoch 33/300\n",
            "13/13 [==============================] - 0s 2ms/step - loss: 5.2837 - mae: 5.2837\n",
            "Epoch 34/300\n",
            "13/13 [==============================] - 0s 2ms/step - loss: 6.0362 - mae: 6.0362\n",
            "Epoch 35/300\n",
            "13/13 [==============================] - 0s 2ms/step - loss: 6.9920 - mae: 6.9920\n",
            "Epoch 36/300\n",
            "13/13 [==============================] - 0s 2ms/step - loss: 5.9746 - mae: 5.9746\n",
            "Epoch 37/300\n",
            "13/13 [==============================] - 0s 2ms/step - loss: 6.1640 - mae: 6.1640\n",
            "Epoch 38/300\n",
            "13/13 [==============================] - 0s 2ms/step - loss: 5.5949 - mae: 5.5949\n",
            "Epoch 39/300\n",
            "13/13 [==============================] - 0s 2ms/step - loss: 5.8369 - mae: 5.8369\n",
            "Epoch 40/300\n",
            "13/13 [==============================] - 0s 2ms/step - loss: 5.6741 - mae: 5.6741\n",
            "Epoch 41/300\n",
            "13/13 [==============================] - 0s 3ms/step - loss: 6.9943 - mae: 6.9943\n",
            "Epoch 42/300\n",
            "13/13 [==============================] - 0s 2ms/step - loss: 7.0851 - mae: 7.0851\n",
            "Epoch 43/300\n",
            "13/13 [==============================] - 0s 3ms/step - loss: 5.7552 - mae: 5.7552\n",
            "Epoch 44/300\n",
            "13/13 [==============================] - 0s 2ms/step - loss: 6.1707 - mae: 6.1707\n",
            "Epoch 45/300\n",
            "13/13 [==============================] - 0s 2ms/step - loss: 5.5706 - mae: 5.5706\n",
            "Epoch 46/300\n",
            "13/13 [==============================] - 0s 2ms/step - loss: 6.7898 - mae: 6.7898\n",
            "Epoch 47/300\n",
            "13/13 [==============================] - 0s 2ms/step - loss: 7.3114 - mae: 7.3114\n",
            "Epoch 48/300\n",
            "13/13 [==============================] - 0s 2ms/step - loss: 7.7119 - mae: 7.7119\n",
            "Epoch 49/300\n",
            "13/13 [==============================] - 0s 2ms/step - loss: 5.6983 - mae: 5.6983\n",
            "Epoch 50/300\n",
            "13/13 [==============================] - 0s 2ms/step - loss: 7.1670 - mae: 7.1670\n",
            "Epoch 51/300\n",
            "13/13 [==============================] - 0s 2ms/step - loss: 5.8347 - mae: 5.8347\n",
            "Epoch 52/300\n",
            "13/13 [==============================] - 0s 2ms/step - loss: 4.9181 - mae: 4.9181\n",
            "Epoch 53/300\n",
            "13/13 [==============================] - 0s 2ms/step - loss: 5.3179 - mae: 5.3179\n",
            "Epoch 54/300\n",
            "13/13 [==============================] - 0s 2ms/step - loss: 5.1260 - mae: 5.1260\n",
            "Epoch 55/300\n",
            "13/13 [==============================] - 0s 2ms/step - loss: 5.0242 - mae: 5.0242\n",
            "Epoch 56/300\n",
            "13/13 [==============================] - 0s 2ms/step - loss: 5.4696 - mae: 5.4696\n",
            "Epoch 57/300\n",
            "13/13 [==============================] - 0s 2ms/step - loss: 6.2997 - mae: 6.2997\n",
            "Epoch 58/300\n",
            "13/13 [==============================] - 0s 2ms/step - loss: 5.2881 - mae: 5.2881\n",
            "Epoch 59/300\n",
            "13/13 [==============================] - 0s 2ms/step - loss: 5.1873 - mae: 5.1873\n",
            "Epoch 60/300\n",
            "13/13 [==============================] - 0s 2ms/step - loss: 4.9315 - mae: 4.9315\n",
            "Epoch 61/300\n",
            "13/13 [==============================] - 0s 2ms/step - loss: 5.8537 - mae: 5.8537\n",
            "Epoch 62/300\n",
            "13/13 [==============================] - 0s 3ms/step - loss: 5.0880 - mae: 5.0880\n",
            "Epoch 63/300\n",
            "13/13 [==============================] - 0s 2ms/step - loss: 5.5877 - mae: 5.5877\n",
            "Epoch 64/300\n",
            "13/13 [==============================] - 0s 2ms/step - loss: 5.4696 - mae: 5.4696\n",
            "Epoch 65/300\n",
            "13/13 [==============================] - 0s 2ms/step - loss: 4.9479 - mae: 4.9479\n",
            "Epoch 66/300\n",
            "13/13 [==============================] - 0s 2ms/step - loss: 5.3880 - mae: 5.3880\n",
            "Epoch 67/300\n",
            "13/13 [==============================] - 0s 2ms/step - loss: 4.8694 - mae: 4.8694\n",
            "Epoch 68/300\n",
            "13/13 [==============================] - 0s 2ms/step - loss: 5.0058 - mae: 5.0058\n",
            "Epoch 69/300\n",
            "13/13 [==============================] - 0s 2ms/step - loss: 5.1519 - mae: 5.1519\n",
            "Epoch 70/300\n",
            "13/13 [==============================] - 0s 2ms/step - loss: 5.3200 - mae: 5.3200\n",
            "Epoch 71/300\n",
            "13/13 [==============================] - 0s 2ms/step - loss: 5.0803 - mae: 5.0803\n",
            "Epoch 72/300\n",
            "13/13 [==============================] - 0s 2ms/step - loss: 4.8531 - mae: 4.8531\n",
            "Epoch 73/300\n",
            "13/13 [==============================] - 0s 2ms/step - loss: 5.3055 - mae: 5.3055\n",
            "Epoch 74/300\n",
            "13/13 [==============================] - 0s 2ms/step - loss: 4.9450 - mae: 4.9450\n",
            "Epoch 75/300\n",
            "13/13 [==============================] - 0s 2ms/step - loss: 4.6953 - mae: 4.6953\n",
            "Epoch 76/300\n",
            "13/13 [==============================] - 0s 2ms/step - loss: 5.0568 - mae: 5.0568\n",
            "Epoch 77/300\n",
            "13/13 [==============================] - 0s 2ms/step - loss: 5.0199 - mae: 5.0199\n",
            "Epoch 78/300\n",
            "13/13 [==============================] - 0s 2ms/step - loss: 5.1627 - mae: 5.1627\n",
            "Epoch 79/300\n",
            "13/13 [==============================] - 0s 2ms/step - loss: 4.7179 - mae: 4.7179\n",
            "Epoch 80/300\n",
            "13/13 [==============================] - 0s 2ms/step - loss: 5.6323 - mae: 5.6323\n",
            "Epoch 81/300\n",
            "13/13 [==============================] - 0s 2ms/step - loss: 5.5275 - mae: 5.5275\n",
            "Epoch 82/300\n",
            "13/13 [==============================] - 0s 2ms/step - loss: 5.1309 - mae: 5.1309\n",
            "Epoch 83/300\n",
            "13/13 [==============================] - 0s 2ms/step - loss: 4.6110 - mae: 4.6110\n",
            "Epoch 84/300\n",
            "13/13 [==============================] - 0s 2ms/step - loss: 5.0929 - mae: 5.0929\n",
            "Epoch 85/300\n",
            "13/13 [==============================] - 0s 3ms/step - loss: 5.1327 - mae: 5.1327\n",
            "Epoch 86/300\n",
            "13/13 [==============================] - 0s 2ms/step - loss: 5.0412 - mae: 5.0412\n",
            "Epoch 87/300\n",
            "13/13 [==============================] - 0s 3ms/step - loss: 5.0682 - mae: 5.0682\n",
            "Epoch 88/300\n",
            "13/13 [==============================] - 0s 2ms/step - loss: 4.7301 - mae: 4.7301\n",
            "Epoch 89/300\n",
            "13/13 [==============================] - 0s 2ms/step - loss: 4.7471 - mae: 4.7471\n",
            "Epoch 90/300\n",
            "13/13 [==============================] - 0s 3ms/step - loss: 4.8331 - mae: 4.8331\n",
            "Epoch 91/300\n",
            "13/13 [==============================] - 0s 3ms/step - loss: 5.6771 - mae: 5.6771\n",
            "Epoch 92/300\n",
            "13/13 [==============================] - 0s 2ms/step - loss: 4.9131 - mae: 4.9131\n",
            "Epoch 93/300\n",
            "13/13 [==============================] - 0s 2ms/step - loss: 4.4987 - mae: 4.4987\n",
            "Epoch 94/300\n",
            "13/13 [==============================] - 0s 2ms/step - loss: 4.6066 - mae: 4.6066\n",
            "Epoch 95/300\n",
            "13/13 [==============================] - 0s 3ms/step - loss: 4.5785 - mae: 4.5785\n",
            "Epoch 96/300\n",
            "13/13 [==============================] - 0s 2ms/step - loss: 5.7985 - mae: 5.7985\n",
            "Epoch 97/300\n",
            "13/13 [==============================] - 0s 2ms/step - loss: 6.5317 - mae: 6.5317\n",
            "Epoch 98/300\n",
            "13/13 [==============================] - 0s 2ms/step - loss: 5.7760 - mae: 5.7760\n",
            "Epoch 99/300\n",
            "13/13 [==============================] - 0s 2ms/step - loss: 5.0392 - mae: 5.0392\n",
            "Epoch 100/300\n",
            "13/13 [==============================] - 0s 2ms/step - loss: 4.8487 - mae: 4.8487\n",
            "Epoch 101/300\n",
            "13/13 [==============================] - 0s 2ms/step - loss: 4.9104 - mae: 4.9104\n",
            "Epoch 102/300\n",
            "13/13 [==============================] - 0s 3ms/step - loss: 4.9684 - mae: 4.9684\n",
            "Epoch 103/300\n",
            "13/13 [==============================] - 0s 2ms/step - loss: 4.5191 - mae: 4.5191\n",
            "Epoch 104/300\n",
            "13/13 [==============================] - 0s 2ms/step - loss: 5.2684 - mae: 5.2684\n",
            "Epoch 105/300\n",
            "13/13 [==============================] - 0s 2ms/step - loss: 5.0861 - mae: 5.0861\n",
            "Epoch 106/300\n",
            "13/13 [==============================] - 0s 3ms/step - loss: 4.9944 - mae: 4.9944\n",
            "Epoch 107/300\n",
            "13/13 [==============================] - 0s 2ms/step - loss: 4.4818 - mae: 4.4818\n",
            "Epoch 108/300\n",
            "13/13 [==============================] - 0s 2ms/step - loss: 4.3408 - mae: 4.3408\n",
            "Epoch 109/300\n",
            "13/13 [==============================] - 0s 3ms/step - loss: 4.4587 - mae: 4.4587\n",
            "Epoch 110/300\n",
            "13/13 [==============================] - 0s 2ms/step - loss: 4.5623 - mae: 4.5623\n",
            "Epoch 111/300\n",
            "13/13 [==============================] - 0s 2ms/step - loss: 4.7287 - mae: 4.7287\n",
            "Epoch 112/300\n",
            "13/13 [==============================] - 0s 2ms/step - loss: 4.8915 - mae: 4.8915\n",
            "Epoch 113/300\n",
            "13/13 [==============================] - 0s 2ms/step - loss: 4.4986 - mae: 4.4986\n",
            "Epoch 114/300\n",
            "13/13 [==============================] - 0s 2ms/step - loss: 5.0834 - mae: 5.0834\n",
            "Epoch 115/300\n",
            "13/13 [==============================] - 0s 2ms/step - loss: 5.1880 - mae: 5.1880\n",
            "Epoch 116/300\n",
            "13/13 [==============================] - 0s 2ms/step - loss: 4.7800 - mae: 4.7800\n",
            "Epoch 117/300\n",
            "13/13 [==============================] - 0s 3ms/step - loss: 5.3309 - mae: 5.3309\n",
            "Epoch 118/300\n",
            "13/13 [==============================] - 0s 2ms/step - loss: 4.5600 - mae: 4.5600\n",
            "Epoch 119/300\n",
            "13/13 [==============================] - 0s 3ms/step - loss: 4.7735 - mae: 4.7735\n",
            "Epoch 120/300\n",
            "13/13 [==============================] - 0s 2ms/step - loss: 4.5517 - mae: 4.5517\n",
            "Epoch 121/300\n",
            "13/13 [==============================] - 0s 2ms/step - loss: 4.6664 - mae: 4.6664\n",
            "Epoch 122/300\n",
            "13/13 [==============================] - 0s 2ms/step - loss: 4.9234 - mae: 4.9234\n",
            "Epoch 123/300\n",
            "13/13 [==============================] - 0s 2ms/step - loss: 5.1687 - mae: 5.1687\n",
            "Epoch 124/300\n",
            "13/13 [==============================] - 0s 2ms/step - loss: 4.4066 - mae: 4.4066\n",
            "Epoch 125/300\n",
            "13/13 [==============================] - 0s 2ms/step - loss: 4.2787 - mae: 4.2787\n",
            "Epoch 126/300\n",
            "13/13 [==============================] - 0s 2ms/step - loss: 4.7866 - mae: 4.7866\n",
            "Epoch 127/300\n",
            "13/13 [==============================] - 0s 2ms/step - loss: 4.4638 - mae: 4.4638\n",
            "Epoch 128/300\n",
            "13/13 [==============================] - 0s 2ms/step - loss: 4.4818 - mae: 4.4818\n",
            "Epoch 129/300\n",
            "13/13 [==============================] - 0s 2ms/step - loss: 4.5772 - mae: 4.5772\n",
            "Epoch 130/300\n",
            "13/13 [==============================] - 0s 2ms/step - loss: 4.8132 - mae: 4.8132\n",
            "Epoch 131/300\n",
            "13/13 [==============================] - 0s 2ms/step - loss: 5.6500 - mae: 5.6500\n",
            "Epoch 132/300\n",
            "13/13 [==============================] - 0s 2ms/step - loss: 4.4543 - mae: 4.4543\n",
            "Epoch 133/300\n",
            "13/13 [==============================] - 0s 2ms/step - loss: 4.8250 - mae: 4.8250\n",
            "Epoch 134/300\n",
            "13/13 [==============================] - 0s 2ms/step - loss: 4.2912 - mae: 4.2912\n",
            "Epoch 135/300\n",
            "13/13 [==============================] - 0s 2ms/step - loss: 4.4243 - mae: 4.4243\n",
            "Epoch 136/300\n",
            "13/13 [==============================] - 0s 2ms/step - loss: 4.5100 - mae: 4.5100\n",
            "Epoch 137/300\n",
            "13/13 [==============================] - 0s 3ms/step - loss: 4.2761 - mae: 4.2761\n",
            "Epoch 138/300\n",
            "13/13 [==============================] - 0s 2ms/step - loss: 4.8650 - mae: 4.8650\n",
            "Epoch 139/300\n",
            "13/13 [==============================] - 0s 3ms/step - loss: 4.6337 - mae: 4.6337\n",
            "Epoch 140/300\n",
            "13/13 [==============================] - 0s 3ms/step - loss: 4.6023 - mae: 4.6023\n",
            "Epoch 141/300\n",
            "13/13 [==============================] - 0s 3ms/step - loss: 4.2186 - mae: 4.2186\n",
            "Epoch 142/300\n",
            "13/13 [==============================] - 0s 2ms/step - loss: 5.3635 - mae: 5.3635\n",
            "Epoch 143/300\n",
            "13/13 [==============================] - 0s 3ms/step - loss: 6.1370 - mae: 6.1370\n",
            "Epoch 144/300\n",
            "13/13 [==============================] - 0s 2ms/step - loss: 6.0302 - mae: 6.0302\n",
            "Epoch 145/300\n",
            "13/13 [==============================] - 0s 2ms/step - loss: 5.9783 - mae: 5.9783\n",
            "Epoch 146/300\n",
            "13/13 [==============================] - 0s 2ms/step - loss: 4.8372 - mae: 4.8372\n",
            "Epoch 147/300\n",
            "13/13 [==============================] - 0s 2ms/step - loss: 4.3921 - mae: 4.3921\n",
            "Epoch 148/300\n",
            "13/13 [==============================] - 0s 2ms/step - loss: 4.1643 - mae: 4.1643\n",
            "Epoch 149/300\n",
            "13/13 [==============================] - 0s 2ms/step - loss: 4.5010 - mae: 4.5010\n",
            "Epoch 150/300\n",
            "13/13 [==============================] - 0s 2ms/step - loss: 4.4198 - mae: 4.4198\n",
            "Epoch 151/300\n",
            "13/13 [==============================] - 0s 2ms/step - loss: 4.3575 - mae: 4.3575\n",
            "Epoch 152/300\n",
            "13/13 [==============================] - 0s 2ms/step - loss: 4.3537 - mae: 4.3537\n",
            "Epoch 153/300\n",
            "13/13 [==============================] - 0s 2ms/step - loss: 4.3659 - mae: 4.3659\n",
            "Epoch 154/300\n",
            "13/13 [==============================] - 0s 2ms/step - loss: 4.4968 - mae: 4.4968\n",
            "Epoch 155/300\n",
            "13/13 [==============================] - 0s 2ms/step - loss: 4.0038 - mae: 4.0038\n",
            "Epoch 156/300\n",
            "13/13 [==============================] - 0s 2ms/step - loss: 4.0938 - mae: 4.0938\n",
            "Epoch 157/300\n",
            "13/13 [==============================] - 0s 2ms/step - loss: 4.4103 - mae: 4.4103\n",
            "Epoch 158/300\n",
            "13/13 [==============================] - 0s 2ms/step - loss: 5.5397 - mae: 5.5397\n",
            "Epoch 159/300\n",
            "13/13 [==============================] - 0s 2ms/step - loss: 4.8052 - mae: 4.8052\n",
            "Epoch 160/300\n",
            "13/13 [==============================] - 0s 2ms/step - loss: 4.3840 - mae: 4.3840\n",
            "Epoch 161/300\n",
            "13/13 [==============================] - 0s 2ms/step - loss: 4.2966 - mae: 4.2966\n",
            "Epoch 162/300\n",
            "13/13 [==============================] - 0s 3ms/step - loss: 4.2730 - mae: 4.2730\n",
            "Epoch 163/300\n",
            "13/13 [==============================] - 0s 2ms/step - loss: 4.7421 - mae: 4.7421\n",
            "Epoch 164/300\n",
            "13/13 [==============================] - 0s 2ms/step - loss: 4.3602 - mae: 4.3602\n",
            "Epoch 165/300\n",
            "13/13 [==============================] - 0s 2ms/step - loss: 4.0678 - mae: 4.0678\n",
            "Epoch 166/300\n",
            "13/13 [==============================] - 0s 3ms/step - loss: 4.4252 - mae: 4.4252\n",
            "Epoch 167/300\n",
            "13/13 [==============================] - 0s 2ms/step - loss: 4.4471 - mae: 4.4471\n",
            "Epoch 168/300\n",
            "13/13 [==============================] - 0s 3ms/step - loss: 4.6435 - mae: 4.6435\n",
            "Epoch 169/300\n",
            "13/13 [==============================] - 0s 3ms/step - loss: 4.0412 - mae: 4.0412\n",
            "Epoch 170/300\n",
            "13/13 [==============================] - 0s 3ms/step - loss: 4.6853 - mae: 4.6853\n",
            "Epoch 171/300\n",
            "13/13 [==============================] - 0s 3ms/step - loss: 4.8211 - mae: 4.8211\n",
            "Epoch 172/300\n",
            "13/13 [==============================] - 0s 2ms/step - loss: 4.5694 - mae: 4.5694\n",
            "Epoch 173/300\n",
            "13/13 [==============================] - 0s 3ms/step - loss: 4.4584 - mae: 4.4584\n",
            "Epoch 174/300\n",
            "13/13 [==============================] - 0s 2ms/step - loss: 4.5774 - mae: 4.5774\n",
            "Epoch 175/300\n",
            "13/13 [==============================] - 0s 3ms/step - loss: 4.4114 - mae: 4.4114\n",
            "Epoch 176/300\n",
            "13/13 [==============================] - 0s 2ms/step - loss: 4.7671 - mae: 4.7671\n",
            "Epoch 177/300\n",
            "13/13 [==============================] - 0s 2ms/step - loss: 5.0636 - mae: 5.0636\n",
            "Epoch 178/300\n",
            "13/13 [==============================] - 0s 2ms/step - loss: 4.4942 - mae: 4.4942\n",
            "Epoch 179/300\n",
            "13/13 [==============================] - 0s 2ms/step - loss: 4.2524 - mae: 4.2524\n",
            "Epoch 180/300\n",
            "13/13 [==============================] - 0s 2ms/step - loss: 4.1411 - mae: 4.1411\n",
            "Epoch 181/300\n",
            "13/13 [==============================] - 0s 2ms/step - loss: 4.0557 - mae: 4.0557\n",
            "Epoch 182/300\n",
            "13/13 [==============================] - 0s 2ms/step - loss: 4.4289 - mae: 4.4289\n",
            "Epoch 183/300\n",
            "13/13 [==============================] - 0s 2ms/step - loss: 4.7835 - mae: 4.7835\n",
            "Epoch 184/300\n",
            "13/13 [==============================] - 0s 2ms/step - loss: 5.1051 - mae: 5.1051\n",
            "Epoch 185/300\n",
            "13/13 [==============================] - 0s 2ms/step - loss: 4.8232 - mae: 4.8232\n",
            "Epoch 186/300\n",
            "13/13 [==============================] - 0s 3ms/step - loss: 4.5775 - mae: 4.5775\n",
            "Epoch 187/300\n",
            "13/13 [==============================] - 0s 2ms/step - loss: 5.4401 - mae: 5.4401\n",
            "Epoch 188/300\n",
            "13/13 [==============================] - 0s 3ms/step - loss: 4.8545 - mae: 4.8545\n",
            "Epoch 189/300\n",
            "13/13 [==============================] - 0s 2ms/step - loss: 4.2610 - mae: 4.2610\n",
            "Epoch 190/300\n",
            "13/13 [==============================] - 0s 3ms/step - loss: 4.0880 - mae: 4.0880\n",
            "Epoch 191/300\n",
            "13/13 [==============================] - 0s 2ms/step - loss: 4.0225 - mae: 4.0225\n",
            "Epoch 192/300\n",
            "13/13 [==============================] - 0s 2ms/step - loss: 4.3156 - mae: 4.3156\n",
            "Epoch 193/300\n",
            "13/13 [==============================] - 0s 2ms/step - loss: 4.5893 - mae: 4.5893\n",
            "Epoch 194/300\n",
            "13/13 [==============================] - 0s 3ms/step - loss: 5.3971 - mae: 5.3971\n",
            "Epoch 195/300\n",
            "13/13 [==============================] - 0s 3ms/step - loss: 4.5384 - mae: 4.5384\n",
            "Epoch 196/300\n",
            "13/13 [==============================] - 0s 3ms/step - loss: 4.7313 - mae: 4.7313\n",
            "Epoch 197/300\n",
            "13/13 [==============================] - 0s 2ms/step - loss: 4.6621 - mae: 4.6621\n",
            "Epoch 198/300\n",
            "13/13 [==============================] - 0s 3ms/step - loss: 4.2385 - mae: 4.2385\n",
            "Epoch 199/300\n",
            "13/13 [==============================] - 0s 3ms/step - loss: 4.0142 - mae: 4.0142\n",
            "Epoch 200/300\n",
            "13/13 [==============================] - 0s 3ms/step - loss: 4.0346 - mae: 4.0346\n",
            "Epoch 201/300\n",
            "13/13 [==============================] - 0s 2ms/step - loss: 4.0821 - mae: 4.0821\n",
            "Epoch 202/300\n",
            "13/13 [==============================] - 0s 3ms/step - loss: 3.9875 - mae: 3.9875\n",
            "Epoch 203/300\n",
            "13/13 [==============================] - 0s 2ms/step - loss: 4.1386 - mae: 4.1386\n",
            "Epoch 204/300\n",
            "13/13 [==============================] - 0s 2ms/step - loss: 4.3208 - mae: 4.3208\n",
            "Epoch 205/300\n",
            "13/13 [==============================] - 0s 2ms/step - loss: 4.2241 - mae: 4.2241\n",
            "Epoch 206/300\n",
            "13/13 [==============================] - 0s 2ms/step - loss: 4.4929 - mae: 4.4929\n",
            "Epoch 207/300\n",
            "13/13 [==============================] - 0s 2ms/step - loss: 4.2089 - mae: 4.2089\n",
            "Epoch 208/300\n",
            "13/13 [==============================] - 0s 2ms/step - loss: 4.3497 - mae: 4.3497\n",
            "Epoch 209/300\n",
            "13/13 [==============================] - 0s 4ms/step - loss: 4.2512 - mae: 4.2512\n",
            "Epoch 210/300\n",
            "13/13 [==============================] - 0s 2ms/step - loss: 4.2423 - mae: 4.2423\n",
            "Epoch 211/300\n",
            "13/13 [==============================] - 0s 2ms/step - loss: 4.3118 - mae: 4.3118\n",
            "Epoch 212/300\n",
            "13/13 [==============================] - 0s 2ms/step - loss: 4.1868 - mae: 4.1868\n",
            "Epoch 213/300\n",
            "13/13 [==============================] - 0s 2ms/step - loss: 4.3840 - mae: 4.3840\n",
            "Epoch 214/300\n",
            "13/13 [==============================] - 0s 2ms/step - loss: 4.3200 - mae: 4.3200\n",
            "Epoch 215/300\n",
            "13/13 [==============================] - 0s 2ms/step - loss: 4.1811 - mae: 4.1811\n",
            "Epoch 216/300\n",
            "13/13 [==============================] - 0s 2ms/step - loss: 4.1720 - mae: 4.1720\n",
            "Epoch 217/300\n",
            "13/13 [==============================] - 0s 3ms/step - loss: 4.2649 - mae: 4.2649\n",
            "Epoch 218/300\n",
            "13/13 [==============================] - 0s 2ms/step - loss: 4.0180 - mae: 4.0180\n",
            "Epoch 219/300\n",
            "13/13 [==============================] - 0s 3ms/step - loss: 4.6166 - mae: 4.6166\n",
            "Epoch 220/300\n",
            "13/13 [==============================] - 0s 3ms/step - loss: 5.4889 - mae: 5.4889\n",
            "Epoch 221/300\n",
            "13/13 [==============================] - 0s 2ms/step - loss: 4.6428 - mae: 4.6428\n",
            "Epoch 222/300\n",
            "13/13 [==============================] - 0s 2ms/step - loss: 4.4847 - mae: 4.4847\n",
            "Epoch 223/300\n",
            "13/13 [==============================] - 0s 3ms/step - loss: 4.6882 - mae: 4.6882\n",
            "Epoch 224/300\n",
            "13/13 [==============================] - 0s 2ms/step - loss: 4.0199 - mae: 4.0199\n",
            "Epoch 225/300\n",
            "13/13 [==============================] - 0s 2ms/step - loss: 4.0543 - mae: 4.0543\n",
            "Epoch 226/300\n",
            "13/13 [==============================] - 0s 3ms/step - loss: 4.4426 - mae: 4.4426\n",
            "Epoch 227/300\n",
            "13/13 [==============================] - 0s 3ms/step - loss: 3.8075 - mae: 3.8075\n",
            "Epoch 228/300\n",
            "13/13 [==============================] - 0s 3ms/step - loss: 3.8105 - mae: 3.8105\n",
            "Epoch 229/300\n",
            "13/13 [==============================] - 0s 3ms/step - loss: 4.0053 - mae: 4.0053\n",
            "Epoch 230/300\n",
            "13/13 [==============================] - 0s 2ms/step - loss: 3.9295 - mae: 3.9295\n",
            "Epoch 231/300\n",
            "13/13 [==============================] - 0s 2ms/step - loss: 5.0672 - mae: 5.0672\n",
            "Epoch 232/300\n",
            "13/13 [==============================] - 0s 2ms/step - loss: 4.1950 - mae: 4.1950\n",
            "Epoch 233/300\n",
            "13/13 [==============================] - 0s 3ms/step - loss: 3.9310 - mae: 3.9310\n",
            "Epoch 234/300\n",
            "13/13 [==============================] - 0s 3ms/step - loss: 3.9812 - mae: 3.9812\n",
            "Epoch 235/300\n",
            "13/13 [==============================] - 0s 3ms/step - loss: 4.0340 - mae: 4.0340\n",
            "Epoch 236/300\n",
            "13/13 [==============================] - 0s 3ms/step - loss: 4.5874 - mae: 4.5874\n",
            "Epoch 237/300\n",
            "13/13 [==============================] - 0s 3ms/step - loss: 4.0459 - mae: 4.0459\n",
            "Epoch 238/300\n",
            "13/13 [==============================] - 0s 3ms/step - loss: 4.1811 - mae: 4.1811\n",
            "Epoch 239/300\n",
            "13/13 [==============================] - 0s 3ms/step - loss: 4.2674 - mae: 4.2674\n",
            "Epoch 240/300\n",
            "13/13 [==============================] - 0s 2ms/step - loss: 5.1336 - mae: 5.1336\n",
            "Epoch 241/300\n",
            "13/13 [==============================] - 0s 3ms/step - loss: 4.1825 - mae: 4.1825\n",
            "Epoch 242/300\n",
            "13/13 [==============================] - 0s 3ms/step - loss: 4.1089 - mae: 4.1089\n",
            "Epoch 243/300\n",
            "13/13 [==============================] - 0s 2ms/step - loss: 3.9379 - mae: 3.9379\n",
            "Epoch 244/300\n",
            "13/13 [==============================] - 0s 4ms/step - loss: 3.9356 - mae: 3.9356\n",
            "Epoch 245/300\n",
            "13/13 [==============================] - 0s 2ms/step - loss: 4.0572 - mae: 4.0572\n",
            "Epoch 246/300\n",
            "13/13 [==============================] - 0s 3ms/step - loss: 3.9452 - mae: 3.9452\n",
            "Epoch 247/300\n",
            "13/13 [==============================] - 0s 2ms/step - loss: 3.9609 - mae: 3.9609\n",
            "Epoch 248/300\n",
            "13/13 [==============================] - 0s 3ms/step - loss: 4.7543 - mae: 4.7543\n",
            "Epoch 249/300\n",
            "13/13 [==============================] - 0s 3ms/step - loss: 4.3967 - mae: 4.3967\n",
            "Epoch 250/300\n",
            "13/13 [==============================] - 0s 3ms/step - loss: 4.1748 - mae: 4.1748\n",
            "Epoch 251/300\n",
            "13/13 [==============================] - 0s 3ms/step - loss: 4.1204 - mae: 4.1204\n",
            "Epoch 252/300\n",
            "13/13 [==============================] - 0s 2ms/step - loss: 4.4868 - mae: 4.4868\n",
            "Epoch 253/300\n",
            "13/13 [==============================] - 0s 2ms/step - loss: 3.9603 - mae: 3.9603\n",
            "Epoch 254/300\n",
            "13/13 [==============================] - 0s 3ms/step - loss: 4.4467 - mae: 4.4467\n",
            "Epoch 255/300\n",
            "13/13 [==============================] - 0s 2ms/step - loss: 4.5069 - mae: 4.5069\n",
            "Epoch 256/300\n",
            "13/13 [==============================] - 0s 3ms/step - loss: 4.0928 - mae: 4.0928\n",
            "Epoch 257/300\n",
            "13/13 [==============================] - 0s 3ms/step - loss: 4.0457 - mae: 4.0457\n",
            "Epoch 258/300\n",
            "13/13 [==============================] - 0s 3ms/step - loss: 4.3101 - mae: 4.3101\n",
            "Epoch 259/300\n",
            "13/13 [==============================] - 0s 3ms/step - loss: 4.6575 - mae: 4.6575\n",
            "Epoch 260/300\n",
            "13/13 [==============================] - 0s 2ms/step - loss: 5.0961 - mae: 5.0961\n",
            "Epoch 261/300\n",
            "13/13 [==============================] - 0s 2ms/step - loss: 3.8960 - mae: 3.8960\n",
            "Epoch 262/300\n",
            "13/13 [==============================] - 0s 2ms/step - loss: 3.9476 - mae: 3.9476\n",
            "Epoch 263/300\n",
            "13/13 [==============================] - 0s 3ms/step - loss: 3.9407 - mae: 3.9407\n",
            "Epoch 264/300\n",
            "13/13 [==============================] - 0s 2ms/step - loss: 3.9663 - mae: 3.9663\n",
            "Epoch 265/300\n",
            "13/13 [==============================] - 0s 3ms/step - loss: 3.9578 - mae: 3.9578\n",
            "Epoch 266/300\n",
            "13/13 [==============================] - 0s 3ms/step - loss: 3.8227 - mae: 3.8227\n",
            "Epoch 267/300\n",
            "13/13 [==============================] - 0s 3ms/step - loss: 4.9204 - mae: 4.9204\n",
            "Epoch 268/300\n",
            "13/13 [==============================] - 0s 2ms/step - loss: 4.5222 - mae: 4.5222\n",
            "Epoch 269/300\n",
            "13/13 [==============================] - 0s 3ms/step - loss: 3.9158 - mae: 3.9158\n",
            "Epoch 270/300\n",
            "13/13 [==============================] - 0s 3ms/step - loss: 3.9501 - mae: 3.9501\n",
            "Epoch 271/300\n",
            "13/13 [==============================] - 0s 3ms/step - loss: 3.8862 - mae: 3.8862\n",
            "Epoch 272/300\n",
            "13/13 [==============================] - 0s 2ms/step - loss: 3.9721 - mae: 3.9721\n",
            "Epoch 273/300\n",
            "13/13 [==============================] - 0s 3ms/step - loss: 3.6503 - mae: 3.6503\n",
            "Epoch 274/300\n",
            "13/13 [==============================] - 0s 3ms/step - loss: 3.6954 - mae: 3.6954\n",
            "Epoch 275/300\n",
            "13/13 [==============================] - 0s 2ms/step - loss: 3.7673 - mae: 3.7673\n",
            "Epoch 276/300\n",
            "13/13 [==============================] - 0s 3ms/step - loss: 3.6488 - mae: 3.6488\n",
            "Epoch 277/300\n",
            "13/13 [==============================] - 0s 2ms/step - loss: 3.7870 - mae: 3.7870\n",
            "Epoch 278/300\n",
            "13/13 [==============================] - 0s 2ms/step - loss: 5.3319 - mae: 5.3319\n",
            "Epoch 279/300\n",
            "13/13 [==============================] - 0s 3ms/step - loss: 3.9276 - mae: 3.9276\n",
            "Epoch 280/300\n",
            "13/13 [==============================] - 0s 3ms/step - loss: 3.9581 - mae: 3.9581\n",
            "Epoch 281/300\n",
            "13/13 [==============================] - 0s 2ms/step - loss: 5.1423 - mae: 5.1423\n",
            "Epoch 282/300\n",
            "13/13 [==============================] - 0s 2ms/step - loss: 3.8367 - mae: 3.8367\n",
            "Epoch 283/300\n",
            "13/13 [==============================] - 0s 2ms/step - loss: 3.7890 - mae: 3.7890\n",
            "Epoch 284/300\n",
            "13/13 [==============================] - 0s 3ms/step - loss: 3.7150 - mae: 3.7150\n",
            "Epoch 285/300\n",
            "13/13 [==============================] - 0s 3ms/step - loss: 3.9461 - mae: 3.9461\n",
            "Epoch 286/300\n",
            "13/13 [==============================] - 0s 2ms/step - loss: 3.6813 - mae: 3.6813\n",
            "Epoch 287/300\n",
            "13/13 [==============================] - 0s 4ms/step - loss: 3.7288 - mae: 3.7288\n",
            "Epoch 288/300\n",
            "13/13 [==============================] - 0s 2ms/step - loss: 3.6421 - mae: 3.6421\n",
            "Epoch 289/300\n",
            "13/13 [==============================] - 0s 2ms/step - loss: 3.8371 - mae: 3.8371\n",
            "Epoch 290/300\n",
            "13/13 [==============================] - 0s 2ms/step - loss: 3.9832 - mae: 3.9832\n",
            "Epoch 291/300\n",
            "13/13 [==============================] - 0s 4ms/step - loss: 4.2093 - mae: 4.2093\n",
            "Epoch 292/300\n",
            "13/13 [==============================] - 0s 2ms/step - loss: 4.1222 - mae: 4.1222\n",
            "Epoch 293/300\n",
            "13/13 [==============================] - 0s 3ms/step - loss: 3.8132 - mae: 3.8132\n",
            "Epoch 294/300\n",
            "13/13 [==============================] - 0s 3ms/step - loss: 3.6957 - mae: 3.6957\n",
            "Epoch 295/300\n",
            "13/13 [==============================] - 0s 2ms/step - loss: 3.9807 - mae: 3.9807\n",
            "Epoch 296/300\n",
            "13/13 [==============================] - 0s 3ms/step - loss: 3.7148 - mae: 3.7148\n",
            "Epoch 297/300\n",
            "13/13 [==============================] - 0s 3ms/step - loss: 3.9660 - mae: 3.9660\n",
            "Epoch 298/300\n",
            "13/13 [==============================] - 0s 2ms/step - loss: 4.3091 - mae: 4.3091\n",
            "Epoch 299/300\n",
            "13/13 [==============================] - 0s 3ms/step - loss: 4.1795 - mae: 4.1795\n",
            "Epoch 300/300\n",
            "13/13 [==============================] - 0s 2ms/step - loss: 3.9295 - mae: 3.9295\n"
          ]
        }
      ]
    },
    {
      "cell_type": "code",
      "metadata": {
        "colab": {
          "base_uri": "https://localhost:8080/",
          "height": 279
        },
        "id": "iPHGGh0PEwTf",
        "outputId": "946071b2-fd4a-4fec-fdc3-538df692ae44"
      },
      "source": [
        "# Plot history\n",
        "pd.DataFrame(history.history).plot()\n",
        "plt.xlabel('epochs')\n",
        "plt.ylabel('loss');"
      ],
      "execution_count": null,
      "outputs": [
        {
          "output_type": "display_data",
          "data": {
            "image/png": "[encoded data removed]",
            "text/plain": [
              "<Figure size 432x288 with 1 Axes>"
            ]
          },
          "metadata": {
            "needs_background": "light"
          }
        }
      ]
    },
    {
      "cell_type": "code",
      "metadata": {
        "colab": {
          "base_uri": "https://localhost:8080/"
        },
        "id": "u0J6M13SFDSN",
        "outputId": "438c9990-49e9-4f57-e568-8446d7377399"
      },
      "source": [
        "# Evaluation\n",
        "_, boston_mae = boston_model.evaluate(test_features, test_labels)"
      ],
      "execution_count": null,
      "outputs": [
        {
          "output_type": "stream",
          "name": "stdout",
          "text": [
            "4/4 [==============================] - 0s 3ms/step - loss: 4.4669 - mae: 4.4669\n"
          ]
        }
      ]
    },
    {
      "cell_type": "markdown",
      "metadata": {
        "id": "VbDfZE5iFbzj"
      },
      "source": [
        "Second model:\n",
        "* Everything same but train for longer (500 epochs)"
      ]
    },
    {
      "cell_type": "code",
      "metadata": {
        "id": "uVCiRhLxFStm"
      },
      "source": [
        "# Set random seed\n",
        "tf.random.set_seed(42)\n",
        "\n",
        "# Create model\n",
        "boston_model_2 = tf.keras.Sequential([\n",
        "                                    tf.keras.layers.Dense(100),\n",
        "                                    tf.keras.layers.Dense(50),\n",
        "                                    tf.keras.layers.Dense(10),\n",
        "                                    tf.keras.layers.Dense(1)\n",
        "])\n",
        "\n",
        "# Compile model\n",
        "boston_model_2.compile(loss=tf.keras.losses.mae,\n",
        "                     optimizer=tf.keras.optimizers.Adam(),\n",
        "                     metrics=['mae'])\n",
        "\n",
        "# Fit the model (500 epochs)\n",
        "history_2 = boston_model_2.fit(train_features, train_labels, epochs=500, verbose=0)"
      ],
      "execution_count": null,
      "outputs": []
    },
    {
      "cell_type": "code",
      "metadata": {
        "colab": {
          "base_uri": "https://localhost:8080/",
          "height": 279
        },
        "id": "muriSr-ZF-S0",
        "outputId": "b577206f-2468-4823-9396-2c4a06322ab8"
      },
      "source": [
        "# Plot history\n",
        "pd.DataFrame(history_2.history).plot()\n",
        "plt.xlabel('epochs')\n",
        "plt.ylabel('loss');"
      ],
      "execution_count": null,
      "outputs": [
        {
          "output_type": "display_data",
          "data": {
            "image/png": "[encoded data removed]",
            "text/plain": [
              "<Figure size 432x288 with 1 Axes>"
            ]
          },
          "metadata": {
            "needs_background": "light"
          }
        }
      ]
    },
    {
      "cell_type": "code",
      "metadata": {
        "colab": {
          "base_uri": "https://localhost:8080/"
        },
        "id": "uuXMq6QwGLtv",
        "outputId": "069ad102-dd39-4545-87fe-b424aa8372f7"
      },
      "source": [
        "# Evaluation\n",
        "_, boston_mae_2 = boston_model_2.evaluate(test_features, test_labels)"
      ],
      "execution_count": null,
      "outputs": [
        {
          "output_type": "stream",
          "name": "stdout",
          "text": [
            "4/4 [==============================] - 0s 3ms/step - loss: 3.1827 - mae: 3.1827\n"
          ]
        }
      ]
    },
    {
      "cell_type": "code",
      "metadata": {
        "colab": {
          "base_uri": "https://localhost:8080/",
          "height": 112
        },
        "id": "hPiyfEWVGR8p",
        "outputId": "712df0ba-d3e8-469a-e90e-218c133e6cdb"
      },
      "source": [
        "# Compare results\n",
        "model_results = {'MAE': [boston_mae, boston_mae_2]}\n",
        "\n",
        "# Create DataFrame for comparison\n",
        "boston_results = pd.DataFrame(model_results, index=['Model 1', 'Model 2'])\n",
        "boston_results"
      ],
      "execution_count": null,
      "outputs": [
        {
          "output_type": "execute_result",
          "data": {
            "text/html": [
              "<div>\n",
              "<style scoped>\n",
              "    .dataframe tbody tr th:only-of-type {\n",
              "        vertical-align: middle;\n",
              "    }\n",
              "\n",
              "    .dataframe tbody tr th {\n",
              "        vertical-align: top;\n",
              "    }\n",
              "\n",
              "    .dataframe thead th {\n",
              "        text-align: right;\n",
              "    }\n",
              "</style>\n",
              "<table border=\"1\" class=\"dataframe\">\n",
              "  <thead>\n",
              "    <tr style=\"text-align: right;\">\n",
              "      <th></th>\n",
              "      <th>MAE</th>\n",
              "    </tr>\n",
              "  </thead>\n",
              "  <tbody>\n",
              "    <tr>\n",
              "      <th>Model 1</th>\n",
              "      <td>4.466881</td>\n",
              "    </tr>\n",
              "    <tr>\n",
              "      <th>Model 2</th>\n",
              "      <td>3.182720</td>\n",
              "    </tr>\n",
              "  </tbody>\n",
              "</table>\n",
              "</div>"
            ],
            "text/plain": [
              "              MAE\n",
              "Model 1  4.466881\n",
              "Model 2  3.182720"
            ]
          },
          "metadata": {},
          "execution_count": 84
        }
      ]
    }
  ]
}