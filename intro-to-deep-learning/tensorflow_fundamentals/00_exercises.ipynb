{
  "nbformat": 4,
  "nbformat_minor": 0,
  "metadata": {
    "colab": {
      "name": "00_exercises.ipynb",
      "provenance": [],
      "collapsed_sections": [],
      "authorship_tag": "ABX9TyOMWskBV/MR4AMb89rMwSMh",
      "include_colab_link": true
    },
    "kernelspec": {
      "name": "python3",
      "display_name": "Python 3"
    },
    "language_info": {
      "name": "python"
    }
  },
  "cells": [
    {
      "cell_type": "markdown",
      "metadata": {
        "id": "view-in-github",
        "colab_type": "text"
      },
      "source": [
        "<a href=\"https://colab.research.google.com/github/MuhammadAwon/backyard-projects/blob/main/intro-to-deep-learning/tensorflow_fundamentals/00_exercises.ipynb\" target=\"_parent\"><img src=\"https://colab.research.google.com/assets/colab-badge.svg\" alt=\"Open In Colab\"/></a>"
      ]
    },
    {
      "cell_type": "markdown",
      "metadata": {
        "id": "SfmRTwk-Qpgb"
      },
      "source": [
        "## 🛠 Exercises\n",
        "\n",
        "1. Create a vector, scalar, matrix and tensor with values of your choosing using `tf.constant()`.\n",
        "2. Find the shape, rank and size of the tensors you created in 1.\n",
        "3. Create two tensors containing random values between 0 and 1 with shape `[5, 300]`.\n",
        "4. Multiply the two tensors you created in 3 using matrix multiplication.\n",
        "5. Multiply the two tensors you created in 3 using dot product.\n",
        "6. Create a tensor with random values between 0 and 1 with shape `[224, 224, 3]`.\n",
        "7. Find the min and max values of the tensor you created in 6.\n",
        "8. Created a tensor with random values of shape `[1, 224, 224, 3]` then squeeze it to change the shape to `[224, 224, 3]`.\n",
        "9. Create a tensor with shape `[10]` using your own choice of values, then find the index which has the maximum value.\n",
        "10. One-hot encode the tensor you created in 9."
      ]
    },
    {
      "cell_type": "markdown",
      "metadata": {
        "id": "PzJrOQ6NUD6v"
      },
      "source": [
        "-----------------------------------------------------------------"
      ]
    },
    {
      "cell_type": "code",
      "metadata": {
        "id": "2iFAYeKtUSvf"
      },
      "source": [
        "import numpy as np\n",
        "import tensorflow as tf"
      ],
      "execution_count": null,
      "outputs": []
    },
    {
      "cell_type": "markdown",
      "metadata": {
        "id": "Rfmw73clUBOv"
      },
      "source": [
        "1. Create a vector, scalar, matrix and tensor with values of your choosing using `tf.constant()`."
      ]
    },
    {
      "cell_type": "code",
      "metadata": {
        "colab": {
          "base_uri": "https://localhost:8080/"
        },
        "id": "tVOejRAMQfpZ",
        "outputId": "40a9c6fb-efb6-4824-b80a-012857e16e3d"
      },
      "source": [
        "# Create scalar\n",
        "scalar = tf.constant([8])\n",
        "scalar"
      ],
      "execution_count": null,
      "outputs": [
        {
          "output_type": "execute_result",
          "data": {
            "text/plain": [
              "<tf.Tensor: shape=(1,), dtype=int32, numpy=array([8], dtype=int32)>"
            ]
          },
          "metadata": {},
          "execution_count": 232
        }
      ]
    },
    {
      "cell_type": "code",
      "metadata": {
        "colab": {
          "base_uri": "https://localhost:8080/"
        },
        "id": "p6q8eh0hUmiB",
        "outputId": "1b0e092b-59fb-4fb4-bb88-f3b827971abe"
      },
      "source": [
        "# Create vector\n",
        "vector = tf.constant([1, 3, 5, 8, 14])\n",
        "vector"
      ],
      "execution_count": null,
      "outputs": [
        {
          "output_type": "execute_result",
          "data": {
            "text/plain": [
              "<tf.Tensor: shape=(5,), dtype=int32, numpy=array([ 1,  3,  5,  8, 14], dtype=int32)>"
            ]
          },
          "metadata": {},
          "execution_count": 233
        }
      ]
    },
    {
      "cell_type": "code",
      "metadata": {
        "colab": {
          "base_uri": "https://localhost:8080/"
        },
        "id": "NLqthwQrUv2A",
        "outputId": "938cdf84-df05-4a2f-d195-6d9c89a26633"
      },
      "source": [
        "# Create matrix\n",
        "matrix = tf.constant([[1, 3, 5],\n",
        "                      [8, 14, 24]])\n",
        "matrix"
      ],
      "execution_count": null,
      "outputs": [
        {
          "output_type": "execute_result",
          "data": {
            "text/plain": [
              "<tf.Tensor: shape=(2, 3), dtype=int32, numpy=\n",
              "array([[ 1,  3,  5],\n",
              "       [ 8, 14, 24]], dtype=int32)>"
            ]
          },
          "metadata": {},
          "execution_count": 234
        }
      ]
    },
    {
      "cell_type": "code",
      "metadata": {
        "colab": {
          "base_uri": "https://localhost:8080/"
        },
        "id": "AehQvwMpU8Ip",
        "outputId": "d11fa63a-d59b-4687-efa1-d60edd5e34cf"
      },
      "source": [
        "# Create tensor\n",
        "tensor = tf.constant([[[1, 3, 5],\n",
        "                       [4, 6, 8]],\n",
        "                      [[7, 9, 10],\n",
        "                       [11, 34, 65]]])\n",
        "tensor"
      ],
      "execution_count": null,
      "outputs": [
        {
          "output_type": "execute_result",
          "data": {
            "text/plain": [
              "<tf.Tensor: shape=(2, 2, 3), dtype=int32, numpy=\n",
              "array([[[ 1,  3,  5],\n",
              "        [ 4,  6,  8]],\n",
              "\n",
              "       [[ 7,  9, 10],\n",
              "        [11, 34, 65]]], dtype=int32)>"
            ]
          },
          "metadata": {},
          "execution_count": 235
        }
      ]
    },
    {
      "cell_type": "markdown",
      "metadata": {
        "id": "-oOiiugqVgwH"
      },
      "source": [
        "2. Find the shape, rank and size of the tensors you created in 1."
      ]
    },
    {
      "cell_type": "code",
      "metadata": {
        "colab": {
          "base_uri": "https://localhost:8080/"
        },
        "id": "PWm2IM0UVb2Z",
        "outputId": "846214ea-2371-475b-e1e2-81e37b7c3450"
      },
      "source": [
        "# Scalar\n",
        "scalar, scalar.shape, scalar.ndim, tf.size(scalar)"
      ],
      "execution_count": null,
      "outputs": [
        {
          "output_type": "execute_result",
          "data": {
            "text/plain": [
              "(<tf.Tensor: shape=(1,), dtype=int32, numpy=array([8], dtype=int32)>,\n",
              " TensorShape([1]),\n",
              " 1,\n",
              " <tf.Tensor: shape=(), dtype=int32, numpy=1>)"
            ]
          },
          "metadata": {},
          "execution_count": 236
        }
      ]
    },
    {
      "cell_type": "code",
      "metadata": {
        "colab": {
          "base_uri": "https://localhost:8080/"
        },
        "id": "uUymeeZSVtxg",
        "outputId": "ffc9978e-5002-452e-b5e9-892a65272fd0"
      },
      "source": [
        "# Vector\n",
        "vector, vector.shape, vector.ndim, tf.size(vector)"
      ],
      "execution_count": null,
      "outputs": [
        {
          "output_type": "execute_result",
          "data": {
            "text/plain": [
              "(<tf.Tensor: shape=(5,), dtype=int32, numpy=array([ 1,  3,  5,  8, 14], dtype=int32)>,\n",
              " TensorShape([5]),\n",
              " 1,\n",
              " <tf.Tensor: shape=(), dtype=int32, numpy=5>)"
            ]
          },
          "metadata": {},
          "execution_count": 237
        }
      ]
    },
    {
      "cell_type": "code",
      "metadata": {
        "colab": {
          "base_uri": "https://localhost:8080/"
        },
        "id": "HXApUYgFV0_i",
        "outputId": "59d8d731-d087-4e1c-82e1-140706736d85"
      },
      "source": [
        "# Matrix\n",
        "matrix, matrix.shape, matrix.ndim, tf.size(matrix)"
      ],
      "execution_count": null,
      "outputs": [
        {
          "output_type": "execute_result",
          "data": {
            "text/plain": [
              "(<tf.Tensor: shape=(2, 3), dtype=int32, numpy=\n",
              " array([[ 1,  3,  5],\n",
              "        [ 8, 14, 24]], dtype=int32)>,\n",
              " TensorShape([2, 3]),\n",
              " 2,\n",
              " <tf.Tensor: shape=(), dtype=int32, numpy=6>)"
            ]
          },
          "metadata": {},
          "execution_count": 238
        }
      ]
    },
    {
      "cell_type": "code",
      "metadata": {
        "colab": {
          "base_uri": "https://localhost:8080/"
        },
        "id": "ruPV7y5qXVqQ",
        "outputId": "afeb7bf4-0c3d-442f-c5b5-a0c47cd88910"
      },
      "source": [
        "# Tensor\n",
        "tensor, tensor.shape, tensor.ndim, tf.size(tensor)"
      ],
      "execution_count": null,
      "outputs": [
        {
          "output_type": "execute_result",
          "data": {
            "text/plain": [
              "(<tf.Tensor: shape=(2, 2, 3), dtype=int32, numpy=\n",
              " array([[[ 1,  3,  5],\n",
              "         [ 4,  6,  8]],\n",
              " \n",
              "        [[ 7,  9, 10],\n",
              "         [11, 34, 65]]], dtype=int32)>,\n",
              " TensorShape([2, 2, 3]),\n",
              " 3,\n",
              " <tf.Tensor: shape=(), dtype=int32, numpy=12>)"
            ]
          },
          "metadata": {},
          "execution_count": 239
        }
      ]
    },
    {
      "cell_type": "markdown",
      "metadata": {
        "id": "m9pPgmgcXmr4"
      },
      "source": [
        "3. Create two tensors containing random values between 0 and 1 with shape `[5, 300]`."
      ]
    },
    {
      "cell_type": "code",
      "metadata": {
        "colab": {
          "base_uri": "https://localhost:8080/"
        },
        "id": "qeKoJ_O1Xc79",
        "outputId": "ff124b1b-34c4-43a3-e8ba-fd67f59750ca"
      },
      "source": [
        "# Create first tensor with random values between 0 and 1 with shape (5, 300)\n",
        "tf.random.set_seed(42)\n",
        "\n",
        "first_tensor = tf.constant(np.random.random((5, 300)))\n",
        "first_tensor"
      ],
      "execution_count": null,
      "outputs": [
        {
          "output_type": "execute_result",
          "data": {
            "text/plain": [
              "<tf.Tensor: shape=(5, 300), dtype=float64, numpy=\n",
              "array([[3.89420371e-01, 4.73529525e-01, 5.34871697e-02, ...,\n",
              "        8.36284921e-01, 7.54168956e-01, 2.62424274e-01],\n",
              "       [3.99023759e-01, 6.77236617e-01, 5.86878164e-01, ...,\n",
              "        2.55656599e-01, 3.86279365e-01, 2.46010656e-01],\n",
              "       [3.79255189e-01, 1.94205306e-04, 6.42983310e-02, ...,\n",
              "        1.25141762e-01, 7.55292321e-01, 3.78293896e-01],\n",
              "       [5.13051935e-01, 4.62328299e-01, 7.62019812e-01, ...,\n",
              "        2.27474602e-01, 2.24920970e-01, 2.15475938e-01],\n",
              "       [6.84696421e-01, 4.81303833e-01, 2.61470737e-01, ...,\n",
              "        4.52219895e-01, 3.48076458e-01, 2.28830503e-01]])>"
            ]
          },
          "metadata": {},
          "execution_count": 240
        }
      ]
    },
    {
      "cell_type": "code",
      "metadata": {
        "colab": {
          "base_uri": "https://localhost:8080/"
        },
        "id": "_sWASgFeZagr",
        "outputId": "9bc550b1-0e9e-44ee-bc25-6bcf0b0dee2c"
      },
      "source": [
        "# Create second tensor\n",
        "tf.random.set_seed(0)\n",
        "\n",
        "second_tensor = tf.constant(np.random.random((5, 300)))\n",
        "second_tensor"
      ],
      "execution_count": null,
      "outputs": [
        {
          "output_type": "execute_result",
          "data": {
            "text/plain": [
              "<tf.Tensor: shape=(5, 300), dtype=float64, numpy=\n",
              "array([[0.63761812, 0.05957552, 0.82837321, ..., 0.75887938, 0.03251605,\n",
              "        0.27140548],\n",
              "       [0.6477235 , 0.73757453, 0.14090107, ..., 0.54058328, 0.20569447,\n",
              "        0.61889926],\n",
              "       [0.9493299 , 0.37039836, 0.49488955, ..., 0.26201286, 0.26055104,\n",
              "        0.83602871],\n",
              "       [0.79882155, 0.30072529, 0.44420783, ..., 0.43577296, 0.55190447,\n",
              "        0.49650725],\n",
              "       [0.4082457 , 0.76107095, 0.83329522, ..., 0.99090011, 0.89633739,\n",
              "        0.45958035]])>"
            ]
          },
          "metadata": {},
          "execution_count": 241
        }
      ]
    },
    {
      "cell_type": "markdown",
      "metadata": {
        "id": "P7Mk26O0ZtgW"
      },
      "source": [
        "4. Multiply the two tensors you created in 3 using matrix multiplication."
      ]
    },
    {
      "cell_type": "code",
      "metadata": {
        "colab": {
          "base_uri": "https://localhost:8080/"
        },
        "id": "jjji9p-XZx0h",
        "outputId": "715abb95-8de7-41e9-cbc5-9fffa2e3a0a8"
      },
      "source": [
        "tf.matmul(first_tensor, second_tensor, transpose_a=True)"
      ],
      "execution_count": null,
      "outputs": [
        {
          "output_type": "execute_result",
          "data": {
            "text/plain": [
              "<tf.Tensor: shape=(300, 300), dtype=float64, numpy=\n",
              "array([[1.55615815, 1.13337543, 1.36495364, ..., 1.51263832, 1.09042938,\n",
              "        1.23912158],\n",
              "       [1.30658547, 1.03313536, 1.09421668, ..., 1.40389966, 0.84132341,\n",
              "        0.99856925],\n",
              "       [1.19074165, 0.88802532, 0.71519715, ..., 0.96585283, 0.79413792,\n",
              "        0.9300056 ],\n",
              "       ...,\n",
              "       [1.18395446, 0.697319  , 1.26858834, ..., 1.35286384, 0.64327149,\n",
              "        0.81059426],\n",
              "       [1.76986803, 0.94214917, 1.44290891, ..., 1.42195922, 0.73689915,\n",
              "        1.34684366],\n",
              "       [0.95134495, 0.57616001, 0.72566156, ..., 0.75190224, 0.48173237,\n",
              "        0.75189512]])>"
            ]
          },
          "metadata": {},
          "execution_count": 242
        }
      ]
    },
    {
      "cell_type": "markdown",
      "metadata": {
        "id": "Rv8Syw5WbBQk"
      },
      "source": [
        "5. Multiply the two tensors you created in 3 using dot product."
      ]
    },
    {
      "cell_type": "code",
      "metadata": {
        "colab": {
          "base_uri": "https://localhost:8080/"
        },
        "id": "QWyL2IAca55m",
        "outputId": "327cd87a-cdda-4de6-a5cd-834afc1de10a"
      },
      "source": [
        "tf.tensordot(tf.transpose(first_tensor), second_tensor, axes=1)"
      ],
      "execution_count": null,
      "outputs": [
        {
          "output_type": "execute_result",
          "data": {
            "text/plain": [
              "<tf.Tensor: shape=(300, 300), dtype=float64, numpy=\n",
              "array([[1.55615815, 1.13337543, 1.36495364, ..., 1.51263832, 1.09042938,\n",
              "        1.23912158],\n",
              "       [1.30658547, 1.03313536, 1.09421668, ..., 1.40389966, 0.84132341,\n",
              "        0.99856925],\n",
              "       [1.19074165, 0.88802532, 0.71519715, ..., 0.96585283, 0.79413792,\n",
              "        0.9300056 ],\n",
              "       ...,\n",
              "       [1.18395446, 0.697319  , 1.26858834, ..., 1.35286384, 0.64327149,\n",
              "        0.81059426],\n",
              "       [1.76986803, 0.94214917, 1.44290891, ..., 1.42195922, 0.73689915,\n",
              "        1.34684366],\n",
              "       [0.95134495, 0.57616001, 0.72566156, ..., 0.75190224, 0.48173237,\n",
              "        0.75189512]])>"
            ]
          },
          "metadata": {},
          "execution_count": 243
        }
      ]
    },
    {
      "cell_type": "markdown",
      "metadata": {
        "id": "QldOt562cp-P"
      },
      "source": [
        "6. Create a tensor with random values between 0 and 1 with shape `[224, 224, 3]`."
      ]
    },
    {
      "cell_type": "code",
      "metadata": {
        "colab": {
          "base_uri": "https://localhost:8080/"
        },
        "id": "WiPPG6_ZchMn",
        "outputId": "b61d19bd-13e5-44d1-a1d1-ec2207fdae4f"
      },
      "source": [
        "tf.random.set_seed(32)\n",
        "\n",
        "third_tensor = tf.constant(np.random.random((224, 224, 3)))\n",
        "third_tensor"
      ],
      "execution_count": null,
      "outputs": [
        {
          "output_type": "execute_result",
          "data": {
            "text/plain": [
              "<tf.Tensor: shape=(224, 224, 3), dtype=float64, numpy=\n",
              "array([[[0.327721  , 0.89798212, 0.64700936],\n",
              "        [0.52321835, 0.28593823, 0.78621056],\n",
              "        [0.91803812, 0.86038759, 0.08302567],\n",
              "        ...,\n",
              "        [0.46814834, 0.79392094, 0.0731721 ],\n",
              "        [0.9417858 , 0.95136108, 0.99287006],\n",
              "        [0.03129781, 0.27957326, 0.45773092]],\n",
              "\n",
              "       [[0.24623337, 0.08122946, 0.71208252],\n",
              "        [0.07738204, 0.5751598 , 0.51701962],\n",
              "        [0.67480588, 0.82479867, 0.5394342 ],\n",
              "        ...,\n",
              "        [0.38434452, 0.7924645 , 0.49781339],\n",
              "        [0.4865912 , 0.88856204, 0.37898757],\n",
              "        [0.04572861, 0.96681767, 0.36122327]],\n",
              "\n",
              "       [[0.32683307, 0.94824751, 0.02278872],\n",
              "        [0.64661368, 0.33608893, 0.37300481],\n",
              "        [0.31463962, 0.11523427, 0.78494274],\n",
              "        ...,\n",
              "        [0.35165188, 0.62487336, 0.46867357],\n",
              "        [0.07430217, 0.88275576, 0.94326402],\n",
              "        [0.93219615, 0.37131436, 0.39060745]],\n",
              "\n",
              "       ...,\n",
              "\n",
              "       [[0.05369993, 0.61807222, 0.07019633],\n",
              "        [0.6568886 , 0.84407607, 0.93132695],\n",
              "        [0.82790038, 0.77909543, 0.04063492],\n",
              "        ...,\n",
              "        [0.27527866, 0.64254321, 0.60541619],\n",
              "        [0.60169669, 0.28296882, 0.07406408],\n",
              "        [0.86386705, 0.03272741, 0.73316624]],\n",
              "\n",
              "       [[0.94164423, 0.9856212 , 0.72630353],\n",
              "        [0.4672891 , 0.8674392 , 0.64138066],\n",
              "        [0.8634097 , 0.66522078, 0.44559427],\n",
              "        ...,\n",
              "        [0.67644551, 0.47619383, 0.5080724 ],\n",
              "        [0.78772392, 0.1933981 , 0.23670156],\n",
              "        [0.68372682, 0.49002841, 0.78347054]],\n",
              "\n",
              "       [[0.02474502, 0.04171889, 0.43188053],\n",
              "        [0.22733797, 0.48202239, 0.36186713],\n",
              "        [0.8690943 , 0.15500075, 0.24506164],\n",
              "        ...,\n",
              "        [0.17773109, 0.26326215, 0.94645997],\n",
              "        [0.96871058, 0.93383021, 0.22984972],\n",
              "        [0.02905061, 0.42528126, 0.3587865 ]]])>"
            ]
          },
          "metadata": {},
          "execution_count": 244
        }
      ]
    },
    {
      "cell_type": "markdown",
      "metadata": {
        "id": "L5Rpz9ymmqgQ"
      },
      "source": [
        "7. Find the min and max values of the tensor you created in 6."
      ]
    },
    {
      "cell_type": "code",
      "metadata": {
        "colab": {
          "base_uri": "https://localhost:8080/"
        },
        "id": "u7DKsYKwdChy",
        "outputId": "172be951-0682-4e18-88e7-708afd00182a"
      },
      "source": [
        "# Find min & max values\n",
        "tf.reduce_min(third_tensor).numpy(), tf.reduce_max(third_tensor).numpy()"
      ],
      "execution_count": null,
      "outputs": [
        {
          "output_type": "execute_result",
          "data": {
            "text/plain": [
              "(3.6527698910049367e-07, 0.9999907175451467)"
            ]
          },
          "metadata": {},
          "execution_count": 245
        }
      ]
    },
    {
      "cell_type": "markdown",
      "metadata": {
        "id": "xohBKQF0n4wc"
      },
      "source": [
        "8. Created a tensor with random values of shape `[1, 224, 224, 3]` then squeeze it to change the shape to `[224, 224, 3]`."
      ]
    },
    {
      "cell_type": "code",
      "metadata": {
        "colab": {
          "base_uri": "https://localhost:8080/"
        },
        "id": "CO9d8LZMm8IZ",
        "outputId": "db069dfd-fbbb-4c9e-be99-61289591adb6"
      },
      "source": [
        "tf.random.set_seed(42)\n",
        "\n",
        "fourth_tensor = tf.constant(np.random.randint(low=1, high=100, size=(1, 224, 224, 3)))\n",
        "fourth_tensor.shape"
      ],
      "execution_count": null,
      "outputs": [
        {
          "output_type": "execute_result",
          "data": {
            "text/plain": [
              "TensorShape([1, 224, 224, 3])"
            ]
          },
          "metadata": {},
          "execution_count": 246
        }
      ]
    },
    {
      "cell_type": "code",
      "metadata": {
        "colab": {
          "base_uri": "https://localhost:8080/"
        },
        "id": "noBU6ZbCoYx4",
        "outputId": "ce15a3d6-9aab-4b79-9970-53cac5835e81"
      },
      "source": [
        "# Squeeze the shape of fourth_tensor from (1, 224, 224, 3) to (224, 224, 3)\n",
        "fourth_tensor = tf.squeeze(fourth_tensor)\n",
        "fourth_tensor.shape"
      ],
      "execution_count": null,
      "outputs": [
        {
          "output_type": "execute_result",
          "data": {
            "text/plain": [
              "TensorShape([224, 224, 3])"
            ]
          },
          "metadata": {},
          "execution_count": 247
        }
      ]
    },
    {
      "cell_type": "markdown",
      "metadata": {
        "id": "L5ft8t-9pLbj"
      },
      "source": [
        "9. Create a tensor with shape `[10]` using your own choice of values, then find the index which has the maximum value."
      ]
    },
    {
      "cell_type": "code",
      "metadata": {
        "colab": {
          "base_uri": "https://localhost:8080/"
        },
        "id": "uHTtcT6XouDo",
        "outputId": "8873173e-aef5-42c9-f0dd-75dec63d36cd"
      },
      "source": [
        "my_tensor = tf.constant([1, 2, 4, 5, 7, 24, 8, 10, 20, 23])\n",
        "tf.argmax(my_tensor)"
      ],
      "execution_count": null,
      "outputs": [
        {
          "output_type": "execute_result",
          "data": {
            "text/plain": [
              "<tf.Tensor: shape=(), dtype=int64, numpy=5>"
            ]
          },
          "metadata": {},
          "execution_count": 248
        }
      ]
    },
    {
      "cell_type": "markdown",
      "metadata": {
        "id": "ZYp0qMThptCR"
      },
      "source": [
        "10. One-hot encode the tensor you created in 9."
      ]
    },
    {
      "cell_type": "code",
      "metadata": {
        "colab": {
          "base_uri": "https://localhost:8080/"
        },
        "id": "sJ7kdw2bpiIO",
        "outputId": "a4d09bcf-a43d-4609-bf7f-282e3f6c035a"
      },
      "source": [
        "tf.one_hot(indices=my_tensor, depth=10)  # where depth == tf.size(my_tensor)"
      ],
      "execution_count": null,
      "outputs": [
        {
          "output_type": "execute_result",
          "data": {
            "text/plain": [
              "<tf.Tensor: shape=(10, 10), dtype=float32, numpy=\n",
              "array([[0., 1., 0., 0., 0., 0., 0., 0., 0., 0.],\n",
              "       [0., 0., 1., 0., 0., 0., 0., 0., 0., 0.],\n",
              "       [0., 0., 0., 0., 1., 0., 0., 0., 0., 0.],\n",
              "       [0., 0., 0., 0., 0., 1., 0., 0., 0., 0.],\n",
              "       [0., 0., 0., 0., 0., 0., 0., 1., 0., 0.],\n",
              "       [0., 0., 0., 0., 0., 0., 0., 0., 0., 0.],\n",
              "       [0., 0., 0., 0., 0., 0., 0., 0., 1., 0.],\n",
              "       [0., 0., 0., 0., 0., 0., 0., 0., 0., 0.],\n",
              "       [0., 0., 0., 0., 0., 0., 0., 0., 0., 0.],\n",
              "       [0., 0., 0., 0., 0., 0., 0., 0., 0., 0.]], dtype=float32)>"
            ]
          },
          "metadata": {},
          "execution_count": 249
        }
      ]
    },
    {
      "cell_type": "markdown",
      "metadata": {
        "id": "9495__iQrQ4s"
      },
      "source": [
        "------------\n",
        "\n",
        "## 📖 Extra-curriculum\n",
        "\n",
        "1. Read through the [list of TensorFlow Python APIs](https://www.tensorflow.org/api_docs/python/), pick one we haven't gone through in this notebook, reverse engineer it (write out the documentation code for yourself) and figure out what it does.\n",
        "2. Try to create a series of tensor functions to calculate your most recent grocery bill (it's okay if you don't use the names of the items, just the price in numerical form).\n",
        "  * How would you calculate your grocery bill for the month and for the year using tensors?\n",
        "3. Go through the [TensorFlow 2.x quick start for beginners](https://www.tensorflow.org/tutorials/quickstart/beginner) tutorial (be sure to type out all of the code yourself, even if you don't understand it).\n",
        "  * Are there any functions we used in here that match what's used in there? Which are the same? Which haven't you seen before?\n",
        "4. Watch the video [\"What's a tensor?\"](https://www.youtube.com/watch?v=f5liqUk0ZTw) - a great visual introduction to many of the concepts we've covered in this notebook.\n",
        "\n",
        "---------"
      ]
    },
    {
      "cell_type": "markdown",
      "metadata": {
        "id": "ZPxDqBPrrZK3"
      },
      "source": [
        "1. Read through the [list of TensorFlow Python APIs](https://www.tensorflow.org/api_docs/python/), pick one we haven't gone through in this notebook, reverse engineer it (write out the documentation code for yourself) and figure out what it does.\n",
        "\n",
        "**tf.lookup()** finds the key-value pairs between two tensors. In order to find the value(s) of specified key(s), we have to initialize the key-value pair (in the form of a table) and make it static (immutable). This can be done in two steps:\n",
        "1. [KeyValueTensorInitializer](https://www.tensorflow.org/api_docs/python/tf/lookup/KeyValueTensorInitializer) - Table initailizers given `keys` and `values` tensors.\n",
        "2. [StaticHashTable](https://www.tensorflow.org/api_docs/python/tf/lookup/StaticHashTable) - A generic hash table that is immutable once initialized.\n",
        "\n"
      ]
    },
    {
      "cell_type": "code",
      "metadata": {
        "id": "-i9pOW1NPpPr"
      },
      "source": [
        "# Create tensors for keys, values, & input tensor to find the pair\n",
        "keys_tensor = tf.constant(['Apple', 'Orange', 'Strawberry'])\n",
        "vals_tensor = tf.constant([4, 2, 9])\n",
        "input_tensor = tf.constant([['Apple', 'Blueberry'],\n",
        "                            ['Kiwi', 'Orange'],\n",
        "                            ['Strawberry', 'Peach']])"
      ],
      "execution_count": null,
      "outputs": []
    },
    {
      "cell_type": "code",
      "metadata": {
        "id": "gYnQZUulQhP0"
      },
      "source": [
        "# Initialize the key-value pair & make the table static (unchangeable)\n",
        "init = tf.lookup.KeyValueTensorInitializer(keys=keys_tensor, values=vals_tensor)\n",
        "hash_table = tf.lookup.StaticHashTable(init, default_value=0)"
      ],
      "execution_count": null,
      "outputs": []
    },
    {
      "cell_type": "code",
      "metadata": {
        "colab": {
          "base_uri": "https://localhost:8080/"
        },
        "id": "VtBfi4iRR2i7",
        "outputId": "e8112557-a6c4-4db4-a8e2-04534640b2c9"
      },
      "source": [
        "# Find the values according to the keys\n",
        "hash_table.lookup(input_tensor).numpy()"
      ],
      "execution_count": null,
      "outputs": [
        {
          "output_type": "execute_result",
          "data": {
            "text/plain": [
              "array([[4, 0],\n",
              "       [0, 2],\n",
              "       [9, 0]], dtype=int32)"
            ]
          },
          "metadata": {},
          "execution_count": 252
        }
      ]
    },
    {
      "cell_type": "markdown",
      "metadata": {
        "id": "d-F5CNp-nICK"
      },
      "source": [
        "**Note:** There will be TypeError if *keys* or *default_value* doesn't match the table data types."
      ]
    },
    {
      "cell_type": "code",
      "metadata": {
        "colab": {
          "base_uri": "https://localhost:8080/",
          "height": 299
        },
        "id": "VW6YYU4gijZ_",
        "outputId": "41ab7b48-e245-4570-f079-2ecd78d83cb6"
      },
      "source": [
        "# Create key with wrong dytpe (will error)\n",
        "hash_table.lookup(tf.constant([2])).numpy()"
      ],
      "execution_count": null,
      "outputs": [
        {
          "output_type": "error",
          "ename": "TypeError",
          "evalue": "ignored",
          "traceback": [
            "\u001b[0;31m---------------------------------------------------------------------------\u001b[0m",
            "\u001b[0;31mTypeError\u001b[0m                                 Traceback (most recent call last)",
            "\u001b[0;32m<ipython-input-254-19462a3d8bda>\u001b[0m in \u001b[0;36m<module>\u001b[0;34m()\u001b[0m\n\u001b[1;32m      1\u001b[0m \u001b[0;31m# Create key with wrong dytpe (will error)\u001b[0m\u001b[0;34m\u001b[0m\u001b[0;34m\u001b[0m\u001b[0;34m\u001b[0m\u001b[0m\n\u001b[0;32m----> 2\u001b[0;31m \u001b[0mhash_table\u001b[0m\u001b[0;34m.\u001b[0m\u001b[0mlookup\u001b[0m\u001b[0;34m(\u001b[0m\u001b[0mtf\u001b[0m\u001b[0;34m.\u001b[0m\u001b[0mconstant\u001b[0m\u001b[0;34m(\u001b[0m\u001b[0;34m[\u001b[0m\u001b[0;36m2\u001b[0m\u001b[0;34m]\u001b[0m\u001b[0;34m)\u001b[0m\u001b[0;34m)\u001b[0m\u001b[0;34m.\u001b[0m\u001b[0mnumpy\u001b[0m\u001b[0;34m(\u001b[0m\u001b[0;34m)\u001b[0m\u001b[0;34m\u001b[0m\u001b[0;34m\u001b[0m\u001b[0m\n\u001b[0m",
            "\u001b[0;32m/usr/local/lib/python3.7/dist-packages/tensorflow/python/ops/lookup_ops.py\u001b[0m in \u001b[0;36mlookup\u001b[0;34m(self, keys, name)\u001b[0m\n\u001b[1;32m    228\u001b[0m     \u001b[0;32mif\u001b[0m \u001b[0mkeys\u001b[0m\u001b[0;34m.\u001b[0m\u001b[0mdtype\u001b[0m\u001b[0;34m.\u001b[0m\u001b[0mbase_dtype\u001b[0m \u001b[0;34m!=\u001b[0m \u001b[0mself\u001b[0m\u001b[0;34m.\u001b[0m\u001b[0m_key_dtype\u001b[0m\u001b[0;34m:\u001b[0m\u001b[0;34m\u001b[0m\u001b[0;34m\u001b[0m\u001b[0m\n\u001b[1;32m    229\u001b[0m       raise TypeError(\"Signature mismatch. Keys must be dtype %s, got %s.\" %\n\u001b[0;32m--> 230\u001b[0;31m                       (self._key_dtype, keys.dtype))\n\u001b[0m\u001b[1;32m    231\u001b[0m \u001b[0;34m\u001b[0m\u001b[0m\n\u001b[1;32m    232\u001b[0m     with ops.name_scope(\n",
            "\u001b[0;31mTypeError\u001b[0m: Signature mismatch. Keys must be dtype <dtype: 'string'>, got <dtype: 'int32'>."
          ]
        }
      ]
    },
    {
      "cell_type": "code",
      "metadata": {
        "colab": {
          "base_uri": "https://localhost:8080/",
          "height": 340
        },
        "id": "dKy43Z1moRxN",
        "outputId": "f41b6667-25c4-437e-b9d0-fbe725793ecf"
      },
      "source": [
        "# Create static table with wrong dytpe of default_value (also will error)\n",
        "wrong_hash_table = tf.lookup.StaticHashTable(init, default_value='Pineapple')\n",
        "wrong_hash_table.lookup(input_tensor).numpy()"
      ],
      "execution_count": null,
      "outputs": [
        {
          "output_type": "error",
          "ename": "TypeError",
          "evalue": "ignored",
          "traceback": [
            "\u001b[0;31m---------------------------------------------------------------------------\u001b[0m",
            "\u001b[0;31mTypeError\u001b[0m                                 Traceback (most recent call last)",
            "\u001b[0;32m<ipython-input-257-7d630295c8d2>\u001b[0m in \u001b[0;36m<module>\u001b[0;34m()\u001b[0m\n\u001b[1;32m      1\u001b[0m \u001b[0;31m# Create static table with wrong dytpe of default_value (also will error)\u001b[0m\u001b[0;34m\u001b[0m\u001b[0;34m\u001b[0m\u001b[0;34m\u001b[0m\u001b[0m\n\u001b[0;32m----> 2\u001b[0;31m \u001b[0mwrong_hash_table\u001b[0m \u001b[0;34m=\u001b[0m \u001b[0mtf\u001b[0m\u001b[0;34m.\u001b[0m\u001b[0mlookup\u001b[0m\u001b[0;34m.\u001b[0m\u001b[0mStaticHashTable\u001b[0m\u001b[0;34m(\u001b[0m\u001b[0minit\u001b[0m\u001b[0;34m,\u001b[0m \u001b[0mdefault_value\u001b[0m\u001b[0;34m=\u001b[0m\u001b[0;34m'Pineapple'\u001b[0m\u001b[0;34m)\u001b[0m\u001b[0;34m\u001b[0m\u001b[0;34m\u001b[0m\u001b[0m\n\u001b[0m\u001b[1;32m      3\u001b[0m \u001b[0mwrong_hash_table\u001b[0m\u001b[0;34m.\u001b[0m\u001b[0mlookup\u001b[0m\u001b[0;34m(\u001b[0m\u001b[0minput_tensor\u001b[0m\u001b[0;34m)\u001b[0m\u001b[0;34m.\u001b[0m\u001b[0mnumpy\u001b[0m\u001b[0;34m(\u001b[0m\u001b[0;34m)\u001b[0m\u001b[0;34m\u001b[0m\u001b[0;34m\u001b[0m\u001b[0m\n",
            "\u001b[0;32m/usr/local/lib/python3.7/dist-packages/tensorflow/python/ops/lookup_ops.py\u001b[0m in \u001b[0;36m__init__\u001b[0;34m(self, initializer, default_value, name)\u001b[0m\n\u001b[1;32m    311\u001b[0m     \u001b[0mself\u001b[0m\u001b[0;34m.\u001b[0m\u001b[0m_name\u001b[0m \u001b[0;34m=\u001b[0m \u001b[0mname\u001b[0m \u001b[0;32mor\u001b[0m \u001b[0;34m\"hash_table\"\u001b[0m\u001b[0;34m\u001b[0m\u001b[0;34m\u001b[0m\u001b[0m\n\u001b[1;32m    312\u001b[0m     \u001b[0mself\u001b[0m\u001b[0;34m.\u001b[0m\u001b[0m_table_name\u001b[0m \u001b[0;34m=\u001b[0m \u001b[0;32mNone\u001b[0m\u001b[0;34m\u001b[0m\u001b[0;34m\u001b[0m\u001b[0m\n\u001b[0;32m--> 313\u001b[0;31m     \u001b[0msuper\u001b[0m\u001b[0;34m(\u001b[0m\u001b[0mStaticHashTable\u001b[0m\u001b[0;34m,\u001b[0m \u001b[0mself\u001b[0m\u001b[0;34m)\u001b[0m\u001b[0;34m.\u001b[0m\u001b[0m__init__\u001b[0m\u001b[0;34m(\u001b[0m\u001b[0mdefault_value\u001b[0m\u001b[0;34m,\u001b[0m \u001b[0minitializer\u001b[0m\u001b[0;34m)\u001b[0m\u001b[0;34m\u001b[0m\u001b[0;34m\u001b[0m\u001b[0m\n\u001b[0m\u001b[1;32m    314\u001b[0m     \u001b[0mself\u001b[0m\u001b[0;34m.\u001b[0m\u001b[0m_value_shape\u001b[0m \u001b[0;34m=\u001b[0m \u001b[0mself\u001b[0m\u001b[0;34m.\u001b[0m\u001b[0m_default_value\u001b[0m\u001b[0;34m.\u001b[0m\u001b[0mget_shape\u001b[0m\u001b[0;34m(\u001b[0m\u001b[0;34m)\u001b[0m\u001b[0;34m\u001b[0m\u001b[0;34m\u001b[0m\u001b[0m\n\u001b[1;32m    315\u001b[0m \u001b[0;34m\u001b[0m\u001b[0m\n",
            "\u001b[0;32m/usr/local/lib/python3.7/dist-packages/tensorflow/python/ops/lookup_ops.py\u001b[0m in \u001b[0;36m__init__\u001b[0;34m(self, default_value, initializer)\u001b[0m\n\u001b[1;32m    171\u001b[0m                                                        initializer.value_dtype)\n\u001b[1;32m    172\u001b[0m     self._default_value = ops.convert_to_tensor(\n\u001b[0;32m--> 173\u001b[0;31m         default_value, dtype=self._value_dtype)\n\u001b[0m\u001b[1;32m    174\u001b[0m     \u001b[0mself\u001b[0m\u001b[0;34m.\u001b[0m\u001b[0m_default_value\u001b[0m\u001b[0;34m.\u001b[0m\u001b[0mget_shape\u001b[0m\u001b[0;34m(\u001b[0m\u001b[0;34m)\u001b[0m\u001b[0;34m.\u001b[0m\u001b[0mmerge_with\u001b[0m\u001b[0;34m(\u001b[0m\u001b[0mtensor_shape\u001b[0m\u001b[0;34m.\u001b[0m\u001b[0mTensorShape\u001b[0m\u001b[0;34m(\u001b[0m\u001b[0;34m[\u001b[0m\u001b[0;34m]\u001b[0m\u001b[0;34m)\u001b[0m\u001b[0;34m)\u001b[0m\u001b[0;34m\u001b[0m\u001b[0;34m\u001b[0m\u001b[0m\n\u001b[1;32m    175\u001b[0m     \u001b[0;32mif\u001b[0m \u001b[0misinstance\u001b[0m\u001b[0;34m(\u001b[0m\u001b[0minitializer\u001b[0m\u001b[0;34m,\u001b[0m \u001b[0mtrackable_base\u001b[0m\u001b[0;34m.\u001b[0m\u001b[0mTrackable\u001b[0m\u001b[0;34m)\u001b[0m\u001b[0;34m:\u001b[0m\u001b[0;34m\u001b[0m\u001b[0;34m\u001b[0m\u001b[0m\n",
            "\u001b[0;32m/usr/local/lib/python3.7/dist-packages/tensorflow/python/profiler/trace.py\u001b[0m in \u001b[0;36mwrapped\u001b[0;34m(*args, **kwargs)\u001b[0m\n\u001b[1;32m    161\u001b[0m         \u001b[0;32mwith\u001b[0m \u001b[0mTrace\u001b[0m\u001b[0;34m(\u001b[0m\u001b[0mtrace_name\u001b[0m\u001b[0;34m,\u001b[0m \u001b[0;34m**\u001b[0m\u001b[0mtrace_kwargs\u001b[0m\u001b[0;34m)\u001b[0m\u001b[0;34m:\u001b[0m\u001b[0;34m\u001b[0m\u001b[0;34m\u001b[0m\u001b[0m\n\u001b[1;32m    162\u001b[0m           \u001b[0;32mreturn\u001b[0m \u001b[0mfunc\u001b[0m\u001b[0;34m(\u001b[0m\u001b[0;34m*\u001b[0m\u001b[0margs\u001b[0m\u001b[0;34m,\u001b[0m \u001b[0;34m**\u001b[0m\u001b[0mkwargs\u001b[0m\u001b[0;34m)\u001b[0m\u001b[0;34m\u001b[0m\u001b[0;34m\u001b[0m\u001b[0m\n\u001b[0;32m--> 163\u001b[0;31m       \u001b[0;32mreturn\u001b[0m \u001b[0mfunc\u001b[0m\u001b[0;34m(\u001b[0m\u001b[0;34m*\u001b[0m\u001b[0margs\u001b[0m\u001b[0;34m,\u001b[0m \u001b[0;34m**\u001b[0m\u001b[0mkwargs\u001b[0m\u001b[0;34m)\u001b[0m\u001b[0;34m\u001b[0m\u001b[0;34m\u001b[0m\u001b[0m\n\u001b[0m\u001b[1;32m    164\u001b[0m \u001b[0;34m\u001b[0m\u001b[0m\n\u001b[1;32m    165\u001b[0m     \u001b[0;32mreturn\u001b[0m \u001b[0mwrapped\u001b[0m\u001b[0;34m\u001b[0m\u001b[0;34m\u001b[0m\u001b[0m\n",
            "\u001b[0;32m/usr/local/lib/python3.7/dist-packages/tensorflow/python/framework/ops.py\u001b[0m in \u001b[0;36mconvert_to_tensor\u001b[0;34m(value, dtype, name, as_ref, preferred_dtype, dtype_hint, ctx, accepted_result_types)\u001b[0m\n\u001b[1;32m   1564\u001b[0m \u001b[0;34m\u001b[0m\u001b[0m\n\u001b[1;32m   1565\u001b[0m     \u001b[0;32mif\u001b[0m \u001b[0mret\u001b[0m \u001b[0;32mis\u001b[0m \u001b[0;32mNone\u001b[0m\u001b[0;34m:\u001b[0m\u001b[0;34m\u001b[0m\u001b[0;34m\u001b[0m\u001b[0m\n\u001b[0;32m-> 1566\u001b[0;31m       \u001b[0mret\u001b[0m \u001b[0;34m=\u001b[0m \u001b[0mconversion_func\u001b[0m\u001b[0;34m(\u001b[0m\u001b[0mvalue\u001b[0m\u001b[0;34m,\u001b[0m \u001b[0mdtype\u001b[0m\u001b[0;34m=\u001b[0m\u001b[0mdtype\u001b[0m\u001b[0;34m,\u001b[0m \u001b[0mname\u001b[0m\u001b[0;34m=\u001b[0m\u001b[0mname\u001b[0m\u001b[0;34m,\u001b[0m \u001b[0mas_ref\u001b[0m\u001b[0;34m=\u001b[0m\u001b[0mas_ref\u001b[0m\u001b[0;34m)\u001b[0m\u001b[0;34m\u001b[0m\u001b[0;34m\u001b[0m\u001b[0m\n\u001b[0m\u001b[1;32m   1567\u001b[0m \u001b[0;34m\u001b[0m\u001b[0m\n\u001b[1;32m   1568\u001b[0m     \u001b[0;32mif\u001b[0m \u001b[0mret\u001b[0m \u001b[0;32mis\u001b[0m \u001b[0mNotImplemented\u001b[0m\u001b[0;34m:\u001b[0m\u001b[0;34m\u001b[0m\u001b[0;34m\u001b[0m\u001b[0m\n",
            "\u001b[0;32m/usr/local/lib/python3.7/dist-packages/tensorflow/python/framework/constant_op.py\u001b[0m in \u001b[0;36m_constant_tensor_conversion_function\u001b[0;34m(v, dtype, name, as_ref)\u001b[0m\n\u001b[1;32m    344\u001b[0m                                          as_ref=False):\n\u001b[1;32m    345\u001b[0m   \u001b[0m_\u001b[0m \u001b[0;34m=\u001b[0m \u001b[0mas_ref\u001b[0m\u001b[0;34m\u001b[0m\u001b[0;34m\u001b[0m\u001b[0m\n\u001b[0;32m--> 346\u001b[0;31m   \u001b[0;32mreturn\u001b[0m \u001b[0mconstant\u001b[0m\u001b[0;34m(\u001b[0m\u001b[0mv\u001b[0m\u001b[0;34m,\u001b[0m \u001b[0mdtype\u001b[0m\u001b[0;34m=\u001b[0m\u001b[0mdtype\u001b[0m\u001b[0;34m,\u001b[0m \u001b[0mname\u001b[0m\u001b[0;34m=\u001b[0m\u001b[0mname\u001b[0m\u001b[0;34m)\u001b[0m\u001b[0;34m\u001b[0m\u001b[0;34m\u001b[0m\u001b[0m\n\u001b[0m\u001b[1;32m    347\u001b[0m \u001b[0;34m\u001b[0m\u001b[0m\n\u001b[1;32m    348\u001b[0m \u001b[0;34m\u001b[0m\u001b[0m\n",
            "\u001b[0;32m/usr/local/lib/python3.7/dist-packages/tensorflow/python/framework/constant_op.py\u001b[0m in \u001b[0;36mconstant\u001b[0;34m(value, dtype, shape, name)\u001b[0m\n\u001b[1;32m    270\u001b[0m   \"\"\"\n\u001b[1;32m    271\u001b[0m   return _constant_impl(value, dtype, shape, name, verify_shape=False,\n\u001b[0;32m--> 272\u001b[0;31m                         allow_broadcast=True)\n\u001b[0m\u001b[1;32m    273\u001b[0m \u001b[0;34m\u001b[0m\u001b[0m\n\u001b[1;32m    274\u001b[0m \u001b[0;34m\u001b[0m\u001b[0m\n",
            "\u001b[0;32m/usr/local/lib/python3.7/dist-packages/tensorflow/python/framework/constant_op.py\u001b[0m in \u001b[0;36m_constant_impl\u001b[0;34m(value, dtype, shape, name, verify_shape, allow_broadcast)\u001b[0m\n\u001b[1;32m    281\u001b[0m       \u001b[0;32mwith\u001b[0m \u001b[0mtrace\u001b[0m\u001b[0;34m.\u001b[0m\u001b[0mTrace\u001b[0m\u001b[0;34m(\u001b[0m\u001b[0;34m\"tf.constant\"\u001b[0m\u001b[0;34m)\u001b[0m\u001b[0;34m:\u001b[0m\u001b[0;34m\u001b[0m\u001b[0;34m\u001b[0m\u001b[0m\n\u001b[1;32m    282\u001b[0m         \u001b[0;32mreturn\u001b[0m \u001b[0m_constant_eager_impl\u001b[0m\u001b[0;34m(\u001b[0m\u001b[0mctx\u001b[0m\u001b[0;34m,\u001b[0m \u001b[0mvalue\u001b[0m\u001b[0;34m,\u001b[0m \u001b[0mdtype\u001b[0m\u001b[0;34m,\u001b[0m \u001b[0mshape\u001b[0m\u001b[0;34m,\u001b[0m \u001b[0mverify_shape\u001b[0m\u001b[0;34m)\u001b[0m\u001b[0;34m\u001b[0m\u001b[0;34m\u001b[0m\u001b[0m\n\u001b[0;32m--> 283\u001b[0;31m     \u001b[0;32mreturn\u001b[0m \u001b[0m_constant_eager_impl\u001b[0m\u001b[0;34m(\u001b[0m\u001b[0mctx\u001b[0m\u001b[0;34m,\u001b[0m \u001b[0mvalue\u001b[0m\u001b[0;34m,\u001b[0m \u001b[0mdtype\u001b[0m\u001b[0;34m,\u001b[0m \u001b[0mshape\u001b[0m\u001b[0;34m,\u001b[0m \u001b[0mverify_shape\u001b[0m\u001b[0;34m)\u001b[0m\u001b[0;34m\u001b[0m\u001b[0;34m\u001b[0m\u001b[0m\n\u001b[0m\u001b[1;32m    284\u001b[0m \u001b[0;34m\u001b[0m\u001b[0m\n\u001b[1;32m    285\u001b[0m   \u001b[0mg\u001b[0m \u001b[0;34m=\u001b[0m \u001b[0mops\u001b[0m\u001b[0;34m.\u001b[0m\u001b[0mget_default_graph\u001b[0m\u001b[0;34m(\u001b[0m\u001b[0;34m)\u001b[0m\u001b[0;34m\u001b[0m\u001b[0;34m\u001b[0m\u001b[0m\n",
            "\u001b[0;32m/usr/local/lib/python3.7/dist-packages/tensorflow/python/framework/constant_op.py\u001b[0m in \u001b[0;36m_constant_eager_impl\u001b[0;34m(ctx, value, dtype, shape, verify_shape)\u001b[0m\n\u001b[1;32m    306\u001b[0m \u001b[0;32mdef\u001b[0m \u001b[0m_constant_eager_impl\u001b[0m\u001b[0;34m(\u001b[0m\u001b[0mctx\u001b[0m\u001b[0;34m,\u001b[0m \u001b[0mvalue\u001b[0m\u001b[0;34m,\u001b[0m \u001b[0mdtype\u001b[0m\u001b[0;34m,\u001b[0m \u001b[0mshape\u001b[0m\u001b[0;34m,\u001b[0m \u001b[0mverify_shape\u001b[0m\u001b[0;34m)\u001b[0m\u001b[0;34m:\u001b[0m\u001b[0;34m\u001b[0m\u001b[0;34m\u001b[0m\u001b[0m\n\u001b[1;32m    307\u001b[0m   \u001b[0;34m\"\"\"Creates a constant on the current device.\"\"\"\u001b[0m\u001b[0;34m\u001b[0m\u001b[0;34m\u001b[0m\u001b[0m\n\u001b[0;32m--> 308\u001b[0;31m   \u001b[0mt\u001b[0m \u001b[0;34m=\u001b[0m \u001b[0mconvert_to_eager_tensor\u001b[0m\u001b[0;34m(\u001b[0m\u001b[0mvalue\u001b[0m\u001b[0;34m,\u001b[0m \u001b[0mctx\u001b[0m\u001b[0;34m,\u001b[0m \u001b[0mdtype\u001b[0m\u001b[0;34m)\u001b[0m\u001b[0;34m\u001b[0m\u001b[0;34m\u001b[0m\u001b[0m\n\u001b[0m\u001b[1;32m    309\u001b[0m   \u001b[0;32mif\u001b[0m \u001b[0mshape\u001b[0m \u001b[0;32mis\u001b[0m \u001b[0;32mNone\u001b[0m\u001b[0;34m:\u001b[0m\u001b[0;34m\u001b[0m\u001b[0;34m\u001b[0m\u001b[0m\n\u001b[1;32m    310\u001b[0m     \u001b[0;32mreturn\u001b[0m \u001b[0mt\u001b[0m\u001b[0;34m\u001b[0m\u001b[0;34m\u001b[0m\u001b[0m\n",
            "\u001b[0;32m/usr/local/lib/python3.7/dist-packages/tensorflow/python/framework/constant_op.py\u001b[0m in \u001b[0;36mconvert_to_eager_tensor\u001b[0;34m(value, ctx, dtype)\u001b[0m\n\u001b[1;32m    104\u001b[0m       \u001b[0mdtype\u001b[0m \u001b[0;34m=\u001b[0m \u001b[0mdtypes\u001b[0m\u001b[0;34m.\u001b[0m\u001b[0mas_dtype\u001b[0m\u001b[0;34m(\u001b[0m\u001b[0mdtype\u001b[0m\u001b[0;34m)\u001b[0m\u001b[0;34m.\u001b[0m\u001b[0mas_datatype_enum\u001b[0m\u001b[0;34m\u001b[0m\u001b[0;34m\u001b[0m\u001b[0m\n\u001b[1;32m    105\u001b[0m   \u001b[0mctx\u001b[0m\u001b[0;34m.\u001b[0m\u001b[0mensure_initialized\u001b[0m\u001b[0;34m(\u001b[0m\u001b[0;34m)\u001b[0m\u001b[0;34m\u001b[0m\u001b[0;34m\u001b[0m\u001b[0m\n\u001b[0;32m--> 106\u001b[0;31m   \u001b[0;32mreturn\u001b[0m \u001b[0mops\u001b[0m\u001b[0;34m.\u001b[0m\u001b[0mEagerTensor\u001b[0m\u001b[0;34m(\u001b[0m\u001b[0mvalue\u001b[0m\u001b[0;34m,\u001b[0m \u001b[0mctx\u001b[0m\u001b[0;34m.\u001b[0m\u001b[0mdevice_name\u001b[0m\u001b[0;34m,\u001b[0m \u001b[0mdtype\u001b[0m\u001b[0;34m)\u001b[0m\u001b[0;34m\u001b[0m\u001b[0;34m\u001b[0m\u001b[0m\n\u001b[0m\u001b[1;32m    107\u001b[0m \u001b[0;34m\u001b[0m\u001b[0m\n\u001b[1;32m    108\u001b[0m \u001b[0;34m\u001b[0m\u001b[0m\n",
            "\u001b[0;31mTypeError\u001b[0m: Cannot convert 'Pineapple' to EagerTensor of dtype int32"
          ]
        }
      ]
    },
    {
      "cell_type": "markdown",
      "metadata": {
        "id": "PuFvdouo3KCl"
      },
      "source": [
        "Values can able be accessed with pure Python style."
      ]
    },
    {
      "cell_type": "code",
      "metadata": {
        "colab": {
          "base_uri": "https://localhost:8080/"
        },
        "id": "f7rYqVo6ZoY2",
        "outputId": "83dc733c-6c4e-43c1-9796-dadb06083937"
      },
      "source": [
        "# Another way to access key-value pair\n",
        "hash_table[tf.constant(['Apple', 'Orange', 'Strawberry', 'Mango', 'Banana'])].numpy()"
      ],
      "execution_count": null,
      "outputs": [
        {
          "output_type": "execute_result",
          "data": {
            "text/plain": [
              "array([4, 2, 9, 0, 0], dtype=int32)"
            ]
          },
          "metadata": {},
          "execution_count": 258
        }
      ]
    },
    {
      "cell_type": "markdown",
      "metadata": {
        "id": "rLT9ghs2pB-4"
      },
      "source": [
        "2. Try to create a series of tensor functions to calculate your most recent grocery bill (it's okay if you don't use the names of the items, just the price in numerical form).\n",
        "  * How would you calculate your grocery bill for the month and for the year using tensors?"
      ]
    },
    {
      "cell_type": "code",
      "metadata": {
        "colab": {
          "base_uri": "https://localhost:8080/"
        },
        "id": "uEdxTd-M8hb-",
        "outputId": "346bdda7-9476-4184-d44c-a065249ef19a"
      },
      "source": [
        "# Create function to calculate monthly grocery bill with @tf.function\n",
        "@tf.function\n",
        "def bill_calc(bill):\n",
        "  return tf.reduce_sum(bill) * 30\n",
        "\n",
        "# A series of grocery bill\n",
        "grocery_tensor = tf.constant([2.34, 3.23, 1.00, 2.75, 2.00, 1.75, 8.99, 6.65, 5.50, 4.25])\n",
        "bill_calc(grocery_tensor).numpy()"
      ],
      "execution_count": null,
      "outputs": [
        {
          "output_type": "execute_result",
          "data": {
            "text/plain": [
              "1153.7999"
            ]
          },
          "metadata": {},
          "execution_count": 274
        }
      ]
    },
    {
      "cell_type": "markdown",
      "metadata": {
        "id": "ohaOZ_RW9Yto"
      },
      "source": [
        "3. Go through the [TensorFlow 2.x quick start for beginners](https://www.tensorflow.org/tutorials/quickstart/beginner) tutorial (be sure to type out all of the code yourself, even if you don't understand it).\n",
        "  * Are there any functions we used in here that match what's used in there? Which are the same? Which haven't you seen before?"
      ]
    },
    {
      "cell_type": "code",
      "metadata": {
        "id": "PF212ocP9Z4T"
      },
      "source": [
        "mnist = tf.keras.datasets.mnist\n",
        "\n",
        "(x_train, y_train), (x_test, y_test) = mnist.load_data()\n",
        "x_train, x_test = x_train / 255.0, x_test / 255.0"
      ],
      "execution_count": null,
      "outputs": []
    },
    {
      "cell_type": "code",
      "metadata": {
        "id": "ViYncwOE9_kU"
      },
      "source": [
        "model = tf.keras.models.Sequential([\n",
        "                                    tf.keras.layers.Flatten(input_shape=(28, 28)),\n",
        "                                    tf.keras.layers.Dense(128, activation='relu'),\n",
        "                                    tf.keras.layers.Dropout(0.2),\n",
        "                                    tf.keras.layers.Dense(10)\n",
        "])"
      ],
      "execution_count": null,
      "outputs": []
    },
    {
      "cell_type": "code",
      "metadata": {
        "colab": {
          "base_uri": "https://localhost:8080/"
        },
        "id": "qqAtg2Kg-Yzm",
        "outputId": "e1374226-7c23-4c27-fdb3-fdb0b7e60be5"
      },
      "source": [
        "predictions = model(x_train[:1]).numpy()\n",
        "predictions"
      ],
      "execution_count": null,
      "outputs": [
        {
          "output_type": "execute_result",
          "data": {
            "text/plain": [
              "array([[-0.42959684, -0.87668973, -0.22993651, -0.85399234,  0.6358728 ,\n",
              "         0.39069408, -0.35935575, -0.11145577,  0.58587086, -0.30370227]],\n",
              "      dtype=float32)"
            ]
          },
          "metadata": {},
          "execution_count": 262
        }
      ]
    },
    {
      "cell_type": "code",
      "metadata": {
        "colab": {
          "base_uri": "https://localhost:8080/"
        },
        "id": "rCsYWymn-kKU",
        "outputId": "b1e0c0c6-ccf6-4a67-8999-7558c692e308"
      },
      "source": [
        "tf.nn.softmax(predictions).numpy()"
      ],
      "execution_count": null,
      "outputs": [
        {
          "output_type": "execute_result",
          "data": {
            "text/plain": [
              "array([[0.06653292, 0.04254678, 0.08123589, 0.04352352, 0.19309196,\n",
              "        0.15110695, 0.07137431, 0.09145418, 0.1836744 , 0.07545915]],\n",
              "      dtype=float32)"
            ]
          },
          "metadata": {},
          "execution_count": 263
        }
      ]
    },
    {
      "cell_type": "code",
      "metadata": {
        "id": "XxomWhSP-qCm"
      },
      "source": [
        "loss_fn = tf.keras.losses.SparseCategoricalCrossentropy(from_logits=True)"
      ],
      "execution_count": null,
      "outputs": []
    },
    {
      "cell_type": "code",
      "metadata": {
        "colab": {
          "base_uri": "https://localhost:8080/"
        },
        "id": "19B5csbZ-ypA",
        "outputId": "27e3e808-ff62-49f3-ed22-0f8e72c615c1"
      },
      "source": [
        "loss_fn(y_train[:1], predictions).numpy()"
      ],
      "execution_count": null,
      "outputs": [
        {
          "output_type": "execute_result",
          "data": {
            "text/plain": [
              "1.8897674"
            ]
          },
          "metadata": {},
          "execution_count": 265
        }
      ]
    },
    {
      "cell_type": "code",
      "metadata": {
        "id": "HdSq1ffr-4kW"
      },
      "source": [
        "model.compile(optimizer='adam',\n",
        "              loss=loss_fn,\n",
        "              metrics=['accuracy'])"
      ],
      "execution_count": null,
      "outputs": []
    },
    {
      "cell_type": "code",
      "metadata": {
        "colab": {
          "base_uri": "https://localhost:8080/"
        },
        "id": "OOfKJspY_Bnw",
        "outputId": "091766f7-b74e-4a38-d58e-93a5e5405e58"
      },
      "source": [
        "model.fit(x_train, y_train, epochs=5)"
      ],
      "execution_count": null,
      "outputs": [
        {
          "output_type": "stream",
          "name": "stdout",
          "text": [
            "Epoch 1/5\n",
            "1875/1875 [==============================] - 4s 2ms/step - loss: 0.2999 - accuracy: 0.9124\n",
            "Epoch 2/5\n",
            "1875/1875 [==============================] - 4s 2ms/step - loss: 0.1452 - accuracy: 0.9566\n",
            "Epoch 3/5\n",
            "1875/1875 [==============================] - 4s 2ms/step - loss: 0.1076 - accuracy: 0.9672\n",
            "Epoch 4/5\n",
            "1875/1875 [==============================] - 4s 2ms/step - loss: 0.0880 - accuracy: 0.9726\n",
            "Epoch 5/5\n",
            "1875/1875 [==============================] - 4s 2ms/step - loss: 0.0739 - accuracy: 0.9764\n"
          ]
        },
        {
          "output_type": "execute_result",
          "data": {
            "text/plain": [
              "<keras.callbacks.History at 0x7fa790e32850>"
            ]
          },
          "metadata": {},
          "execution_count": 267
        }
      ]
    },
    {
      "cell_type": "code",
      "metadata": {
        "colab": {
          "base_uri": "https://localhost:8080/"
        },
        "id": "OtPEb8s2_GHa",
        "outputId": "1c89d7a2-c421-45cc-c5d0-163b8a62a170"
      },
      "source": [
        "model.evaluate(x_test, y_test, verbose=2)"
      ],
      "execution_count": null,
      "outputs": [
        {
          "output_type": "stream",
          "name": "stdout",
          "text": [
            "313/313 - 0s - loss: 0.0780 - accuracy: 0.9762\n"
          ]
        },
        {
          "output_type": "execute_result",
          "data": {
            "text/plain": [
              "[0.07796626538038254, 0.9761999845504761]"
            ]
          },
          "metadata": {},
          "execution_count": 268
        }
      ]
    },
    {
      "cell_type": "code",
      "metadata": {
        "id": "dlaeUHFD_U9_"
      },
      "source": [
        "probability_model = tf.keras.Sequential([\n",
        "                                         model,\n",
        "                                         tf.keras.layers.Softmax()\n",
        "])"
      ],
      "execution_count": null,
      "outputs": []
    },
    {
      "cell_type": "code",
      "metadata": {
        "colab": {
          "base_uri": "https://localhost:8080/"
        },
        "id": "YRbk-hVW_iJM",
        "outputId": "23449a25-84fb-46eb-98d7-325968b4a4e6"
      },
      "source": [
        "probability_model(x_test[:5])"
      ],
      "execution_count": null,
      "outputs": [
        {
          "output_type": "execute_result",
          "data": {
            "text/plain": [
              "<tf.Tensor: shape=(5, 10), dtype=float32, numpy=\n",
              "array([[8.9684455e-09, 4.4112838e-08, 2.4197052e-06, 1.1629232e-04,\n",
              "        3.1816414e-11, 4.6222826e-07, 2.3899483e-12, 9.9987495e-01,\n",
              "        3.2502382e-07, 5.5425176e-06],\n",
              "       [2.8096802e-06, 9.6413205e-06, 9.9996591e-01, 1.8047607e-05,\n",
              "        1.6593471e-15, 1.4258972e-06, 1.1139807e-06, 2.1944664e-14,\n",
              "        1.0240865e-06, 2.9508493e-14],\n",
              "       [2.4171047e-06, 9.9600106e-01, 4.7002998e-04, 4.3006567e-05,\n",
              "        9.0361798e-05, 8.9604355e-06, 3.6490113e-05, 2.0338339e-03,\n",
              "        1.3107827e-03, 3.0913561e-06],\n",
              "       [9.9963117e-01, 3.2367353e-08, 8.8514862e-05, 9.6501276e-07,\n",
              "        2.7238507e-06, 9.1205520e-06, 2.4562643e-04, 9.2692699e-06,\n",
              "        3.1645050e-06, 9.3087710e-06],\n",
              "       [1.9261597e-06, 7.1440009e-09, 1.4117220e-05, 4.2442207e-07,\n",
              "        9.9096912e-01, 3.0366738e-08, 1.6503618e-05, 1.0644399e-04,\n",
              "        5.6497834e-06, 8.8858064e-03]], dtype=float32)>"
            ]
          },
          "metadata": {},
          "execution_count": 270
        }
      ]
    },
    {
      "cell_type": "markdown",
      "metadata": {
        "id": "QkIgsRiF_2AT"
      },
      "source": [
        "* Functions we have used:\n",
        "  * `numpy()`, `tf.__version__`.\n",
        "\n",
        "* Functions we haven't used yet:\n",
        "  * `load_data()`, `keras.Sequential()`, `Flatten()`, `Dense()`, `Dropout()`, `tf.nn.softmax()`, `tf.keras.losses.SparseCategoricalCrossentropy()`, `compile()`, `fit()`, `evaluate()`."
      ]
    },
    {
      "cell_type": "markdown",
      "metadata": {
        "id": "h9lIkNn9B3mT"
      },
      "source": [
        "* Watch the video [\"What's a tensor?\"](https://www.youtube.com/watch?v=f5liqUk0ZTw) - a great visual introduction to many of the concepts we've covered in this notebook.\n",
        "\n",
        "---"
      ]
    }
  ]
}