{
 "cells": [
  {
   "cell_type": "code",
   "execution_count": 25,
   "source": [
    "import pandas as pd\r\n",
    "import numpy as np"
   ],
   "outputs": [],
   "metadata": {}
  },
  {
   "cell_type": "markdown",
   "source": [
    "### Dictionary part1."
   ],
   "metadata": {}
  },
  {
   "cell_type": "code",
   "execution_count": 26,
   "source": [
    "# Definition of countries and capitals\r\n",
    "countries = ['spain', 'france', 'germany', 'norway']\r\n",
    "capitals = ['madrid', 'paris', 'berlin', 'oslo']\r\n",
    "\r\n",
    "# Get index of 'germany': ind_ger\r\n",
    "ind_ger = countries.index('germany')\r\n",
    "\r\n",
    "# Use ind_ger to print out capital of Germany\r\n",
    "capitals[ind_ger]"
   ],
   "outputs": [
    {
     "output_type": "execute_result",
     "data": {
      "text/plain": [
       "'berlin'"
      ]
     },
     "metadata": {},
     "execution_count": 26
    }
   ],
   "metadata": {}
  },
  {
   "cell_type": "markdown",
   "source": [
    "First step is the declaration of two lists *countries* & *capitals*, then using Python `index()` method (which returns the position of the element in the list) we access the index number where germany is located. And in the last step we access & display the capital which is at same position where germany is located (i.e. index number 2)"
   ],
   "metadata": {}
  },
  {
   "cell_type": "code",
   "execution_count": 27,
   "source": [
    "# Definition of countries and capital\r\n",
    "countries = ['spain', 'france', 'germany', 'norway']\r\n",
    "capitals = ['madrid', 'paris', 'berlin', 'oslo']\r\n",
    "\r\n",
    "# From string in countries and capitals, create dictionary europe\r\n",
    "europe = { 'spain':'madrid', 'france':'paris', 'germany':'berlin', 'norway':'oslo' }\r\n",
    "\r\n",
    "europe"
   ],
   "outputs": [
    {
     "output_type": "execute_result",
     "data": {
      "text/plain": [
       "{'spain': 'madrid', 'france': 'paris', 'germany': 'berlin', 'norway': 'oslo'}"
      ]
     },
     "metadata": {},
     "execution_count": 27
    }
   ],
   "metadata": {}
  },
  {
   "cell_type": "markdown",
   "source": [
    "Here we convert the lists (countries & capitals) into a dictionary (europe). The dictionary is consist of multiple key-value pairs, where keys are the countries name and values are their capital names respectively. And then we display the dictionary. "
   ],
   "metadata": {}
  },
  {
   "cell_type": "code",
   "execution_count": 28,
   "source": [
    "# Definition of dictionary\r\n",
    "europe = {'spain':'madrid', 'france':'paris', 'germany':'berlin', 'norway':'oslo' }\r\n",
    "\r\n",
    "# Print out the keys in europe\r\n",
    "print(europe.keys())\r\n",
    "\r\n",
    "# Print out value that belongs to key 'norway'\r\n",
    "print(europe['norway'])"
   ],
   "outputs": [
    {
     "output_type": "stream",
     "name": "stdout",
     "text": [
      "dict_keys(['spain', 'france', 'germany', 'norway'])\n",
      "oslo\n"
     ]
    }
   ],
   "metadata": {}
  },
  {
   "cell_type": "markdown",
   "source": [
    "We declare the dictionary (europe) which is consist of countries (keys) and their captials (values). Then we display all the keys using `keys()` method, also we access the value of norway that is oslo."
   ],
   "metadata": {}
  },
  {
   "cell_type": "code",
   "execution_count": 29,
   "source": [
    "# Definition of dictionary\r\n",
    "europe = {'spain':'madrid', 'france':'paris', 'germany':'berlin', 'norway':'oslo' }\r\n",
    "\r\n",
    "# Add italy to europe\r\n",
    "europe['italy'] = 'rome'\r\n",
    "\r\n",
    "# Print out italy in europe\r\n",
    "print('italy' in europe)\r\n",
    "\r\n",
    "# Add poland to europe\r\n",
    "europe['poland'] = 'warsaw'\r\n",
    "\r\n",
    "# Print europe\r\n",
    "print(europe)"
   ],
   "outputs": [
    {
     "output_type": "stream",
     "name": "stdout",
     "text": [
      "True\n",
      "{'spain': 'madrid', 'france': 'paris', 'germany': 'berlin', 'norway': 'oslo', 'italy': 'rome', 'poland': 'warsaw'}\n"
     ]
    }
   ],
   "metadata": {}
  },
  {
   "cell_type": "markdown",
   "source": [
    "After defining the dictionary (europe) we add new country (italy) and its value as (rome) then in the next step we find whether or not the key (italy) exists in europe or not using the `in` keyword, which returns boolean (`True`).\r\n",
    "Then we are repeating the same step again creating new key (poland) and its value (warsaw) and we display the result. "
   ],
   "metadata": {}
  },
  {
   "cell_type": "code",
   "execution_count": 30,
   "source": [
    "# Definition of dictionary\r\n",
    "europe = {'spain':'madrid', 'france':'paris', 'germany':'bonn',\r\n",
    "          'norway':'oslo', 'italy':'rome', 'poland':'warsaw',\r\n",
    "          'australia':'vienna' }\r\n",
    "\r\n",
    "# Update capital of germany\r\n",
    "europe['germany'] =  'berlin'\r\n",
    "\r\n",
    "# Remove australia\r\n",
    "del(europe['australia'])\r\n",
    "\r\n",
    "# Display europe\r\n",
    "europe"
   ],
   "outputs": [
    {
     "output_type": "execute_result",
     "data": {
      "text/plain": [
       "{'spain': 'madrid',\n",
       " 'france': 'paris',\n",
       " 'germany': 'berlin',\n",
       " 'norway': 'oslo',\n",
       " 'italy': 'rome',\n",
       " 'poland': 'warsaw'}"
      ]
     },
     "metadata": {},
     "execution_count": 30
    }
   ],
   "metadata": {}
  },
  {
   "cell_type": "markdown",
   "source": [
    "We have dictionary and we assign new value (berlin) for germany, then we delete the key (australia) from the dictionary using `del` and display the dictionary. "
   ],
   "metadata": {}
  },
  {
   "cell_type": "code",
   "execution_count": 31,
   "source": [
    "# Dictionary of dictionaries\r\n",
    "europe = { 'spain': { 'capital':'madrid', 'population':46.77 },\r\n",
    "           'france': { 'capital':'paris', 'population':66.03 },\r\n",
    "           'germany': { 'capital':'berlin', 'population':80.62 },\r\n",
    "           'norway': { 'capital':'oslo', 'population':5.084 } }\r\n",
    "\r\n",
    "\r\n",
    "# Print out the capital of France\r\n",
    "print(europe['france']['capital'])\r\n",
    "\r\n",
    "# Create sub-dictionary data\r\n",
    "data = {'capital':'rome', 'population':59.83}\r\n",
    "\r\n",
    "# Add data to europe under key 'italy'\r\n",
    "europe['italy'] =  data\r\n",
    "\r\n",
    "\r\n",
    "# Print europe\r\n",
    "print(europe)"
   ],
   "outputs": [
    {
     "output_type": "stream",
     "name": "stdout",
     "text": [
      "paris\n",
      "{'spain': {'capital': 'madrid', 'population': 46.77}, 'france': {'capital': 'paris', 'population': 66.03}, 'germany': {'capital': 'berlin', 'population': 80.62}, 'norway': {'capital': 'oslo', 'population': 5.084}, 'italy': {'capital': 'rome', 'population': 59.83}}\n"
     ]
    }
   ],
   "metadata": {}
  },
  {
   "cell_type": "markdown",
   "source": [
    "Here we are dealing with nested dictionary, where we have countries as keys and their values in the form of another dictionary which contains captial & population as keys and their values respectively.\r\n",
    "Then we create new nested dictionary and store it to the value *data*. Before displaying the final result we create new key *italy* and assign *data* to it."
   ],
   "metadata": {}
  },
  {
   "cell_type": "code",
   "execution_count": 32,
   "source": [
    "# Pre-defined lists\r\n",
    "names = ['United States', 'Australia', 'Japan', 'India', 'Russia', 'Morocco', 'Egypt']\r\n",
    "dr =  [True, False, False, False, True, True, True]\r\n",
    "cpc = [809, 731, 588, 18, 200, 70, 45]\r\n",
    "\r\n",
    "# Import pandas as pd\r\n",
    "import pandas as pd\r\n",
    "\r\n",
    "# Create dictionary my_dict with three key:value pairs: my_dict\r\n",
    "my_dict = {'country' : names,\r\n",
    "           'drives_right': dr,\r\n",
    "           'cars_per_cap': cpc}\r\n",
    "\r\n",
    "# Build a DataFrame cars from my_dict: cars\r\n",
    "cars = pd.DataFrame(my_dict)\r\n",
    "\r\n",
    "# Print cars\r\n",
    "cars"
   ],
   "outputs": [
    {
     "output_type": "execute_result",
     "data": {
      "text/html": [
       "<div>\n",
       "<style scoped>\n",
       "    .dataframe tbody tr th:only-of-type {\n",
       "        vertical-align: middle;\n",
       "    }\n",
       "\n",
       "    .dataframe tbody tr th {\n",
       "        vertical-align: top;\n",
       "    }\n",
       "\n",
       "    .dataframe thead th {\n",
       "        text-align: right;\n",
       "    }\n",
       "</style>\n",
       "<table border=\"1\" class=\"dataframe\">\n",
       "  <thead>\n",
       "    <tr style=\"text-align: right;\">\n",
       "      <th></th>\n",
       "      <th>country</th>\n",
       "      <th>drives_right</th>\n",
       "      <th>cars_per_cap</th>\n",
       "    </tr>\n",
       "  </thead>\n",
       "  <tbody>\n",
       "    <tr>\n",
       "      <th>0</th>\n",
       "      <td>United States</td>\n",
       "      <td>True</td>\n",
       "      <td>809</td>\n",
       "    </tr>\n",
       "    <tr>\n",
       "      <th>1</th>\n",
       "      <td>Australia</td>\n",
       "      <td>False</td>\n",
       "      <td>731</td>\n",
       "    </tr>\n",
       "    <tr>\n",
       "      <th>2</th>\n",
       "      <td>Japan</td>\n",
       "      <td>False</td>\n",
       "      <td>588</td>\n",
       "    </tr>\n",
       "    <tr>\n",
       "      <th>3</th>\n",
       "      <td>India</td>\n",
       "      <td>False</td>\n",
       "      <td>18</td>\n",
       "    </tr>\n",
       "    <tr>\n",
       "      <th>4</th>\n",
       "      <td>Russia</td>\n",
       "      <td>True</td>\n",
       "      <td>200</td>\n",
       "    </tr>\n",
       "    <tr>\n",
       "      <th>5</th>\n",
       "      <td>Morocco</td>\n",
       "      <td>True</td>\n",
       "      <td>70</td>\n",
       "    </tr>\n",
       "    <tr>\n",
       "      <th>6</th>\n",
       "      <td>Egypt</td>\n",
       "      <td>True</td>\n",
       "      <td>45</td>\n",
       "    </tr>\n",
       "  </tbody>\n",
       "</table>\n",
       "</div>"
      ],
      "text/plain": [
       "         country  drives_right  cars_per_cap\n",
       "0  United States          True           809\n",
       "1      Australia         False           731\n",
       "2          Japan         False           588\n",
       "3          India         False            18\n",
       "4         Russia          True           200\n",
       "5        Morocco          True            70\n",
       "6          Egypt          True            45"
      ]
     },
     "metadata": {},
     "execution_count": 32
    }
   ],
   "metadata": {}
  },
  {
   "cell_type": "markdown",
   "source": [
    "We have three lists *names* (string), *dr* (boolean), and *cpc* (integers) and then we make a dictionary *my_dict* to create key-value pairs where the keys are *country*, *drives_right*, and *cars_per_cap*, and the values are those three list respectively.\r\n",
    "Then we convert the dictionarly into Pandas DataFrame and display the results."
   ],
   "metadata": {}
  },
  {
   "cell_type": "code",
   "execution_count": 33,
   "source": [
    "# Build cars DataFrame\r\n",
    "names = ['United States', 'Australia', 'Japan', 'India', 'Russia', 'Morocco', 'Egypt']\r\n",
    "dr =  [True, False, False, False, True, True, True]\r\n",
    "cpc = [809, 731, 588, 18, 200, 70, 45]\r\n",
    "cars_dict = { 'country':names, 'drives_right':dr, 'cars_per_cap':cpc }\r\n",
    "cars = pd.DataFrame(cars_dict)\r\n",
    "print(cars)\r\n",
    "\r\n",
    "# Definition of row_labels\r\n",
    "row_labels = ['US', 'AUS', 'JPN', 'IN', 'RU', 'MOR', 'EG']\r\n",
    "\r\n",
    "# Specify row labels of cars\r\n",
    "cars.index = row_labels\r\n",
    "\r\n",
    "# Print cars again\r\n",
    "cars"
   ],
   "outputs": [
    {
     "output_type": "stream",
     "name": "stdout",
     "text": [
      "         country  drives_right  cars_per_cap\n",
      "0  United States          True           809\n",
      "1      Australia         False           731\n",
      "2          Japan         False           588\n",
      "3          India         False            18\n",
      "4         Russia          True           200\n",
      "5        Morocco          True            70\n",
      "6          Egypt          True            45\n"
     ]
    },
    {
     "output_type": "execute_result",
     "data": {
      "text/html": [
       "<div>\n",
       "<style scoped>\n",
       "    .dataframe tbody tr th:only-of-type {\n",
       "        vertical-align: middle;\n",
       "    }\n",
       "\n",
       "    .dataframe tbody tr th {\n",
       "        vertical-align: top;\n",
       "    }\n",
       "\n",
       "    .dataframe thead th {\n",
       "        text-align: right;\n",
       "    }\n",
       "</style>\n",
       "<table border=\"1\" class=\"dataframe\">\n",
       "  <thead>\n",
       "    <tr style=\"text-align: right;\">\n",
       "      <th></th>\n",
       "      <th>country</th>\n",
       "      <th>drives_right</th>\n",
       "      <th>cars_per_cap</th>\n",
       "    </tr>\n",
       "  </thead>\n",
       "  <tbody>\n",
       "    <tr>\n",
       "      <th>US</th>\n",
       "      <td>United States</td>\n",
       "      <td>True</td>\n",
       "      <td>809</td>\n",
       "    </tr>\n",
       "    <tr>\n",
       "      <th>AUS</th>\n",
       "      <td>Australia</td>\n",
       "      <td>False</td>\n",
       "      <td>731</td>\n",
       "    </tr>\n",
       "    <tr>\n",
       "      <th>JPN</th>\n",
       "      <td>Japan</td>\n",
       "      <td>False</td>\n",
       "      <td>588</td>\n",
       "    </tr>\n",
       "    <tr>\n",
       "      <th>IN</th>\n",
       "      <td>India</td>\n",
       "      <td>False</td>\n",
       "      <td>18</td>\n",
       "    </tr>\n",
       "    <tr>\n",
       "      <th>RU</th>\n",
       "      <td>Russia</td>\n",
       "      <td>True</td>\n",
       "      <td>200</td>\n",
       "    </tr>\n",
       "    <tr>\n",
       "      <th>MOR</th>\n",
       "      <td>Morocco</td>\n",
       "      <td>True</td>\n",
       "      <td>70</td>\n",
       "    </tr>\n",
       "    <tr>\n",
       "      <th>EG</th>\n",
       "      <td>Egypt</td>\n",
       "      <td>True</td>\n",
       "      <td>45</td>\n",
       "    </tr>\n",
       "  </tbody>\n",
       "</table>\n",
       "</div>"
      ],
      "text/plain": [
       "           country  drives_right  cars_per_cap\n",
       "US   United States          True           809\n",
       "AUS      Australia         False           731\n",
       "JPN          Japan         False           588\n",
       "IN           India         False            18\n",
       "RU          Russia          True           200\n",
       "MOR        Morocco          True            70\n",
       "EG           Egypt          True            45"
      ]
     },
     "metadata": {},
     "execution_count": 33
    }
   ],
   "metadata": {}
  },
  {
   "cell_type": "markdown",
   "source": [
    "We create a dictionary from lists and convert it to pandas dataframe, then we make a list of string labels and store it to *row_labels* variable, in the end we change the row name using pandas `.index` attribute and display the results before updating the rows and after updating them."
   ],
   "metadata": {}
  },
  {
   "cell_type": "code",
   "execution_count": 34,
   "source": [
    "# Import the cars.csv data: cars\r\n",
    "cars = pd.read_csv('./data/cars.csv')\r\n",
    "\r\n",
    "# Print out cars\r\n",
    "cars"
   ],
   "outputs": [
    {
     "output_type": "execute_result",
     "data": {
      "text/html": [
       "<div>\n",
       "<style scoped>\n",
       "    .dataframe tbody tr th:only-of-type {\n",
       "        vertical-align: middle;\n",
       "    }\n",
       "\n",
       "    .dataframe tbody tr th {\n",
       "        vertical-align: top;\n",
       "    }\n",
       "\n",
       "    .dataframe thead th {\n",
       "        text-align: right;\n",
       "    }\n",
       "</style>\n",
       "<table border=\"1\" class=\"dataframe\">\n",
       "  <thead>\n",
       "    <tr style=\"text-align: right;\">\n",
       "      <th></th>\n",
       "      <th>Unnamed: 0</th>\n",
       "      <th>cars_per_cap</th>\n",
       "      <th>country</th>\n",
       "      <th>drives_right</th>\n",
       "    </tr>\n",
       "  </thead>\n",
       "  <tbody>\n",
       "    <tr>\n",
       "      <th>0</th>\n",
       "      <td>US</td>\n",
       "      <td>809</td>\n",
       "      <td>United States</td>\n",
       "      <td>True</td>\n",
       "    </tr>\n",
       "    <tr>\n",
       "      <th>1</th>\n",
       "      <td>AUS</td>\n",
       "      <td>731</td>\n",
       "      <td>Australia</td>\n",
       "      <td>False</td>\n",
       "    </tr>\n",
       "    <tr>\n",
       "      <th>2</th>\n",
       "      <td>JPN</td>\n",
       "      <td>588</td>\n",
       "      <td>Japan</td>\n",
       "      <td>False</td>\n",
       "    </tr>\n",
       "    <tr>\n",
       "      <th>3</th>\n",
       "      <td>IN</td>\n",
       "      <td>18</td>\n",
       "      <td>India</td>\n",
       "      <td>False</td>\n",
       "    </tr>\n",
       "    <tr>\n",
       "      <th>4</th>\n",
       "      <td>RU</td>\n",
       "      <td>200</td>\n",
       "      <td>Russia</td>\n",
       "      <td>True</td>\n",
       "    </tr>\n",
       "    <tr>\n",
       "      <th>5</th>\n",
       "      <td>MOR</td>\n",
       "      <td>70</td>\n",
       "      <td>Morocco</td>\n",
       "      <td>True</td>\n",
       "    </tr>\n",
       "    <tr>\n",
       "      <th>6</th>\n",
       "      <td>EG</td>\n",
       "      <td>45</td>\n",
       "      <td>Egypt</td>\n",
       "      <td>True</td>\n",
       "    </tr>\n",
       "  </tbody>\n",
       "</table>\n",
       "</div>"
      ],
      "text/plain": [
       "  Unnamed: 0  cars_per_cap        country  drives_right\n",
       "0         US           809  United States          True\n",
       "1        AUS           731      Australia         False\n",
       "2        JPN           588          Japan         False\n",
       "3         IN            18          India         False\n",
       "4         RU           200         Russia          True\n",
       "5        MOR            70        Morocco          True\n",
       "6         EG            45          Egypt          True"
      ]
     },
     "metadata": {},
     "execution_count": 34
    }
   ],
   "metadata": {}
  },
  {
   "cell_type": "markdown",
   "source": [
    "Importing and reading the csv file in the dataframe using `.read_csv` function and display the result."
   ],
   "metadata": {}
  },
  {
   "cell_type": "code",
   "execution_count": 35,
   "source": [
    "# Fix import by including index_col\r\n",
    "cars = pd.read_csv('./data/cars.csv', index_col = 0)\r\n",
    "\r\n",
    "# Print out cars\r\n",
    "cars"
   ],
   "outputs": [
    {
     "output_type": "execute_result",
     "data": {
      "text/html": [
       "<div>\n",
       "<style scoped>\n",
       "    .dataframe tbody tr th:only-of-type {\n",
       "        vertical-align: middle;\n",
       "    }\n",
       "\n",
       "    .dataframe tbody tr th {\n",
       "        vertical-align: top;\n",
       "    }\n",
       "\n",
       "    .dataframe thead th {\n",
       "        text-align: right;\n",
       "    }\n",
       "</style>\n",
       "<table border=\"1\" class=\"dataframe\">\n",
       "  <thead>\n",
       "    <tr style=\"text-align: right;\">\n",
       "      <th></th>\n",
       "      <th>cars_per_cap</th>\n",
       "      <th>country</th>\n",
       "      <th>drives_right</th>\n",
       "    </tr>\n",
       "  </thead>\n",
       "  <tbody>\n",
       "    <tr>\n",
       "      <th>US</th>\n",
       "      <td>809</td>\n",
       "      <td>United States</td>\n",
       "      <td>True</td>\n",
       "    </tr>\n",
       "    <tr>\n",
       "      <th>AUS</th>\n",
       "      <td>731</td>\n",
       "      <td>Australia</td>\n",
       "      <td>False</td>\n",
       "    </tr>\n",
       "    <tr>\n",
       "      <th>JPN</th>\n",
       "      <td>588</td>\n",
       "      <td>Japan</td>\n",
       "      <td>False</td>\n",
       "    </tr>\n",
       "    <tr>\n",
       "      <th>IN</th>\n",
       "      <td>18</td>\n",
       "      <td>India</td>\n",
       "      <td>False</td>\n",
       "    </tr>\n",
       "    <tr>\n",
       "      <th>RU</th>\n",
       "      <td>200</td>\n",
       "      <td>Russia</td>\n",
       "      <td>True</td>\n",
       "    </tr>\n",
       "    <tr>\n",
       "      <th>MOR</th>\n",
       "      <td>70</td>\n",
       "      <td>Morocco</td>\n",
       "      <td>True</td>\n",
       "    </tr>\n",
       "    <tr>\n",
       "      <th>EG</th>\n",
       "      <td>45</td>\n",
       "      <td>Egypt</td>\n",
       "      <td>True</td>\n",
       "    </tr>\n",
       "  </tbody>\n",
       "</table>\n",
       "</div>"
      ],
      "text/plain": [
       "     cars_per_cap        country  drives_right\n",
       "US            809  United States          True\n",
       "AUS           731      Australia         False\n",
       "JPN           588          Japan         False\n",
       "IN             18          India         False\n",
       "RU            200         Russia          True\n",
       "MOR            70        Morocco          True\n",
       "EG             45          Egypt          True"
      ]
     },
     "metadata": {},
     "execution_count": 35
    }
   ],
   "metadata": {}
  },
  {
   "cell_type": "markdown",
   "source": [
    "Importing and reading the csv file and treating the first column as index using `index_col` parameter."
   ],
   "metadata": {}
  },
  {
   "cell_type": "code",
   "execution_count": 36,
   "source": [
    "# Import cars data\r\n",
    "cars = pd.read_csv('./data/cars.csv', index_col = 0)\r\n",
    "\r\n",
    "# Print out country column as Pandas Series\r\n",
    "print(cars['country'])\r\n",
    "print()\r\n",
    "\r\n",
    "# Print out country column as Pandas DataFrame\r\n",
    "print(cars[['country']])\r\n",
    "print()\r\n",
    "\r\n",
    "# Print out DataFrame with country and drives_right columns\r\n",
    "print(cars[['country', 'drives_right']])"
   ],
   "outputs": [
    {
     "output_type": "stream",
     "name": "stdout",
     "text": [
      "US     United States\n",
      "AUS        Australia\n",
      "JPN            Japan\n",
      "IN             India\n",
      "RU            Russia\n",
      "MOR          Morocco\n",
      "EG             Egypt\n",
      "Name: country, dtype: object\n",
      "\n",
      "           country\n",
      "US   United States\n",
      "AUS      Australia\n",
      "JPN          Japan\n",
      "IN           India\n",
      "RU          Russia\n",
      "MOR        Morocco\n",
      "EG           Egypt\n",
      "\n",
      "           country  drives_right\n",
      "US   United States          True\n",
      "AUS      Australia         False\n",
      "JPN          Japan         False\n",
      "IN           India         False\n",
      "RU          Russia          True\n",
      "MOR        Morocco          True\n",
      "EG           Egypt          True\n"
     ]
    }
   ],
   "metadata": {}
  },
  {
   "cell_type": "markdown",
   "source": [
    "Importing the csv file then we access *country* column as Series and DataFrame, in the end we access the columns *country & drives_right* and display all results."
   ],
   "metadata": {}
  },
  {
   "cell_type": "code",
   "execution_count": 37,
   "source": [
    "# Import cars data\r\n",
    "cars = pd.read_csv('./data/cars.csv', index_col = 0)\r\n",
    "\r\n",
    "# Print out first 3 observations\r\n",
    "print(cars[:3])\r\n",
    "print()\r\n",
    "\r\n",
    "# Print out fourth, fifth and sixth observation\r\n",
    "print(cars[3:6])"
   ],
   "outputs": [
    {
     "output_type": "stream",
     "name": "stdout",
     "text": [
      "     cars_per_cap        country  drives_right\n",
      "US            809  United States          True\n",
      "AUS           731      Australia         False\n",
      "JPN           588          Japan         False\n",
      "\n",
      "     cars_per_cap  country  drives_right\n",
      "IN             18    India         False\n",
      "RU            200   Russia          True\n",
      "MOR            70  Morocco          True\n"
     ]
    }
   ],
   "metadata": {}
  },
  {
   "cell_type": "markdown",
   "source": [
    "We slice first three observations of our dataframe and display the result, then we slice observations from 3 (inclusive) to 6 (exclusive) and display.\r\n",
    "\r\n",
    "### loc[] and iloc[]"
   ],
   "metadata": {}
  },
  {
   "cell_type": "code",
   "execution_count": 38,
   "source": [
    "# Import cars data\r\n",
    "cars = pd.read_csv('./data/cars.csv', index_col = 0)\r\n",
    "\r\n",
    "# Print out observation for Japan\r\n",
    "print(cars.loc['JPN'])\r\n",
    "print()\r\n",
    "\r\n",
    "# Print out observations of Australia and Egypt\r\n",
    "print(cars.loc[['AUS', 'EG']])"
   ],
   "outputs": [
    {
     "output_type": "stream",
     "name": "stdout",
     "text": [
      "cars_per_cap      588\n",
      "country         Japan\n",
      "drives_right    False\n",
      "Name: JPN, dtype: object\n",
      "\n",
      "     cars_per_cap    country  drives_right\n",
      "AUS           731  Australia         False\n",
      "EG             45      Egypt          True\n"
     ]
    }
   ],
   "metadata": {}
  },
  {
   "cell_type": "markdown",
   "source": [
    "`.loc` access the rows & columns by label. So here we first import the csv, then using *.loc* we access the obersavtion of Japan (Series) and display the result. Similarly in the last step we access the observations of Australia and Egypt (DataFrame). "
   ],
   "metadata": {}
  },
  {
   "cell_type": "code",
   "execution_count": 39,
   "source": [
    "# Import cars data\r\n",
    "cars = pd.read_csv('./data/cars.csv', index_col = 0)\r\n",
    "\r\n",
    "# Print out drives_right value of Morocco\r\n",
    "print(cars.loc['MOR'])\r\n",
    "print()\r\n",
    "\r\n",
    "# Print sub-DataFrame\r\n",
    "print(cars.loc[['RU', 'MOR'], ['country', 'drives_right']])"
   ],
   "outputs": [
    {
     "output_type": "stream",
     "name": "stdout",
     "text": [
      "cars_per_cap         70\n",
      "country         Morocco\n",
      "drives_right       True\n",
      "Name: MOR, dtype: object\n",
      "\n",
      "     country  drives_right\n",
      "RU    Russia          True\n",
      "MOR  Morocco          True\n"
     ]
    }
   ],
   "metadata": {}
  },
  {
   "cell_type": "markdown",
   "source": [
    "First we access the observation of Morocco `cars.loc['MOR'])` and then we access the observation of Russian and Morocco but with specified columns `cars.loc[['RU', 'MOR'], ['country', 'drives_right']]`."
   ],
   "metadata": {}
  },
  {
   "cell_type": "code",
   "execution_count": 41,
   "source": [
    "# Import cars data\r\n",
    "cars = pd.read_csv('./data/cars.csv', index_col = 0)\r\n",
    "\r\n",
    "# Print out drives_right column as Series\r\n",
    "print(cars.loc[:,'drives_right'])\r\n",
    "print()\r\n",
    "\r\n",
    "# Print out drives_right column as DataFrame\r\n",
    "print(cars.loc[:,['drives_right']])\r\n",
    "print()\r\n",
    "\r\n",
    "# Print out cars_per_cap and drives_right as DataFrame\r\n",
    "print(cars.loc[:, ['cars_per_cap', 'drives_right']])"
   ],
   "outputs": [
    {
     "output_type": "stream",
     "name": "stdout",
     "text": [
      "US      True\n",
      "AUS    False\n",
      "JPN    False\n",
      "IN     False\n",
      "RU      True\n",
      "MOR     True\n",
      "EG      True\n",
      "Name: drives_right, dtype: bool\n",
      "\n",
      "     drives_right\n",
      "US           True\n",
      "AUS         False\n",
      "JPN         False\n",
      "IN          False\n",
      "RU           True\n",
      "MOR          True\n",
      "EG           True\n",
      "\n",
      "     cars_per_cap  drives_right\n",
      "US            809          True\n",
      "AUS           731         False\n",
      "JPN           588         False\n",
      "IN             18         False\n",
      "RU            200          True\n",
      "MOR            70          True\n",
      "EG             45          True\n"
     ]
    }
   ],
   "metadata": {}
  },
  {
   "cell_type": "markdown",
   "source": [
    "First we access all observations but only column *drives_right* and display the result in the form of Series, in second step we do the same thing but the result is displayed in DataFrame, and in the last step we access all observations and their informations in two columns."
   ],
   "metadata": {}
  }
 ],
 "metadata": {
  "orig_nbformat": 4,
  "language_info": {
   "name": "python",
   "version": "3.9.5",
   "mimetype": "text/x-python",
   "codemirror_mode": {
    "name": "ipython",
    "version": 3
   },
   "pygments_lexer": "ipython3",
   "nbconvert_exporter": "python",
   "file_extension": ".py"
  },
  "kernelspec": {
   "name": "python3",
   "display_name": "Python 3.9.5 64-bit ('base': conda)"
  },
  "interpreter": {
   "hash": "aee06e46d793c32b5364488d456ae408a8b0e20983fba1d64adf012d351c0dc2"
  }
 },
 "nbformat": 4,
 "nbformat_minor": 2
}