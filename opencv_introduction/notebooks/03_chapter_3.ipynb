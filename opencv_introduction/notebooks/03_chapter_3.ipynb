{
 "cells": [
  {
   "cell_type": "markdown",
   "metadata": {},
   "source": [
    "## Convert image into grayscale\n",
    "\n",
    "**Grayscaling** is the process of converting an image from other color spaces e.g. RGB, CMYK, HSV, etc. to shades of gray. It varies between complete black and complete white.\n",
    "\n",
    "**Importance of grayscaling**\n",
    "\n",
    "* **Dimension reduction**: For example, In RGB images there are three color channels and has three dimensions while grayscale images are single-dimensional.\n",
    "* **Reduces model complexity**: Consider training neural article on RGB images of 10x10x3 pixel. The input layer will have 300 input nodes. On the other hand, the same neural network will need only 100 input nodes for grayscale images.\n",
    "* **For other algorithms to work**: Many algorithms are customized to work only on grayscale images e.g. Canny edge detection function pre-implemented in OpenCV library works on Grayscale images only.\n",
    "\n",
    "Let's convert image into grayscale image using `cvtColor()` function."
   ]
  },
  {
   "cell_type": "code",
   "execution_count": 6,
   "metadata": {},
   "outputs": [],
   "source": [
    "# import opencv\n",
    "import cv2 as cv\n",
    "from cv2 import imwrite\n",
    "\n",
    "# load the input image\n",
    "img = cv.imread('./resources/chef.jpg')\n",
    "# use the cvtColor() function to grayscale the image\n",
    "gray_img = cv.cvtColor(img, cv.COLOR_BGR2GRAY)\n",
    "\n",
    "# display original and grayscaled image\n",
    "cv.imshow('Pehli Image', img)\n",
    "cv.imshow('Gray Image', gray_img)\n",
    "cv.waitKey(0)\n",
    "cv.destroyAllWindows() # destroy all windows at any time"
   ]
  },
  {
   "cell_type": "markdown",
   "metadata": {},
   "source": [
    "**Pehli Image**\n",
    "<img src=\"resources/chef.jpg\"/>\n",
    "\n",
    "**Gray Image**\n",
    "<img src=\"resources/graychef.jpg\"/>"
   ]
  }
 ],
 "metadata": {
  "kernelspec": {
   "display_name": "Python 3 (ipykernel)",
   "language": "python",
   "name": "python3"
  },
  "language_info": {
   "codemirror_mode": {
    "name": "ipython",
    "version": 3
   },
   "file_extension": ".py",
   "mimetype": "text/x-python",
   "name": "python",
   "nbconvert_exporter": "python",
   "pygments_lexer": "ipython3",
   "version": "3.9.5"
  }
 },
 "nbformat": 4,
 "nbformat_minor": 2
}
