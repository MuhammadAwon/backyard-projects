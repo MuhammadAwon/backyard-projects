{
 "cells": [
  {
   "cell_type": "markdown",
   "metadata": {},
   "source": [
    "## Convert Image into black & white\n",
    "\n",
    "Converting an image to black and white with OpenCV can be done with a simple binary [thresholding](https://en.wikipedia.org/wiki/Thresholding_(image_processing)) operation. We start with a gray scale image and we define a threshold value.\n",
    "\n",
    "Then, for each pixel of the gray scale image, if its value is lesser than the threshold, then we assign to it the value 0 (black). Otherwise, we assign to it the value 255 (white)."
   ]
  },
  {
   "cell_type": "code",
   "execution_count": 1,
   "metadata": {},
   "outputs": [],
   "source": [
    "# import opencv\n",
    "import cv2 as cv\n",
    "\n",
    "# load the input image\n",
    "img = cv.imread('resources/chef.jpg')\n",
    "# resize the image\n",
    "img = cv.resize(img, (400, 200))\n",
    "# convert image into grayscale image\n",
    "gray = cv.cvtColor(img, cv.COLOR_BGR2GRAY)"
   ]
  },
  {
   "cell_type": "markdown",
   "metadata": {},
   "source": [
    "Note that since we are operating over a gray scale image, pixel values vary between 0 and 255. Also, since we want to convert the image to black and white, when the pixel is greater than the threshold, the value to which we want it to be converted is 255.\n",
    "\n",
    "Naturally, the **threshold** function allows us to specify these parameters. So, the first input of the function is the gray scale image to which we want to apply the operation.\n",
    "\n",
    "As second input, it receives the value of the threshold. We will consider the value **127**, which is in the middle of the scale of the values a pixel in gray scale can take (from 0 to 255).\n",
    "\n",
    "As third input, the function receives the user defined value to which a pixel should be converted in case its value is greater than the threshold. We will use the value 255, which corresponds to white. Recall that we want to convert the image to black and white, which means that at the end we want a image having pixels with either the value 0 or 255.\n",
    "\n",
    "As fourth input, the function receives a constant indicating the type of thesholding to apply. As already mentioned, we are going to use a binary threshold, so we pass the value **THRESH_BINARY**.\n",
    "\n",
    "As output, this function call will return a tuple. The first value can be ignored, since it is relevant only for more advanced thresholding methods. The second returned value corresponds to the resulting image, after applying the operation."
   ]
  },
  {
   "cell_type": "code",
   "execution_count": 5,
   "metadata": {},
   "outputs": [],
   "source": [
    "(tresh, binary) = cv.threshold(gray, 127, 225, cv.THRESH_BINARY)\n",
    "\n",
    "# display all images\n",
    "cv.imshow('orignal', img)\n",
    "cv.imshow('gray', gray)\n",
    "cv.imshow('black and white', binary)\n",
    "cv.waitKey(0)\n",
    "cv.destroyAllWindows()"
   ]
  },
  {
   "cell_type": "markdown",
   "metadata": {},
   "source": [
    "**orignal**\n",
    "<img src=\"resources/chef.jpg\" width=\"400\" height=\"200\" />\n",
    "     \n",
    "**gray**\n",
    "<img src=\"resources/graychef.jpg\" width=\"400\" height=\"200\" />\n",
    "\n",
    "**black and white**\n",
    "<img src=\"resources/blackchef.jpg\"/>"
   ]
  }
 ],
 "metadata": {
  "kernelspec": {
   "display_name": "Python 3 (ipykernel)",
   "language": "python",
   "name": "python3"
  },
  "language_info": {
   "codemirror_mode": {
    "name": "ipython",
    "version": 3
   },
   "file_extension": ".py",
   "mimetype": "text/x-python",
   "name": "python",
   "nbconvert_exporter": "python",
   "pygments_lexer": "ipython3",
   "version": "3.9.5"
  }
 },
 "nbformat": 4,
 "nbformat_minor": 2
}
