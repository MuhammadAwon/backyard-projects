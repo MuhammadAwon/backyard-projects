{
 "cells": [
  {
   "cell_type": "markdown",
   "metadata": {},
   "source": [
    "## Save an Image\n",
    "\n",
    "`imwrite()` method is used to save an image. This will save the image according to the specified format in a given directory.\n",
    "\n",
    "Here is the program that explains `imwrite()` method."
   ]
  },
  {
   "cell_type": "code",
   "execution_count": 2,
   "metadata": {},
   "outputs": [
    {
     "name": "stdout",
     "output_type": "stream",
     "text": [
      "Successfully saved!!\n"
     ]
    }
   ],
   "source": [
    "# import opencv\n",
    "import cv2 as cv\n",
    "\n",
    "# read image\n",
    "img = cv.imread('resources/chef.jpg')\n",
    "# resize image\n",
    "img = cv.resize(img, (400, 400))\n",
    "# convert image into grayscale\n",
    "gray = cv.cvtColor(img, cv.COLOR_BGR2GRAY)\n",
    "# convert image into black and white\n",
    "(tresh, binary) = cv.threshold(gray, 127, 225, cv.THRESH_BINARY)\n",
    "\n",
    "# save image to specified directory\n",
    "cv.imwrite('resources/graychef.png', gray)\n",
    "cv.imwrite('resources/blackchef.png', binary)\n",
    "\n",
    "print('Successfully saved!!')"
   ]
  },
  {
   "cell_type": "code",
   "execution_count": null,
   "metadata": {},
   "outputs": [],
   "source": []
  }
 ],
 "metadata": {
  "kernelspec": {
   "display_name": "Python 3 (ipykernel)",
   "language": "python",
   "name": "python3"
  },
  "language_info": {
   "codemirror_mode": {
    "name": "ipython",
    "version": 3
   },
   "file_extension": ".py",
   "mimetype": "text/x-python",
   "name": "python",
   "nbconvert_exporter": "python",
   "pygments_lexer": "ipython3",
   "version": "3.9.5"
  }
 },
 "nbformat": 4,
 "nbformat_minor": 2
}
