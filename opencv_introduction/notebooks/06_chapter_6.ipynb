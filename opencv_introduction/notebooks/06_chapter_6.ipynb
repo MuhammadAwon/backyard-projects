{
 "cells": [
  {
   "cell_type": "markdown",
   "metadata": {},
   "source": [
    "## Read a Video\n",
    "\n",
    "To capture a video, we need to create a `VideoCapture object`. VideoCapture have the device index or the name of a video file to play. We capture the video frame by frame.\n",
    "\n",
    "Below is the implementation of `VideoCapture()` method."
   ]
  },
  {
   "cell_type": "code",
   "execution_count": 2,
   "metadata": {},
   "outputs": [],
   "source": [
    "# import library\n",
    "import cv2 as cv\n",
    "\n",
    "# create a VideoCapture object and read from input file\n",
    "cap = cv.VideoCapture('resources/night_sky.mp4')\n",
    "\n",
    "# check if camera opened successfully\n",
    "if (cap.isOpened() == False):\n",
    "    print('Error in reading video')\n",
    "\n",
    "# read until video is completed\n",
    "while (cap.isOpened()):\n",
    "    # capture frame-by-frame\n",
    "    ret, frame = cap.read()\n",
    "    if ret == True:\n",
    "        # display the resulting frame\n",
    "        cv.imshow('Video', frame)\n",
    "        # press 'Q' to exit\n",
    "        if cv.waitKey(1) & 0xFF == ord('q'):\n",
    "            break\n",
    "    # break the loop        \n",
    "    else:\n",
    "        break\n",
    "\n",
    "# release the video capture object when its done\n",
    "cap.release()\n",
    "# close all the frames\n",
    "cv.destroyAllWindows()"
   ]
  }
 ],
 "metadata": {
  "kernelspec": {
   "display_name": "Python 3 (ipykernel)",
   "language": "python",
   "name": "python3"
  },
  "language_info": {
   "codemirror_mode": {
    "name": "ipython",
    "version": 3
   },
   "file_extension": ".py",
   "mimetype": "text/x-python",
   "name": "python",
   "nbconvert_exporter": "python",
   "pygments_lexer": "ipython3",
   "version": "3.9.5"
  }
 },
 "nbformat": 4,
 "nbformat_minor": 2
}
