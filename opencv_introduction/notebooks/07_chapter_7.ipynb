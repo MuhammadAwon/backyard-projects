{
 "cells": [
  {
   "cell_type": "markdown",
   "metadata": {},
   "source": [
    "## Convert Video into Grayscale and Black & White\n",
    "\n",
    "**OpenCV** is a huge open-source library for computer vision, machine learning, and image processing. It can process images and videos to identify objects, faces, or even the handwriting of a human. We will now see how to convert a colored video to a grayscale and Black & White format.\n",
    "\n",
    "**Approach**:\n",
    "\n",
    "1. Import the **cv2** module with alias **cv**.\n",
    "2. Read the video file to be converted using the **cv.VideoCapture()** method.\n",
    "3. Run an infinite loop.\n",
    "4. Inside the loop extract the frames of the video using the **read()** method.\n",
    "5. Pass the frame to the **cv2.cvtColor()** method with **cv.COLOR_BGR2GRAY** as a parameter to convert it into gray-scale.\n",
    "6. Pass grayscale frame to **cv.threshold** method to convert into binary frame.\n",
    "7. Display the frame using the **cv.imshow()** method."
   ]
  },
  {
   "cell_type": "code",
   "execution_count": 1,
   "metadata": {},
   "outputs": [],
   "source": [
    "# import the module\n",
    "import cv2 as cv\n",
    "\n",
    "# read the video\n",
    "cap = cv.VideoCapture('resources/night_sky.mp4')\n",
    "\n",
    "# run the loop\n",
    "while True:\n",
    "    # extract the frames\n",
    "    (ret, frame) = cap.read()\n",
    "    # convert into grayscale\n",
    "    grayframe = cv.cvtColor(frame, cv.COLOR_BGR2GRAY)\n",
    "    # convert into black & white\n",
    "    (tresh, binary) = cv.threshold(grayframe, 127, 225, cv.THRESH_BINARY)\n",
    "\n",
    "    # Run video\n",
    "    if ret == True:\n",
    "        # display the video\n",
    "        cv.imshow('Video', grayframe)\n",
    "        # Quit with the 'Q' key\n",
    "        if cv.waitKey(1) & 0xFF==ord('q'):\n",
    "            break\n",
    "    # break the loop\n",
    "    else:\n",
    "        break\n",
    "\n",
    "# release video capture and close frames\n",
    "cap.release()\n",
    "cv.destroyAllWindows()"
   ]
  }
 ],
 "metadata": {
  "kernelspec": {
   "display_name": "Python 3 (ipykernel)",
   "language": "python",
   "name": "python3"
  },
  "language_info": {
   "codemirror_mode": {
    "name": "ipython",
    "version": 3
   },
   "file_extension": ".py",
   "mimetype": "text/x-python",
   "name": "python",
   "nbconvert_exporter": "python",
   "pygments_lexer": "ipython3",
   "version": "3.9.5"
  }
 },
 "nbformat": 4,
 "nbformat_minor": 2
}
