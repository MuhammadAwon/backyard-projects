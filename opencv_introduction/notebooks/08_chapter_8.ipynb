{
 "cells": [
  {
   "cell_type": "markdown",
   "metadata": {},
   "source": [
    "## Write Video to Grayscale Format\n",
    "\n",
    "We can convert colored video into grayscale video and save the video. First, we capture a video and process it frame-by-frame, and then we want to save that video. For images, it is very simple: just use `imwrite()` but for videos, a little more work is required.\n",
    "\n",
    "This time we create a **VideoWriter** object. We should specify the output file name (eg: graynight_sky.mp4). Then we should specify the **FourCC** code. Then number of frames per second (fps) and frame size should be passed. And the last one is the **isColor** flag. If it is `True`, the encoder expect color frame, otherwise it works with grayscale frame.\n",
    "\n",
    "[FourCC](https://en.wikipedia.org/wiki/FourCC) is a 4-byte code used to specify the video codec. The list of available codes can be found in [fourcc.org](https://www.fourcc.org/codecs.php). It is platform dependent. The following are some codecs that work on platform *operating systems*:\n",
    "\n",
    "* In Fedora: DIVX, XVID, MJPG, X264, WMV1, WMV2. (XVID is more preferable. MJPG results in high size video. X264 gives very small size video)\n",
    "* In Windows: DIVX (More to be tested and added)\n",
    "* In OSX: MJPG (.mp4), DIVX (.avi), X264 (.mkv).\n",
    "\n",
    "FourCC code is passed as `cv.VideoWriter_fourcc('M','J','P','G') or cv.VideoWriter_fourcc(*'MJPG')` for MJPG.\n",
    "\n",
    "The below code captures video from specified directory, convert into grayscale format, and saves the video."
   ]
  },
  {
   "cell_type": "code",
   "execution_count": 1,
   "metadata": {},
   "outputs": [],
   "source": [
    "import cv2 as cv\n",
    "\n",
    "cap = cv.VideoCapture('resources/night_sky.mp4')\n",
    "\n",
    "# define frame size (width, height) of video to save\n",
    "frame_width = int(cap.get(3))\n",
    "frame_height = int(cap.get(4))\n",
    "# define the codec and create VideoWriter object\n",
    "fourcc = cv.VideoWriter_fourcc('M', 'J', 'P', 'G')\n",
    "out = cv.VideoWriter('resources/graynight_sky.mp4', fourcc, 20.0, (frame_width, frame_height))\n",
    "\n",
    "while True:\n",
    "    ret, frame = cap.read()\n",
    "    grayframe = cv.cvtColor(frame, cv.COLOR_BGR2GRAY)\n",
    "\n",
    "    # Run video in player\n",
    "    if ret == True:\n",
    "        # write the grayframe\n",
    "        out.write(grayframe)\n",
    "        cv.imshow('Video', grayframe)\n",
    "        # Quit with the 'q' key\n",
    "        if cv.waitKey(1) & 0xFF==ord('q'):\n",
    "            break\n",
    "    else:\n",
    "        break\n",
    "\n",
    "# release everything if job is finished\n",
    "cap.release()\n",
    "out.release()\n",
    "cv.destroyAllWindows()"
   ]
  }
 ],
 "metadata": {
  "kernelspec": {
   "display_name": "Python 3 (ipykernel)",
   "language": "python",
   "name": "python3"
  },
  "language_info": {
   "codemirror_mode": {
    "name": "ipython",
    "version": 3
   },
   "file_extension": ".py",
   "mimetype": "text/x-python",
   "name": "python",
   "nbconvert_exporter": "python",
   "pygments_lexer": "ipython3",
   "version": "3.9.5"
  }
 },
 "nbformat": 4,
 "nbformat_minor": 2
}
