{
 "cells": [
  {
   "cell_type": "markdown",
   "metadata": {},
   "source": [
    "## How to Capture a Webcam Inside Python\n",
    "\n",
    "With OpenCV, we can capture a video from the camera. It lets us create a video capture object which is helpful to capture videos through webcam and then we may perform desired operations on that video.\n",
    "\n",
    "**Steps to capture a video**:\n",
    "\n",
    "* Use `cv2.VideoCapture()` to get a video capture object for the camera.\n",
    "* Set up an infinite while loop and use the `read()` method to read the frames using the above created object.\n",
    "* Use `cv2.imshow()` method to show the frames in the video.\n",
    "* Breaks the loop when the user clicks a specific key.\n",
    "\n",
    "Below is the implementation."
   ]
  },
  {
   "cell_type": "code",
   "execution_count": 1,
   "metadata": {},
   "outputs": [],
   "source": [
    "# Step 1: import libraries\n",
    "import cv2 as cv\n",
    "import numpy as np\n",
    "\n",
    "# Step 2: read the frames from camera\n",
    "cap = cv.VideoCapture(1)  # webcam; 0 or 1 or 2 so on..\n",
    "\n",
    "# Step 3: display capture, read cam until the end\n",
    "while cap.isOpened():\n",
    "    # Capture frame by frame\n",
    "    ret, frame = cap.read()\n",
    "    if ret == True:\n",
    "        # Display frame\n",
    "        cv.imshow(\"Frame\", frame)\n",
    "        # Quit with the 'Q' key\n",
    "        if cv.waitKey(1) & 0xFF==ord('q'):\n",
    "            break\n",
    "    else:\n",
    "        break\n",
    "\n",
    "# Step 4: Close windows\n",
    "cap.release()\n",
    "cv.destroyAllWindows()"
   ]
  }
 ],
 "metadata": {
  "kernelspec": {
   "display_name": "Python 3 (ipykernel)",
   "language": "python",
   "name": "python3"
  },
  "language_info": {
   "codemirror_mode": {
    "name": "ipython",
    "version": 3
   },
   "file_extension": ".py",
   "mimetype": "text/x-python",
   "name": "python",
   "nbconvert_exporter": "python",
   "pygments_lexer": "ipython3",
   "version": "3.9.5"
  }
 },
 "nbformat": 4,
 "nbformat_minor": 2
}
