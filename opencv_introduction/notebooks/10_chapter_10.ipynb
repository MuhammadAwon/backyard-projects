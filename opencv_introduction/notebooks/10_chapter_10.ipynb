{
 "cells": [
  {
   "cell_type": "markdown",
   "metadata": {},
   "source": [
    "## Convert Webcam Video into Grayscale and Black&White\n",
    "\n",
    "The process to convert webcam video into grayscale and black & white is same as convert video from working directory. The only difference is to specify the **index** in `VideoCapture()` to get the video from webcam.\n",
    "\n",
    "For instance:"
   ]
  },
  {
   "cell_type": "code",
   "execution_count": 2,
   "metadata": {},
   "outputs": [],
   "source": [
    "import cv2 as cv\n",
    "\n",
    "# define video capture object from webcam\n",
    "cap = cv.VideoCapture(1)\n",
    "\n",
    "while True:\n",
    "    (ret, frame) = cap.read()\n",
    "    gray_frame = cv.cvtColor(frame, cv.COLOR_BGR2GRAY)\n",
    "    (tresh, binary_frame) = cv.threshold(gray_frame, 127, 225, cv.THRESH_BINARY)\n",
    "    \n",
    "    # display the result of color, grayscale, and binary frames\n",
    "    cv.imshow(\"OriginalCam\", frame)\n",
    "    cv.imshow(\"GrayCam\", gray_frame)\n",
    "    cv.imshow(\"BinaryCam\", binary_frame)\n",
    "    \n",
    "    # exit with `Q` key\n",
    "    if cv.waitKey(1) & 0xFF==ord('q'):\n",
    "        break\n",
    "\n",
    "# close everything\n",
    "cap.release()\n",
    "cv.destroyAllWindows()"
   ]
  }
 ],
 "metadata": {
  "kernelspec": {
   "display_name": "Python 3 (ipykernel)",
   "language": "python",
   "name": "python3"
  },
  "language_info": {
   "codemirror_mode": {
    "name": "ipython",
    "version": 3
   },
   "file_extension": ".py",
   "mimetype": "text/x-python",
   "name": "python",
   "nbconvert_exporter": "python",
   "pygments_lexer": "ipython3",
   "version": "3.9.5"
  }
 },
 "nbformat": 4,
 "nbformat_minor": 2
}
