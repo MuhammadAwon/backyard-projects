{
 "cells": [
  {
   "cell_type": "markdown",
   "metadata": {},
   "source": [
    "## Write Video from Cam\n",
    "\n",
    "Here we save webcam video with specified frame size."
   ]
  },
  {
   "cell_type": "code",
   "execution_count": 7,
   "metadata": {},
   "outputs": [],
   "source": [
    "import cv2 as cv\n",
    "import numpy as np\n",
    "\n",
    "cap = cv.VideoCapture(1)\n",
    "\n",
    "# Video writing format, codec, video writer object and file object\n",
    "# Frame resolution size\n",
    "frame_height = 640\n",
    "frame_width = 480\n",
    "frame_size = (frame_height, frame_width)\n",
    "out = cv.VideoWriter('resources/cam_video.mp4', cv.VideoWriter_fourcc('M', 'J', 'P', 'G'), 30, frame_size)\n",
    "\n",
    "while True:\n",
    "    (ret, frame) = cap.read()\n",
    "\n",
    "    # Run video in player\n",
    "    if ret == True:\n",
    "        # Resize frames of the video\n",
    "        b = cv.resize(frame, frame_size, fx=0, fy=0, interpolation=cv.INTER_CUBIC)\n",
    "        out.write(b)\n",
    "        cv.imshow('frame', b)\n",
    "        # Quit with the 'Q' key\n",
    "        if cv.waitKey(1) & 0xFF==ord('q'):\n",
    "            break\n",
    "    else:\n",
    "        break\n",
    "\n",
    "cap.release()\n",
    "out.release()\n",
    "cv.destroyAllWindows()"
   ]
  }
 ],
 "metadata": {
  "kernelspec": {
   "display_name": "Python 3 (ipykernel)",
   "language": "python",
   "name": "python3"
  },
  "language_info": {
   "codemirror_mode": {
    "name": "ipython",
    "version": 3
   },
   "file_extension": ".py",
   "mimetype": "text/x-python",
   "name": "python",
   "nbconvert_exporter": "python",
   "pygments_lexer": "ipython3",
   "version": "3.9.5"
  }
 },
 "nbformat": 4,
 "nbformat_minor": 2
}
