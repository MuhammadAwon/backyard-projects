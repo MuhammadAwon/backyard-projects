{
 "cells": [
  {
   "cell_type": "markdown",
   "metadata": {},
   "source": [
    "## Basic Functions and Manipulations in OpenCV\n",
    "\n",
    "We can manipulate images in various ways. Below are some examples:"
   ]
  },
  {
   "cell_type": "code",
   "execution_count": 4,
   "metadata": {},
   "outputs": [
    {
     "name": "stdout",
     "output_type": "stream",
     "text": [
      "The size of our image is: (491, 736, 3)\n"
     ]
    }
   ],
   "source": [
    "# import libraries\n",
    "import cv2 as cv\n",
    "import numpy as np\n",
    "\n",
    "# read image\n",
    "img = cv.imread('resources/chef.jpg')\n",
    "\n",
    "# resize image\n",
    "resized_img = cv.resize(img, (450, 250))\n",
    "\n",
    "# gray image\n",
    "gray_img = cv.cvtColor(img, cv.COLOR_BGR2GRAY)\n",
    "\n",
    "# black & white image\n",
    "(tresh, bitonal_img) = cv.threshold(gray_img, 127, 225, cv.THRESH_BINARY)\n",
    "\n",
    "# blurred image\n",
    "blurr_img = cv.GaussianBlur(img, (7,7), 0) # 7x7 is kernel size that has to be odd\n",
    "\n",
    "# edge detection\n",
    "edge_img = cv.Canny(img, 47, 47)\n",
    "\n",
    "# thickness of lines (has to be edge_img)\n",
    "mat_kernel = np.ones((7,7), np.uint8)\n",
    "dilated_img = cv.dilate(edge_img, mat_kernel, iterations=1)\n",
    "\n",
    "# make thinner outline (opposite to the dilation)\n",
    "ero_img = cv.erode(dilated_img, mat_kernel)\n",
    "\n",
    "# crop image using numpy\n",
    "print(f'The size of our image is: {img.shape}')\n",
    "cropped_img = img[0:491, 300:650] \n",
    "\n",
    "# display all images\n",
    "cv.imshow('Original', img)\n",
    "cv.imshow('Resized', resized_img)\n",
    "cv.imshow('Gray', gray_img)\n",
    "cv.imshow('B&W', bitonal_img)\n",
    "cv.imshow('Blurr', blurr_img)\n",
    "cv.imshow('Edge', edge_img)\n",
    "cv.imshow('Dilated', dilated_img)\n",
    "cv.imshow('Erosion', ero_img)\n",
    "cv.imshow('Cropped', cropped_img)\n",
    "\n",
    "# close all windows\n",
    "cv.waitKey(0)\n",
    "cv.destroyAllWindows()"
   ]
  },
  {
   "cell_type": "markdown",
   "metadata": {},
   "source": [
    "**Original**\n",
    "<img src=\"resources/chef.jpg\"/>\n",
    "\n",
    "**Resized**\n",
    "<img src=\"resources/resizedchef.jpg\"/>\n",
    "\n",
    "**Gray**\n",
    "<img src=\"resources/graychef.jpg\"/>\n",
    "\n",
    "**Black & White**\n",
    "<img src=\"resources/blackchef.jpg\"/>\n",
    "\n",
    "**Blurr**\n",
    "<img src=\"resources/blurredchef.jpg\"/>\n",
    "\n",
    "**Edge**\n",
    "<img src=\"resources/edgechef.jpg\"/>\n",
    "\n",
    "**Dilated**\n",
    "<img src=\"resources/dilatedchef.jpg\"/>\n",
    "\n",
    "**Erosion**\n",
    "<img src=\"resources/erodedchef.jpg\"/>\n",
    "\n",
    "**Cropped**\n",
    "<img src=\"resources/croppedchef.jpg\"/>"
   ]
  }
 ],
 "metadata": {
  "kernelspec": {
   "display_name": "Python 3 (ipykernel)",
   "language": "python",
   "name": "python3"
  },
  "language_info": {
   "codemirror_mode": {
    "name": "ipython",
    "version": 3
   },
   "file_extension": ".py",
   "mimetype": "text/x-python",
   "name": "python",
   "nbconvert_exporter": "python",
   "pygments_lexer": "ipython3",
   "version": "3.9.5"
  }
 },
 "nbformat": 4,
 "nbformat_minor": 2
}
