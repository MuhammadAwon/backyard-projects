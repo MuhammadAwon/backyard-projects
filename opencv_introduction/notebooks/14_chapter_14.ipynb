{
 "cells": [
  {
   "cell_type": "markdown",
   "metadata": {},
   "source": [
    "## How to draw lines and shapes in python\n",
    "\n",
    "We can customize image and draw different shapes with OpenCV."
   ]
  },
  {
   "cell_type": "code",
   "execution_count": 1,
   "metadata": {},
   "outputs": [
    {
     "name": "stdout",
     "output_type": "stream",
     "text": [
      "The size of our canvas is: (600, 600)\n",
      "[[0. 0. 0. ... 0. 0. 0.]\n",
      " [0. 0. 0. ... 0. 0. 0.]\n",
      " [0. 0. 0. ... 0. 0. 0.]\n",
      " ...\n",
      " [0. 0. 0. ... 0. 0. 0.]\n",
      " [0. 0. 0. ... 0. 0. 0.]\n",
      " [0. 0. 0. ... 0. 0. 0.]]\n"
     ]
    },
    {
     "data": {
      "text/plain": [
       "array([[[255,   0,   0],\n",
       "        [255,   0,   0],\n",
       "        [255,   0,   0],\n",
       "        ...,\n",
       "        [  0, 155,  15],\n",
       "        [  0, 155,  15],\n",
       "        [  0, 155,  15]],\n",
       "\n",
       "       [[255,   0,   0],\n",
       "        [255,   0,   0],\n",
       "        [255,   0,   0],\n",
       "        ...,\n",
       "        [  0, 155,  15],\n",
       "        [  0, 155,  15],\n",
       "        [  0, 155,  15]],\n",
       "\n",
       "       [[255,   0,   0],\n",
       "        [255,   0,   0],\n",
       "        [255,   0,   0],\n",
       "        ...,\n",
       "        [  0, 155,  15],\n",
       "        [  0, 155,  15],\n",
       "        [  0, 155,  15]],\n",
       "\n",
       "       ...,\n",
       "\n",
       "       [[  0, 155,  15],\n",
       "        [  0, 155,  15],\n",
       "        [  0, 155,  15],\n",
       "        ...,\n",
       "        [255,   0,   0],\n",
       "        [255,   0,   0],\n",
       "        [255,   0,   0]],\n",
       "\n",
       "       [[  0, 155,  15],\n",
       "        [  0, 155,  15],\n",
       "        [  0, 155,  15],\n",
       "        ...,\n",
       "        [255,   0,   0],\n",
       "        [255,   0,   0],\n",
       "        [255,   0,   0]],\n",
       "\n",
       "       [[  0, 155,  15],\n",
       "        [  0, 155,  15],\n",
       "        [  0, 155,  15],\n",
       "        ...,\n",
       "        [255,   0,   0],\n",
       "        [255,   0,   0],\n",
       "        [255,   0,   0]]], dtype=uint8)"
      ]
     },
     "execution_count": 1,
     "metadata": {},
     "output_type": "execute_result"
    }
   ],
   "source": [
    "import cv2 as cv\n",
    "import numpy as np\n",
    "\n",
    "# Draw a canvas\n",
    "img = np.zeros((600, 600)) # 0: black\n",
    "img1 = np.ones((600, 600)) # 1: white\n",
    "\n",
    "# Image size\n",
    "print(f'The size of our canvas is: {img.shape}')\n",
    "print(img)\n",
    "\n",
    "# Add colors shape to the image\n",
    "colored_img = np.zeros((600,600,3), np.uint8) # add color channel\n",
    "\n",
    "# Complete colored image\n",
    "colored_img[:] = 0,155,15\n",
    "\n",
    "# Part of image to be colored\n",
    "colored_img[150:230, 100:500] = 255,168,10\n",
    "\n",
    "# Add line\n",
    "cv.line(colored_img, (100,100), (300,300), (255,255,50), 3) # part of image with line\n",
    "\n",
    "# Add line to complete image\n",
    "cv.line(colored_img, (0,0), (colored_img.shape[0], colored_img.shape[1]), (255,0,0), 3)\n",
    "\n",
    "# Add rectangles\n",
    "cv.rectangle(colored_img, (50,100), (300,400), (255,255,255), 3) # draw rectangle\n",
    "cv.rectangle(colored_img, (50,100), (300,400), (255,255,255), cv.FILLED) # fill rectangle\n",
    "\n",
    "# Add circle\n",
    "cv.circle(colored_img, (400,300), 50, (255,100,0), 5)\n",
    "cv.circle(colored_img, (400,300), 50, (255,100,0), cv.FILLED)"
   ]
  },
  {
   "cell_type": "markdown",
   "metadata": {},
   "source": [
    "Add text in multiple lines using `getTextSize()` and `putText()` methods."
   ]
  },
  {
   "cell_type": "code",
   "execution_count": 2,
   "metadata": {},
   "outputs": [],
   "source": [
    "text = \"Python ka Chilla \\n on Codanics YouTube Channel\"\n",
    "position = (100, 30)\n",
    "font = cv.FONT_HERSHEY_SIMPLEX\n",
    "font_scale = 0.75\n",
    "color = (100, 100, 100)\n",
    "thickness = 2\n",
    "line_type = cv.LINE_AA\n",
    "\n",
    "text_size, _ = cv.getTextSize(text, font, font_scale, thickness)\n",
    "line_height = text_size[1] + 5\n",
    "x, y0 = position\n",
    "for i, line in enumerate(text.split(\"\\n\")):\n",
    "    y = y0 + i * line_height\n",
    "    cv.putText(colored_img, line, (x, y), font, font_scale, color, thickness, line_type)"
   ]
  },
  {
   "cell_type": "code",
   "execution_count": 7,
   "metadata": {},
   "outputs": [],
   "source": [
    "# display all images\n",
    "cv.imshow('Black image', img)\n",
    "cv.imshow('White image', img1)\n",
    "cv.imshow('Colored Image', colored_img)\n",
    "# save colored image\n",
    "cv.imwrite('resources/colored_image.png', colored_img)\n",
    "\n",
    "# close windows\n",
    "cv.waitKey(0)\n",
    "cv.destroyAllWindows()"
   ]
  }
 ],
 "metadata": {
  "kernelspec": {
   "display_name": "Python 3 (ipykernel)",
   "language": "python",
   "name": "python3"
  },
  "language_info": {
   "codemirror_mode": {
    "name": "ipython",
    "version": 3
   },
   "file_extension": ".py",
   "mimetype": "text/x-python",
   "name": "python",
   "nbconvert_exporter": "python",
   "pygments_lexer": "ipython3",
   "version": "3.9.5"
  }
 },
 "nbformat": 4,
 "nbformat_minor": 2
}
