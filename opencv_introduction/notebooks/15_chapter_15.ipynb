{
 "cells": [
  {
   "cell_type": "markdown",
   "metadata": {},
   "source": [
    "## Resolution of Cam\n",
    "\n",
    "We can modify webcam resolution. Blow is the example:"
   ]
  },
  {
   "cell_type": "code",
   "execution_count": 2,
   "metadata": {},
   "outputs": [
    {
     "name": "stdout",
     "output_type": "stream",
     "text": [
      "Enter width size: 640\n",
      "Enter height size: 480\n"
     ]
    }
   ],
   "source": [
    "import cv2 as cv\n",
    "import numpy as np\n",
    "\n",
    "cap = cv.VideoCapture(1)\n",
    "\n",
    "# create function to set resolution (For example, HD: 1280x720)\n",
    "def set_resolution(width, height):\n",
    "    cap.set(3, width) \n",
    "    cap.set(4, height)\n",
    "\n",
    "# get user input to set resolution\n",
    "width = int(input('Enter width size: '))\n",
    "height = int(input('Enter height size: '))\n",
    "set_resolution(width, height)\n",
    "\n",
    "while True:\n",
    "    ret, frame = cap.read()\n",
    "    if ret==True:\n",
    "        cv.imshow('Camera view', frame)\n",
    "        if cv.waitKey(1) & 0xFF==ord('q'):\n",
    "            break\n",
    "    else:\n",
    "        break\n",
    "\n",
    "cap.release()\n",
    "cv.destroyAllWindows()"
   ]
  }
 ],
 "metadata": {
  "kernelspec": {
   "display_name": "Python 3 (ipykernel)",
   "language": "python",
   "name": "python3"
  },
  "language_info": {
   "codemirror_mode": {
    "name": "ipython",
    "version": 3
   },
   "file_extension": ".py",
   "mimetype": "text/x-python",
   "name": "python",
   "nbconvert_exporter": "python",
   "pygments_lexer": "ipython3",
   "version": "3.9.5"
  }
 },
 "nbformat": 4,
 "nbformat_minor": 2
}
