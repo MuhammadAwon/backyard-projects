{
 "cells": [
  {
   "cell_type": "markdown",
   "metadata": {},
   "source": [
    "## Save HD Recording of Webcam Streaming\n",
    "\n",
    "Below is the code snippet to save HD video from webcam. Similarly, we can set other pixel resolutions as well."
   ]
  },
  {
   "cell_type": "code",
   "execution_count": 1,
   "metadata": {},
   "outputs": [
    {
     "name": "stdout",
     "output_type": "stream",
     "text": [
      "Enter width size: 1280\n",
      "Enter height size: 720\n"
     ]
    }
   ],
   "source": [
    "# import opencv\n",
    "import cv2 as cv\n",
    "\n",
    "# capture video from webcam\n",
    "cap = cv.VideoCapture(1)\n",
    "\n",
    "# create function to set resolution (For example, HD: 1280x720)\n",
    "def set_resolution(width, height):\n",
    "    cap.set(3, width) \n",
    "    cap.set(4, height)\n",
    "\n",
    "# get user input to set resolution\n",
    "width = int(input('Enter width size: '))\n",
    "height = int(input('Enter height size: '))\n",
    "# function call\n",
    "set_resolution(width, height)\n",
    "\n",
    "# frame resolution size\n",
    "frame_height = int(cap.get(3))\n",
    "frame_width = int(cap.get(4))\n",
    "frame_size = (frame_height, frame_width)\n",
    "# save video\n",
    "out = cv.VideoWriter('resources/cam_video2.mp4', cv.VideoWriter_fourcc('M', 'J', 'P', 'G'), 30, frame_size)\n",
    "\n",
    "while True:\n",
    "    (ret, frame) = cap.read()\n",
    "    # run video in player\n",
    "    if ret == True:\n",
    "        out.write(frame)\n",
    "        cv.imshow('frame', frame)\n",
    "        # quit with the 'Q' key\n",
    "        if cv.waitKey(1) & 0xFF==ord('q'):\n",
    "            break\n",
    "    else:\n",
    "        break\n",
    "\n",
    "# close everything\n",
    "cap.release()\n",
    "out.release()\n",
    "cv.destroyAllWindows()"
   ]
  }
 ],
 "metadata": {
  "kernelspec": {
   "display_name": "Python 3 (ipykernel)",
   "language": "python",
   "name": "python3"
  },
  "language_info": {
   "codemirror_mode": {
    "name": "ipython",
    "version": 3
   },
   "file_extension": ".py",
   "mimetype": "text/x-python",
   "name": "python",
   "nbconvert_exporter": "python",
   "pygments_lexer": "ipython3",
   "version": "3.9.5"
  }
 },
 "nbformat": 4,
 "nbformat_minor": 2
}
