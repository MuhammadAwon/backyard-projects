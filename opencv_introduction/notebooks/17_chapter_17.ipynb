{
 "cells": [
  {
   "cell_type": "markdown",
   "metadata": {},
   "source": [
    "## Horizontal & Vertical Stack of Images\n",
    "\n",
    "Below snippet shows how to stack images horizontally and vertically using **Numpy** `hstack()` and `vstack()` methods."
   ]
  },
  {
   "cell_type": "code",
   "execution_count": 3,
   "metadata": {},
   "outputs": [],
   "source": [
    "# import libraries\n",
    "import cv2 as cv\n",
    "import numpy as np\n",
    "\n",
    "# read image\n",
    "img = cv.imread('resources/chef.jpg')\n",
    "\n",
    "# horizontal stack\n",
    "hor_img = np.hstack((img, img))\n",
    "# vertical stack\n",
    "ver_img = np.vstack((img, img))\n",
    "\n",
    "# display images\n",
    "cv.imshow('Horizontal', hor_img)\n",
    "cv.imshow('Vertical', ver_img)\n",
    "\n",
    "# close windows\n",
    "cv.waitKey(0)\n",
    "cv.destroyAllWindows()"
   ]
  },
  {
   "cell_type": "markdown",
   "metadata": {},
   "source": [
    "**Image**\n",
    "<img src=\"resources/chef.jpg\" width=\"500\" height=\"300\" />\n",
    "\n",
    "**Horizontal Stack**\n",
    "<img src=\"resources/hchef.jpg\" width=\"500\" height=\"300\" />\n",
    "\n",
    "**Vertical Stack**\n",
    "<img src=\"resources/vchef.jpg\" width=\"500\" height=\"300\" />"
   ]
  }
 ],
 "metadata": {
  "kernelspec": {
   "display_name": "Python 3 (ipykernel)",
   "language": "python",
   "name": "python3"
  },
  "language_info": {
   "codemirror_mode": {
    "name": "ipython",
    "version": 3
   },
   "file_extension": ".py",
   "mimetype": "text/x-python",
   "name": "python",
   "nbconvert_exporter": "python",
   "pygments_lexer": "ipython3",
   "version": "3.9.5"
  }
 },
 "nbformat": 4,
 "nbformat_minor": 2
}
