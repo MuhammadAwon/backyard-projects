{
 "cells": [
  {
   "cell_type": "markdown",
   "metadata": {},
   "source": [
    "## Function for Multiple Image Stacking of Different Tones\n",
    "\n",
    "Below is the function that takes multiple images of different sizes and tones and stack them.\n",
    "\n",
    "For example:\n",
    "* **Vertical stacking** - when the user input is **0**\n",
    "* **Horizontal stacking** - when the user input is **1**"
   ]
  },
  {
   "cell_type": "code",
   "execution_count": 3,
   "metadata": {},
   "outputs": [],
   "source": [
    "import cv2 as cv\n",
    "import numpy as np\n",
    "\n",
    "def stack_images(img1, img2, axis=None):\n",
    "    color_img = cv.imread(img1)\n",
    "    gray_img = cv.imread(img2, 0) # load image in grayscale mode\n",
    "    \n",
    "    # Resize images\n",
    "    color_img = cv.resize(color_img, (400,250))\n",
    "    gray_img = cv.resize(gray_img, (400,250))\n",
    "\n",
    "    # Convert grayscale image to 3-channel image, so that they can be stacked together    \n",
    "    gray_img = cv.cvtColor(gray_img, cv.COLOR_GRAY2BGR)\n",
    "    \n",
    "    # Conditional statement for vertical and horizontal stacking\n",
    "    if axis == 0:\n",
    "        both_imgs = np.concatenate((color_img, gray_img), axis=axis) # 0 : vertical stack\n",
    "        cv.imshow('Vertical stack', both_imgs)\n",
    "    else:\n",
    "        both_imgs = np.concatenate((color_img, gray_img), axis=axis) # 1 : horzontal stack\n",
    "        cv.imshow('Horizontal stack', both_imgs)\n",
    "    \n",
    "    return both_imgs"
   ]
  },
  {
   "cell_type": "code",
   "execution_count": 5,
   "metadata": {},
   "outputs": [],
   "source": [
    "# function call for vertical stacking\n",
    "ver_images = stack_images(img1='resources/steak.jpg', img2='resources/salmon.jpg', axis=0)\n",
    "# function call for horizontal stacking\n",
    "hori_images = stack_images(img1='resources/steak.jpg', img2='resources/salmon.jpg', axis=1)\n",
    "\n",
    "# close all windows\n",
    "cv.waitKey(0)\n",
    "cv.destroyAllWindows()"
   ]
  },
  {
   "cell_type": "markdown",
   "metadata": {},
   "source": [
    "**Image 1**\n",
    "<img src=\"resources/steak.jpg\" width=\"500\" height=\"300\" />\n",
    "\n",
    "**Image 2**\n",
    "<img src=\"resources/salmon.jpg\" width=\"500\" height=\"300\" />\n",
    "\n",
    "**Vertical stacking**\n",
    "<img src=\"resources/vfood.jpg\" width=\"500\" height=\"300\" />\n",
    "\n",
    "**Horizontal stacking**\n",
    "<img src=\"resources/hfood.jpg\" width=\"500\" height=\"300\" />"
   ]
  }
 ],
 "metadata": {
  "kernelspec": {
   "display_name": "Python 3 (ipykernel)",
   "language": "python",
   "name": "python3"
  },
  "language_info": {
   "codemirror_mode": {
    "name": "ipython",
    "version": 3
   },
   "file_extension": ".py",
   "mimetype": "text/x-python",
   "name": "python",
   "nbconvert_exporter": "python",
   "pygments_lexer": "ipython3",
   "version": "3.9.5"
  }
 },
 "nbformat": 4,
 "nbformat_minor": 2
}
