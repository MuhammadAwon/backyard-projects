{
 "cells": [
  {
   "cell_type": "markdown",
   "metadata": {},
   "source": [
    "## Wrap Perspective in OpenCV\n",
    "\n",
    "In **Perspective Transformation**, we can change the perspective of a given image or video for getting better insights into the required information. In Perspective Transformation, we need to provide the points on the image from which want to gather information by changing the perspective. We also need to provide the points inside which we want to display our image. Then, we get the perspective transform from the two given sets of points and wrap it with the original image.\n",
    "\n",
    "We use `getPerspectiveTransform()` and then `warpPerspective()`.\n",
    "\n",
    "**getPerspectiveTransform method**\\\n",
    "**Syntax**: getPerspectiveTransform(src, dst)\\\n",
    "**Parameters**:\n",
    "* **src**: Coordinates of quadrangle vertices in the source image.\n",
    "* **dst**: Coordinates of the corresponding quadrangle vertices in the destination image.\n",
    "\n",
    "**wrapPerspective method**\\\n",
    "**Syntax**: warpPerspective(src, dst, dsize)\\\n",
    "**Parameters**:\n",
    "* **src**: Source Image\n",
    "* **dst**: output image that has the size dsize and the same type as src.\n",
    "* **dsize**: size of output image\n",
    "\n",
    "Below is the code explaining of Perspective Transformation:"
   ]
  },
  {
   "cell_type": "code",
   "execution_count": 3,
   "metadata": {},
   "outputs": [],
   "source": [
    "# import libraries\n",
    "import cv2 as cv\n",
    "import numpy as np\n",
    "\n",
    "# load image\n",
    "img = cv.imread('resources/card.jpg')\n",
    "\n",
    "# declare points of the image to transform\n",
    "pts1 = np.float32([[51,101], [130,88], [71,220], [161,200]])\n",
    "\n",
    "# set dimension size\n",
    "width, height = 250, 350\n",
    "# declare corresponding points\n",
    "pts2 = np.float32([[0,0], [width,0], [0,height], [width,height]])\n",
    "\n",
    "# apply perspective transformation\n",
    "matrix = cv.getPerspectiveTransform(pts1, pts2)\n",
    "# transformed image\n",
    "output_img = cv.warpPerspective(img, matrix, (width,height))\n",
    "\n",
    "# plot circles on the four corner of the image which is going to transform\n",
    "for x in range(0,4):\n",
    "    cv.circle(img, center=(int(pts1[x][0]), int(pts1[x][1])), radius=5, color=(0,255,0), thickness=cv.FILLED)\n",
    "\n",
    "# display images\n",
    "cv.imshow('Original image', img)\n",
    "cv.imshow('Output image', output_img)\n",
    "cv.waitKey(0)\n",
    "cv.destroyAllWindows()"
   ]
  },
  {
   "cell_type": "markdown",
   "metadata": {},
   "source": [
    "**Original Image**\n",
    "<img src=\"resources/dotted_card.jpg\"/>\n",
    "\n",
    "**Output Image**\n",
    "<img src=\"resources/wrap_card.jpg\"/>"
   ]
  }
 ],
 "metadata": {
  "kernelspec": {
   "display_name": "Python 3 (ipykernel)",
   "language": "python",
   "name": "python3"
  },
  "language_info": {
   "codemirror_mode": {
    "name": "ipython",
    "version": 3
   },
   "file_extension": ".py",
   "mimetype": "text/x-python",
   "name": "python",
   "nbconvert_exporter": "python",
   "pygments_lexer": "ipython3",
   "version": "3.9.5"
  }
 },
 "nbformat": 4,
 "nbformat_minor": 2
}
