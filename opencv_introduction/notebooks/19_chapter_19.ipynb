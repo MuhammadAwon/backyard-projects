{
 "cells": [
  {
   "cell_type": "markdown",
   "metadata": {},
   "source": [
    "## Display the Coordinates on the Image\n",
    "\n",
    "OpenCV helps us to control and manage different types of mouse events and gives us the flexibility to operate them. There are many types of mouse events. For example, `EVENT_FLAG_ALTKEY`, `EVENT_FLAG_LBUTTON`, `EVENT_FLAG_RBUTTONUP`, and many more..\n",
    "\n",
    "Lets see how to display the coordinates of the point clicked on the image (**with left-click**) and the pixel color at the point (**with right-click**)."
   ]
  },
  {
   "cell_type": "code",
   "execution_count": 1,
   "metadata": {},
   "outputs": [
    {
     "name": "stdout",
     "output_type": "stream",
     "text": [
      "477  178\n",
      "590  291\n",
      "463  111\n",
      "140  306\n",
      "611  452\n"
     ]
    }
   ],
   "source": [
    "# Step-1: Import libraries\n",
    "import cv2 as cv\n",
    "\n",
    "# Step-2: Define a function\n",
    "def find_coord(event, x, y, flags, params):\n",
    "    if event == cv.EVENT_LBUTTONDOWN:\n",
    "        # left mouse click\n",
    "        print(x, '', y)\n",
    "        # how to display coordinates on the same image or window\n",
    "        font = cv.FONT_HERSHEY_PLAIN\n",
    "        cv.putText(img, str(x) + ',' + str(y), (x, y), font, 1, (116,150,234), thickness=2)\n",
    "        # show the text on image\n",
    "        cv.imshow('image', img)\n",
    "\n",
    "    # find color with right mouse click\n",
    "    if event == cv.EVENT_RBUTTONDOWN:\n",
    "        print(x, '', y)\n",
    "        font = cv.FONT_HERSHEY_SIMPLEX\n",
    "        # define bgr\n",
    "        b = img[y,x,0]\n",
    "        g = img[y,x,1]\n",
    "        r = img[y,x,2]\n",
    "        \n",
    "        cv.putText(img, str(b) + ',' + str(g) + ',' + str(r), (x,y), font, 1, (255,0,0), 2)\n",
    "        cv.imshow('image', img)\n",
    "\n",
    "# Step-3: Driver function to read and display\n",
    "if __name__=='__main__':\n",
    "    # read an image\n",
    "    img = cv.imread('resources/chef.jpg', 1)\n",
    "    # display the image\n",
    "    cv.imshow('image', img)\n",
    "    # set callback function\n",
    "    cv.setMouseCallback('image', find_coord)\n",
    "    cv.waitKey(0)\n",
    "    cv.destroyAllWindows()"
   ]
  }
 ],
 "metadata": {
  "kernelspec": {
   "display_name": "Python 3 (ipykernel)",
   "language": "python",
   "name": "python3"
  },
  "language_info": {
   "codemirror_mode": {
    "name": "ipython",
    "version": 3
   },
   "file_extension": ".py",
   "mimetype": "text/x-python",
   "name": "python",
   "nbconvert_exporter": "python",
   "pygments_lexer": "ipython3",
   "version": "3.9.5"
  }
 },
 "nbformat": 4,
 "nbformat_minor": 2
}
