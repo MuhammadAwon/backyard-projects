{
 "cells": [
  {
   "cell_type": "markdown",
   "metadata": {},
   "source": [
    "## Extract and Save Video Frames\n",
    "\n",
    "With OpenCV we can split video into frames (image sequence) and save them as individual images.\n",
    "\n",
    "Below is the implementation:"
   ]
  },
  {
   "cell_type": "code",
   "execution_count": 1,
   "metadata": {},
   "outputs": [
    {
     "name": "stdout",
     "output_type": "stream",
     "text": [
      "Frames count completed!!\n"
     ]
    }
   ],
   "source": [
    "import cv2 as cv\n",
    "\n",
    "# capture the video from working directory\n",
    "cap = cv.VideoCapture('resources/grilled_steaks.mp4')\n",
    "\n",
    "# run infinite loop until all frames are being captured\n",
    "frameNum = 0\n",
    "while True:\n",
    "    ret, frame = cap.read()\n",
    "    if ret:\n",
    "        cv.imwrite(f'resources/frames/frame_{frameNum}.jpg', frame)\n",
    "    else:\n",
    "        break\n",
    "    frameNum += 1 # increment frames count\n",
    "\n",
    "# close the window\n",
    "cap.release()\n",
    "cv.destroyAllWindows()\n",
    "print('Frames count completed!!')"
   ]
  }
 ],
 "metadata": {
  "kernelspec": {
   "display_name": "Python 3 (ipykernel)",
   "language": "python",
   "name": "python3"
  },
  "language_info": {
   "codemirror_mode": {
    "name": "ipython",
    "version": 3
   },
   "file_extension": ".py",
   "mimetype": "text/x-python",
   "name": "python",
   "nbconvert_exporter": "python",
   "pygments_lexer": "ipython3",
   "version": "3.9.5"
  }
 },
 "nbformat": 4,
 "nbformat_minor": 2
}
