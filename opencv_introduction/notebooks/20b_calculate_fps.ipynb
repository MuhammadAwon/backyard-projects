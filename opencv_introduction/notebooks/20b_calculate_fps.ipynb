{
 "cells": [
  {
   "cell_type": "markdown",
   "metadata": {},
   "source": [
    "## Find Frame Rate (fps)\n",
    "\n",
    "We can caclulate frame per second (fps) of a video."
   ]
  },
  {
   "cell_type": "code",
   "execution_count": 1,
   "metadata": {},
   "outputs": [
    {
     "name": "stdout",
     "output_type": "stream",
     "text": [
      "OpenCV version: 4\n",
      "Frames per second: 25\n"
     ]
    }
   ],
   "source": [
    "import cv2 as cv\n",
    "\n",
    "# capture video\n",
    "video = cv.VideoCapture('resources/grilled_steaks.mp4')\n",
    "\n",
    "# find OpenCV version\n",
    "(major_ver, minor_ver, subminor_ver) = (cv.__version__).split('.')\n",
    "print(f'OpenCV version: {major_ver}')\n",
    "\n",
    "# calculate fps of the video\n",
    "if int(major_ver) < 3:\n",
    "    fps = video.get(cv.cv.CV_CAP_PROP_FPS)\n",
    "    print(f'Frames per second: {int(fps)}')\n",
    "else: \n",
    "    fps = video.get(cv.CAP_PROP_FPS)\n",
    "    print(f'Frames per second: {int(fps)}')\n",
    "\n",
    "# close all windows\n",
    "video.release()\n",
    "cv.destroyAllWindows()"
   ]
  }
 ],
 "metadata": {
  "kernelspec": {
   "display_name": "Python 3 (ipykernel)",
   "language": "python",
   "name": "python3"
  },
  "language_info": {
   "codemirror_mode": {
    "name": "ipython",
    "version": 3
   },
   "file_extension": ".py",
   "mimetype": "text/x-python",
   "name": "python",
   "nbconvert_exporter": "python",
   "pygments_lexer": "ipython3",
   "version": "3.9.5"
  }
 },
 "nbformat": 4,
 "nbformat_minor": 2
}
