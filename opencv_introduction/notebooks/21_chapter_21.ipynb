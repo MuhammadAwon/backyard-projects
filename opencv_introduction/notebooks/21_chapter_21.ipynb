{
 "cells": [
  {
   "cell_type": "markdown",
   "metadata": {},
   "source": [
    "## HSV Trackbar in OpenCV\n",
    "\n",
    "A basic yet very useful application of OpenCV is to track color.\n",
    "\n",
    "One major challenge while doing color detection is to include all the shades of color.\n",
    "\n",
    "To solve this problem of shades instead of using RGB color space we use HSV color space. HSV stands for **Hue**, **Saturation**, **Value**.\n",
    "\n",
    "Here's the demonstration to the create *HSV* with *slider*."
   ]
  },
  {
   "cell_type": "code",
   "execution_count": 3,
   "metadata": {},
   "outputs": [],
   "source": [
    "import cv2 as cv\n",
    "import numpy as np\n",
    "\n",
    "# image path\n",
    "path = 'resources/resized_salmon.jpg'\n",
    "\n",
    "# define function for slider\n",
    "def slider():\n",
    "    pass\n",
    "\n",
    "# create bar window\n",
    "cv.namedWindow('Bars')\n",
    "cv.resizeWindow('Bars', 900,300)\n",
    "\n",
    "# create hue slider on window\n",
    "cv.createTrackbar('Hue Min', 'Bars', 0,179, slider)\n",
    "cv.createTrackbar('Hue Max', 'Bars', 179,179, slider)\n",
    "# create saturation slider on window\n",
    "cv.createTrackbar('Sat Min', 'Bars', 0,255, slider)\n",
    "cv.createTrackbar('Sat Max', 'Bars', 255,255, slider)\n",
    "# create value slider on window\n",
    "cv.createTrackbar('Val Min', 'Bars', 0,255, slider)\n",
    "cv.createTrackbar('Val Max', 'Bars', 255,255, slider)\n",
    "\n",
    "# read image\n",
    "img = cv.imread(path)\n",
    "# convert image to hsv\n",
    "hsv_img = cv.cvtColor(img, cv.COLOR_BGR2HSV)\n",
    "while True:\n",
    "    # read image\n",
    "    img = cv.imread(path)\n",
    "    # convert image to hsv\n",
    "    hsv_img = cv.cvtColor(img, cv.COLOR_BGR2HSV)\n",
    "    # track min & max hue\n",
    "    hue_min = cv.getTrackbarPos('Hue Min', 'Bars')\n",
    "    hue_max = cv.getTrackbarPos('Hue Max', 'Bars')\n",
    "    # track min & max saturation\n",
    "    sat_min = cv.getTrackbarPos('Sat Min', 'Bars')\n",
    "    sat_max = cv.getTrackbarPos('Sat Max', 'Bars')\n",
    "    # track min & max value\n",
    "    val_min = cv.getTrackbarPos('Val Min', 'Bars')\n",
    "    val_max = cv.getTrackbarPos('Val Max', 'Bars')\n",
    "    print(hue_min, hue_max, sat_min, sat_max, val_min, val_max)\n",
    "\n",
    "    # see these changes inside an image\n",
    "    lower = np.array([hue_min, sat_min, val_min])\n",
    "    upper = np.array([hue_max, sat_max, val_max])\n",
    "    mask_img = cv.inRange(hsv_img, lower, upper)\n",
    "    out_img = cv.bitwise_and(img, img, mask=mask_img)\n",
    "\n",
    "    # cv.imshow('Original', img)\n",
    "    # cv.imshow('HSV', hsv_img)\n",
    "    cv.imshow('Mask', mask_img)\n",
    "    cv.imshow('Final Output', out_img)\n",
    "    if cv.waitKey(1) & 0xFF==ord('q'):\n",
    "        break\n",
    "\n",
    "cv.destroyAllWindows()"
   ]
  },
  {
   "cell_type": "markdown",
   "metadata": {},
   "source": [
    "**Original**\n",
    "<img src=\"resources/salmon.jpg\" width=\"500\" height=\"300\"/>\n",
    "\n",
    "**HSV**\n",
    "<img src=\"resources/salmonhsv.jpg\" width=\"500\" height=\"300\"/>\n",
    "\n",
    "**Mask**\n",
    "<img src=\"resources/salmonmask.jpg\" width=\"500\" height=\"300\"/>\n",
    "\n",
    "**Output**\n",
    "<img src=\"resources/salmonoutput.jpg\" width=\"500\" height=\"300\"/>"
   ]
  }
 ],
 "metadata": {
  "kernelspec": {
   "display_name": "Python 3 (ipykernel)",
   "language": "python",
   "name": "python3"
  },
  "language_info": {
   "codemirror_mode": {
    "name": "ipython",
    "version": 3
   },
   "file_extension": ".py",
   "mimetype": "text/x-python",
   "name": "python",
   "nbconvert_exporter": "python",
   "pygments_lexer": "ipython3",
   "version": "3.9.5"
  }
 },
 "nbformat": 4,
 "nbformat_minor": 2
}
