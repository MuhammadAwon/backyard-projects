{
 "cells": [
  {
   "cell_type": "markdown",
   "metadata": {},
   "source": [
    "## Webcam Face Detection\n",
    "\n",
    "OpenCV grabs each frame from the webcam, and then detect faces by processing each frame in real-time.\n",
    "\n",
    "The code blow shows the implementation of it!!"
   ]
  },
  {
   "cell_type": "code",
   "execution_count": 1,
   "metadata": {},
   "outputs": [],
   "source": [
    "import cv2 as cv\n",
    "\n",
    "# import cascade classifier\n",
    "face_cascade = cv.CascadeClassifier('resources/haarcascade_frontalface_default.xml')\n",
    "\n",
    "# capture video from webcam\n",
    "video_capture = cv.VideoCapture(1)\n",
    "\n",
    "while True:\n",
    "    # capture frame-by-frame\n",
    "    ret, frame = video_capture.read()\n",
    "    gray = cv.cvtColor(frame, cv.COLOR_BGR2GRAY)\n",
    "    faces = face_cascade.detectMultiScale(gray,\n",
    "                                          scaleFactor=1.1,\n",
    "                                          minNeighbors=5,\n",
    "                                          minSize=(30,30),\n",
    "                                          flags=cv.CASCADE_SCALE_IMAGE)\n",
    "\n",
    "    # draw a rectangle around the faces\n",
    "    for (x,y,w,h) in faces:\n",
    "        cv.rectangle(frame, (x,y), (x+w,y+h), (0,225,0), 2)\n",
    "    \n",
    "    # display the resulting frame\n",
    "    cv.imshow('Video', frame)\n",
    "    if cv.waitKey(1) & 0xFF==ord('q'):\n",
    "        break\n",
    "\n",
    "# release the capture when everything is done\n",
    "video_capture.release()\n",
    "cv.destroyAllWindows()"
   ]
  }
 ],
 "metadata": {
  "kernelspec": {
   "display_name": "Python 3 (ipykernel)",
   "language": "python",
   "name": "python3"
  },
  "language_info": {
   "codemirror_mode": {
    "name": "ipython",
    "version": 3
   },
   "file_extension": ".py",
   "mimetype": "text/x-python",
   "name": "python",
   "nbconvert_exporter": "python",
   "pygments_lexer": "ipython3",
   "version": "3.9.5"
  }
 },
 "nbformat": 4,
 "nbformat_minor": 2
}
