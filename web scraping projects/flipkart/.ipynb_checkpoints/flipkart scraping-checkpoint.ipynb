{
 "cells": [
  {
   "cell_type": "code",
   "execution_count": 6,
   "metadata": {},
   "outputs": [],
   "source": [
    "import requests\n",
    "from bs4 import BeautifulSoup\n",
    "\n",
    "url = 'https://www.flipkart.com/search?q=laptops&otracker=search&otracker1=search&marketplace=FLIPKART&as-show=on&as=off&page=1'\n",
    "response = requests.get(url)"
   ]
  },
  {
   "cell_type": "code",
   "execution_count": 68,
   "metadata": {},
   "outputs": [],
   "source": [
    "soup = BeautifulSoup(response.text, 'html.parser')\n",
    "container = soup.find_all('div', {'class': '_2kHMtA'})"
   ]
  },
  {
   "cell_type": "code",
   "execution_count": 82,
   "metadata": {},
   "outputs": [],
   "source": [
    "def specification(items_list):\n",
    "    lil = container[0]\n",
    "    for spec in lil.find_all('li', {'class':'rgWa7D'}):\n",
    "        items['DETAILS'] = spec.text.strip()\n",
    "        items_list.append(items)\n",
    "    return items_list"
   ]
  },
  {
   "cell_type": "code",
   "execution_count": 83,
   "metadata": {},
   "outputs": [],
   "source": [
    "def kart_item(container):\n",
    "    items_list = []\n",
    "    for mini in container:\n",
    "        items = {}\n",
    "        items['TITLE'] = mini.find('div', {'class': '_4rR01T'}).text.strip()\n",
    "        items['RATING'] = mini.find('div', {'class': '_3LWZlK'}).text.strip()\n",
    "        items['PRICE'] = mini.find('div', {'class': '_30jeq3 _1_WHN1'}).text.replace('₹', '').strip()\n",
    "        items_list.append(items)\n",
    "    return specification(items_list)"
   ]
  },
  {
   "cell_type": "code",
   "execution_count": 85,
   "metadata": {
    "scrolled": false
   },
   "outputs": [],
   "source": [
    "# kart_item(container)"
   ]
  },
  {
   "cell_type": "code",
   "execution_count": 86,
   "metadata": {},
   "outputs": [],
   "source": [
    "spec = soup.find_all('ul', {'class': '_1xgFaf'})"
   ]
  },
  {
   "cell_type": "code",
   "execution_count": null,
   "metadata": {},
   "outputs": [],
   "source": []
  }
 ],
 "metadata": {
  "kernelspec": {
   "display_name": "Python 3",
   "language": "python",
   "name": "python3"
  },
  "language_info": {
   "codemirror_mode": {
    "name": "ipython",
    "version": 3
   },
   "file_extension": ".py",
   "mimetype": "text/x-python",
   "name": "python",
   "nbconvert_exporter": "python",
   "pygments_lexer": "ipython3",
   "version": "3.8.5"
  }
 },
 "nbformat": 4,
 "nbformat_minor": 4
}
