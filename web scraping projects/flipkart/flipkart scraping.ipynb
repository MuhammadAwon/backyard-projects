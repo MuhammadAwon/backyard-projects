{
 "cells": [
  {
   "cell_type": "code",
   "execution_count": 103,
   "metadata": {},
   "outputs": [],
   "source": [
    "import requests\n",
    "import pandas as pd\n",
    "from bs4 import BeautifulSoup\n",
    "\n",
    "url = 'https://www.flipkart.com/search?q=laptops&otracker=search&otracker1=search&marketplace=FLIPKART&as-show=on&as=off&page=1'\n",
    "response = requests.get(url)"
   ]
  },
  {
   "cell_type": "code",
   "execution_count": 104,
   "metadata": {},
   "outputs": [],
   "source": [
    "soup = BeautifulSoup(response.text, 'html.parser')\n",
    "container = soup.find_all('div', {'class': '_2kHMtA'})"
   ]
  },
  {
   "cell_type": "code",
   "execution_count": 105,
   "metadata": {},
   "outputs": [],
   "source": [
    "def kart_item(container):\n",
    "    items_list = []\n",
    "    for mini in container:\n",
    "        items = {}\n",
    "        items['TITLE'] = mini.find('div', {'class': '_4rR01T'}).text.strip()\n",
    "        items['RATING'] = mini.find('div', {'class': '_3LWZlK'}).text.strip()\n",
    "        items['PRICE'] = mini.find('div', {'class': '_30jeq3 _1_WHN1'}).text.replace('₹', '').strip()\n",
    "        items_list.append(items)\n",
    "    return items_list"
   ]
  },
  {
   "cell_type": "code",
   "execution_count": 106,
   "metadata": {
    "scrolled": false
   },
   "outputs": [],
   "source": [
    "data = kart_item(container)"
   ]
  },
  {
   "cell_type": "code",
   "execution_count": 113,
   "metadata": {},
   "outputs": [],
   "source": [
    "pf = pd.DataFrame(data)"
   ]
  },
  {
   "cell_type": "code",
   "execution_count": 114,
   "metadata": {},
   "outputs": [
    {
     "name": "stdout",
     "output_type": "stream",
     "text": [
      "                                                TITLE RATING   PRICE\n",
      "0   HP 15s Core i3 10th Gen - (8 GB/1 TB HDD/Windo...    4.2  35,990\n",
      "1   HP 14s Core i3 10th Gen - (8 GB/256 GB SSD/Win...    4.2  35,990\n",
      "2   HP 15 Ryzen 3 Dual Core 3200U - (4 GB/1 TB HDD...    4.1  30,000\n",
      "3   HP 15s Core i3 10th Gen - (4 GB/512 GB SSD/Win...    4.4  42,175\n",
      "4   Asus Celeron Dual Core - (4 GB/1 TB HDD/Window...      4  20,990\n",
      "5   HP 15s Ryzen 5 Quad Core 3500U - (8 GB/512 GB ...    4.5  48,990\n",
      "6   Lenovo ThinkBook 14 Core i5 10th Gen - (8 GB/2...    4.5  46,990\n",
      "7   Acer One 14 Pentium Gold - (4 GB/1 TB HDD/Wind...      4  23,990\n",
      "8   Acer Aspire 7 Ryzen 7 Quad Core 3750H - (8 GB/...    4.3  57,990\n",
      "9   Asus VivoBook 14 Ryzen 5 Hexa Core 4500U - (8 ...    4.5  50,991\n",
      "10  HP 14 Core i5 10th Gen - (8 GB/512 GB SSD/Wind...    4.3  47,490\n",
      "11  Lenovo ThinkPad Core i7 10th Gen - (16 GB/1 TB...    4.3  75,990\n",
      "12  HP Ryzen 5 Quad Core NA - (4 GB/256 GB SSD/DOS...    4.3  31,490\n",
      "13  Asus VivoBook 15 Core i3 7th Gen - (4 GB/1 TB ...    4.1  30,990\n",
      "14  Asus VivoBook 14 Ryzen 5 Quad Core 3500U - (8 ...    4.4  44,550\n",
      "15  HP Pavilion x360 Core i5 10th Gen - (8 GB/512 ...    4.5  61,990\n",
      "16  HP 14s Core i5 11th Gen - (8 GB/512 GB SSD/Win...    4.8  58,990\n",
      "17  MSI Alpha 15 Ryzen 7 Quad Core 3750H - (16 GB/...    4.5  69,990\n",
      "18  HP Pavilion Gaming Ryzen 5 Quad Core 3550H - (...    4.2  54,990\n",
      "19  HP 14s Ryzen 5 Quad Core 3450U - (8 GB/512 GB ...    4.4  43,990\n",
      "20  HP 15s Core i5 10th Gen - (4 GB + 32 GB Optane...    4.3  49,490\n",
      "21  Apple MacBook Air Core i5 5th Gen - (8 GB/128 ...    4.7  67,990\n",
      "22  Asus VivoBook 15 Core i3 7th Gen - (4 GB/1 TB ...    4.1  30,990\n",
      "23  Dell G3 Core i7 10th Gen - (16 GB/1 TB HDD/256...    4.3  86,990\n"
     ]
    }
   ],
   "source": [
    "print(pf)"
   ]
  },
  {
   "cell_type": "code",
   "execution_count": null,
   "metadata": {},
   "outputs": [],
   "source": []
  }
 ],
 "metadata": {
  "kernelspec": {
   "display_name": "Python 3",
   "language": "python",
   "name": "python3"
  },
  "language_info": {
   "codemirror_mode": {
    "name": "ipython",
    "version": 3
   },
   "file_extension": ".py",
   "mimetype": "text/x-python",
   "name": "python",
   "nbconvert_exporter": "python",
   "pygments_lexer": "ipython3",
   "version": "3.8.5"
  }
 },
 "nbformat": 4,
 "nbformat_minor": 4
}
